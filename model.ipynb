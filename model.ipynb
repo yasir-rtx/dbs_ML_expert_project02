{
 "cells": [
  {
   "cell_type": "markdown",
   "metadata": {},
   "source": [
    "# Libraries"
   ]
  },
  {
   "cell_type": "code",
   "execution_count": 2,
   "metadata": {},
   "outputs": [],
   "source": [
    "# For Clean Tensorflow Verbosity\n",
    "import os\n",
    "from silence_tensorflow import silence_tensorflow\n",
    "\n",
    "os.environ['TF_CPP_MIN_LOG_LEVEL'] = '3' \n",
    "silence_tensorflow()\n",
    "\n",
    "# Loading Data\n",
    "from pandas import read_csv\n",
    "from pandas import DataFrame\n",
    "\n",
    "# Manipulation\n",
    "from numpy import float32\n",
    "from numpy import reshape\n",
    "from numpy import hstack\n",
    "from numpy import sort\n",
    "\n",
    "# Plotting\n",
    "from matplotlib.ticker import FuncFormatter\n",
    "from matplotlib import pyplot as plt\n",
    "from seaborn import barplot\n",
    "\n",
    "# Modelling\n",
    "from sklearn.feature_extraction.text import TfidfVectorizer\n",
    "from sklearn.metrics.pairwise import cosine_similarity\n",
    "from sklearn.preprocessing import MinMaxScaler\n",
    "\n",
    "from tensorflow import saved_model\n",
    "from tensorflow import tensordot\n",
    "from tensorflow import nn\n",
    "\n",
    "from keras.callbacks import Callback # type: ignore\n",
    "from keras.callbacks import EarlyStopping # type: ignore\n",
    "from keras import regularizers\n",
    "from keras import optimizers\n",
    "from keras import metrics\n",
    "from keras import losses\n",
    "from keras import layers\n",
    "from keras import Model\n",
    "\n",
    "import numpy as np\n",
    "import random"
   ]
  },
  {
   "cell_type": "markdown",
   "metadata": {},
   "source": [
    "# 1. Data Understanding"
   ]
  },
  {
   "cell_type": "markdown",
   "metadata": {},
   "source": [
    "## 1.1. Downloading Data"
   ]
  },
  {
   "cell_type": "code",
   "execution_count": 4,
   "metadata": {},
   "outputs": [
    {
     "name": "stdout",
     "output_type": "stream",
     "text": [
      "Dataset URL: https://www.kaggle.com/datasets/CooperUnion/anime-recommendations-database\n",
      "License(s): CC0-1.0\n",
      "Downloading anime-recommendations-database.zip to data\n",
      "100%|█████████████████████████████████████▉| 25.0M/25.0M [00:14<00:00, 1.66MB/s]\n",
      "100%|██████████████████████████████████████| 25.0M/25.0M [00:14<00:00, 1.81MB/s]\n",
      "Archive:  data/anime-recommendations-database.zip\n",
      "  inflating: data/anime.csv          \n",
      "  inflating: data/rating.csv         \n"
     ]
    }
   ],
   "source": [
    "# Make folder to store dataset\n",
    "os.makedirs('./data', exist_ok=True)\n",
    "\n",
    "# Downloading dataset from kaggle\n",
    "!kaggle datasets download CooperUnion/anime-recommendations-database -p data/\n",
    "\n",
    "# Extract Dataset to data folder\n",
    "!unzip data/anime-recommendations-database.zip -d data/"
   ]
  },
  {
   "cell_type": "markdown",
   "metadata": {},
   "source": [
    "## 1.2. Data Loading"
   ]
  },
  {
   "cell_type": "code",
   "execution_count": 3,
   "metadata": {},
   "outputs": [
    {
     "name": "stdout",
     "output_type": "stream",
     "text": [
      "Data Anime  => 12294 baris dan 7 kolom\n",
      "Data Rating => 7813737 baris dan 3 kolom\n"
     ]
    }
   ],
   "source": [
    "anime_data = read_csv('./data/anime.csv')\n",
    "rating_data = read_csv('./data/rating.csv')\n",
    "\n",
    "anime_data.shape\n",
    "print(\"Data Anime  =>\", anime_data.shape[0], \"baris dan\", anime_data.shape[1], \"kolom\")\n",
    "print(\"Data Rating =>\", rating_data.shape[0], \"baris dan\", rating_data.shape[1], \"kolom\")"
   ]
  },
  {
   "cell_type": "markdown",
   "metadata": {},
   "source": [
    "## 1.3. Exploratory Data Analysis (EDA)"
   ]
  },
  {
   "cell_type": "markdown",
   "metadata": {},
   "source": [
    "### anime.csv"
   ]
  },
  {
   "cell_type": "markdown",
   "metadata": {},
   "source": [
    "menampilkan 5 data teratas dari file anime.csv"
   ]
  },
  {
   "cell_type": "code",
   "execution_count": 4,
   "metadata": {},
   "outputs": [
    {
     "data": {
      "text/html": [
       "<div>\n",
       "<style scoped>\n",
       "    .dataframe tbody tr th:only-of-type {\n",
       "        vertical-align: middle;\n",
       "    }\n",
       "\n",
       "    .dataframe tbody tr th {\n",
       "        vertical-align: top;\n",
       "    }\n",
       "\n",
       "    .dataframe thead th {\n",
       "        text-align: right;\n",
       "    }\n",
       "</style>\n",
       "<table border=\"1\" class=\"dataframe\">\n",
       "  <thead>\n",
       "    <tr style=\"text-align: right;\">\n",
       "      <th></th>\n",
       "      <th>anime_id</th>\n",
       "      <th>name</th>\n",
       "      <th>genre</th>\n",
       "      <th>type</th>\n",
       "      <th>episodes</th>\n",
       "      <th>rating</th>\n",
       "      <th>members</th>\n",
       "    </tr>\n",
       "  </thead>\n",
       "  <tbody>\n",
       "    <tr>\n",
       "      <th>0</th>\n",
       "      <td>32281</td>\n",
       "      <td>Kimi no Na wa.</td>\n",
       "      <td>Drama, Romance, School, Supernatural</td>\n",
       "      <td>Movie</td>\n",
       "      <td>1</td>\n",
       "      <td>9.37</td>\n",
       "      <td>200630</td>\n",
       "    </tr>\n",
       "    <tr>\n",
       "      <th>1</th>\n",
       "      <td>5114</td>\n",
       "      <td>Fullmetal Alchemist: Brotherhood</td>\n",
       "      <td>Action, Adventure, Drama, Fantasy, Magic, Mili...</td>\n",
       "      <td>TV</td>\n",
       "      <td>64</td>\n",
       "      <td>9.26</td>\n",
       "      <td>793665</td>\n",
       "    </tr>\n",
       "    <tr>\n",
       "      <th>2</th>\n",
       "      <td>28977</td>\n",
       "      <td>Gintama°</td>\n",
       "      <td>Action, Comedy, Historical, Parody, Samurai, S...</td>\n",
       "      <td>TV</td>\n",
       "      <td>51</td>\n",
       "      <td>9.25</td>\n",
       "      <td>114262</td>\n",
       "    </tr>\n",
       "    <tr>\n",
       "      <th>3</th>\n",
       "      <td>9253</td>\n",
       "      <td>Steins;Gate</td>\n",
       "      <td>Sci-Fi, Thriller</td>\n",
       "      <td>TV</td>\n",
       "      <td>24</td>\n",
       "      <td>9.17</td>\n",
       "      <td>673572</td>\n",
       "    </tr>\n",
       "    <tr>\n",
       "      <th>4</th>\n",
       "      <td>9969</td>\n",
       "      <td>Gintama&amp;#039;</td>\n",
       "      <td>Action, Comedy, Historical, Parody, Samurai, S...</td>\n",
       "      <td>TV</td>\n",
       "      <td>51</td>\n",
       "      <td>9.16</td>\n",
       "      <td>151266</td>\n",
       "    </tr>\n",
       "  </tbody>\n",
       "</table>\n",
       "</div>"
      ],
      "text/plain": [
       "   anime_id                              name  \\\n",
       "0     32281                    Kimi no Na wa.   \n",
       "1      5114  Fullmetal Alchemist: Brotherhood   \n",
       "2     28977                          Gintama°   \n",
       "3      9253                       Steins;Gate   \n",
       "4      9969                     Gintama&#039;   \n",
       "\n",
       "                                               genre   type episodes  rating  \\\n",
       "0               Drama, Romance, School, Supernatural  Movie        1    9.37   \n",
       "1  Action, Adventure, Drama, Fantasy, Magic, Mili...     TV       64    9.26   \n",
       "2  Action, Comedy, Historical, Parody, Samurai, S...     TV       51    9.25   \n",
       "3                                   Sci-Fi, Thriller     TV       24    9.17   \n",
       "4  Action, Comedy, Historical, Parody, Samurai, S...     TV       51    9.16   \n",
       "\n",
       "   members  \n",
       "0   200630  \n",
       "1   793665  \n",
       "2   114262  \n",
       "3   673572  \n",
       "4   151266  "
      ]
     },
     "execution_count": 4,
     "metadata": {},
     "output_type": "execute_result"
    }
   ],
   "source": [
    "anime_data.head()"
   ]
  },
  {
   "cell_type": "markdown",
   "metadata": {},
   "source": [
    "melihat struktur data dari setiap kolom"
   ]
  },
  {
   "cell_type": "code",
   "execution_count": 5,
   "metadata": {},
   "outputs": [
    {
     "name": "stdout",
     "output_type": "stream",
     "text": [
      "<class 'pandas.core.frame.DataFrame'>\n",
      "RangeIndex: 12294 entries, 0 to 12293\n",
      "Data columns (total 7 columns):\n",
      " #   Column    Non-Null Count  Dtype  \n",
      "---  ------    --------------  -----  \n",
      " 0   anime_id  12294 non-null  int64  \n",
      " 1   name      12294 non-null  object \n",
      " 2   genre     12232 non-null  object \n",
      " 3   type      12269 non-null  object \n",
      " 4   episodes  12294 non-null  object \n",
      " 5   rating    12064 non-null  float64\n",
      " 6   members   12294 non-null  int64  \n",
      "dtypes: float64(1), int64(2), object(4)\n",
      "memory usage: 672.5+ KB\n"
     ]
    }
   ],
   "source": [
    "anime_data.info()"
   ]
  },
  {
   "cell_type": "markdown",
   "metadata": {},
   "source": [
    "menampilkan statistik deskriptif dari rating pada anime"
   ]
  },
  {
   "cell_type": "code",
   "execution_count": 6,
   "metadata": {},
   "outputs": [
    {
     "data": {
      "text/plain": [
       "count    12064.000000\n",
       "mean         6.473902\n",
       "std          1.026746\n",
       "min          1.670000\n",
       "25%          5.880000\n",
       "50%          6.570000\n",
       "75%          7.180000\n",
       "max         10.000000\n",
       "Name: rating, dtype: float64"
      ]
     },
     "execution_count": 6,
     "metadata": {},
     "output_type": "execute_result"
    }
   ],
   "source": [
    "anime_data['rating'].describe()"
   ]
  },
  {
   "cell_type": "markdown",
   "metadata": {},
   "source": [
    "### rating.csv"
   ]
  },
  {
   "cell_type": "markdown",
   "metadata": {},
   "source": [
    "Melihat sample data rating"
   ]
  },
  {
   "cell_type": "code",
   "execution_count": 7,
   "metadata": {},
   "outputs": [
    {
     "data": {
      "text/html": [
       "<div>\n",
       "<style scoped>\n",
       "    .dataframe tbody tr th:only-of-type {\n",
       "        vertical-align: middle;\n",
       "    }\n",
       "\n",
       "    .dataframe tbody tr th {\n",
       "        vertical-align: top;\n",
       "    }\n",
       "\n",
       "    .dataframe thead th {\n",
       "        text-align: right;\n",
       "    }\n",
       "</style>\n",
       "<table border=\"1\" class=\"dataframe\">\n",
       "  <thead>\n",
       "    <tr style=\"text-align: right;\">\n",
       "      <th></th>\n",
       "      <th>user_id</th>\n",
       "      <th>anime_id</th>\n",
       "      <th>rating</th>\n",
       "    </tr>\n",
       "  </thead>\n",
       "  <tbody>\n",
       "    <tr>\n",
       "      <th>0</th>\n",
       "      <td>1</td>\n",
       "      <td>20</td>\n",
       "      <td>-1</td>\n",
       "    </tr>\n",
       "    <tr>\n",
       "      <th>1</th>\n",
       "      <td>1</td>\n",
       "      <td>24</td>\n",
       "      <td>-1</td>\n",
       "    </tr>\n",
       "    <tr>\n",
       "      <th>2</th>\n",
       "      <td>1</td>\n",
       "      <td>79</td>\n",
       "      <td>-1</td>\n",
       "    </tr>\n",
       "    <tr>\n",
       "      <th>3</th>\n",
       "      <td>1</td>\n",
       "      <td>226</td>\n",
       "      <td>-1</td>\n",
       "    </tr>\n",
       "    <tr>\n",
       "      <th>4</th>\n",
       "      <td>1</td>\n",
       "      <td>241</td>\n",
       "      <td>-1</td>\n",
       "    </tr>\n",
       "    <tr>\n",
       "      <th>...</th>\n",
       "      <td>...</td>\n",
       "      <td>...</td>\n",
       "      <td>...</td>\n",
       "    </tr>\n",
       "    <tr>\n",
       "      <th>7813732</th>\n",
       "      <td>73515</td>\n",
       "      <td>16512</td>\n",
       "      <td>7</td>\n",
       "    </tr>\n",
       "    <tr>\n",
       "      <th>7813733</th>\n",
       "      <td>73515</td>\n",
       "      <td>17187</td>\n",
       "      <td>9</td>\n",
       "    </tr>\n",
       "    <tr>\n",
       "      <th>7813734</th>\n",
       "      <td>73515</td>\n",
       "      <td>22145</td>\n",
       "      <td>10</td>\n",
       "    </tr>\n",
       "    <tr>\n",
       "      <th>7813735</th>\n",
       "      <td>73516</td>\n",
       "      <td>790</td>\n",
       "      <td>9</td>\n",
       "    </tr>\n",
       "    <tr>\n",
       "      <th>7813736</th>\n",
       "      <td>73516</td>\n",
       "      <td>8074</td>\n",
       "      <td>9</td>\n",
       "    </tr>\n",
       "  </tbody>\n",
       "</table>\n",
       "<p>7813737 rows × 3 columns</p>\n",
       "</div>"
      ],
      "text/plain": [
       "         user_id  anime_id  rating\n",
       "0              1        20      -1\n",
       "1              1        24      -1\n",
       "2              1        79      -1\n",
       "3              1       226      -1\n",
       "4              1       241      -1\n",
       "...          ...       ...     ...\n",
       "7813732    73515     16512       7\n",
       "7813733    73515     17187       9\n",
       "7813734    73515     22145      10\n",
       "7813735    73516       790       9\n",
       "7813736    73516      8074       9\n",
       "\n",
       "[7813737 rows x 3 columns]"
      ]
     },
     "execution_count": 7,
     "metadata": {},
     "output_type": "execute_result"
    }
   ],
   "source": [
    "rating_data"
   ]
  },
  {
   "cell_type": "markdown",
   "metadata": {},
   "source": [
    "Menampilkan informasi statistik deskriptif"
   ]
  },
  {
   "cell_type": "code",
   "execution_count": 8,
   "metadata": {},
   "outputs": [
    {
     "data": {
      "text/plain": [
       "count    7.813737e+06\n",
       "mean     6.144030e+00\n",
       "std      3.727800e+00\n",
       "min     -1.000000e+00\n",
       "25%      6.000000e+00\n",
       "50%      7.000000e+00\n",
       "75%      9.000000e+00\n",
       "max      1.000000e+01\n",
       "Name: rating, dtype: float64"
      ]
     },
     "execution_count": 8,
     "metadata": {},
     "output_type": "execute_result"
    }
   ],
   "source": [
    "rating_data['rating'].describe()"
   ]
  },
  {
   "cell_type": "markdown",
   "metadata": {},
   "source": [
    "#### Distribusi Rating"
   ]
  },
  {
   "cell_type": "code",
   "execution_count": 37,
   "metadata": {},
   "outputs": [
    {
     "data": {
      "image/png": "[encoded data removed]",
      "text/plain": [
       "<Figure size 1000x600 with 1 Axes>"
      ]
     },
     "metadata": {},
     "output_type": "display_data"
    }
   ],
   "source": [
    "rating_count = rating_data['rating'].value_counts(sort=False)\n",
    "\n",
    "def y_format(x, pos): return '{:,.0f}'.format(x)\n",
    "plt.figure(figsize=(10, 6))\n",
    "barplot(x=rating_count.index, y=rating_count.values, palette='viridis', hue=rating_count.index, legend=False)\n",
    "plt.title('Distribusi Rating')\n",
    "plt.xticks(rating_count.index)\n",
    "plt.xlabel('Rating')\n",
    "plt.ylabel('Jumlah')\n",
    "plt.gca().yaxis.set_major_formatter(FuncFormatter(y_format))\n",
    "plt.grid(True)\n",
    "plt.show()"
   ]
  },
  {
   "cell_type": "markdown",
   "metadata": {},
   "source": [
    "Berdasarkan bar plotting di atas dapat dilihat jumlahh anime yang belum diberi rating berada di atas 1400000. Sedangkan jumlah anime terbanyak terdapat pada rating 8 yaitu lebih dari 1600000."
   ]
  },
  {
   "cell_type": "markdown",
   "metadata": {},
   "source": [
    "#### Distribusi Jumlah Rating ynag diberikan User"
   ]
  },
  {
   "cell_type": "code",
   "execution_count": 10,
   "metadata": {},
   "outputs": [
    {
     "data": {
      "image/png": "[encoded data removed]",
      "text/plain": [
       "<Figure size 1000x600 with 1 Axes>"
      ]
     },
     "metadata": {},
     "output_type": "display_data"
    }
   ],
   "source": [
    "user_rating_count = rating_data.groupby('user_id')['rating'].count().reset_index().rename(columns = {'rating': 'rating_count'})\n",
    "hightlight_user = user_rating_count['rating_count'] < 100\n",
    "\n",
    "plt.figure(figsize=(10, 6))\n",
    "plt.scatter(user_rating_count['user_id'], user_rating_count['rating_count'], color='blue', label=\"Rating Count >= 100\")\n",
    "plt.scatter(hightlight_user.index, hightlight_user.values, color='red', s=50,  label=\"Rating Count < 100\")\n",
    "plt.xlabel(\"User ID\")\n",
    "plt.ylabel(\"Rating Count\")\n",
    "plt.title(\"Rating Count per User\")\n",
    "plt.grid()\n",
    "plt.legend()\n",
    "plt.show()"
   ]
  },
  {
   "cell_type": "markdown",
   "metadata": {},
   "source": [
    "Terdapat banyak user yang memberi rating kurang dari 100. Ini membuat mereka menjadi user pasif dan dapat menyebabkan bias pada model."
   ]
  },
  {
   "cell_type": "markdown",
   "metadata": {},
   "source": [
    "Menghitung jumlah rating yang kurang dari 100"
   ]
  },
  {
   "cell_type": "code",
   "execution_count": 11,
   "metadata": {},
   "outputs": [
    {
     "data": {
      "text/plain": [
       "rating_count\n",
       "True     48656\n",
       "False    24859\n",
       "Name: count, dtype: int64"
      ]
     },
     "execution_count": 11,
     "metadata": {},
     "output_type": "execute_result"
    }
   ],
   "source": [
    "hightlight_user.value_counts()"
   ]
  },
  {
   "cell_type": "markdown",
   "metadata": {},
   "source": [
    "#### Distribusi Jumlah Rating yang didapatkan Anime"
   ]
  },
  {
   "cell_type": "code",
   "execution_count": 12,
   "metadata": {},
   "outputs": [
    {
     "data": {
      "image/png": "[encoded data removed]",
      "text/plain": [
       "<Figure size 1000x600 with 1 Axes>"
      ]
     },
     "metadata": {},
     "output_type": "display_data"
    }
   ],
   "source": [
    "anime_count_rating = rating_data['anime_id'].value_counts()\n",
    "hightlight_anime = anime_count_rating[anime_count_rating.values < 50]\n",
    "\n",
    "plt.figure(figsize=(10, 6))\n",
    "plt.scatter(anime_count_rating.index, anime_count_rating.values, color='blue', label=\"Rating Count >= 50\")\n",
    "plt.scatter(hightlight_anime.index, hightlight_anime.values, color='red',  label=\"Rating Count < 50\")\n",
    "plt.xlabel(\"Anime ID\")\n",
    "plt.ylabel(\"Rating Count\")\n",
    "plt.title(\"Rating Count per Anime\")\n",
    "plt.grid()\n",
    "plt.legend()\n",
    "plt.show()"
   ]
  },
  {
   "cell_type": "markdown",
   "metadata": {},
   "source": [
    "Terlihat jumlah anime dengan jumlah rating kurang dari 50 terdapat hampir sepanjang sumbu x yang merupakan anime_id. Anime ini dapat menyebabkan bias pada model karena masih sedikitnya user yang memberi rating"
   ]
  },
  {
   "cell_type": "markdown",
   "metadata": {},
   "source": [
    "Menghitung jumlah rating yang kurang dari 50"
   ]
  },
  {
   "cell_type": "code",
   "execution_count": 13,
   "metadata": {},
   "outputs": [
    {
     "data": {
      "text/plain": [
       "(5549,)"
      ]
     },
     "execution_count": 13,
     "metadata": {},
     "output_type": "execute_result"
    }
   ],
   "source": [
    "hightlight_anime.shape"
   ]
  },
  {
   "cell_type": "markdown",
   "metadata": {},
   "source": [
    "Menyalin dataset ke dalam variabel baru"
   ]
  },
  {
   "cell_type": "code",
   "execution_count": 14,
   "metadata": {},
   "outputs": [],
   "source": [
    "anime_df = anime_data.copy()\n",
    "rating_df = rating_data.copy()"
   ]
  },
  {
   "cell_type": "markdown",
   "metadata": {},
   "source": [
    "# 2. Content-Based Filtering"
   ]
  },
  {
   "cell_type": "markdown",
   "metadata": {},
   "source": [
    "## 2.1. Data Preparation"
   ]
  },
  {
   "cell_type": "markdown",
   "metadata": {},
   "source": [
    "### 2.1.1. Missing Value"
   ]
  },
  {
   "cell_type": "code",
   "execution_count": 17,
   "metadata": {},
   "outputs": [
    {
     "name": "stdout",
     "output_type": "stream",
     "text": [
      "anime_id      0\n",
      "name          0\n",
      "genre        62\n",
      "type         25\n",
      "episodes      0\n",
      "rating      230\n",
      "members       0\n",
      "dtype: int64\n"
     ]
    },
    {
     "data": {
      "text/html": [
       "<div>\n",
       "<style scoped>\n",
       "    .dataframe tbody tr th:only-of-type {\n",
       "        vertical-align: middle;\n",
       "    }\n",
       "\n",
       "    .dataframe tbody tr th {\n",
       "        vertical-align: top;\n",
       "    }\n",
       "\n",
       "    .dataframe thead th {\n",
       "        text-align: right;\n",
       "    }\n",
       "</style>\n",
       "<table border=\"1\" class=\"dataframe\">\n",
       "  <thead>\n",
       "    <tr style=\"text-align: right;\">\n",
       "      <th></th>\n",
       "      <th>anime_id</th>\n",
       "      <th>name</th>\n",
       "      <th>genre</th>\n",
       "      <th>type</th>\n",
       "      <th>episodes</th>\n",
       "      <th>rating</th>\n",
       "      <th>members</th>\n",
       "    </tr>\n",
       "  </thead>\n",
       "  <tbody>\n",
       "    <tr>\n",
       "      <th>11036</th>\n",
       "      <td>33788</td>\n",
       "      <td>Marginal#4: Kiss kara Tsukuru Big Bang</td>\n",
       "      <td>Music, Shoujo</td>\n",
       "      <td>TV</td>\n",
       "      <td>Unknown</td>\n",
       "      <td>NaN</td>\n",
       "      <td>1766</td>\n",
       "    </tr>\n",
       "    <tr>\n",
       "      <th>11072</th>\n",
       "      <td>32836</td>\n",
       "      <td>Senki Zesshou Symphogear 4th Season</td>\n",
       "      <td>Action, Music, Sci-Fi</td>\n",
       "      <td>TV</td>\n",
       "      <td>Unknown</td>\n",
       "      <td>NaN</td>\n",
       "      <td>1880</td>\n",
       "    </tr>\n",
       "    <tr>\n",
       "      <th>11090</th>\n",
       "      <td>32596</td>\n",
       "      <td>The Snack World (TV)</td>\n",
       "      <td>Adventure, Comedy, Fantasy, Kids</td>\n",
       "      <td>TV</td>\n",
       "      <td>Unknown</td>\n",
       "      <td>NaN</td>\n",
       "      <td>107</td>\n",
       "    </tr>\n",
       "  </tbody>\n",
       "</table>\n",
       "</div>"
      ],
      "text/plain": [
       "       anime_id                                    name  \\\n",
       "11036     33788  Marginal#4: Kiss kara Tsukuru Big Bang   \n",
       "11072     32836     Senki Zesshou Symphogear 4th Season   \n",
       "11090     32596                    The Snack World (TV)   \n",
       "\n",
       "                                  genre type episodes  rating  members  \n",
       "11036                     Music, Shoujo   TV  Unknown     NaN     1766  \n",
       "11072             Action, Music, Sci-Fi   TV  Unknown     NaN     1880  \n",
       "11090  Adventure, Comedy, Fantasy, Kids   TV  Unknown     NaN      107  "
      ]
     },
     "execution_count": 17,
     "metadata": {},
     "output_type": "execute_result"
    }
   ],
   "source": [
    "print(anime_df.isnull().sum())\n",
    "anime_df[anime_df.isnull().any(axis=1)].sample(3)"
   ]
  },
  {
   "cell_type": "markdown",
   "metadata": {},
   "source": [
    "Terdapat 277 data yang memilik missing value. Karena jumlahnya sedikit maka data dengan missing value akan dihapus"
   ]
  },
  {
   "cell_type": "code",
   "execution_count": 18,
   "metadata": {},
   "outputs": [
    {
     "name": "stdout",
     "output_type": "stream",
     "text": [
      "anime_id    0\n",
      "name        0\n",
      "genre       0\n",
      "type        0\n",
      "episodes    0\n",
      "rating      0\n",
      "members     0\n",
      "dtype: int64\n",
      "Sekarang dataset anime sudah bersih dari missing value dan jumlah data berkurang menjadi 12017\n"
     ]
    }
   ],
   "source": [
    "anime_df = anime_df.dropna()           # Drop missing value\n",
    "print(anime_df.isnull().sum())         # Periksa kembali missing value\n",
    "print(\"Sekarang dataset anime sudah bersih dari missing value dan jumlah data berkurang menjadi\", anime_df.shape[0])"
   ]
  },
  {
   "cell_type": "markdown",
   "metadata": {},
   "source": [
    "### 2.1.2. Feature Encoding"
   ]
  },
  {
   "cell_type": "code",
   "execution_count": 19,
   "metadata": {},
   "outputs": [
    {
     "name": "stdout",
     "output_type": "stream",
     "text": [
      "Terdapat [ 43 ] genre anime yang berbeda\n",
      "['Action' 'Adventure' 'Cars' 'Comedy' 'Dementia' 'Demons' 'Drama' 'Ecchi'\n",
      " 'Fantasy' 'Game' 'Harem' 'Hentai' 'Historical' 'Horror' 'Josei' 'Kids'\n",
      " 'Magic' 'Martial Arts' 'Mecha' 'Military' 'Music' 'Mystery' 'Parody'\n",
      " 'Police' 'Psychological' 'Romance' 'Samurai' 'School' 'Sci-Fi' 'Seinen'\n",
      " 'Shoujo' 'Shoujo Ai' 'Shounen' 'Shounen Ai' 'Slice of Life' 'Space'\n",
      " 'Sports' 'Super Power' 'Supernatural' 'Thriller' 'Vampire' 'Yaoi' 'Yuri']\n"
     ]
    }
   ],
   "source": [
    "list_genres = sort(anime_df['genre'].str.split(', ').explode('genre').unique())\n",
    "num_genre = len(list_genres)\n",
    "print(\"Terdapat [\", num_genre, \"] genre anime yang berbeda\")\n",
    "print(list_genres)"
   ]
  },
  {
   "cell_type": "markdown",
   "metadata": {},
   "source": [
    "Membuat kamus genre yang berisikan index dan index yang telah di encoding"
   ]
  },
  {
   "cell_type": "code",
   "execution_count": 20,
   "metadata": {},
   "outputs": [],
   "source": [
    "genre_encode_dict = {genre : i for i, genre in enumerate(list_genres)}\n",
    "genre_decode_dict = {i : genre for i, genre in enumerate(list_genres)}"
   ]
  },
  {
   "cell_type": "markdown",
   "metadata": {},
   "source": [
    "Membuat fungsi encoder genre"
   ]
  },
  {
   "cell_type": "code",
   "execution_count": 21,
   "metadata": {},
   "outputs": [],
   "source": [
    "def genre_encoding(data):\n",
    "    return ' '.join([str(genre_encode_dict[genre]) for genre in data.split(', ')])"
   ]
  },
  {
   "cell_type": "markdown",
   "metadata": {},
   "source": [
    "Membuat fungsi decoder genre"
   ]
  },
  {
   "cell_type": "code",
   "execution_count": 22,
   "metadata": {},
   "outputs": [],
   "source": [
    "def genre_decoding(data):\n",
    "    return ', '.join(genre_decode_dict[int(genre)] for genre in data.split())"
   ]
  },
  {
   "cell_type": "markdown",
   "metadata": {},
   "source": [
    "Menguji fungsi encoder dan decoder genre"
   ]
  },
  {
   "cell_type": "code",
   "execution_count": 24,
   "metadata": {},
   "outputs": [
    {
     "name": "stdout",
     "output_type": "stream",
     "text": [
      "Genre         :  Comedy, Drama, Josei, Romance\n",
      "Genre Encoded :  3 6 14 25\n",
      "Genre Decoded :  Comedy, Drama, Josei, Romance\n"
     ]
    }
   ],
   "source": [
    "test_genre = anime_df['genre'].sample(1).values[0]\n",
    "print(\"Genre         : \", test_genre)\n",
    "\n",
    "test_genre_encoded = genre_encoding(test_genre)\n",
    "print(\"Genre Encoded : \", test_genre_encoded)\n",
    "\n",
    "test_genre_decoded = genre_decoding(test_genre_encoded)\n",
    "print(\"Genre Decoded : \", test_genre_decoded)"
   ]
  },
  {
   "cell_type": "markdown",
   "metadata": {},
   "source": [
    "Menerapkan fungsi encoder ke anime dataframe"
   ]
  },
  {
   "cell_type": "code",
   "execution_count": 42,
   "metadata": {},
   "outputs": [
    {
     "data": {
      "text/html": [
       "<div>\n",
       "<style scoped>\n",
       "    .dataframe tbody tr th:only-of-type {\n",
       "        vertical-align: middle;\n",
       "    }\n",
       "\n",
       "    .dataframe tbody tr th {\n",
       "        vertical-align: top;\n",
       "    }\n",
       "\n",
       "    .dataframe thead th {\n",
       "        text-align: right;\n",
       "    }\n",
       "</style>\n",
       "<table border=\"1\" class=\"dataframe\">\n",
       "  <thead>\n",
       "    <tr style=\"text-align: right;\">\n",
       "      <th></th>\n",
       "      <th>anime_id</th>\n",
       "      <th>name</th>\n",
       "      <th>genre</th>\n",
       "      <th>type</th>\n",
       "      <th>episodes</th>\n",
       "      <th>rating</th>\n",
       "      <th>members</th>\n",
       "    </tr>\n",
       "  </thead>\n",
       "  <tbody>\n",
       "    <tr>\n",
       "      <th>3709</th>\n",
       "      <td>10502</td>\n",
       "      <td>Tansu Warashi.</td>\n",
       "      <td>3 34 38</td>\n",
       "      <td>Movie</td>\n",
       "      <td>1</td>\n",
       "      <td>6.91</td>\n",
       "      <td>4028</td>\n",
       "    </tr>\n",
       "    <tr>\n",
       "      <th>3561</th>\n",
       "      <td>7367</td>\n",
       "      <td>Naruto: The Cross Roads</td>\n",
       "      <td>0 1 3 32</td>\n",
       "      <td>Special</td>\n",
       "      <td>1</td>\n",
       "      <td>6.95</td>\n",
       "      <td>22131</td>\n",
       "    </tr>\n",
       "    <tr>\n",
       "      <th>9484</th>\n",
       "      <td>9856</td>\n",
       "      <td>Manga Nihon Emaki</td>\n",
       "      <td>12</td>\n",
       "      <td>TV</td>\n",
       "      <td>46</td>\n",
       "      <td>6.17</td>\n",
       "      <td>122</td>\n",
       "    </tr>\n",
       "    <tr>\n",
       "      <th>11960</th>\n",
       "      <td>3921</td>\n",
       "      <td>Kamyla</td>\n",
       "      <td>11 23</td>\n",
       "      <td>OVA</td>\n",
       "      <td>3</td>\n",
       "      <td>5.83</td>\n",
       "      <td>1091</td>\n",
       "    </tr>\n",
       "    <tr>\n",
       "      <th>10628</th>\n",
       "      <td>23537</td>\n",
       "      <td>Two Down Full Base</td>\n",
       "      <td>15 36</td>\n",
       "      <td>Special</td>\n",
       "      <td>1</td>\n",
       "      <td>6.38</td>\n",
       "      <td>57</td>\n",
       "    </tr>\n",
       "  </tbody>\n",
       "</table>\n",
       "</div>"
      ],
      "text/plain": [
       "       anime_id                     name     genre     type episodes  rating  \\\n",
       "3709      10502           Tansu Warashi.   3 34 38    Movie        1    6.91   \n",
       "3561       7367  Naruto: The Cross Roads  0 1 3 32  Special        1    6.95   \n",
       "9484       9856        Manga Nihon Emaki        12       TV       46    6.17   \n",
       "11960      3921                   Kamyla     11 23      OVA        3    5.83   \n",
       "10628     23537       Two Down Full Base     15 36  Special        1    6.38   \n",
       "\n",
       "       members  \n",
       "3709      4028  \n",
       "3561     22131  \n",
       "9484       122  \n",
       "11960     1091  \n",
       "10628       57  "
      ]
     },
     "execution_count": 42,
     "metadata": {},
     "output_type": "execute_result"
    }
   ],
   "source": [
    "anime_df['genre'] = anime_df['genre'].apply(genre_encoding)\n",
    "anime_df.sample(5)"
   ]
  },
  {
   "cell_type": "markdown",
   "metadata": {},
   "source": [
    "### 2.1.3. TF-IDF"
   ]
  },
  {
   "cell_type": "markdown",
   "metadata": {},
   "source": [
    "Membuat object tfidf vectorizer"
   ]
  },
  {
   "cell_type": "code",
   "execution_count": 26,
   "metadata": {},
   "outputs": [
    {
     "data": {
      "text/plain": [
       "array(['0', '1', '10', '11', '12', '13', '14', '15', '16', '17', '18',\n",
       "       '19', '2', '20', '21', '22', '23', '24', '25', '26', '27', '28',\n",
       "       '29', '3', '30', '31', '32', '33', '34', '35', '36', '37', '38',\n",
       "       '39', '4', '40', '41', '42', '5', '6', '7', '8', '9'], dtype=object)"
      ]
     },
     "execution_count": 26,
     "metadata": {},
     "output_type": "execute_result"
    }
   ],
   "source": [
    "# Menambahkan [token_pattern=r'\\b\\w+\\b'] agar TFIDF tidak melewati karakter 1 digit\n",
    "tfidf = TfidfVectorizer(token_pattern=r'\\b\\w+\\b')\n",
    "tfidf.fit(anime_df['genre'])\n",
    "tfidf.get_feature_names_out()"
   ]
  },
  {
   "cell_type": "markdown",
   "metadata": {},
   "source": [
    "Menerapkan object tfidf vectorizer ke anime dataframe"
   ]
  },
  {
   "cell_type": "code",
   "execution_count": 27,
   "metadata": {},
   "outputs": [
    {
     "data": {
      "text/plain": [
       "(12017, 43)"
      ]
     },
     "execution_count": 27,
     "metadata": {},
     "output_type": "execute_result"
    }
   ],
   "source": [
    "matrix = tfidf.fit_transform(anime_df['genre'])\n",
    "matrix.shape"
   ]
  },
  {
   "cell_type": "markdown",
   "metadata": {},
   "source": [
    "Melihat sample matrix tfidf"
   ]
  },
  {
   "cell_type": "code",
   "execution_count": 28,
   "metadata": {},
   "outputs": [
    {
     "data": {
      "text/html": [
       "<div>\n",
       "<style scoped>\n",
       "    .dataframe tbody tr th:only-of-type {\n",
       "        vertical-align: middle;\n",
       "    }\n",
       "\n",
       "    .dataframe tbody tr th {\n",
       "        vertical-align: top;\n",
       "    }\n",
       "\n",
       "    .dataframe thead th {\n",
       "        text-align: right;\n",
       "    }\n",
       "</style>\n",
       "<table border=\"1\" class=\"dataframe\">\n",
       "  <thead>\n",
       "    <tr style=\"text-align: right;\">\n",
       "      <th></th>\n",
       "      <th>Super Power</th>\n",
       "      <th>Game</th>\n",
       "      <th>Horror</th>\n",
       "      <th>Seinen</th>\n",
       "      <th>Shoujo</th>\n",
       "      <th>Adventure</th>\n",
       "      <th>Space</th>\n",
       "      <th>Josei</th>\n",
       "      <th>Shounen Ai</th>\n",
       "      <th>Historical</th>\n",
       "    </tr>\n",
       "    <tr>\n",
       "      <th>name</th>\n",
       "      <th></th>\n",
       "      <th></th>\n",
       "      <th></th>\n",
       "      <th></th>\n",
       "      <th></th>\n",
       "      <th></th>\n",
       "      <th></th>\n",
       "      <th></th>\n",
       "      <th></th>\n",
       "      <th></th>\n",
       "    </tr>\n",
       "  </thead>\n",
       "  <tbody>\n",
       "    <tr>\n",
       "      <th>Ninja-tai Gatchaman ZIP!</th>\n",
       "      <td>0.0</td>\n",
       "      <td>0.0</td>\n",
       "      <td>0.000000</td>\n",
       "      <td>0.000000</td>\n",
       "      <td>0.0</td>\n",
       "      <td>0.0</td>\n",
       "      <td>0.000000</td>\n",
       "      <td>0.0</td>\n",
       "      <td>0.0</td>\n",
       "      <td>0.0</td>\n",
       "    </tr>\n",
       "    <tr>\n",
       "      <th>Kakutou Bijin Wulong: Rebirth</th>\n",
       "      <td>0.0</td>\n",
       "      <td>0.0</td>\n",
       "      <td>0.000000</td>\n",
       "      <td>0.000000</td>\n",
       "      <td>0.0</td>\n",
       "      <td>0.0</td>\n",
       "      <td>0.000000</td>\n",
       "      <td>0.0</td>\n",
       "      <td>0.0</td>\n",
       "      <td>0.0</td>\n",
       "    </tr>\n",
       "    <tr>\n",
       "      <th>Futari no Joe</th>\n",
       "      <td>0.0</td>\n",
       "      <td>0.0</td>\n",
       "      <td>0.000000</td>\n",
       "      <td>0.000000</td>\n",
       "      <td>0.0</td>\n",
       "      <td>0.0</td>\n",
       "      <td>0.000000</td>\n",
       "      <td>0.0</td>\n",
       "      <td>0.0</td>\n",
       "      <td>0.0</td>\n",
       "    </tr>\n",
       "    <tr>\n",
       "      <th>Penguin&amp;#039;s Memory: Shiawase Monogatari</th>\n",
       "      <td>0.0</td>\n",
       "      <td>0.0</td>\n",
       "      <td>0.000000</td>\n",
       "      <td>0.621717</td>\n",
       "      <td>0.0</td>\n",
       "      <td>0.0</td>\n",
       "      <td>0.000000</td>\n",
       "      <td>0.0</td>\n",
       "      <td>0.0</td>\n",
       "      <td>0.0</td>\n",
       "    </tr>\n",
       "    <tr>\n",
       "      <th>Tsuzuki wo Kangaeru Monogatari</th>\n",
       "      <td>0.0</td>\n",
       "      <td>0.0</td>\n",
       "      <td>0.000000</td>\n",
       "      <td>0.000000</td>\n",
       "      <td>0.0</td>\n",
       "      <td>0.0</td>\n",
       "      <td>0.000000</td>\n",
       "      <td>0.0</td>\n",
       "      <td>0.0</td>\n",
       "      <td>0.0</td>\n",
       "    </tr>\n",
       "    <tr>\n",
       "      <th>Mobile Suit Gundam Unicorn RE:0096</th>\n",
       "      <td>0.0</td>\n",
       "      <td>0.0</td>\n",
       "      <td>0.000000</td>\n",
       "      <td>0.000000</td>\n",
       "      <td>0.0</td>\n",
       "      <td>0.0</td>\n",
       "      <td>0.521114</td>\n",
       "      <td>0.0</td>\n",
       "      <td>0.0</td>\n",
       "      <td>0.0</td>\n",
       "    </tr>\n",
       "    <tr>\n",
       "      <th>Yell</th>\n",
       "      <td>0.0</td>\n",
       "      <td>0.0</td>\n",
       "      <td>0.000000</td>\n",
       "      <td>0.000000</td>\n",
       "      <td>0.0</td>\n",
       "      <td>0.0</td>\n",
       "      <td>0.000000</td>\n",
       "      <td>0.0</td>\n",
       "      <td>0.0</td>\n",
       "      <td>0.0</td>\n",
       "    </tr>\n",
       "    <tr>\n",
       "      <th>Kyoto Animation: Ajisai-hen</th>\n",
       "      <td>0.0</td>\n",
       "      <td>0.0</td>\n",
       "      <td>0.000000</td>\n",
       "      <td>0.000000</td>\n",
       "      <td>0.0</td>\n",
       "      <td>0.0</td>\n",
       "      <td>0.000000</td>\n",
       "      <td>0.0</td>\n",
       "      <td>0.0</td>\n",
       "      <td>0.0</td>\n",
       "    </tr>\n",
       "    <tr>\n",
       "      <th>Tokyo Ghoul: &amp;quot;Pinto&amp;quot;</th>\n",
       "      <td>0.0</td>\n",
       "      <td>0.0</td>\n",
       "      <td>0.477662</td>\n",
       "      <td>0.000000</td>\n",
       "      <td>0.0</td>\n",
       "      <td>0.0</td>\n",
       "      <td>0.000000</td>\n",
       "      <td>0.0</td>\n",
       "      <td>0.0</td>\n",
       "      <td>0.0</td>\n",
       "    </tr>\n",
       "    <tr>\n",
       "      <th>Ghost in the Shell: Arise - Alternative Architecture</th>\n",
       "      <td>0.0</td>\n",
       "      <td>0.0</td>\n",
       "      <td>0.000000</td>\n",
       "      <td>0.000000</td>\n",
       "      <td>0.0</td>\n",
       "      <td>0.0</td>\n",
       "      <td>0.000000</td>\n",
       "      <td>0.0</td>\n",
       "      <td>0.0</td>\n",
       "      <td>0.0</td>\n",
       "    </tr>\n",
       "  </tbody>\n",
       "</table>\n",
       "</div>"
      ],
      "text/plain": [
       "                                                    Super Power  Game  \\\n",
       "name                                                                    \n",
       "Ninja-tai Gatchaman ZIP!                                    0.0   0.0   \n",
       "Kakutou Bijin Wulong: Rebirth                               0.0   0.0   \n",
       "Futari no Joe                                               0.0   0.0   \n",
       "Penguin&#039;s Memory: Shiawase Monogatari                  0.0   0.0   \n",
       "Tsuzuki wo Kangaeru Monogatari                              0.0   0.0   \n",
       "Mobile Suit Gundam Unicorn RE:0096                          0.0   0.0   \n",
       "Yell                                                        0.0   0.0   \n",
       "Kyoto Animation: Ajisai-hen                                 0.0   0.0   \n",
       "Tokyo Ghoul: &quot;Pinto&quot;                              0.0   0.0   \n",
       "Ghost in the Shell: Arise - Alternative Archite...          0.0   0.0   \n",
       "\n",
       "                                                      Horror    Seinen  \\\n",
       "name                                                                     \n",
       "Ninja-tai Gatchaman ZIP!                            0.000000  0.000000   \n",
       "Kakutou Bijin Wulong: Rebirth                       0.000000  0.000000   \n",
       "Futari no Joe                                       0.000000  0.000000   \n",
       "Penguin&#039;s Memory: Shiawase Monogatari          0.000000  0.621717   \n",
       "Tsuzuki wo Kangaeru Monogatari                      0.000000  0.000000   \n",
       "Mobile Suit Gundam Unicorn RE:0096                  0.000000  0.000000   \n",
       "Yell                                                0.000000  0.000000   \n",
       "Kyoto Animation: Ajisai-hen                         0.000000  0.000000   \n",
       "Tokyo Ghoul: &quot;Pinto&quot;                      0.477662  0.000000   \n",
       "Ghost in the Shell: Arise - Alternative Archite...  0.000000  0.000000   \n",
       "\n",
       "                                                    Shoujo  Adventure  \\\n",
       "name                                                                    \n",
       "Ninja-tai Gatchaman ZIP!                               0.0        0.0   \n",
       "Kakutou Bijin Wulong: Rebirth                          0.0        0.0   \n",
       "Futari no Joe                                          0.0        0.0   \n",
       "Penguin&#039;s Memory: Shiawase Monogatari             0.0        0.0   \n",
       "Tsuzuki wo Kangaeru Monogatari                         0.0        0.0   \n",
       "Mobile Suit Gundam Unicorn RE:0096                     0.0        0.0   \n",
       "Yell                                                   0.0        0.0   \n",
       "Kyoto Animation: Ajisai-hen                            0.0        0.0   \n",
       "Tokyo Ghoul: &quot;Pinto&quot;                         0.0        0.0   \n",
       "Ghost in the Shell: Arise - Alternative Archite...     0.0        0.0   \n",
       "\n",
       "                                                       Space  Josei  \\\n",
       "name                                                                  \n",
       "Ninja-tai Gatchaman ZIP!                            0.000000    0.0   \n",
       "Kakutou Bijin Wulong: Rebirth                       0.000000    0.0   \n",
       "Futari no Joe                                       0.000000    0.0   \n",
       "Penguin&#039;s Memory: Shiawase Monogatari          0.000000    0.0   \n",
       "Tsuzuki wo Kangaeru Monogatari                      0.000000    0.0   \n",
       "Mobile Suit Gundam Unicorn RE:0096                  0.521114    0.0   \n",
       "Yell                                                0.000000    0.0   \n",
       "Kyoto Animation: Ajisai-hen                         0.000000    0.0   \n",
       "Tokyo Ghoul: &quot;Pinto&quot;                      0.000000    0.0   \n",
       "Ghost in the Shell: Arise - Alternative Archite...  0.000000    0.0   \n",
       "\n",
       "                                                    Shounen Ai  Historical  \n",
       "name                                                                        \n",
       "Ninja-tai Gatchaman ZIP!                                   0.0         0.0  \n",
       "Kakutou Bijin Wulong: Rebirth                              0.0         0.0  \n",
       "Futari no Joe                                              0.0         0.0  \n",
       "Penguin&#039;s Memory: Shiawase Monogatari                 0.0         0.0  \n",
       "Tsuzuki wo Kangaeru Monogatari                             0.0         0.0  \n",
       "Mobile Suit Gundam Unicorn RE:0096                         0.0         0.0  \n",
       "Yell                                                       0.0         0.0  \n",
       "Kyoto Animation: Ajisai-hen                                0.0         0.0  \n",
       "Tokyo Ghoul: &quot;Pinto&quot;                             0.0         0.0  \n",
       "Ghost in the Shell: Arise - Alternative Archite...         0.0         0.0  "
      ]
     },
     "execution_count": 28,
     "metadata": {},
     "output_type": "execute_result"
    }
   ],
   "source": [
    "DataFrame(matrix.todense(), index=anime_df['name'], columns=[genre_decode_dict[int(x)] for x in tfidf.get_feature_names_out()]).sample(10, axis=1).sample(10, axis=0)"
   ]
  },
  {
   "cell_type": "markdown",
   "metadata": {},
   "source": [
    "## 2.2. Model Development"
   ]
  },
  {
   "cell_type": "markdown",
   "metadata": {},
   "source": [
    "### 2.2.1. Cosine Similarity"
   ]
  },
  {
   "cell_type": "code",
   "execution_count": 29,
   "metadata": {},
   "outputs": [
    {
     "name": "stdout",
     "output_type": "stream",
     "text": [
      "(12017, 12017)\n"
     ]
    }
   ],
   "source": [
    "similarity = cosine_similarity(matrix)\n",
    "print(similarity.shape)"
   ]
  },
  {
   "cell_type": "markdown",
   "metadata": {},
   "source": [
    "Menyimpan matrix cosine similarity dalam bentuk dataframe"
   ]
  },
  {
   "cell_type": "code",
   "execution_count": 33,
   "metadata": {},
   "outputs": [
    {
     "data": {
      "text/html": [
       "<div>\n",
       "<style scoped>\n",
       "    .dataframe tbody tr th:only-of-type {\n",
       "        vertical-align: middle;\n",
       "    }\n",
       "\n",
       "    .dataframe tbody tr th {\n",
       "        vertical-align: top;\n",
       "    }\n",
       "\n",
       "    .dataframe thead th {\n",
       "        text-align: right;\n",
       "    }\n",
       "</style>\n",
       "<table border=\"1\" class=\"dataframe\">\n",
       "  <thead>\n",
       "    <tr style=\"text-align: right;\">\n",
       "      <th>name</th>\n",
       "      <th>Go! Samurai</th>\n",
       "      <th>Tono to Issho: Ippunkan Gekijou</th>\n",
       "      <th>Kuroko no Basket: Baka ja Katenai no yo!</th>\n",
       "    </tr>\n",
       "    <tr>\n",
       "      <th>name</th>\n",
       "      <th></th>\n",
       "      <th></th>\n",
       "      <th></th>\n",
       "    </tr>\n",
       "  </thead>\n",
       "  <tbody>\n",
       "    <tr>\n",
       "      <th>Ore, Twintail ni Narimasu.</th>\n",
       "      <td>0.149994</td>\n",
       "      <td>0.079934</td>\n",
       "      <td>0.544031</td>\n",
       "    </tr>\n",
       "    <tr>\n",
       "      <th>Gakkougurashi!</th>\n",
       "      <td>0.000000</td>\n",
       "      <td>0.000000</td>\n",
       "      <td>0.188426</td>\n",
       "    </tr>\n",
       "    <tr>\n",
       "      <th>Geori-eui Mubeopja</th>\n",
       "      <td>0.189506</td>\n",
       "      <td>0.000000</td>\n",
       "      <td>0.000000</td>\n",
       "    </tr>\n",
       "  </tbody>\n",
       "</table>\n",
       "</div>"
      ],
      "text/plain": [
       "name                        Go! Samurai  Tono to Issho: Ippunkan Gekijou  \\\n",
       "name                                                                       \n",
       "Ore, Twintail ni Narimasu.     0.149994                         0.079934   \n",
       "Gakkougurashi!                 0.000000                         0.000000   \n",
       "Geori-eui Mubeopja             0.189506                         0.000000   \n",
       "\n",
       "name                        Kuroko no Basket: Baka ja Katenai no yo!  \n",
       "name                                                                  \n",
       "Ore, Twintail ni Narimasu.                                  0.544031  \n",
       "Gakkougurashi!                                              0.188426  \n",
       "Geori-eui Mubeopja                                          0.000000  "
      ]
     },
     "execution_count": 33,
     "metadata": {},
     "output_type": "execute_result"
    }
   ],
   "source": [
    "similarity_df = DataFrame(similarity, index=anime_df['name'], columns=anime_df['name'])\n",
    "similarity_df.sample(3, axis=1).sample(3, axis=0)   # Print sample of similarity matrix"
   ]
  },
  {
   "cell_type": "code",
   "execution_count": 21,
   "metadata": {},
   "outputs": [],
   "source": [
    "# similarity_df.merge(anime_df, on='name')"
   ]
  },
  {
   "cell_type": "markdown",
   "metadata": {},
   "source": [
    "### 2.2.2. Fungsi Rekomendasi"
   ]
  },
  {
   "cell_type": "code",
   "execution_count": 40,
   "metadata": {},
   "outputs": [],
   "source": [
    "def content_recommendation(title, similarity=similarity_df, dataframe=anime_df, top_n=10):\n",
    "    try:\n",
    "        # Get the similarity scores for the given anime\n",
    "        similarity_score = similarity.loc[:, title]\n",
    "\n",
    "        # Sort the scores in descending order and get the top k indices\n",
    "        # We add 1 to k to exclude the anime itself from the recommendations\n",
    "        top_n_animes = similarity_score.sort_values(ascending=False)[0:top_n+1].drop(title)\n",
    "        top_n_animes = np.vstack((top_n_animes.index, top_n_animes.values)).T\n",
    "\n",
    "        recommendation = DataFrame(top_n_animes, columns=['name', 'similarity_score']).merge(dataframe[['name', 'genre']])\n",
    "        recommendation = recommendation[['name', 'genre', 'similarity_score']]\n",
    "        recommendation['genre'] = recommendation['genre'].apply(genre_decoding)\n",
    "\n",
    "        return recommendation\n",
    "    \n",
    "    except KeyError:\n",
    "        return \"Anime Tidak Ditemukan pada Database\""
   ]
  },
  {
   "cell_type": "markdown",
   "metadata": {},
   "source": [
    "### 2.2.3. Simulasi Sistem Rekomendasi"
   ]
  },
  {
   "cell_type": "code",
   "execution_count": 54,
   "metadata": {},
   "outputs": [
    {
     "name": "stdout",
     "output_type": "stream",
     "text": [
      "Judul : UFO Princess Valkyrie: Recap\n",
      "Genre : Comedy, Romance, Sci-Fi\n",
      "Rekomendasi:\n"
     ]
    },
    {
     "data": {
      "text/html": [
       "<div>\n",
       "<style scoped>\n",
       "    .dataframe tbody tr th:only-of-type {\n",
       "        vertical-align: middle;\n",
       "    }\n",
       "\n",
       "    .dataframe tbody tr th {\n",
       "        vertical-align: top;\n",
       "    }\n",
       "\n",
       "    .dataframe thead th {\n",
       "        text-align: right;\n",
       "    }\n",
       "</style>\n",
       "<table border=\"1\" class=\"dataframe\">\n",
       "  <thead>\n",
       "    <tr style=\"text-align: right;\">\n",
       "      <th></th>\n",
       "      <th>name</th>\n",
       "      <th>genre</th>\n",
       "      <th>similarity_score</th>\n",
       "    </tr>\n",
       "  </thead>\n",
       "  <tbody>\n",
       "    <tr>\n",
       "      <th>0</th>\n",
       "      <td>Hoshi Neko Fullhouse</td>\n",
       "      <td>Comedy, Romance, Sci-Fi</td>\n",
       "      <td>1.0</td>\n",
       "    </tr>\n",
       "    <tr>\n",
       "      <th>1</th>\n",
       "      <td>Narue no Sekai</td>\n",
       "      <td>Comedy, Romance, Sci-Fi</td>\n",
       "      <td>1.0</td>\n",
       "    </tr>\n",
       "    <tr>\n",
       "      <th>2</th>\n",
       "      <td>Misute♡naide Daisy</td>\n",
       "      <td>Comedy, Romance, Sci-Fi</td>\n",
       "      <td>1.0</td>\n",
       "    </tr>\n",
       "    <tr>\n",
       "      <th>3</th>\n",
       "      <td>UFO Princess Valkyrie: Special</td>\n",
       "      <td>Comedy, Romance, Sci-Fi</td>\n",
       "      <td>1.0</td>\n",
       "    </tr>\n",
       "    <tr>\n",
       "      <th>4</th>\n",
       "      <td>UFO Princess Valkyrie 2: Juunigatsu no Yasoukyoku</td>\n",
       "      <td>Comedy, Romance, Sci-Fi</td>\n",
       "      <td>1.0</td>\n",
       "    </tr>\n",
       "    <tr>\n",
       "      <th>5</th>\n",
       "      <td>Blue Seed 1.5</td>\n",
       "      <td>Comedy, Romance, Sci-Fi</td>\n",
       "      <td>1.0</td>\n",
       "    </tr>\n",
       "    <tr>\n",
       "      <th>6</th>\n",
       "      <td>Onegai☆Teacher: Reminiscence Disc</td>\n",
       "      <td>Comedy, Romance, Sci-Fi</td>\n",
       "      <td>1.0</td>\n",
       "    </tr>\n",
       "    <tr>\n",
       "      <th>7</th>\n",
       "      <td>UFO Princess Valkyrie 4: Toki to Yume to Ginga...</td>\n",
       "      <td>Comedy, Romance, Sci-Fi</td>\n",
       "      <td>1.0</td>\n",
       "    </tr>\n",
       "    <tr>\n",
       "      <th>8</th>\n",
       "      <td>DNA²</td>\n",
       "      <td>Comedy, Romance, Sci-Fi</td>\n",
       "      <td>1.0</td>\n",
       "    </tr>\n",
       "    <tr>\n",
       "      <th>9</th>\n",
       "      <td>Soul Link Picture Drama</td>\n",
       "      <td>Romance, Sci-Fi</td>\n",
       "      <td>0.904857</td>\n",
       "    </tr>\n",
       "  </tbody>\n",
       "</table>\n",
       "</div>"
      ],
      "text/plain": [
       "                                                name                    genre  \\\n",
       "0                               Hoshi Neko Fullhouse  Comedy, Romance, Sci-Fi   \n",
       "1                                     Narue no Sekai  Comedy, Romance, Sci-Fi   \n",
       "2                                 Misute♡naide Daisy  Comedy, Romance, Sci-Fi   \n",
       "3                     UFO Princess Valkyrie: Special  Comedy, Romance, Sci-Fi   \n",
       "4  UFO Princess Valkyrie 2: Juunigatsu no Yasoukyoku  Comedy, Romance, Sci-Fi   \n",
       "5                                      Blue Seed 1.5  Comedy, Romance, Sci-Fi   \n",
       "6                  Onegai☆Teacher: Reminiscence Disc  Comedy, Romance, Sci-Fi   \n",
       "7  UFO Princess Valkyrie 4: Toki to Yume to Ginga...  Comedy, Romance, Sci-Fi   \n",
       "8                                               DNA²  Comedy, Romance, Sci-Fi   \n",
       "9                            Soul Link Picture Drama          Romance, Sci-Fi   \n",
       "\n",
       "  similarity_score  \n",
       "0              1.0  \n",
       "1              1.0  \n",
       "2              1.0  \n",
       "3              1.0  \n",
       "4              1.0  \n",
       "5              1.0  \n",
       "6              1.0  \n",
       "7              1.0  \n",
       "8              1.0  \n",
       "9         0.904857  "
      ]
     },
     "execution_count": 54,
     "metadata": {},
     "output_type": "execute_result"
    }
   ],
   "source": [
    "# Memilih satu anime secara acak\n",
    "test_title = random.choice(anime_df['name'])\n",
    "test_genre = anime_df.loc[anime_df['name'] == test_title, 'genre'].values[0]\n",
    "\n",
    "# Mendapatkan rekomendasi\n",
    "recommendations = content_recommendation(title=test_title)\n",
    "\n",
    "# Menampilkan rekomendasi\n",
    "print(\"Judul :\", test_title)\n",
    "print(\"Genre :\", genre_decoding(test_genre))\n",
    "print(\"Rekomendasi:\")\n",
    "recommendations"
   ]
  },
  {
   "cell_type": "markdown",
   "metadata": {},
   "source": [
    "## 2.3. Evaluation"
   ]
  },
  {
   "cell_type": "markdown",
   "metadata": {},
   "source": [
    "Membuat fungsi evaluasi model berdasarkan similarity score"
   ]
  },
  {
   "cell_type": "code",
   "execution_count": 55,
   "metadata": {},
   "outputs": [],
   "source": [
    "def content_model_evaluation(recommendations):\n",
    "    sum_score = 0\n",
    "    for score in recommendations.similarity_score: sum_score += score\n",
    "    return sum_score / len(recommendations)"
   ]
  },
  {
   "cell_type": "markdown",
   "metadata": {},
   "source": [
    "Melakukan evaluasi model"
   ]
  },
  {
   "cell_type": "code",
   "execution_count": 56,
   "metadata": {},
   "outputs": [
    {
     "name": "stdout",
     "output_type": "stream",
     "text": [
      "Precision dari Model Content Based Filtering : 99.05%\n"
     ]
    }
   ],
   "source": [
    "print(\"Precision dari Model Content Based Filtering : {:.2f}%\".format(content_model_evaluation(recommendations) * 100))"
   ]
  },
  {
   "cell_type": "markdown",
   "metadata": {},
   "source": [
    "# 3. Collaborative Filtering"
   ]
  },
  {
   "cell_type": "markdown",
   "metadata": {},
   "source": [
    "## 3.1. Data Preparation"
   ]
  },
  {
   "cell_type": "markdown",
   "metadata": {},
   "source": [
    "### 3.1.1. Missing Value"
   ]
  },
  {
   "cell_type": "code",
   "execution_count": 57,
   "metadata": {},
   "outputs": [
    {
     "data": {
      "text/plain": [
       "user_id     0\n",
       "anime_id    0\n",
       "rating      0\n",
       "dtype: int64"
      ]
     },
     "execution_count": 57,
     "metadata": {},
     "output_type": "execute_result"
    }
   ],
   "source": [
    "rating_df.isnull().sum()"
   ]
  },
  {
   "cell_type": "markdown",
   "metadata": {},
   "source": [
    "Tidak terdapat missing value pada dataset rating.csv"
   ]
  },
  {
   "cell_type": "markdown",
   "metadata": {},
   "source": [
    "### 3.1.2. Unrated Anime"
   ]
  },
  {
   "cell_type": "code",
   "execution_count": 58,
   "metadata": {},
   "outputs": [
    {
     "name": "stdout",
     "output_type": "stream",
     "text": [
      "Jumlah data rating sebelum unrated anime dihapus: 7813737\n",
      "Jumlah data rating setelah unrated anime dihapus: 6337241\n"
     ]
    }
   ],
   "source": [
    "print(\"Jumlah data rating sebelum unrated anime dihapus:\", rating_df.shape[0])\n",
    "rating_df = rating_df.loc[rating_df['rating'] != -1]\n",
    "print(\"Jumlah data rating setelah unrated anime dihapus:\", rating_df.shape[0])"
   ]
  },
  {
   "cell_type": "markdown",
   "metadata": {},
   "source": [
    "### 3.1.3. Bias Data"
   ]
  },
  {
   "cell_type": "markdown",
   "metadata": {},
   "source": [
    "#### 3.1.2.1. Feature User ID"
   ]
  },
  {
   "cell_type": "code",
   "execution_count": 59,
   "metadata": {},
   "outputs": [
    {
     "name": "stdout",
     "output_type": "stream",
     "text": [
      "Jumlah user sebelum bias removal: 69600\n",
      "Jumlah user setelah bias removal: 19949\n"
     ]
    }
   ],
   "source": [
    "print(\"Jumlah user sebelum bias removal:\", len(rating_df['user_id'].unique()))\n",
    "\n",
    "user_rating_count = rating_df['user_id'].value_counts()\n",
    "user_valid = user_rating_count[user_rating_count >= 100]\n",
    "rating_df = rating_df.loc[rating_df['user_id'].isin(user_valid.index)]\n",
    "\n",
    "print(\"Jumlah user setelah bias removal:\", len(rating_df['user_id'].unique()))"
   ]
  },
  {
   "cell_type": "markdown",
   "metadata": {},
   "source": [
    "#### 3.1.2.2. Feature Anime ID"
   ]
  },
  {
   "cell_type": "code",
   "execution_count": 60,
   "metadata": {},
   "outputs": [
    {
     "name": "stdout",
     "output_type": "stream",
     "text": [
      "Jumlah anime sebelum bias removal: 9890\n",
      "Jumlah anime setelah bias removal: 3981\n"
     ]
    }
   ],
   "source": [
    "print(\"Jumlah anime sebelum bias removal:\", rating_df['anime_id'].nunique())\n",
    "\n",
    "anime_rating_count = rating_df['anime_id'].value_counts()\n",
    "anime_valid = anime_rating_count[anime_rating_count >= 100]\n",
    "rating_df = rating_df.loc[rating_df['anime_id'].isin(anime_valid.index)]\n",
    "\n",
    "print(\"Jumlah anime setelah bias removal:\", rating_df['anime_id'].nunique())"
   ]
  },
  {
   "cell_type": "markdown",
   "metadata": {},
   "source": [
    "### 3.1.4. Feature Encoding"
   ]
  },
  {
   "cell_type": "markdown",
   "metadata": {},
   "source": [
    "#### User ID Encoding"
   ]
  },
  {
   "cell_type": "markdown",
   "metadata": {},
   "source": [
    "Membuat kamus user_id encoded dan decoded"
   ]
  },
  {
   "cell_type": "code",
   "execution_count": 61,
   "metadata": {},
   "outputs": [],
   "source": [
    "userID = rating_df['user_id'].unique().tolist()\n",
    "userID_encoded_dict = {x : i for i, x in enumerate(userID)}\n",
    "userID_decoded_dict = {i : x for i, x in enumerate(userID)}"
   ]
  },
  {
   "cell_type": "markdown",
   "metadata": {},
   "source": [
    "Melakukan encoding ke user_id pada rating.csv"
   ]
  },
  {
   "cell_type": "code",
   "execution_count": 62,
   "metadata": {},
   "outputs": [],
   "source": [
    "rating_df['user_id_encoded'] = rating_df['user_id'].map(userID_encoded_dict)"
   ]
  },
  {
   "cell_type": "markdown",
   "metadata": {},
   "source": [
    "#### Anime ID encoding"
   ]
  },
  {
   "cell_type": "code",
   "execution_count": 63,
   "metadata": {},
   "outputs": [],
   "source": [
    "animeID = rating_df['anime_id'].unique().tolist()\n",
    "animeID_encoded_dict = {x : i for i, x in enumerate(animeID)}\n",
    "animeID_decoded_dict = {i : x for i, x in enumerate(animeID)}"
   ]
  },
  {
   "cell_type": "markdown",
   "metadata": {},
   "source": [
    "Melakukan encoding ke anime_id pada rating.csv"
   ]
  },
  {
   "cell_type": "code",
   "execution_count": 64,
   "metadata": {},
   "outputs": [],
   "source": [
    "rating_df['anime_id_encoded'] = rating_df['anime_id'].map(animeID_encoded_dict)"
   ]
  },
  {
   "cell_type": "code",
   "execution_count": 65,
   "metadata": {},
   "outputs": [
    {
     "data": {
      "text/html": [
       "<div>\n",
       "<style scoped>\n",
       "    .dataframe tbody tr th:only-of-type {\n",
       "        vertical-align: middle;\n",
       "    }\n",
       "\n",
       "    .dataframe tbody tr th {\n",
       "        vertical-align: top;\n",
       "    }\n",
       "\n",
       "    .dataframe thead th {\n",
       "        text-align: right;\n",
       "    }\n",
       "</style>\n",
       "<table border=\"1\" class=\"dataframe\">\n",
       "  <thead>\n",
       "    <tr style=\"text-align: right;\">\n",
       "      <th></th>\n",
       "      <th>user_id</th>\n",
       "      <th>anime_id</th>\n",
       "      <th>rating</th>\n",
       "      <th>user_id_encoded</th>\n",
       "      <th>anime_id_encoded</th>\n",
       "    </tr>\n",
       "  </thead>\n",
       "  <tbody>\n",
       "    <tr>\n",
       "      <th>302</th>\n",
       "      <td>5</td>\n",
       "      <td>6</td>\n",
       "      <td>8</td>\n",
       "      <td>0</td>\n",
       "      <td>0</td>\n",
       "    </tr>\n",
       "    <tr>\n",
       "      <th>303</th>\n",
       "      <td>5</td>\n",
       "      <td>15</td>\n",
       "      <td>6</td>\n",
       "      <td>0</td>\n",
       "      <td>1</td>\n",
       "    </tr>\n",
       "    <tr>\n",
       "      <th>304</th>\n",
       "      <td>5</td>\n",
       "      <td>17</td>\n",
       "      <td>6</td>\n",
       "      <td>0</td>\n",
       "      <td>2</td>\n",
       "    </tr>\n",
       "    <tr>\n",
       "      <th>305</th>\n",
       "      <td>5</td>\n",
       "      <td>18</td>\n",
       "      <td>6</td>\n",
       "      <td>0</td>\n",
       "      <td>3</td>\n",
       "    </tr>\n",
       "    <tr>\n",
       "      <th>306</th>\n",
       "      <td>5</td>\n",
       "      <td>20</td>\n",
       "      <td>6</td>\n",
       "      <td>0</td>\n",
       "      <td>4</td>\n",
       "    </tr>\n",
       "    <tr>\n",
       "      <th>...</th>\n",
       "      <td>...</td>\n",
       "      <td>...</td>\n",
       "      <td>...</td>\n",
       "      <td>...</td>\n",
       "      <td>...</td>\n",
       "    </tr>\n",
       "    <tr>\n",
       "      <th>7813730</th>\n",
       "      <td>73515</td>\n",
       "      <td>13659</td>\n",
       "      <td>8</td>\n",
       "      <td>19948</td>\n",
       "      <td>275</td>\n",
       "    </tr>\n",
       "    <tr>\n",
       "      <th>7813731</th>\n",
       "      <td>73515</td>\n",
       "      <td>14345</td>\n",
       "      <td>7</td>\n",
       "      <td>19948</td>\n",
       "      <td>772</td>\n",
       "    </tr>\n",
       "    <tr>\n",
       "      <th>7813732</th>\n",
       "      <td>73515</td>\n",
       "      <td>16512</td>\n",
       "      <td>7</td>\n",
       "      <td>19948</td>\n",
       "      <td>546</td>\n",
       "    </tr>\n",
       "    <tr>\n",
       "      <th>7813733</th>\n",
       "      <td>73515</td>\n",
       "      <td>17187</td>\n",
       "      <td>9</td>\n",
       "      <td>19948</td>\n",
       "      <td>1548</td>\n",
       "    </tr>\n",
       "    <tr>\n",
       "      <th>7813734</th>\n",
       "      <td>73515</td>\n",
       "      <td>22145</td>\n",
       "      <td>10</td>\n",
       "      <td>19948</td>\n",
       "      <td>726</td>\n",
       "    </tr>\n",
       "  </tbody>\n",
       "</table>\n",
       "<p>4622979 rows × 5 columns</p>\n",
       "</div>"
      ],
      "text/plain": [
       "         user_id  anime_id  rating  user_id_encoded  anime_id_encoded\n",
       "302            5         6       8                0                 0\n",
       "303            5        15       6                0                 1\n",
       "304            5        17       6                0                 2\n",
       "305            5        18       6                0                 3\n",
       "306            5        20       6                0                 4\n",
       "...          ...       ...     ...              ...               ...\n",
       "7813730    73515     13659       8            19948               275\n",
       "7813731    73515     14345       7            19948               772\n",
       "7813732    73515     16512       7            19948               546\n",
       "7813733    73515     17187       9            19948              1548\n",
       "7813734    73515     22145      10            19948               726\n",
       "\n",
       "[4622979 rows x 5 columns]"
      ]
     },
     "execution_count": 65,
     "metadata": {},
     "output_type": "execute_result"
    }
   ],
   "source": [
    "rating_df"
   ]
  },
  {
   "cell_type": "markdown",
   "metadata": {},
   "source": [
    "### 3.1.5. Convert Rating Values to Float"
   ]
  },
  {
   "cell_type": "code",
   "execution_count": 66,
   "metadata": {},
   "outputs": [
    {
     "name": "stdout",
     "output_type": "stream",
     "text": [
      "Rating Terendah: 1.0\n",
      "Rating Tertinggi: 10.0\n"
     ]
    }
   ],
   "source": [
    "rating_df['rating'] = rating_df.loc[:, 'rating'].values.astype(float32)\n",
    "\n",
    "min_rating = min(rating_df['rating'])\n",
    "print(\"Rating Terendah:\", min_rating)\n",
    "\n",
    "max_rating = max(rating_df['rating'])\n",
    "print(\"Rating Tertinggi:\", max_rating)"
   ]
  },
  {
   "cell_type": "markdown",
   "metadata": {},
   "source": [
    "### 3.1.6. Seleksi Fitur"
   ]
  },
  {
   "cell_type": "markdown",
   "metadata": {},
   "source": [
    "Mengacak data pada dataframe rating"
   ]
  },
  {
   "cell_type": "code",
   "execution_count": 67,
   "metadata": {},
   "outputs": [
    {
     "data": {
      "text/html": [
       "<div>\n",
       "<style scoped>\n",
       "    .dataframe tbody tr th:only-of-type {\n",
       "        vertical-align: middle;\n",
       "    }\n",
       "\n",
       "    .dataframe tbody tr th {\n",
       "        vertical-align: top;\n",
       "    }\n",
       "\n",
       "    .dataframe thead th {\n",
       "        text-align: right;\n",
       "    }\n",
       "</style>\n",
       "<table border=\"1\" class=\"dataframe\">\n",
       "  <thead>\n",
       "    <tr style=\"text-align: right;\">\n",
       "      <th></th>\n",
       "      <th>user_id</th>\n",
       "      <th>anime_id</th>\n",
       "      <th>rating</th>\n",
       "      <th>user_id_encoded</th>\n",
       "      <th>anime_id_encoded</th>\n",
       "    </tr>\n",
       "  </thead>\n",
       "  <tbody>\n",
       "    <tr>\n",
       "      <th>2571620</th>\n",
       "      <td>24349</td>\n",
       "      <td>1517</td>\n",
       "      <td>3.0</td>\n",
       "      <td>6657</td>\n",
       "      <td>3271</td>\n",
       "    </tr>\n",
       "    <tr>\n",
       "      <th>1839209</th>\n",
       "      <td>17821</td>\n",
       "      <td>30240</td>\n",
       "      <td>10.0</td>\n",
       "      <td>4729</td>\n",
       "      <td>954</td>\n",
       "    </tr>\n",
       "    <tr>\n",
       "      <th>5996453</th>\n",
       "      <td>56287</td>\n",
       "      <td>31680</td>\n",
       "      <td>10.0</td>\n",
       "      <td>15249</td>\n",
       "      <td>1309</td>\n",
       "    </tr>\n",
       "    <tr>\n",
       "      <th>6470016</th>\n",
       "      <td>59789</td>\n",
       "      <td>1051</td>\n",
       "      <td>7.0</td>\n",
       "      <td>16441</td>\n",
       "      <td>1575</td>\n",
       "    </tr>\n",
       "    <tr>\n",
       "      <th>4919079</th>\n",
       "      <td>47123</td>\n",
       "      <td>19251</td>\n",
       "      <td>8.0</td>\n",
       "      <td>12639</td>\n",
       "      <td>1705</td>\n",
       "    </tr>\n",
       "    <tr>\n",
       "      <th>...</th>\n",
       "      <td>...</td>\n",
       "      <td>...</td>\n",
       "      <td>...</td>\n",
       "      <td>...</td>\n",
       "      <td>...</td>\n",
       "    </tr>\n",
       "    <tr>\n",
       "      <th>5379011</th>\n",
       "      <td>50888</td>\n",
       "      <td>228</td>\n",
       "      <td>8.0</td>\n",
       "      <td>13784</td>\n",
       "      <td>788</td>\n",
       "    </tr>\n",
       "    <tr>\n",
       "      <th>5539469</th>\n",
       "      <td>52097</td>\n",
       "      <td>490</td>\n",
       "      <td>6.0</td>\n",
       "      <td>14157</td>\n",
       "      <td>2639</td>\n",
       "    </tr>\n",
       "    <tr>\n",
       "      <th>4495194</th>\n",
       "      <td>42635</td>\n",
       "      <td>388</td>\n",
       "      <td>6.0</td>\n",
       "      <td>11571</td>\n",
       "      <td>2253</td>\n",
       "    </tr>\n",
       "    <tr>\n",
       "      <th>292430</th>\n",
       "      <td>3029</td>\n",
       "      <td>10087</td>\n",
       "      <td>8.0</td>\n",
       "      <td>752</td>\n",
       "      <td>850</td>\n",
       "    </tr>\n",
       "    <tr>\n",
       "      <th>5757483</th>\n",
       "      <td>53923</td>\n",
       "      <td>387</td>\n",
       "      <td>7.0</td>\n",
       "      <td>14670</td>\n",
       "      <td>1326</td>\n",
       "    </tr>\n",
       "  </tbody>\n",
       "</table>\n",
       "<p>4622979 rows × 5 columns</p>\n",
       "</div>"
      ],
      "text/plain": [
       "         user_id  anime_id  rating  user_id_encoded  anime_id_encoded\n",
       "2571620    24349      1517     3.0             6657              3271\n",
       "1839209    17821     30240    10.0             4729               954\n",
       "5996453    56287     31680    10.0            15249              1309\n",
       "6470016    59789      1051     7.0            16441              1575\n",
       "4919079    47123     19251     8.0            12639              1705\n",
       "...          ...       ...     ...              ...               ...\n",
       "5379011    50888       228     8.0            13784               788\n",
       "5539469    52097       490     6.0            14157              2639\n",
       "4495194    42635       388     6.0            11571              2253\n",
       "292430      3029     10087     8.0              752               850\n",
       "5757483    53923       387     7.0            14670              1326\n",
       "\n",
       "[4622979 rows x 5 columns]"
      ]
     },
     "execution_count": 67,
     "metadata": {},
     "output_type": "execute_result"
    }
   ],
   "source": [
    "rating_df = rating_df.sample(frac=1, random_state=22)\n",
    "rating_df"
   ]
  },
  {
   "cell_type": "code",
   "execution_count": 68,
   "metadata": {},
   "outputs": [
    {
     "name": "stdout",
     "output_type": "stream",
     "text": [
      "Dimensi Fitur : (4622979, 2)\n",
      "Dimensi Label : (4622979,)\n"
     ]
    }
   ],
   "source": [
    "x = rating_df[['user_id_encoded', 'anime_id_encoded']].values\n",
    "y = rating_df['rating']\n",
    "\n",
    "print(\"Dimensi Fitur :\", x.shape)\n",
    "print(\"Dimensi Label :\", y.shape)"
   ]
  },
  {
   "cell_type": "markdown",
   "metadata": {},
   "source": [
    "### 3.1.7. Normalisasi"
   ]
  },
  {
   "cell_type": "code",
   "execution_count": 69,
   "metadata": {},
   "outputs": [],
   "source": [
    "scaler = MinMaxScaler()\n",
    "scaler.fit(reshape(y, (-1, 1)))\n",
    "y = scaler.fit_transform(reshape(y, (-1, 1)))"
   ]
  },
  {
   "cell_type": "markdown",
   "metadata": {},
   "source": [
    "### 3.1.8. Data Splitting"
   ]
  },
  {
   "cell_type": "code",
   "execution_count": 70,
   "metadata": {},
   "outputs": [
    {
     "name": "stdout",
     "output_type": "stream",
     "text": [
      "Dimensi Fitur Latih    : (3698383, 2)\n",
      "Dimensi Label Latih    : (3698383, 1)\n",
      "Dimensi Fitur Validasi : (924596, 2)\n",
      "Dimensi Label Validasi : (924596, 1)\n"
     ]
    }
   ],
   "source": [
    "train_indicies = int(0.8 * rating_df.shape[0])\n",
    "x_train, x_valid, y_train, y_valid = (x[:train_indicies], x[train_indicies:], y[:train_indicies], y[train_indicies:])\n",
    "\n",
    "print(\"Dimensi Fitur Latih    :\", x_train.shape)\n",
    "print(\"Dimensi Label Latih    :\", y_train.shape)\n",
    "print(\"Dimensi Fitur Validasi :\", x_valid.shape)\n",
    "print(\"Dimensi Label Validasi :\", y_valid.shape)"
   ]
  },
  {
   "cell_type": "markdown",
   "metadata": {},
   "source": [
    "## 3.2. Model Development"
   ]
  },
  {
   "cell_type": "markdown",
   "metadata": {},
   "source": [
    "### 3.2.1. Getting Len of User & Anime"
   ]
  },
  {
   "cell_type": "code",
   "execution_count": 71,
   "metadata": {},
   "outputs": [
    {
     "name": "stdout",
     "output_type": "stream",
     "text": [
      "Jumlah User  : 19949\n",
      "Jumlah Anime : 3981\n"
     ]
    }
   ],
   "source": [
    "num_user = len(userID_encoded_dict)\n",
    "print(\"Jumlah User  :\", num_user)\n",
    "\n",
    "num_anime = len(animeID_encoded_dict)\n",
    "print(\"Jumlah Anime :\", num_anime)\n"
   ]
  },
  {
   "cell_type": "markdown",
   "metadata": {},
   "source": [
    "### 3.2.2. Define Model"
   ]
  },
  {
   "cell_type": "code",
   "execution_count": 72,
   "metadata": {},
   "outputs": [],
   "source": [
    "class RecommenderNet(Model):\n",
    "    def __init__(self, num_user, num_anime, embedding_size, *args, **kwargs):\n",
    "        super(RecommenderNet, self).__init__(*args, **kwargs)\n",
    "        self.num_user = num_user\n",
    "        self.num_anime = num_anime\n",
    "        self.embedding_size = embedding_size\n",
    "\n",
    "        # User Embedding Layer\n",
    "        self.user_embedding = layers.Embedding(\n",
    "            num_user,\n",
    "            embedding_size,\n",
    "            embeddings_initializer= 'he_normal',\n",
    "            embeddings_regularizer= regularizers.l2(1e-6)\n",
    "        )\n",
    "\n",
    "        # User Bias Embedding Layer\n",
    "        self.user_bias = layers.Embedding(num_user, 1)\n",
    "\n",
    "        # Anime Embedding Layer\n",
    "        self.anime_embedding = layers.Embedding(\n",
    "            num_anime,\n",
    "            embedding_size,\n",
    "            embeddings_initializer= 'he_normal',\n",
    "            embeddings_regularizer= regularizers.l2(1e-6)\n",
    "        )\n",
    "\n",
    "        # Anime Bias Embedding Layer\n",
    "        self.anime_bias = layers.Embedding(num_anime, 1)\n",
    "\n",
    "    def call(self, inputs):\n",
    "        user_vector = self.user_embedding(inputs[:, 0])\n",
    "        user_bias = self.user_bias(inputs[:, 0])\n",
    "        anime_vector = self.anime_embedding(inputs[:, 0])\n",
    "        anime_bias = self.anime_bias(inputs[:, 0])\n",
    "\n",
    "        dot_matrix = tensordot(user_vector, anime_vector, 2)\n",
    "\n",
    "        x = dot_matrix + user_bias + anime_bias\n",
    "\n",
    "        # Activation Layer\n",
    "        return nn.sigmoid(x)"
   ]
  },
  {
   "cell_type": "markdown",
   "metadata": {},
   "source": [
    "### 3.2.3. Callback"
   ]
  },
  {
   "cell_type": "code",
   "execution_count": 73,
   "metadata": {},
   "outputs": [],
   "source": [
    "myCallback = EarlyStopping(monitor='val_root_mean_squared_error', mode='min', patience=5, restore_best_weights=True)"
   ]
  },
  {
   "cell_type": "markdown",
   "metadata": {},
   "source": [
    "### 3.2.4. Compile Model"
   ]
  },
  {
   "cell_type": "code",
   "execution_count": 74,
   "metadata": {},
   "outputs": [],
   "source": [
    "model = RecommenderNet(num_user, num_anime, 50)\n",
    "\n",
    "model.compile(\n",
    "    loss = losses.MeanSquaredError(),\n",
    "    optimizer = optimizers.Adam(learning_rate=0.0001),\n",
    "    metrics = [metrics.RootMeanSquaredError]\n",
    ")"
   ]
  },
  {
   "cell_type": "markdown",
   "metadata": {},
   "source": [
    "### 3.2.5. Train Model"
   ]
  },
  {
   "cell_type": "code",
   "execution_count": 78,
   "metadata": {},
   "outputs": [
    {
     "name": "stdout",
     "output_type": "stream",
     "text": [
      "Epoch 1/100\n",
      "\u001b[1m28894/28894\u001b[0m \u001b[32m━━━━━━━━━━━━━━━━━━━━\u001b[0m\u001b[37m\u001b[0m \u001b[1m103s\u001b[0m 4ms/step - loss: 0.0265 - root_mean_squared_error: 0.1621 - val_loss: 0.0254 - val_root_mean_squared_error: 0.1586\n",
      "Epoch 2/100\n",
      "\u001b[1m28894/28894\u001b[0m \u001b[32m━━━━━━━━━━━━━━━━━━━━\u001b[0m\u001b[37m\u001b[0m \u001b[1m104s\u001b[0m 4ms/step - loss: 0.0249 - root_mean_squared_error: 0.1572 - val_loss: 0.0243 - val_root_mean_squared_error: 0.1554\n",
      "Epoch 3/100\n",
      "\u001b[1m28894/28894\u001b[0m \u001b[32m━━━━━━━━━━━━━━━━━━━━\u001b[0m\u001b[37m\u001b[0m \u001b[1m103s\u001b[0m 4ms/step - loss: 0.0240 - root_mean_squared_error: 0.1546 - val_loss: 0.0239 - val_root_mean_squared_error: 0.1540\n",
      "Epoch 4/100\n",
      "\u001b[1m28894/28894\u001b[0m \u001b[32m━━━━━━━━━━━━━━━━━━━━\u001b[0m\u001b[37m\u001b[0m \u001b[1m101s\u001b[0m 4ms/step - loss: 0.0237 - root_mean_squared_error: 0.1533 - val_loss: 0.0235 - val_root_mean_squared_error: 0.1527\n",
      "Epoch 5/100\n",
      "\u001b[1m28894/28894\u001b[0m \u001b[32m━━━━━━━━━━━━━━━━━━━━\u001b[0m\u001b[37m\u001b[0m \u001b[1m105s\u001b[0m 4ms/step - loss: 0.0234 - root_mean_squared_error: 0.1523 - val_loss: 0.0233 - val_root_mean_squared_error: 0.1521\n",
      "Epoch 6/100\n",
      "\u001b[1m28894/28894\u001b[0m \u001b[32m━━━━━━━━━━━━━━━━━━━━\u001b[0m\u001b[37m\u001b[0m \u001b[1m106s\u001b[0m 4ms/step - loss: 0.0232 - root_mean_squared_error: 0.1515 - val_loss: 0.0231 - val_root_mean_squared_error: 0.1514\n",
      "Epoch 7/100\n",
      "\u001b[1m28894/28894\u001b[0m \u001b[32m━━━━━━━━━━━━━━━━━━━━\u001b[0m\u001b[37m\u001b[0m \u001b[1m102s\u001b[0m 4ms/step - loss: 0.0229 - root_mean_squared_error: 0.1509 - val_loss: 0.0232 - val_root_mean_squared_error: 0.1518\n",
      "Epoch 8/100\n",
      "\u001b[1m28894/28894\u001b[0m \u001b[32m━━━━━━━━━━━━━━━━━━━━\u001b[0m\u001b[37m\u001b[0m \u001b[1m104s\u001b[0m 4ms/step - loss: 0.0229 - root_mean_squared_error: 0.1509 - val_loss: 0.0229 - val_root_mean_squared_error: 0.1509\n",
      "Epoch 9/100\n",
      "\u001b[1m28894/28894\u001b[0m \u001b[32m━━━━━━━━━━━━━━━━━━━━\u001b[0m\u001b[37m\u001b[0m \u001b[1m103s\u001b[0m 4ms/step - loss: 0.0227 - root_mean_squared_error: 0.1502 - val_loss: 0.0228 - val_root_mean_squared_error: 0.1505\n",
      "Epoch 10/100\n",
      "\u001b[1m28894/28894\u001b[0m \u001b[32m━━━━━━━━━━━━━━━━━━━━\u001b[0m\u001b[37m\u001b[0m \u001b[1m110s\u001b[0m 4ms/step - loss: 0.0225 - root_mean_squared_error: 0.1498 - val_loss: 0.0228 - val_root_mean_squared_error: 0.1505\n",
      "Epoch 11/100\n",
      "\u001b[1m28894/28894\u001b[0m \u001b[32m━━━━━━━━━━━━━━━━━━━━\u001b[0m\u001b[37m\u001b[0m \u001b[1m112s\u001b[0m 4ms/step - loss: 0.0226 - root_mean_squared_error: 0.1498 - val_loss: 0.0227 - val_root_mean_squared_error: 0.1504\n",
      "Epoch 12/100\n",
      "\u001b[1m28894/28894\u001b[0m \u001b[32m━━━━━━━━━━━━━━━━━━━━\u001b[0m\u001b[37m\u001b[0m \u001b[1m103s\u001b[0m 4ms/step - loss: 0.0225 - root_mean_squared_error: 0.1496 - val_loss: 0.0227 - val_root_mean_squared_error: 0.1503\n",
      "Epoch 13/100\n",
      "\u001b[1m28894/28894\u001b[0m \u001b[32m━━━━━━━━━━━━━━━━━━━━\u001b[0m\u001b[37m\u001b[0m \u001b[1m104s\u001b[0m 4ms/step - loss: 0.0225 - root_mean_squared_error: 0.1496 - val_loss: 0.0227 - val_root_mean_squared_error: 0.1505\n",
      "Epoch 14/100\n",
      "\u001b[1m28894/28894\u001b[0m \u001b[32m━━━━━━━━━━━━━━━━━━━━\u001b[0m\u001b[37m\u001b[0m \u001b[1m106s\u001b[0m 4ms/step - loss: 0.0225 - root_mean_squared_error: 0.1498 - val_loss: 0.0226 - val_root_mean_squared_error: 0.1502\n",
      "Epoch 15/100\n",
      "\u001b[1m28894/28894\u001b[0m \u001b[32m━━━━━━━━━━━━━━━━━━━━\u001b[0m\u001b[37m\u001b[0m \u001b[1m104s\u001b[0m 4ms/step - loss: 0.0224 - root_mean_squared_error: 0.1494 - val_loss: 0.0227 - val_root_mean_squared_error: 0.1503\n",
      "Epoch 16/100\n",
      "\u001b[1m28894/28894\u001b[0m \u001b[32m━━━━━━━━━━━━━━━━━━━━\u001b[0m\u001b[37m\u001b[0m \u001b[1m103s\u001b[0m 4ms/step - loss: 0.0225 - root_mean_squared_error: 0.1496 - val_loss: 0.0226 - val_root_mean_squared_error: 0.1503\n",
      "Epoch 17/100\n",
      "\u001b[1m28894/28894\u001b[0m \u001b[32m━━━━━━━━━━━━━━━━━━━━\u001b[0m\u001b[37m\u001b[0m \u001b[1m105s\u001b[0m 4ms/step - loss: 0.0223 - root_mean_squared_error: 0.1493 - val_loss: 0.0227 - val_root_mean_squared_error: 0.1503\n",
      "Epoch 18/100\n",
      "\u001b[1m28894/28894\u001b[0m \u001b[32m━━━━━━━━━━━━━━━━━━━━\u001b[0m\u001b[37m\u001b[0m \u001b[1m102s\u001b[0m 4ms/step - loss: 0.0224 - root_mean_squared_error: 0.1494 - val_loss: 0.0226 - val_root_mean_squared_error: 0.1502\n",
      "Epoch 19/100\n",
      "\u001b[1m28894/28894\u001b[0m \u001b[32m━━━━━━━━━━━━━━━━━━━━\u001b[0m\u001b[37m\u001b[0m \u001b[1m105s\u001b[0m 4ms/step - loss: 0.0224 - root_mean_squared_error: 0.1494 - val_loss: 0.0226 - val_root_mean_squared_error: 0.1501\n",
      "Epoch 20/100\n",
      "\u001b[1m28894/28894\u001b[0m \u001b[32m━━━━━━━━━━━━━━━━━━━━\u001b[0m\u001b[37m\u001b[0m \u001b[1m105s\u001b[0m 4ms/step - loss: 0.0223 - root_mean_squared_error: 0.1493 - val_loss: 0.0226 - val_root_mean_squared_error: 0.1500\n",
      "Epoch 21/100\n",
      "\u001b[1m28894/28894\u001b[0m \u001b[32m━━━━━━━━━━━━━━━━━━━━\u001b[0m\u001b[37m\u001b[0m \u001b[1m102s\u001b[0m 4ms/step - loss: 0.0223 - root_mean_squared_error: 0.1493 - val_loss: 0.0226 - val_root_mean_squared_error: 0.1501\n",
      "Epoch 22/100\n",
      "\u001b[1m28894/28894\u001b[0m \u001b[32m━━━━━━━━━━━━━━━━━━━━\u001b[0m\u001b[37m\u001b[0m \u001b[1m106s\u001b[0m 4ms/step - loss: 0.0223 - root_mean_squared_error: 0.1493 - val_loss: 0.0225 - val_root_mean_squared_error: 0.1500\n",
      "Epoch 23/100\n",
      "\u001b[1m28894/28894\u001b[0m \u001b[32m━━━━━━━━━━━━━━━━━━━━\u001b[0m\u001b[37m\u001b[0m \u001b[1m103s\u001b[0m 4ms/step - loss: 0.0223 - root_mean_squared_error: 0.1492 - val_loss: 0.0225 - val_root_mean_squared_error: 0.1500\n",
      "Epoch 24/100\n",
      "\u001b[1m28894/28894\u001b[0m \u001b[32m━━━━━━━━━━━━━━━━━━━━\u001b[0m\u001b[37m\u001b[0m \u001b[1m105s\u001b[0m 4ms/step - loss: 0.0223 - root_mean_squared_error: 0.1492 - val_loss: 0.0225 - val_root_mean_squared_error: 0.1500\n",
      "Epoch 25/100\n",
      "\u001b[1m28894/28894\u001b[0m \u001b[32m━━━━━━━━━━━━━━━━━━━━\u001b[0m\u001b[37m\u001b[0m \u001b[1m103s\u001b[0m 4ms/step - loss: 0.0223 - root_mean_squared_error: 0.1492 - val_loss: 0.0225 - val_root_mean_squared_error: 0.1500\n",
      "Epoch 26/100\n",
      "\u001b[1m28894/28894\u001b[0m \u001b[32m━━━━━━━━━━━━━━━━━━━━\u001b[0m\u001b[37m\u001b[0m \u001b[1m106s\u001b[0m 4ms/step - loss: 0.0223 - root_mean_squared_error: 0.1492 - val_loss: 0.0225 - val_root_mean_squared_error: 0.1499\n",
      "Epoch 27/100\n",
      "\u001b[1m28894/28894\u001b[0m \u001b[32m━━━━━━━━━━━━━━━━━━━━\u001b[0m\u001b[37m\u001b[0m \u001b[1m105s\u001b[0m 4ms/step - loss: 0.0223 - root_mean_squared_error: 0.1492 - val_loss: 0.0225 - val_root_mean_squared_error: 0.1499\n",
      "Epoch 28/100\n",
      "\u001b[1m28894/28894\u001b[0m \u001b[32m━━━━━━━━━━━━━━━━━━━━\u001b[0m\u001b[37m\u001b[0m \u001b[1m105s\u001b[0m 4ms/step - loss: 0.0223 - root_mean_squared_error: 0.1491 - val_loss: 0.0225 - val_root_mean_squared_error: 0.1499\n",
      "Epoch 29/100\n",
      "\u001b[1m28894/28894\u001b[0m \u001b[32m━━━━━━━━━━━━━━━━━━━━\u001b[0m\u001b[37m\u001b[0m \u001b[1m103s\u001b[0m 4ms/step - loss: 0.0223 - root_mean_squared_error: 0.1491 - val_loss: 0.0225 - val_root_mean_squared_error: 0.1499\n",
      "Epoch 30/100\n",
      "\u001b[1m28894/28894\u001b[0m \u001b[32m━━━━━━━━━━━━━━━━━━━━\u001b[0m\u001b[37m\u001b[0m \u001b[1m105s\u001b[0m 4ms/step - loss: 0.0222 - root_mean_squared_error: 0.1490 - val_loss: 0.0225 - val_root_mean_squared_error: 0.1499\n",
      "Epoch 31/100\n",
      "\u001b[1m28894/28894\u001b[0m \u001b[32m━━━━━━━━━━━━━━━━━━━━\u001b[0m\u001b[37m\u001b[0m \u001b[1m106s\u001b[0m 4ms/step - loss: 0.0222 - root_mean_squared_error: 0.1490 - val_loss: 0.0225 - val_root_mean_squared_error: 0.1499\n",
      "Epoch 32/100\n",
      "\u001b[1m28894/28894\u001b[0m \u001b[32m━━━━━━━━━━━━━━━━━━━━\u001b[0m\u001b[37m\u001b[0m \u001b[1m107s\u001b[0m 4ms/step - loss: 0.0223 - root_mean_squared_error: 0.1492 - val_loss: 0.0225 - val_root_mean_squared_error: 0.1499\n",
      "Epoch 33/100\n",
      "\u001b[1m28894/28894\u001b[0m \u001b[32m━━━━━━━━━━━━━━━━━━━━\u001b[0m\u001b[37m\u001b[0m \u001b[1m104s\u001b[0m 4ms/step - loss: 0.0222 - root_mean_squared_error: 0.1490 - val_loss: 0.0225 - val_root_mean_squared_error: 0.1499\n",
      "Epoch 34/100\n",
      "\u001b[1m28894/28894\u001b[0m \u001b[32m━━━━━━━━━━━━━━━━━━━━\u001b[0m\u001b[37m\u001b[0m \u001b[1m106s\u001b[0m 4ms/step - loss: 0.0222 - root_mean_squared_error: 0.1490 - val_loss: 0.0225 - val_root_mean_squared_error: 0.1499\n",
      "Epoch 35/100\n",
      "\u001b[1m28894/28894\u001b[0m \u001b[32m━━━━━━━━━━━━━━━━━━━━\u001b[0m\u001b[37m\u001b[0m \u001b[1m105s\u001b[0m 4ms/step - loss: 0.0222 - root_mean_squared_error: 0.1491 - val_loss: 0.0225 - val_root_mean_squared_error: 0.1499\n",
      "Epoch 36/100\n",
      "\u001b[1m28894/28894\u001b[0m \u001b[32m━━━━━━━━━━━━━━━━━━━━\u001b[0m\u001b[37m\u001b[0m \u001b[1m103s\u001b[0m 4ms/step - loss: 0.0223 - root_mean_squared_error: 0.1493 - val_loss: 0.0225 - val_root_mean_squared_error: 0.1499\n",
      "Epoch 37/100\n",
      "\u001b[1m28894/28894\u001b[0m \u001b[32m━━━━━━━━━━━━━━━━━━━━\u001b[0m\u001b[37m\u001b[0m \u001b[1m105s\u001b[0m 4ms/step - loss: 0.0222 - root_mean_squared_error: 0.1491 - val_loss: 0.0225 - val_root_mean_squared_error: 0.1499\n"
     ]
    }
   ],
   "source": [
    "history = model.fit(\n",
    "    x = x_train,\n",
    "    y = y_train,\n",
    "    batch_size = 128,\n",
    "    epochs = 100,\n",
    "    validation_data = (x_valid, y_valid),\n",
    "    callbacks = myCallback\n",
    ")"
   ]
  },
  {
   "cell_type": "markdown",
   "metadata": {},
   "source": [
    "### 3.2.6. Fungsi Rekomendasi"
   ]
  },
  {
   "cell_type": "code",
   "execution_count": null,
   "metadata": {},
   "outputs": [
    {
     "name": "stdout",
     "output_type": "stream",
     "text": [
      "\u001b[1m121/121\u001b[0m \u001b[32m━━━━━━━━━━━━━━━━━━━━\u001b[0m\u001b[37m\u001b[0m \u001b[1m0s\u001b[0m 2ms/step\n"
     ]
    }
   ],
   "source": [
    "def collaborative_recommendation(userID, k=10):\n",
    "    # Mengambil sample user\n",
    "    user_id_test = userID\n",
    "\n",
    "    # Membuat list anime yang telah ditonton user\n",
    "    user_anime_watched = rating_df[rating_df['user_id'] == user_id_test]\n",
    "\n",
    "    # Mendapatkan list anime yang belum ditonton user\n",
    "    # operator ~(bitwise) membalikan nilai boolean\n",
    "    user_new_anime = anime_df[~anime_df['anime_id'].isin(user_anime_watched.anime_id.values)]['anime_id']\n",
    "    user_new_anime = list(\n",
    "        set(user_new_anime).intersection(set(animeID_encoded_dict.keys()))\n",
    "    )\n",
    "\n",
    "    # Decode anime_id yang ada dalam list anime yang belum ditonton user\n",
    "    user_new_anime = [[animeID_encoded_dict.get(x)] for x in user_new_anime]\n",
    "\n",
    "    # Decode user id\n",
    "    user_encoder = userID_encoded_dict.get(user_id_test)\n",
    "\n",
    "    # Membuat array yang memasangkan user_id dan anime_id yang telah di-encode\n",
    "    anime_array = hstack(\n",
    "        ([[user_encoder]] * len(user_new_anime), user_new_anime)\n",
    "    )\n",
    "\n",
    "    # Melakukan prediksi rating pada anime baru\n",
    "    ratings = model.predict(anime_array).flatten()\n",
    "\n",
    "    # mengurutkan dari nilai terkecil dan mengembalikan index\n",
    "    # [-10:] => mengambil 10 nilai terakhir\n",
    "    # [::-1] => reverse urutan dalam array\n",
    "    top_rating_indicies = ratings.argsort()[-k:][::-1]\n",
    "\n",
    "    # Decode anime_id yang akan di rekomendasikan\n",
    "    anime_recommendation_ids = [animeID_decoded_dict.get(user_new_anime[x][0]) for x in top_rating_indicies]\n",
    "\n",
    "    # Mengambil 5 anime terbaik yang telah ditonton user\n",
    "    top_user_animes = (\n",
    "        user_anime_watched.sort_values(\n",
    "            by = 'rating',\n",
    "            ascending = False\n",
    "        )\n",
    "        .head(5)\n",
    "        .anime_id.values\n",
    "    )\n",
    "\n",
    "    top_anime = anime_df[anime_df['anime_id'].isin(top_user_animes)]\n",
    "    list_old_title = []\n",
    "    list_old_genre = []\n",
    "    for row in top_anime.itertuples():\n",
    "        list_old_title.append(row.name)\n",
    "        list_old_genre.append(genre_decoding(row.genre))\n",
    "        # print(row.name, '=>', genre_decoding(row.genre))\n",
    "\n",
    "    top_anime_df = DataFrame({'Judul Anime': list_old_title, 'Genre': list_old_genre})\n",
    "\n",
    "    # Cetak List Rekomendasi Anime\n",
    "    anime_recommendation = anime_df[anime_df['anime_id'].isin(anime_recommendation_ids)]\n",
    "    list_new_title = []\n",
    "    list_new_genre = []\n",
    "    for row in anime_recommendation.itertuples():\n",
    "        list_new_title.append(row.name)\n",
    "        list_new_genre.append(genre_decoding(row.genre))\n",
    "        # print(row.name, '=>', genre_decoding(row.genre))\n",
    "\n",
    "    recommendations = DataFrame({'Judul Anime': list_new_title, 'Genre': list_new_genre})\n",
    "\n",
    "    # print(\"=================================\")\n",
    "    return top_anime_df, recommendations"
   ]
  },
  {
   "cell_type": "markdown",
   "metadata": {},
   "source": [
    "### 3.2.7. Simulasi Sistem Rekomendasi Collaborative Filtering"
   ]
  },
  {
   "cell_type": "markdown",
   "metadata": {},
   "source": [
    "Melakukan prediksi rating dan menyimpan 10 rating teratas dalam variabel recommendations"
   ]
  },
  {
   "cell_type": "code",
   "execution_count": null,
   "metadata": {},
   "outputs": [],
   "source": [
    "top_anime_df, recommendations = collaborative_recommendation(666)"
   ]
  },
  {
   "cell_type": "markdown",
   "metadata": {},
   "source": [
    "Mencetak 5 anime terbaik yang pernah ditonton oleh user"
   ]
  },
  {
   "cell_type": "code",
   "execution_count": 149,
   "metadata": {},
   "outputs": [
    {
     "name": "stdout",
     "output_type": "stream",
     "text": [
      "===  Your Best Anime Watched  ===\n"
     ]
    },
    {
     "data": {
      "text/html": [
       "<div>\n",
       "<style scoped>\n",
       "    .dataframe tbody tr th:only-of-type {\n",
       "        vertical-align: middle;\n",
       "    }\n",
       "\n",
       "    .dataframe tbody tr th {\n",
       "        vertical-align: top;\n",
       "    }\n",
       "\n",
       "    .dataframe thead th {\n",
       "        text-align: right;\n",
       "    }\n",
       "</style>\n",
       "<table border=\"1\" class=\"dataframe\">\n",
       "  <thead>\n",
       "    <tr style=\"text-align: right;\">\n",
       "      <th></th>\n",
       "      <th>Judul Anime</th>\n",
       "      <th>Genre</th>\n",
       "    </tr>\n",
       "  </thead>\n",
       "  <tbody>\n",
       "    <tr>\n",
       "      <th>0</th>\n",
       "      <td>Haikyuu!!</td>\n",
       "      <td>Comedy, Drama, School, Shounen, Sports</td>\n",
       "    </tr>\n",
       "    <tr>\n",
       "      <th>1</th>\n",
       "      <td>No Game No Life</td>\n",
       "      <td>Adventure, Comedy, Ecchi, Fantasy, Game, Super...</td>\n",
       "    </tr>\n",
       "    <tr>\n",
       "      <th>2</th>\n",
       "      <td>Digimon Adventure</td>\n",
       "      <td>Action, Adventure, Comedy, Fantasy, Kids</td>\n",
       "    </tr>\n",
       "    <tr>\n",
       "      <th>3</th>\n",
       "      <td>Naruto</td>\n",
       "      <td>Action, Comedy, Martial Arts, Shounen, Super P...</td>\n",
       "    </tr>\n",
       "    <tr>\n",
       "      <th>4</th>\n",
       "      <td>High School DxD</td>\n",
       "      <td>Comedy, Demons, Ecchi, Harem, Romance, School</td>\n",
       "    </tr>\n",
       "  </tbody>\n",
       "</table>\n",
       "</div>"
      ],
      "text/plain": [
       "         Judul Anime                                              Genre\n",
       "0          Haikyuu!!             Comedy, Drama, School, Shounen, Sports\n",
       "1    No Game No Life  Adventure, Comedy, Ecchi, Fantasy, Game, Super...\n",
       "2  Digimon Adventure           Action, Adventure, Comedy, Fantasy, Kids\n",
       "3             Naruto  Action, Comedy, Martial Arts, Shounen, Super P...\n",
       "4    High School DxD      Comedy, Demons, Ecchi, Harem, Romance, School"
      ]
     },
     "execution_count": 149,
     "metadata": {},
     "output_type": "execute_result"
    }
   ],
   "source": [
    "print(\"===  Your Best Anime Watched  ===\")\n",
    "top_anime_df"
   ]
  },
  {
   "cell_type": "markdown",
   "metadata": {},
   "source": [
    "Menampilkan top 10 rekomendasi anime untuk user"
   ]
  },
  {
   "cell_type": "code",
   "execution_count": 151,
   "metadata": {},
   "outputs": [
    {
     "name": "stdout",
     "output_type": "stream",
     "text": [
      "=== Your Anime Recommendation ===\n"
     ]
    },
    {
     "data": {
      "text/html": [
       "<div>\n",
       "<style scoped>\n",
       "    .dataframe tbody tr th:only-of-type {\n",
       "        vertical-align: middle;\n",
       "    }\n",
       "\n",
       "    .dataframe tbody tr th {\n",
       "        vertical-align: top;\n",
       "    }\n",
       "\n",
       "    .dataframe thead th {\n",
       "        text-align: right;\n",
       "    }\n",
       "</style>\n",
       "<table border=\"1\" class=\"dataframe\">\n",
       "  <thead>\n",
       "    <tr style=\"text-align: right;\">\n",
       "      <th></th>\n",
       "      <th>Judul Anime</th>\n",
       "      <th>Genre</th>\n",
       "    </tr>\n",
       "  </thead>\n",
       "  <tbody>\n",
       "    <tr>\n",
       "      <th>0</th>\n",
       "      <td>Noblesse: Awakening</td>\n",
       "      <td>Action, School, Supernatural, Vampire</td>\n",
       "    </tr>\n",
       "    <tr>\n",
       "      <th>1</th>\n",
       "      <td>Nodame Cantabile OVA 2</td>\n",
       "      <td>Comedy, Josei, Romance</td>\n",
       "    </tr>\n",
       "    <tr>\n",
       "      <th>2</th>\n",
       "      <td>Acchi Kocchi (TV): Place=Princess</td>\n",
       "      <td>Comedy, Romance, School, Seinen, Slice of Life</td>\n",
       "    </tr>\n",
       "    <tr>\n",
       "      <th>3</th>\n",
       "      <td>One Piece: Romance Dawn</td>\n",
       "      <td>Action, Comedy, Fantasy, Shounen, Super Power</td>\n",
       "    </tr>\n",
       "    <tr>\n",
       "      <th>4</th>\n",
       "      <td>Uchuu Show e Youkoso</td>\n",
       "      <td>Adventure, Fantasy, Space</td>\n",
       "    </tr>\n",
       "    <tr>\n",
       "      <th>5</th>\n",
       "      <td>Soukyuu no Fafner: Dead Aggressor - Heaven and...</td>\n",
       "      <td>Action, Drama, Mecha, Military, Sci-Fi</td>\n",
       "    </tr>\n",
       "    <tr>\n",
       "      <th>6</th>\n",
       "      <td>Mangaka-san to Assistant-san to The Animation ...</td>\n",
       "      <td>Comedy, Ecchi, Harem, Seinen, Slice of Life</td>\n",
       "    </tr>\n",
       "    <tr>\n",
       "      <th>7</th>\n",
       "      <td>Buddy Complex: Kanketsu-hen - Ano Sora ni Kaer...</td>\n",
       "      <td>Action, Mecha, Sci-Fi</td>\n",
       "    </tr>\n",
       "    <tr>\n",
       "      <th>8</th>\n",
       "      <td>Bananya</td>\n",
       "      <td>Comedy, Kids, Slice of Life</td>\n",
       "    </tr>\n",
       "    <tr>\n",
       "      <th>9</th>\n",
       "      <td>Fumiko no Kokuhaku</td>\n",
       "      <td>Comedy</td>\n",
       "    </tr>\n",
       "  </tbody>\n",
       "</table>\n",
       "</div>"
      ],
      "text/plain": [
       "                                         Judul Anime  \\\n",
       "0                                Noblesse: Awakening   \n",
       "1                             Nodame Cantabile OVA 2   \n",
       "2                  Acchi Kocchi (TV): Place=Princess   \n",
       "3                            One Piece: Romance Dawn   \n",
       "4                               Uchuu Show e Youkoso   \n",
       "5  Soukyuu no Fafner: Dead Aggressor - Heaven and...   \n",
       "6  Mangaka-san to Assistant-san to The Animation ...   \n",
       "7  Buddy Complex: Kanketsu-hen - Ano Sora ni Kaer...   \n",
       "8                                            Bananya   \n",
       "9                                 Fumiko no Kokuhaku   \n",
       "\n",
       "                                            Genre  \n",
       "0           Action, School, Supernatural, Vampire  \n",
       "1                          Comedy, Josei, Romance  \n",
       "2  Comedy, Romance, School, Seinen, Slice of Life  \n",
       "3   Action, Comedy, Fantasy, Shounen, Super Power  \n",
       "4                       Adventure, Fantasy, Space  \n",
       "5          Action, Drama, Mecha, Military, Sci-Fi  \n",
       "6     Comedy, Ecchi, Harem, Seinen, Slice of Life  \n",
       "7                           Action, Mecha, Sci-Fi  \n",
       "8                     Comedy, Kids, Slice of Life  \n",
       "9                                          Comedy  "
      ]
     },
     "execution_count": 151,
     "metadata": {},
     "output_type": "execute_result"
    }
   ],
   "source": [
    "print(\"=== Your Anime Recommendation ===\")\n",
    "recommendations"
   ]
  },
  {
   "cell_type": "markdown",
   "metadata": {},
   "source": [
    "## 3.3. Evaluation"
   ]
  },
  {
   "cell_type": "code",
   "execution_count": 171,
   "metadata": {},
   "outputs": [
    {
     "data": {
      "image/png": "[encoded data removed]",
      "text/plain": [
       "<Figure size 1200x500 with 2 Axes>"
      ]
     },
     "metadata": {},
     "output_type": "display_data"
    }
   ],
   "source": [
    "# Extracting loss and validation loss from the training history\n",
    "mse = history.history['loss']\n",
    "val_mse = history.history['val_loss']\n",
    "rmse = history.history['root_mean_squared_error']\n",
    "val_rmse = history.history['val_root_mean_squared_error']\n",
    "\n",
    "# Plotting the MSE and RMSE\n",
    "epochs = range(1, len(mse) + 1)\n",
    "\n",
    "plt.figure(figsize=(12, 5))\n",
    "\n",
    "# Plotting MSE\n",
    "plt.subplot(1, 2, 1)\n",
    "plt.plot(epochs, mse, 'bo-', label='Training MSE')\n",
    "plt.plot(epochs, val_mse, 'ro-', label='Validation MSE')\n",
    "plt.title('Training and Validation MSE')\n",
    "plt.xlabel('Epochs')\n",
    "plt.ylabel('MSE')\n",
    "plt.grid(True)\n",
    "plt.legend()\n",
    "\n",
    "# Plotting RMSE\n",
    "plt.subplot(1, 2, 2)\n",
    "plt.plot(epochs, rmse, 'bo-', label='Training RMSE')\n",
    "plt.plot(epochs, val_rmse, 'ro-', label='Validation RMSE')\n",
    "plt.title('Training and Validation RMSE')\n",
    "plt.xlabel('Epochs')\n",
    "plt.ylabel('RMSE')\n",
    "plt.grid(True)\n",
    "plt.legend()\n",
    "\n",
    "plt.tight_layout()\n",
    "plt.show()"
   ]
  },
  {
   "cell_type": "markdown",
   "metadata": {},
   "source": [
    "## 3.4. Save Neural Networks Model"
   ]
  },
  {
   "cell_type": "code",
   "execution_count": null,
   "metadata": {},
   "outputs": [],
   "source": [
    "# Make assets directory\n",
    "os.makedirs('./assets/model', exist_ok=True)\n",
    "\n",
    "# Save model with saved_model\n",
    "save_path = './assets/model'\n",
    "saved_model.save(model, save_path)"
   ]
  },
  {
   "cell_type": "markdown",
   "metadata": {},
   "source": [
    "# Convert jupyter notebook to python file"
   ]
  },
  {
   "cell_type": "code",
   "execution_count": 39,
   "metadata": {},
   "outputs": [
    {
     "name": "stdout",
     "output_type": "stream",
     "text": [
      "[NbConvertApp] Converting notebook model.ipynb to script\n",
      "[NbConvertApp] Writing 18557 bytes to model.py\n"
     ]
    }
   ],
   "source": [
    "!jupyter nbconvert --to script 'model.ipynb'"
   ]
  }
 ],
 "metadata": {
  "kernelspec": {
   "display_name": "tf2.16",
   "language": "python",
   "name": "python3"
  },
  "language_info": {
   "codemirror_mode": {
    "name": "ipython",
    "version": 3
   },
   "file_extension": ".py",
   "mimetype": "text/x-python",
   "name": "python",
   "nbconvert_exporter": "python",
   "pygments_lexer": "ipython3",
   "version": "3.10.15"
  }
 },
 "nbformat": 4,
 "nbformat_minor": 2
}
