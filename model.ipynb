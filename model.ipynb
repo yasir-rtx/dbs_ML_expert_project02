{
 "cells": [
  {
   "cell_type": "markdown",
   "metadata": {},
   "source": [
    "# Library"
   ]
  },
  {
   "cell_type": "code",
   "execution_count": 1,
   "metadata": {},
   "outputs": [
    {
     "name": "stderr",
     "output_type": "stream",
     "text": [
      "2024-12-14 18:08:52.322494: I tensorflow/core/platform/cpu_feature_guard.cc:210] This TensorFlow binary is optimized to use available CPU instructions in performance-critical operations.\n",
      "To enable the following instructions: AVX2 FMA, in other operations, rebuild TensorFlow with the appropriate compiler flags.\n"
     ]
    }
   ],
   "source": [
    "from pandas import read_csv\n",
    "from pandas import DataFrame\n",
    "\n",
    "from numpy import float32\n",
    "from numpy import reshape\n",
    "from numpy import sort\n",
    "\n",
    "from pathlib import Path\n",
    "\n",
    "from sklearn.feature_extraction.text import TfidfVectorizer\n",
    "from sklearn.metrics.pairwise import cosine_similarity\n",
    "from sklearn.preprocessing import MinMaxScaler\n",
    "\n",
    "from tensorflow import tensordot\n",
    "from tensorflow import keras\n",
    "from tensorflow import nn\n",
    "\n",
    "from keras import regularizers\n",
    "from keras import optimizers\n",
    "from keras import metrics\n",
    "from keras import losses\n",
    "from keras import layers\n",
    "from keras import Model\n",
    "\n",
    "from matplotlib import pyplot as plt\n",
    "\n",
    "import pandas as pd\n",
    "import numpy as np\n",
    "import logging\n",
    "import os\n",
    "\n",
    "# For Clean Tensorflow Verbosity\n",
    "from silence_tensorflow import silence_tensorflow\n",
    "silence_tensorflow()"
   ]
  },
  {
   "cell_type": "markdown",
   "metadata": {},
   "source": [
    "# 1. Data Understanding"
   ]
  },
  {
   "cell_type": "markdown",
   "metadata": {},
   "source": [
    "## 1.1. Downloading Data"
   ]
  },
  {
   "cell_type": "code",
   "execution_count": 2,
   "metadata": {},
   "outputs": [
    {
     "name": "stdout",
     "output_type": "stream",
     "text": [
      "Dataset URL: https://www.kaggle.com/datasets/CooperUnion/anime-recommendations-database\n",
      "License(s): CC0-1.0\n",
      "Downloading anime-recommendations-database.zip to /mnt/d/dbs/dbs_ML_expert_project02\n",
      "100%|█████████████████████████████████████▉| 25.0M/25.0M [00:10<00:00, 2.93MB/s]\n",
      "100%|██████████████████████████████████████| 25.0M/25.0M [00:10<00:00, 2.51MB/s]\n"
     ]
    }
   ],
   "source": [
    "!kaggle datasets download CooperUnion/anime-recommendations-database"
   ]
  },
  {
   "cell_type": "markdown",
   "metadata": {},
   "source": [
    "## 1.2. Extracting Data"
   ]
  },
  {
   "cell_type": "code",
   "execution_count": 3,
   "metadata": {},
   "outputs": [
    {
     "name": "stdout",
     "output_type": "stream",
     "text": [
      "Archive:  anime-recommendations-database.zip\n",
      "  inflating: anime.csv               \n",
      "  inflating: rating.csv              \n"
     ]
    }
   ],
   "source": [
    "!unzip anime-recommendations-database.zip"
   ]
  },
  {
   "cell_type": "markdown",
   "metadata": {},
   "source": [
    "## 1.3. Data Loading"
   ]
  },
  {
   "cell_type": "code",
   "execution_count": 2,
   "metadata": {},
   "outputs": [
    {
     "name": "stdout",
     "output_type": "stream",
     "text": [
      "Dataframe Anime\n",
      "Jumlah Data Anime  : 12294\n",
      "\n",
      "Dataframe Rating\n",
      "Jumlah Data Rating : 73515\n",
      "Jumlah Anime yang di rating 11200\n"
     ]
    }
   ],
   "source": [
    "anime_df = read_csv('./anime.csv')\n",
    "rating_df = read_csv('./rating.csv')\n",
    "\n",
    "print(\"Dataframe Anime\")\n",
    "print(\"Jumlah Data Anime  :\", len(anime_df.anime_id.unique()))\n",
    "\n",
    "print(\"\\nDataframe Rating\")\n",
    "print(\"Jumlah Data Rating :\", len(rating_df.user_id.unique()))\n",
    "print(\"Jumlah Anime yang di rating\", len(rating_df.anime_id.unique()))"
   ]
  },
  {
   "cell_type": "markdown",
   "metadata": {},
   "source": [
    "## 1.5. Anime Variabel"
   ]
  },
  {
   "cell_type": "code",
   "execution_count": 3,
   "metadata": {},
   "outputs": [
    {
     "data": {
      "text/html": [
       "<div>\n",
       "<style scoped>\n",
       "    .dataframe tbody tr th:only-of-type {\n",
       "        vertical-align: middle;\n",
       "    }\n",
       "\n",
       "    .dataframe tbody tr th {\n",
       "        vertical-align: top;\n",
       "    }\n",
       "\n",
       "    .dataframe thead th {\n",
       "        text-align: right;\n",
       "    }\n",
       "</style>\n",
       "<table border=\"1\" class=\"dataframe\">\n",
       "  <thead>\n",
       "    <tr style=\"text-align: right;\">\n",
       "      <th></th>\n",
       "      <th>anime_id</th>\n",
       "      <th>name</th>\n",
       "      <th>genre</th>\n",
       "      <th>type</th>\n",
       "      <th>episodes</th>\n",
       "      <th>rating</th>\n",
       "      <th>members</th>\n",
       "    </tr>\n",
       "  </thead>\n",
       "  <tbody>\n",
       "    <tr>\n",
       "      <th>0</th>\n",
       "      <td>32281</td>\n",
       "      <td>Kimi no Na wa.</td>\n",
       "      <td>Drama, Romance, School, Supernatural</td>\n",
       "      <td>Movie</td>\n",
       "      <td>1</td>\n",
       "      <td>9.37</td>\n",
       "      <td>200630</td>\n",
       "    </tr>\n",
       "    <tr>\n",
       "      <th>1</th>\n",
       "      <td>5114</td>\n",
       "      <td>Fullmetal Alchemist: Brotherhood</td>\n",
       "      <td>Action, Adventure, Drama, Fantasy, Magic, Mili...</td>\n",
       "      <td>TV</td>\n",
       "      <td>64</td>\n",
       "      <td>9.26</td>\n",
       "      <td>793665</td>\n",
       "    </tr>\n",
       "    <tr>\n",
       "      <th>2</th>\n",
       "      <td>28977</td>\n",
       "      <td>Gintama°</td>\n",
       "      <td>Action, Comedy, Historical, Parody, Samurai, S...</td>\n",
       "      <td>TV</td>\n",
       "      <td>51</td>\n",
       "      <td>9.25</td>\n",
       "      <td>114262</td>\n",
       "    </tr>\n",
       "    <tr>\n",
       "      <th>3</th>\n",
       "      <td>9253</td>\n",
       "      <td>Steins;Gate</td>\n",
       "      <td>Sci-Fi, Thriller</td>\n",
       "      <td>TV</td>\n",
       "      <td>24</td>\n",
       "      <td>9.17</td>\n",
       "      <td>673572</td>\n",
       "    </tr>\n",
       "    <tr>\n",
       "      <th>4</th>\n",
       "      <td>9969</td>\n",
       "      <td>Gintama&amp;#039;</td>\n",
       "      <td>Action, Comedy, Historical, Parody, Samurai, S...</td>\n",
       "      <td>TV</td>\n",
       "      <td>51</td>\n",
       "      <td>9.16</td>\n",
       "      <td>151266</td>\n",
       "    </tr>\n",
       "  </tbody>\n",
       "</table>\n",
       "</div>"
      ],
      "text/plain": [
       "   anime_id                              name  \\\n",
       "0     32281                    Kimi no Na wa.   \n",
       "1      5114  Fullmetal Alchemist: Brotherhood   \n",
       "2     28977                          Gintama°   \n",
       "3      9253                       Steins;Gate   \n",
       "4      9969                     Gintama&#039;   \n",
       "\n",
       "                                               genre   type episodes  rating  \\\n",
       "0               Drama, Romance, School, Supernatural  Movie        1    9.37   \n",
       "1  Action, Adventure, Drama, Fantasy, Magic, Mili...     TV       64    9.26   \n",
       "2  Action, Comedy, Historical, Parody, Samurai, S...     TV       51    9.25   \n",
       "3                                   Sci-Fi, Thriller     TV       24    9.17   \n",
       "4  Action, Comedy, Historical, Parody, Samurai, S...     TV       51    9.16   \n",
       "\n",
       "   members  \n",
       "0   200630  \n",
       "1   793665  \n",
       "2   114262  \n",
       "3   673572  \n",
       "4   151266  "
      ]
     },
     "execution_count": 3,
     "metadata": {},
     "output_type": "execute_result"
    }
   ],
   "source": [
    "anime_df.head()"
   ]
  },
  {
   "cell_type": "code",
   "execution_count": 4,
   "metadata": {},
   "outputs": [
    {
     "name": "stdout",
     "output_type": "stream",
     "text": [
      "<class 'pandas.core.frame.DataFrame'>\n",
      "RangeIndex: 12294 entries, 0 to 12293\n",
      "Data columns (total 7 columns):\n",
      " #   Column    Non-Null Count  Dtype  \n",
      "---  ------    --------------  -----  \n",
      " 0   anime_id  12294 non-null  int64  \n",
      " 1   name      12294 non-null  object \n",
      " 2   genre     12232 non-null  object \n",
      " 3   type      12269 non-null  object \n",
      " 4   episodes  12294 non-null  object \n",
      " 5   rating    12064 non-null  float64\n",
      " 6   members   12294 non-null  int64  \n",
      "dtypes: float64(1), int64(2), object(4)\n",
      "memory usage: 672.5+ KB\n"
     ]
    }
   ],
   "source": [
    "anime_df.info()"
   ]
  },
  {
   "cell_type": "code",
   "execution_count": 5,
   "metadata": {},
   "outputs": [
    {
     "name": "stdout",
     "output_type": "stream",
     "text": [
      "Jumlah Anime : 12292\n",
      "Judul Anime  : ['Kimi no Na wa.' 'Fullmetal Alchemist: Brotherhood' 'Gintama°' ...\n",
      " 'Violence Gekiga David no Hoshi'\n",
      " 'Violence Gekiga Shin David no Hoshi: Inma Densetsu'\n",
      " 'Yasuji no Pornorama: Yacchimae!!']\n",
      "\n",
      "Jumlah Genre : 3265\n",
      "Genre Anime  : ['Drama, Romance, School, Supernatural'\n",
      " 'Action, Adventure, Drama, Fantasy, Magic, Military, Shounen'\n",
      " 'Action, Comedy, Historical, Parody, Samurai, Sci-Fi, Shounen' ...\n",
      " 'Hentai, Sports' 'Drama, Romance, School, Yuri' 'Hentai, Slice of Life']\n"
     ]
    }
   ],
   "source": [
    "print(\"Jumlah Anime :\", len(anime_df.name.unique()))\n",
    "print(\"Judul Anime  :\", anime_df.name.unique())\n",
    "print(\"\\nJumlah Genre :\", len(anime_df.genre.unique()))\n",
    "print(\"Genre Anime  :\", anime_df.genre.unique())"
   ]
  },
  {
   "cell_type": "markdown",
   "metadata": {},
   "source": [
    "## 1.6. Rating Variabel"
   ]
  },
  {
   "cell_type": "code",
   "execution_count": 6,
   "metadata": {},
   "outputs": [
    {
     "data": {
      "text/html": [
       "<div>\n",
       "<style scoped>\n",
       "    .dataframe tbody tr th:only-of-type {\n",
       "        vertical-align: middle;\n",
       "    }\n",
       "\n",
       "    .dataframe tbody tr th {\n",
       "        vertical-align: top;\n",
       "    }\n",
       "\n",
       "    .dataframe thead th {\n",
       "        text-align: right;\n",
       "    }\n",
       "</style>\n",
       "<table border=\"1\" class=\"dataframe\">\n",
       "  <thead>\n",
       "    <tr style=\"text-align: right;\">\n",
       "      <th></th>\n",
       "      <th>user_id</th>\n",
       "      <th>anime_id</th>\n",
       "      <th>rating</th>\n",
       "    </tr>\n",
       "  </thead>\n",
       "  <tbody>\n",
       "    <tr>\n",
       "      <th>0</th>\n",
       "      <td>1</td>\n",
       "      <td>20</td>\n",
       "      <td>-1</td>\n",
       "    </tr>\n",
       "    <tr>\n",
       "      <th>1</th>\n",
       "      <td>1</td>\n",
       "      <td>24</td>\n",
       "      <td>-1</td>\n",
       "    </tr>\n",
       "    <tr>\n",
       "      <th>2</th>\n",
       "      <td>1</td>\n",
       "      <td>79</td>\n",
       "      <td>-1</td>\n",
       "    </tr>\n",
       "    <tr>\n",
       "      <th>3</th>\n",
       "      <td>1</td>\n",
       "      <td>226</td>\n",
       "      <td>-1</td>\n",
       "    </tr>\n",
       "    <tr>\n",
       "      <th>4</th>\n",
       "      <td>1</td>\n",
       "      <td>241</td>\n",
       "      <td>-1</td>\n",
       "    </tr>\n",
       "  </tbody>\n",
       "</table>\n",
       "</div>"
      ],
      "text/plain": [
       "   user_id  anime_id  rating\n",
       "0        1        20      -1\n",
       "1        1        24      -1\n",
       "2        1        79      -1\n",
       "3        1       226      -1\n",
       "4        1       241      -1"
      ]
     },
     "execution_count": 6,
     "metadata": {},
     "output_type": "execute_result"
    }
   ],
   "source": [
    "rating_df.head()"
   ]
  },
  {
   "cell_type": "code",
   "execution_count": 7,
   "metadata": {},
   "outputs": [
    {
     "name": "stdout",
     "output_type": "stream",
     "text": [
      "<class 'pandas.core.frame.DataFrame'>\n",
      "RangeIndex: 7813737 entries, 0 to 7813736\n",
      "Data columns (total 3 columns):\n",
      " #   Column    Dtype\n",
      "---  ------    -----\n",
      " 0   user_id   int64\n",
      " 1   anime_id  int64\n",
      " 2   rating    int64\n",
      "dtypes: int64(3)\n",
      "memory usage: 178.8 MB\n"
     ]
    }
   ],
   "source": [
    "rating_df.info()"
   ]
  },
  {
   "cell_type": "code",
   "execution_count": 8,
   "metadata": {},
   "outputs": [
    {
     "name": "stdout",
     "output_type": "stream",
     "text": [
      "Jumlah User     : 73515\n",
      "Jumlah Anime    : 11200\n",
      "Panjang Rating  : 11\n",
      "Rentang Rating  : [-1  1  2  3  4  5  6  7  8  9 10]\n"
     ]
    }
   ],
   "source": [
    "print(\"Jumlah User     :\", len(rating_df.user_id.unique()))\n",
    "print(\"Jumlah Anime    :\", len(rating_df.anime_id.unique()))\n",
    "print(\"Panjang Rating  :\", len(rating_df.rating.unique()))\n",
    "print(\"Rentang Rating  :\", sort(rating_df.rating.unique()))"
   ]
  },
  {
   "cell_type": "code",
   "execution_count": 9,
   "metadata": {},
   "outputs": [
    {
     "data": {
      "text/plain": [
       "rating\n",
       "-1     1476496\n",
       " 10     955715\n",
       " 8     1646019\n",
       " 6      637775\n",
       " 9     1254096\n",
       " 7     1375287\n",
       " 3       41453\n",
       " 5      282806\n",
       " 4      104291\n",
       " 1       16649\n",
       " 2       23150\n",
       "Name: count, dtype: int64"
      ]
     },
     "execution_count": 9,
     "metadata": {},
     "output_type": "execute_result"
    }
   ],
   "source": [
    "rating_df['rating'].value_counts(sort=False)"
   ]
  },
  {
   "cell_type": "code",
   "execution_count": 10,
   "metadata": {},
   "outputs": [
    {
     "data": {
      "text/plain": [
       "count    7.813737e+06\n",
       "mean     6.144030e+00\n",
       "std      3.727800e+00\n",
       "min     -1.000000e+00\n",
       "25%      6.000000e+00\n",
       "50%      7.000000e+00\n",
       "75%      9.000000e+00\n",
       "max      1.000000e+01\n",
       "Name: rating, dtype: float64"
      ]
     },
     "execution_count": 10,
     "metadata": {},
     "output_type": "execute_result"
    }
   ],
   "source": [
    "rating_df['rating'].describe()"
   ]
  },
  {
   "cell_type": "markdown",
   "metadata": {},
   "source": [
    "# 2. Data Preprocessing"
   ]
  },
  {
   "cell_type": "markdown",
   "metadata": {},
   "source": [
    "# 3. Data Preparation"
   ]
  },
  {
   "cell_type": "markdown",
   "metadata": {},
   "source": [
    "## 3.1. Missing Value"
   ]
  },
  {
   "cell_type": "markdown",
   "metadata": {},
   "source": [
    "### 3.1.1. Anime Variabel"
   ]
  },
  {
   "cell_type": "code",
   "execution_count": 11,
   "metadata": {},
   "outputs": [
    {
     "data": {
      "text/plain": [
       "anime_id      0\n",
       "name          0\n",
       "genre        62\n",
       "type         25\n",
       "episodes      0\n",
       "rating      230\n",
       "members       0\n",
       "dtype: int64"
      ]
     },
     "execution_count": 11,
     "metadata": {},
     "output_type": "execute_result"
    }
   ],
   "source": [
    "anime_df.isnull().sum()"
   ]
  },
  {
   "cell_type": "markdown",
   "metadata": {},
   "source": [
    "Menampilkan baris yang memiliki missing value"
   ]
  },
  {
   "cell_type": "code",
   "execution_count": 12,
   "metadata": {},
   "outputs": [
    {
     "data": {
      "text/html": [
       "<div>\n",
       "<style scoped>\n",
       "    .dataframe tbody tr th:only-of-type {\n",
       "        vertical-align: middle;\n",
       "    }\n",
       "\n",
       "    .dataframe tbody tr th {\n",
       "        vertical-align: top;\n",
       "    }\n",
       "\n",
       "    .dataframe thead th {\n",
       "        text-align: right;\n",
       "    }\n",
       "</style>\n",
       "<table border=\"1\" class=\"dataframe\">\n",
       "  <thead>\n",
       "    <tr style=\"text-align: right;\">\n",
       "      <th></th>\n",
       "      <th>anime_id</th>\n",
       "      <th>name</th>\n",
       "      <th>genre</th>\n",
       "      <th>type</th>\n",
       "      <th>episodes</th>\n",
       "      <th>rating</th>\n",
       "      <th>members</th>\n",
       "    </tr>\n",
       "  </thead>\n",
       "  <tbody>\n",
       "    <tr>\n",
       "      <th>2844</th>\n",
       "      <td>33242</td>\n",
       "      <td>IS: Infinite Stratos 2 - Infinite Wedding</td>\n",
       "      <td>NaN</td>\n",
       "      <td>Special</td>\n",
       "      <td>1</td>\n",
       "      <td>7.15</td>\n",
       "      <td>6604</td>\n",
       "    </tr>\n",
       "    <tr>\n",
       "      <th>3541</th>\n",
       "      <td>33589</td>\n",
       "      <td>ViVid Strike!</td>\n",
       "      <td>NaN</td>\n",
       "      <td>TV</td>\n",
       "      <td>12</td>\n",
       "      <td>6.96</td>\n",
       "      <td>12345</td>\n",
       "    </tr>\n",
       "    <tr>\n",
       "      <th>6040</th>\n",
       "      <td>29765</td>\n",
       "      <td>Metropolis (2009)</td>\n",
       "      <td>NaN</td>\n",
       "      <td>Movie</td>\n",
       "      <td>1</td>\n",
       "      <td>6.27</td>\n",
       "      <td>313</td>\n",
       "    </tr>\n",
       "    <tr>\n",
       "      <th>6646</th>\n",
       "      <td>32695</td>\n",
       "      <td>Match Shoujo</td>\n",
       "      <td>NaN</td>\n",
       "      <td>ONA</td>\n",
       "      <td>1</td>\n",
       "      <td>6.02</td>\n",
       "      <td>242</td>\n",
       "    </tr>\n",
       "    <tr>\n",
       "      <th>7018</th>\n",
       "      <td>33187</td>\n",
       "      <td>Katsudou Shashin</td>\n",
       "      <td>NaN</td>\n",
       "      <td>Movie</td>\n",
       "      <td>1</td>\n",
       "      <td>5.79</td>\n",
       "      <td>607</td>\n",
       "    </tr>\n",
       "    <tr>\n",
       "      <th>...</th>\n",
       "      <td>...</td>\n",
       "      <td>...</td>\n",
       "      <td>...</td>\n",
       "      <td>...</td>\n",
       "      <td>...</td>\n",
       "      <td>...</td>\n",
       "      <td>...</td>\n",
       "    </tr>\n",
       "    <tr>\n",
       "      <th>12274</th>\n",
       "      <td>34492</td>\n",
       "      <td>Nuki Doki! Tenshi to Akuma no Sakusei Battle -...</td>\n",
       "      <td>Hentai</td>\n",
       "      <td>OVA</td>\n",
       "      <td>Unknown</td>\n",
       "      <td>NaN</td>\n",
       "      <td>392</td>\n",
       "    </tr>\n",
       "    <tr>\n",
       "      <th>12279</th>\n",
       "      <td>34491</td>\n",
       "      <td>Sagurare Otome The Animation</td>\n",
       "      <td>Hentai</td>\n",
       "      <td>OVA</td>\n",
       "      <td>1</td>\n",
       "      <td>NaN</td>\n",
       "      <td>79</td>\n",
       "    </tr>\n",
       "    <tr>\n",
       "      <th>12280</th>\n",
       "      <td>34312</td>\n",
       "      <td>Saimin Class</td>\n",
       "      <td>Hentai</td>\n",
       "      <td>OVA</td>\n",
       "      <td>Unknown</td>\n",
       "      <td>NaN</td>\n",
       "      <td>240</td>\n",
       "    </tr>\n",
       "    <tr>\n",
       "      <th>12282</th>\n",
       "      <td>34388</td>\n",
       "      <td>Shikkoku no Shaga The Animation</td>\n",
       "      <td>Hentai</td>\n",
       "      <td>OVA</td>\n",
       "      <td>Unknown</td>\n",
       "      <td>NaN</td>\n",
       "      <td>195</td>\n",
       "    </tr>\n",
       "    <tr>\n",
       "      <th>12285</th>\n",
       "      <td>34399</td>\n",
       "      <td>Taimanin Asagi 3</td>\n",
       "      <td>Demons, Hentai, Supernatural</td>\n",
       "      <td>OVA</td>\n",
       "      <td>Unknown</td>\n",
       "      <td>NaN</td>\n",
       "      <td>485</td>\n",
       "    </tr>\n",
       "  </tbody>\n",
       "</table>\n",
       "<p>277 rows × 7 columns</p>\n",
       "</div>"
      ],
      "text/plain": [
       "       anime_id                                               name  \\\n",
       "2844      33242          IS: Infinite Stratos 2 - Infinite Wedding   \n",
       "3541      33589                                      ViVid Strike!   \n",
       "6040      29765                                  Metropolis (2009)   \n",
       "6646      32695                                       Match Shoujo   \n",
       "7018      33187                                   Katsudou Shashin   \n",
       "...         ...                                                ...   \n",
       "12274     34492  Nuki Doki! Tenshi to Akuma no Sakusei Battle -...   \n",
       "12279     34491                       Sagurare Otome The Animation   \n",
       "12280     34312                                       Saimin Class   \n",
       "12282     34388                    Shikkoku no Shaga The Animation   \n",
       "12285     34399                                   Taimanin Asagi 3   \n",
       "\n",
       "                              genre     type episodes  rating  members  \n",
       "2844                            NaN  Special        1    7.15     6604  \n",
       "3541                            NaN       TV       12    6.96    12345  \n",
       "6040                            NaN    Movie        1    6.27      313  \n",
       "6646                            NaN      ONA        1    6.02      242  \n",
       "7018                            NaN    Movie        1    5.79      607  \n",
       "...                             ...      ...      ...     ...      ...  \n",
       "12274                        Hentai      OVA  Unknown     NaN      392  \n",
       "12279                        Hentai      OVA        1     NaN       79  \n",
       "12280                        Hentai      OVA  Unknown     NaN      240  \n",
       "12282                        Hentai      OVA  Unknown     NaN      195  \n",
       "12285  Demons, Hentai, Supernatural      OVA  Unknown     NaN      485  \n",
       "\n",
       "[277 rows x 7 columns]"
      ]
     },
     "execution_count": 12,
     "metadata": {},
     "output_type": "execute_result"
    }
   ],
   "source": [
    "anime_df[anime_df.isnull().any(axis=1)]"
   ]
  },
  {
   "cell_type": "markdown",
   "metadata": {},
   "source": [
    "Terdapat 277 data yang memilik missing value. Karena jumlahnya sedikit maka data dengan missing value akan dihapus"
   ]
  },
  {
   "cell_type": "code",
   "execution_count": 13,
   "metadata": {},
   "outputs": [
    {
     "data": {
      "text/plain": [
       "anime_id    0\n",
       "name        0\n",
       "genre       0\n",
       "type        0\n",
       "episodes    0\n",
       "rating      0\n",
       "members     0\n",
       "dtype: int64"
      ]
     },
     "execution_count": 13,
     "metadata": {},
     "output_type": "execute_result"
    }
   ],
   "source": [
    "anime_df = anime_df.dropna()\n",
    "\n",
    "# Periksa kembali missing value\n",
    "anime_df.isnull().sum()"
   ]
  },
  {
   "cell_type": "markdown",
   "metadata": {},
   "source": [
    "Sekarang dataset anime sudah bersih dari missing value"
   ]
  },
  {
   "cell_type": "markdown",
   "metadata": {},
   "source": [
    "### 3.1.2. Rating Variabel"
   ]
  },
  {
   "cell_type": "code",
   "execution_count": 14,
   "metadata": {},
   "outputs": [
    {
     "data": {
      "text/plain": [
       "user_id     0\n",
       "anime_id    0\n",
       "rating      0\n",
       "dtype: int64"
      ]
     },
     "execution_count": 14,
     "metadata": {},
     "output_type": "execute_result"
    }
   ],
   "source": [
    "rating_df.isnull().sum()"
   ]
  },
  {
   "cell_type": "markdown",
   "metadata": {},
   "source": [
    "Tidak terdapat missing value pada dataset rating"
   ]
  },
  {
   "cell_type": "markdown",
   "metadata": {},
   "source": [
    "## 3.2. Unrated Anime"
   ]
  },
  {
   "cell_type": "code",
   "execution_count": 15,
   "metadata": {},
   "outputs": [
    {
     "data": {
      "text/plain": [
       "(7813737, 3)"
      ]
     },
     "execution_count": 15,
     "metadata": {},
     "output_type": "execute_result"
    }
   ],
   "source": [
    "rating_df.shape"
   ]
  },
  {
   "cell_type": "code",
   "execution_count": 16,
   "metadata": {},
   "outputs": [
    {
     "data": {
      "text/html": [
       "<div>\n",
       "<style scoped>\n",
       "    .dataframe tbody tr th:only-of-type {\n",
       "        vertical-align: middle;\n",
       "    }\n",
       "\n",
       "    .dataframe tbody tr th {\n",
       "        vertical-align: top;\n",
       "    }\n",
       "\n",
       "    .dataframe thead th {\n",
       "        text-align: right;\n",
       "    }\n",
       "</style>\n",
       "<table border=\"1\" class=\"dataframe\">\n",
       "  <thead>\n",
       "    <tr style=\"text-align: right;\">\n",
       "      <th></th>\n",
       "      <th>user_id</th>\n",
       "      <th>anime_id</th>\n",
       "      <th>rating</th>\n",
       "    </tr>\n",
       "  </thead>\n",
       "  <tbody>\n",
       "    <tr>\n",
       "      <th>5264684</th>\n",
       "      <td>49941</td>\n",
       "      <td>8425</td>\n",
       "      <td>7</td>\n",
       "    </tr>\n",
       "    <tr>\n",
       "      <th>5884162</th>\n",
       "      <td>54963</td>\n",
       "      <td>1015</td>\n",
       "      <td>10</td>\n",
       "    </tr>\n",
       "    <tr>\n",
       "      <th>2249159</th>\n",
       "      <td>21692</td>\n",
       "      <td>6746</td>\n",
       "      <td>7</td>\n",
       "    </tr>\n",
       "    <tr>\n",
       "      <th>1149061</th>\n",
       "      <td>11000</td>\n",
       "      <td>746</td>\n",
       "      <td>8</td>\n",
       "    </tr>\n",
       "    <tr>\n",
       "      <th>3389857</th>\n",
       "      <td>31207</td>\n",
       "      <td>2445</td>\n",
       "      <td>6</td>\n",
       "    </tr>\n",
       "  </tbody>\n",
       "</table>\n",
       "</div>"
      ],
      "text/plain": [
       "         user_id  anime_id  rating\n",
       "5264684    49941      8425       7\n",
       "5884162    54963      1015      10\n",
       "2249159    21692      6746       7\n",
       "1149061    11000       746       8\n",
       "3389857    31207      2445       6"
      ]
     },
     "execution_count": 16,
     "metadata": {},
     "output_type": "execute_result"
    }
   ],
   "source": [
    "rating_df = rating_df.loc[rating_df['rating'] != -1]\n",
    "rating_df.sample(5)"
   ]
  },
  {
   "cell_type": "code",
   "execution_count": 17,
   "metadata": {},
   "outputs": [
    {
     "data": {
      "text/plain": [
       "(6337241, 3)"
      ]
     },
     "execution_count": 17,
     "metadata": {},
     "output_type": "execute_result"
    }
   ],
   "source": [
    "rating_df.shape"
   ]
  },
  {
   "cell_type": "code",
   "execution_count": 18,
   "metadata": {},
   "outputs": [
    {
     "data": {
      "text/plain": [
       "rating\n",
       "1       16649\n",
       "2       23150\n",
       "3       41453\n",
       "4      104291\n",
       "5      282806\n",
       "6      637775\n",
       "7     1375287\n",
       "8     1646019\n",
       "9     1254096\n",
       "10     955715\n",
       "Name: count, dtype: int64"
      ]
     },
     "execution_count": 18,
     "metadata": {},
     "output_type": "execute_result"
    }
   ],
   "source": [
    "rating_df.value_counts(rating_df['rating'], sort=False)"
   ]
  },
  {
   "cell_type": "markdown",
   "metadata": {},
   "source": [
    "## 3.3. Label Encoding"
   ]
  },
  {
   "cell_type": "code",
   "execution_count": 21,
   "metadata": {},
   "outputs": [
    {
     "data": {
      "text/html": [
       "<div>\n",
       "<style scoped>\n",
       "    .dataframe tbody tr th:only-of-type {\n",
       "        vertical-align: middle;\n",
       "    }\n",
       "\n",
       "    .dataframe tbody tr th {\n",
       "        vertical-align: top;\n",
       "    }\n",
       "\n",
       "    .dataframe thead th {\n",
       "        text-align: right;\n",
       "    }\n",
       "</style>\n",
       "<table border=\"1\" class=\"dataframe\">\n",
       "  <thead>\n",
       "    <tr style=\"text-align: right;\">\n",
       "      <th></th>\n",
       "      <th>user_id</th>\n",
       "      <th>anime_id</th>\n",
       "      <th>rating</th>\n",
       "    </tr>\n",
       "  </thead>\n",
       "  <tbody>\n",
       "    <tr>\n",
       "      <th>6850643</th>\n",
       "      <td>63588</td>\n",
       "      <td>3588</td>\n",
       "      <td>7</td>\n",
       "    </tr>\n",
       "    <tr>\n",
       "      <th>1998731</th>\n",
       "      <td>19375</td>\n",
       "      <td>813</td>\n",
       "      <td>8</td>\n",
       "    </tr>\n",
       "    <tr>\n",
       "      <th>648057</th>\n",
       "      <td>6184</td>\n",
       "      <td>2001</td>\n",
       "      <td>9</td>\n",
       "    </tr>\n",
       "    <tr>\n",
       "      <th>2249891</th>\n",
       "      <td>21700</td>\n",
       "      <td>249</td>\n",
       "      <td>9</td>\n",
       "    </tr>\n",
       "    <tr>\n",
       "      <th>7509527</th>\n",
       "      <td>70241</td>\n",
       "      <td>13601</td>\n",
       "      <td>10</td>\n",
       "    </tr>\n",
       "    <tr>\n",
       "      <th>7136893</th>\n",
       "      <td>66567</td>\n",
       "      <td>850</td>\n",
       "      <td>7</td>\n",
       "    </tr>\n",
       "    <tr>\n",
       "      <th>1521763</th>\n",
       "      <td>14680</td>\n",
       "      <td>2759</td>\n",
       "      <td>5</td>\n",
       "    </tr>\n",
       "    <tr>\n",
       "      <th>531278</th>\n",
       "      <td>5335</td>\n",
       "      <td>19429</td>\n",
       "      <td>5</td>\n",
       "    </tr>\n",
       "    <tr>\n",
       "      <th>3620343</th>\n",
       "      <td>33704</td>\n",
       "      <td>14513</td>\n",
       "      <td>10</td>\n",
       "    </tr>\n",
       "    <tr>\n",
       "      <th>4653222</th>\n",
       "      <td>44515</td>\n",
       "      <td>14355</td>\n",
       "      <td>8</td>\n",
       "    </tr>\n",
       "  </tbody>\n",
       "</table>\n",
       "</div>"
      ],
      "text/plain": [
       "         user_id  anime_id  rating\n",
       "6850643    63588      3588       7\n",
       "1998731    19375       813       8\n",
       "648057      6184      2001       9\n",
       "2249891    21700       249       9\n",
       "7509527    70241     13601      10\n",
       "7136893    66567       850       7\n",
       "1521763    14680      2759       5\n",
       "531278      5335     19429       5\n",
       "3620343    33704     14513      10\n",
       "4653222    44515     14355       8"
      ]
     },
     "execution_count": 21,
     "metadata": {},
     "output_type": "execute_result"
    }
   ],
   "source": [
    "rating_df.sample(10)"
   ]
  },
  {
   "cell_type": "markdown",
   "metadata": {},
   "source": [
    "### 3.3.1. Anime Encoding"
   ]
  },
  {
   "cell_type": "code",
   "execution_count": 19,
   "metadata": {},
   "outputs": [],
   "source": [
    "userID = rating_df['user_id'].unique().tolist()\n",
    "idU2idUE = {x : i for i, x in enumerate(userID)}\n",
    "idUE2idU = {i : x for i, x in enumerate(userID)}"
   ]
  },
  {
   "cell_type": "markdown",
   "metadata": {},
   "source": [
    "### 3.3.2. Rating Encoding"
   ]
  },
  {
   "cell_type": "code",
   "execution_count": 20,
   "metadata": {},
   "outputs": [],
   "source": [
    "animeID = rating_df['anime_id'].unique().tolist()\n",
    "idA2idAE = {x : i for i, x in enumerate(animeID)}\n",
    "idAE2idA = {i : x for i, x in enumerate(animeID)}"
   ]
  },
  {
   "cell_type": "markdown",
   "metadata": {},
   "source": [
    "### 3.3.3.Genre Encoding"
   ]
  },
  {
   "cell_type": "code",
   "execution_count": 22,
   "metadata": {},
   "outputs": [
    {
     "name": "stdout",
     "output_type": "stream",
     "text": [
      "43\n",
      "['Action' 'Adventure' 'Cars' 'Comedy' 'Dementia' 'Demons' 'Drama' 'Ecchi'\n",
      " 'Fantasy' 'Game' 'Harem' 'Hentai' 'Historical' 'Horror' 'Josei' 'Kids'\n",
      " 'Magic' 'Martial Arts' 'Mecha' 'Military' 'Music' 'Mystery' 'Parody'\n",
      " 'Police' 'Psychological' 'Romance' 'Samurai' 'School' 'Sci-Fi' 'Seinen'\n",
      " 'Shoujo' 'Shoujo Ai' 'Shounen' 'Shounen Ai' 'Slice of Life' 'Space'\n",
      " 'Sports' 'Super Power' 'Supernatural' 'Thriller' 'Vampire' 'Yaoi' 'Yuri']\n"
     ]
    }
   ],
   "source": [
    "list_genres = sort(anime_df['genre'].str.split(', ').explode('genre').unique())\n",
    "num_genre = len(list_genres)\n",
    "print(num_genre)\n",
    "print(list_genres)"
   ]
  },
  {
   "cell_type": "code",
   "execution_count": 101,
   "metadata": {},
   "outputs": [],
   "source": [
    "genre_encode_dict = {genre : i for i, genre in enumerate(list_genres)}\n",
    "genre_decode_dict = {i : genre for i, genre in enumerate(list_genres)}"
   ]
  },
  {
   "cell_type": "code",
   "execution_count": 94,
   "metadata": {},
   "outputs": [
    {
     "data": {
      "text/plain": [
       "'6 25 27 38'"
      ]
     },
     "execution_count": 94,
     "metadata": {},
     "output_type": "execute_result"
    }
   ],
   "source": [
    "def genre_encoding(data):\n",
    "    return ' '.join([str(genre_encode_dict[genre]) for genre in data.split(', ')])\n",
    "\n",
    "genre_encoding(anime_df['genre'].loc[0])"
   ]
  },
  {
   "cell_type": "code",
   "execution_count": 167,
   "metadata": {},
   "outputs": [
    {
     "data": {
      "text/plain": [
       "'Drama Romance School Supernatural'"
      ]
     },
     "execution_count": 167,
     "metadata": {},
     "output_type": "execute_result"
    }
   ],
   "source": [
    "def genre_decoding(data):\n",
    "    return ' '.join(genre_decode_dict[int(genre)] for genre in data.split())\n",
    "\n",
    "genre_decoding(anime_df['genre'].loc[0])"
   ]
  },
  {
   "cell_type": "markdown",
   "metadata": {},
   "source": [
    "#### SIMPAN AJA DULU!!!"
   ]
  },
  {
   "cell_type": "code",
   "execution_count": 23,
   "metadata": {},
   "outputs": [
    {
     "name": "stdout",
     "output_type": "stream",
     "text": [
      "43\n",
      "['Action' 'Adventure' 'Cars' 'Comedy' 'Dementia' 'Demons' 'Drama' 'Ecchi'\n",
      " 'Fantasy' 'Game' 'Harem' 'Hentai' 'Historical' 'Horror' 'Josei' 'Kids'\n",
      " 'Magic' 'Martial Arts' 'Mecha' 'Military' 'Music' 'Mystery' 'Parody'\n",
      " 'Police' 'Psychological' 'Romance' 'Samurai' 'School' 'Sci-Fi' 'Seinen'\n",
      " 'Shoujo' 'Shoujo Ai' 'Shounen' 'Shounen Ai' 'Slice of Life' 'Space'\n",
      " 'Sports' 'Super Power' 'Supernatural' 'Thriller' 'Vampire' 'Yaoi' 'Yuri']\n"
     ]
    }
   ],
   "source": [
    "list_genres = sort(anime_df['genre'].str.split(', ').explode('genre').unique())\n",
    "num_genre = len(list_genres)\n",
    "print(num_genre)\n",
    "print(list_genres)"
   ]
  },
  {
   "cell_type": "code",
   "execution_count": 24,
   "metadata": {},
   "outputs": [],
   "source": [
    "def onehot_genre(data):\n",
    "    # onehot = np.zeros((num_genre, 1))\n",
    "    onehot = np.zeros(num_genre)\n",
    "\n",
    "    # iterate genre in list_genres variabele\n",
    "    for i, genre in enumerate(list_genres):\n",
    "\n",
    "        # iterate genre in data variable / genre in dataframe\n",
    "        for g in data.split(','):\n",
    "\n",
    "            # assign 1 if genre from data found in list_genre\n",
    "            if genre == str(g).strip(): onehot[i] = 1\n",
    "        \n",
    "    # Return Final one-hot encoding\n",
    "    return onehot"
   ]
  },
  {
   "cell_type": "code",
   "execution_count": 25,
   "metadata": {},
   "outputs": [],
   "source": [
    "genres = DataFrame([onehot_genre(anime_df['genre'][0])], index=anime_df['name'], columns=list_genres)"
   ]
  },
  {
   "cell_type": "markdown",
   "metadata": {},
   "source": [
    "### 3.3.4. Mapping to Dataframe"
   ]
  },
  {
   "cell_type": "code",
   "execution_count": 184,
   "metadata": {},
   "outputs": [],
   "source": [
    "rating_df['user'] = rating_df['user_id'].map(idU2idUE)\n",
    "rating_df['anime'] = rating_df['anime_id'].map(idA2idAE)"
   ]
  },
  {
   "cell_type": "code",
   "execution_count": 185,
   "metadata": {},
   "outputs": [
    {
     "data": {
      "text/html": [
       "<div>\n",
       "<style scoped>\n",
       "    .dataframe tbody tr th:only-of-type {\n",
       "        vertical-align: middle;\n",
       "    }\n",
       "\n",
       "    .dataframe tbody tr th {\n",
       "        vertical-align: top;\n",
       "    }\n",
       "\n",
       "    .dataframe thead th {\n",
       "        text-align: right;\n",
       "    }\n",
       "</style>\n",
       "<table border=\"1\" class=\"dataframe\">\n",
       "  <thead>\n",
       "    <tr style=\"text-align: right;\">\n",
       "      <th></th>\n",
       "      <th>user_id</th>\n",
       "      <th>anime_id</th>\n",
       "      <th>rating</th>\n",
       "      <th>user</th>\n",
       "      <th>anime</th>\n",
       "    </tr>\n",
       "  </thead>\n",
       "  <tbody>\n",
       "    <tr>\n",
       "      <th>47</th>\n",
       "      <td>1</td>\n",
       "      <td>8074</td>\n",
       "      <td>10</td>\n",
       "      <td>0</td>\n",
       "      <td>0</td>\n",
       "    </tr>\n",
       "    <tr>\n",
       "      <th>81</th>\n",
       "      <td>1</td>\n",
       "      <td>11617</td>\n",
       "      <td>10</td>\n",
       "      <td>0</td>\n",
       "      <td>1</td>\n",
       "    </tr>\n",
       "    <tr>\n",
       "      <th>83</th>\n",
       "      <td>1</td>\n",
       "      <td>11757</td>\n",
       "      <td>10</td>\n",
       "      <td>0</td>\n",
       "      <td>2</td>\n",
       "    </tr>\n",
       "    <tr>\n",
       "      <th>101</th>\n",
       "      <td>1</td>\n",
       "      <td>15451</td>\n",
       "      <td>10</td>\n",
       "      <td>0</td>\n",
       "      <td>3</td>\n",
       "    </tr>\n",
       "    <tr>\n",
       "      <th>153</th>\n",
       "      <td>2</td>\n",
       "      <td>11771</td>\n",
       "      <td>10</td>\n",
       "      <td>1</td>\n",
       "      <td>4</td>\n",
       "    </tr>\n",
       "  </tbody>\n",
       "</table>\n",
       "</div>"
      ],
      "text/plain": [
       "     user_id  anime_id  rating  user  anime\n",
       "47         1      8074      10     0      0\n",
       "81         1     11617      10     0      1\n",
       "83         1     11757      10     0      2\n",
       "101        1     15451      10     0      3\n",
       "153        2     11771      10     1      4"
      ]
     },
     "execution_count": 185,
     "metadata": {},
     "output_type": "execute_result"
    }
   ],
   "source": [
    "rating_df.head()"
   ]
  },
  {
   "cell_type": "code",
   "execution_count": null,
   "metadata": {},
   "outputs": [],
   "source": [
    "anime_df['genre'] = anime_df['genre'].apply(genre_encoding)"
   ]
  },
  {
   "cell_type": "markdown",
   "metadata": {},
   "source": [
    "### 3.3.5. Getting Len of User & Anime"
   ]
  },
  {
   "cell_type": "code",
   "execution_count": 28,
   "metadata": {},
   "outputs": [
    {
     "name": "stdout",
     "output_type": "stream",
     "text": [
      "Jumlah User  : 69600\n",
      "Jumlah Anime : 9927\n"
     ]
    }
   ],
   "source": [
    "num_user = len(idU2idUE)\n",
    "print(\"Jumlah User  :\", num_user)\n",
    "\n",
    "num_anime = len(idA2idAE)\n",
    "print(\"Jumlah Anime :\", num_anime)\n"
   ]
  },
  {
   "cell_type": "markdown",
   "metadata": {},
   "source": [
    "### 3.3.6. Convert Rating Values to Float"
   ]
  },
  {
   "cell_type": "code",
   "execution_count": 29,
   "metadata": {},
   "outputs": [
    {
     "name": "stdout",
     "output_type": "stream",
     "text": [
      "Rating Terendah: 1.0\n",
      "Rating Tertinggi: 10.0\n"
     ]
    }
   ],
   "source": [
    "rating_df['rating'] = rating_df['rating'].values.astype(float32)\n",
    "\n",
    "min_rating = min(rating_df['rating'])\n",
    "print(\"Rating Terendah:\", min_rating)\n",
    "\n",
    "max_rating = max(rating_df['rating'])\n",
    "print(\"Rating Tertinggi:\", max_rating)"
   ]
  },
  {
   "cell_type": "markdown",
   "metadata": {},
   "source": [
    "## 3.4. Seleksi Fitur"
   ]
  },
  {
   "cell_type": "code",
   "execution_count": 30,
   "metadata": {},
   "outputs": [
    {
     "data": {
      "text/html": [
       "<div>\n",
       "<style scoped>\n",
       "    .dataframe tbody tr th:only-of-type {\n",
       "        vertical-align: middle;\n",
       "    }\n",
       "\n",
       "    .dataframe tbody tr th {\n",
       "        vertical-align: top;\n",
       "    }\n",
       "\n",
       "    .dataframe thead th {\n",
       "        text-align: right;\n",
       "    }\n",
       "</style>\n",
       "<table border=\"1\" class=\"dataframe\">\n",
       "  <thead>\n",
       "    <tr style=\"text-align: right;\">\n",
       "      <th></th>\n",
       "      <th>user_id</th>\n",
       "      <th>anime_id</th>\n",
       "      <th>rating</th>\n",
       "      <th>user</th>\n",
       "      <th>anime</th>\n",
       "    </tr>\n",
       "  </thead>\n",
       "  <tbody>\n",
       "    <tr>\n",
       "      <th>4366382</th>\n",
       "      <td>41240</td>\n",
       "      <td>1606</td>\n",
       "      <td>8.0</td>\n",
       "      <td>38964</td>\n",
       "      <td>1756</td>\n",
       "    </tr>\n",
       "    <tr>\n",
       "      <th>1317633</th>\n",
       "      <td>12477</td>\n",
       "      <td>8676</td>\n",
       "      <td>10.0</td>\n",
       "      <td>11818</td>\n",
       "      <td>819</td>\n",
       "    </tr>\n",
       "    <tr>\n",
       "      <th>4553467</th>\n",
       "      <td>43427</td>\n",
       "      <td>15417</td>\n",
       "      <td>8.0</td>\n",
       "      <td>41025</td>\n",
       "      <td>378</td>\n",
       "    </tr>\n",
       "    <tr>\n",
       "      <th>6564847</th>\n",
       "      <td>60633</td>\n",
       "      <td>9041</td>\n",
       "      <td>8.0</td>\n",
       "      <td>57448</td>\n",
       "      <td>285</td>\n",
       "    </tr>\n",
       "    <tr>\n",
       "      <th>6021732</th>\n",
       "      <td>56512</td>\n",
       "      <td>1222</td>\n",
       "      <td>6.0</td>\n",
       "      <td>53506</td>\n",
       "      <td>843</td>\n",
       "    </tr>\n",
       "    <tr>\n",
       "      <th>...</th>\n",
       "      <td>...</td>\n",
       "      <td>...</td>\n",
       "      <td>...</td>\n",
       "      <td>...</td>\n",
       "      <td>...</td>\n",
       "    </tr>\n",
       "    <tr>\n",
       "      <th>3262624</th>\n",
       "      <td>30107</td>\n",
       "      <td>270</td>\n",
       "      <td>8.0</td>\n",
       "      <td>28474</td>\n",
       "      <td>522</td>\n",
       "    </tr>\n",
       "    <tr>\n",
       "      <th>203700</th>\n",
       "      <td>2050</td>\n",
       "      <td>28171</td>\n",
       "      <td>10.0</td>\n",
       "      <td>1926</td>\n",
       "      <td>86</td>\n",
       "    </tr>\n",
       "    <tr>\n",
       "      <th>6419002</th>\n",
       "      <td>59446</td>\n",
       "      <td>6682</td>\n",
       "      <td>8.0</td>\n",
       "      <td>56318</td>\n",
       "      <td>1041</td>\n",
       "    </tr>\n",
       "    <tr>\n",
       "      <th>4196926</th>\n",
       "      <td>39785</td>\n",
       "      <td>22147</td>\n",
       "      <td>7.0</td>\n",
       "      <td>37588</td>\n",
       "      <td>470</td>\n",
       "    </tr>\n",
       "    <tr>\n",
       "      <th>7568467</th>\n",
       "      <td>70899</td>\n",
       "      <td>15335</td>\n",
       "      <td>8.0</td>\n",
       "      <td>67124</td>\n",
       "      <td>376</td>\n",
       "    </tr>\n",
       "  </tbody>\n",
       "</table>\n",
       "<p>6337241 rows × 5 columns</p>\n",
       "</div>"
      ],
      "text/plain": [
       "         user_id  anime_id  rating   user  anime\n",
       "4366382    41240      1606     8.0  38964   1756\n",
       "1317633    12477      8676    10.0  11818    819\n",
       "4553467    43427     15417     8.0  41025    378\n",
       "6564847    60633      9041     8.0  57448    285\n",
       "6021732    56512      1222     6.0  53506    843\n",
       "...          ...       ...     ...    ...    ...\n",
       "3262624    30107       270     8.0  28474    522\n",
       "203700      2050     28171    10.0   1926     86\n",
       "6419002    59446      6682     8.0  56318   1041\n",
       "4196926    39785     22147     7.0  37588    470\n",
       "7568467    70899     15335     8.0  67124    376\n",
       "\n",
       "[6337241 rows x 5 columns]"
      ]
     },
     "execution_count": 30,
     "metadata": {},
     "output_type": "execute_result"
    }
   ],
   "source": [
    "rating_df = rating_df.sample(frac=1, random_state=22)\n",
    "rating_df"
   ]
  },
  {
   "cell_type": "code",
   "execution_count": 31,
   "metadata": {},
   "outputs": [
    {
     "name": "stdout",
     "output_type": "stream",
     "text": [
      "Dimensi Fitur : (6337241, 2)\n",
      "Dimensi Label : (6337241,)\n"
     ]
    }
   ],
   "source": [
    "x = rating_df[['user', 'anime']].values\n",
    "y = rating_df['rating']\n",
    "\n",
    "print(\"Dimensi Fitur :\", x.shape)\n",
    "print(\"Dimensi Label :\", y.shape)"
   ]
  },
  {
   "cell_type": "markdown",
   "metadata": {},
   "source": [
    "## 3.5. Normalisasi"
   ]
  },
  {
   "cell_type": "code",
   "execution_count": 32,
   "metadata": {},
   "outputs": [],
   "source": [
    "scaler = MinMaxScaler()\n",
    "scaler.fit(reshape(y, (-1, 1)))\n",
    "y = scaler.fit_transform(reshape(y, (-1, 1)))"
   ]
  },
  {
   "cell_type": "markdown",
   "metadata": {},
   "source": [
    "## 3.6. Data Splitting"
   ]
  },
  {
   "cell_type": "code",
   "execution_count": 33,
   "metadata": {},
   "outputs": [
    {
     "name": "stdout",
     "output_type": "stream",
     "text": [
      "Dimensi Fitur Latih    : (5069792, 2)\n",
      "Dimensi Label Latih    : (5069792, 1)\n",
      "Dimensi Fitur Validasi : (1267449, 2)\n",
      "Dimensi Label Validasi : (1267449, 1)\n"
     ]
    }
   ],
   "source": [
    "train_indicies = int(0.8 * rating_df.shape[0])\n",
    "x_train, x_valid, y_train, y_valid = (x[:train_indicies], x[train_indicies:], y[:train_indicies], y[train_indicies:])\n",
    "\n",
    "print(\"Dimensi Fitur Latih    :\", x_train.shape)\n",
    "print(\"Dimensi Label Latih    :\", y_train.shape)\n",
    "print(\"Dimensi Fitur Validasi :\", x_valid.shape)\n",
    "print(\"Dimensi Label Validasi :\", y_valid.shape)"
   ]
  },
  {
   "cell_type": "markdown",
   "metadata": {},
   "source": [
    "# 4. Model Development"
   ]
  },
  {
   "cell_type": "markdown",
   "metadata": {},
   "source": [
    "## 4.1. Content Based Filtering"
   ]
  },
  {
   "cell_type": "markdown",
   "metadata": {},
   "source": [
    "Menampung dataframe anime ke variabel \"data\" untuk diolah"
   ]
  },
  {
   "cell_type": "code",
   "execution_count": 122,
   "metadata": {},
   "outputs": [],
   "source": [
    "data = anime_df"
   ]
  },
  {
   "cell_type": "markdown",
   "metadata": {},
   "source": [
    "#### 4.1.1. TF-IDF"
   ]
  },
  {
   "cell_type": "code",
   "execution_count": 138,
   "metadata": {},
   "outputs": [
    {
     "data": {
      "text/plain": [
       "array(['0', '1', '10', '11', '12', '13', '14', '15', '16', '17', '18',\n",
       "       '19', '2', '20', '21', '22', '23', '24', '25', '26', '27', '28',\n",
       "       '29', '3', '30', '31', '32', '33', '34', '35', '36', '37', '38',\n",
       "       '39', '4', '40', '41', '42', '5', '6', '7', '8', '9'], dtype=object)"
      ]
     },
     "execution_count": 138,
     "metadata": {},
     "output_type": "execute_result"
    }
   ],
   "source": [
    "# Menambahkan [token_pattern=r'\\b\\w+\\b'] agar TFIDF tidak melewati karakter 1 digit\n",
    "tfidf = TfidfVectorizer(token_pattern=r'\\b\\w+\\b')\n",
    "tfidf.fit(data['genre'])\n",
    "tfidf.get_feature_names_out()"
   ]
  },
  {
   "cell_type": "code",
   "execution_count": 139,
   "metadata": {},
   "outputs": [
    {
     "data": {
      "text/plain": [
       "(12017, 43)"
      ]
     },
     "execution_count": 139,
     "metadata": {},
     "output_type": "execute_result"
    }
   ],
   "source": [
    "matrix = tfidf.fit_transform(data['genre'])\n",
    "matrix.shape"
   ]
  },
  {
   "cell_type": "markdown",
   "metadata": {},
   "source": [
    "Menampilkan TFIDF matrix dalam dataframe"
   ]
  },
  {
   "cell_type": "code",
   "execution_count": 210,
   "metadata": {},
   "outputs": [
    {
     "data": {
      "text/html": [
       "<div>\n",
       "<style scoped>\n",
       "    .dataframe tbody tr th:only-of-type {\n",
       "        vertical-align: middle;\n",
       "    }\n",
       "\n",
       "    .dataframe tbody tr th {\n",
       "        vertical-align: top;\n",
       "    }\n",
       "\n",
       "    .dataframe thead th {\n",
       "        text-align: right;\n",
       "    }\n",
       "</style>\n",
       "<table border=\"1\" class=\"dataframe\">\n",
       "  <thead>\n",
       "    <tr style=\"text-align: right;\">\n",
       "      <th></th>\n",
       "      <th>Shounen</th>\n",
       "      <th>Mecha</th>\n",
       "      <th>Ecchi</th>\n",
       "      <th>Police</th>\n",
       "      <th>Kids</th>\n",
       "      <th>Psychological</th>\n",
       "      <th>Seinen</th>\n",
       "      <th>Harem</th>\n",
       "      <th>Josei</th>\n",
       "      <th>Mystery</th>\n",
       "    </tr>\n",
       "    <tr>\n",
       "      <th>name</th>\n",
       "      <th></th>\n",
       "      <th></th>\n",
       "      <th></th>\n",
       "      <th></th>\n",
       "      <th></th>\n",
       "      <th></th>\n",
       "      <th></th>\n",
       "      <th></th>\n",
       "      <th></th>\n",
       "      <th></th>\n",
       "    </tr>\n",
       "  </thead>\n",
       "  <tbody>\n",
       "    <tr>\n",
       "      <th>Shin Shounan Bakusouzoku Arakure Knight</th>\n",
       "      <td>0.0</td>\n",
       "      <td>0.000000</td>\n",
       "      <td>0.0</td>\n",
       "      <td>0.0</td>\n",
       "      <td>0.000000</td>\n",
       "      <td>0.0</td>\n",
       "      <td>0.000000</td>\n",
       "      <td>0.0</td>\n",
       "      <td>0.0</td>\n",
       "      <td>0.0</td>\n",
       "    </tr>\n",
       "    <tr>\n",
       "      <th>Shiawase Haitatsu Taneko</th>\n",
       "      <td>0.0</td>\n",
       "      <td>0.000000</td>\n",
       "      <td>0.0</td>\n",
       "      <td>0.0</td>\n",
       "      <td>0.000000</td>\n",
       "      <td>0.0</td>\n",
       "      <td>0.000000</td>\n",
       "      <td>0.0</td>\n",
       "      <td>0.0</td>\n",
       "      <td>0.0</td>\n",
       "    </tr>\n",
       "    <tr>\n",
       "      <th>Soredemo Sekai wa Utsukushii</th>\n",
       "      <td>0.0</td>\n",
       "      <td>0.000000</td>\n",
       "      <td>0.0</td>\n",
       "      <td>0.0</td>\n",
       "      <td>0.000000</td>\n",
       "      <td>0.0</td>\n",
       "      <td>0.000000</td>\n",
       "      <td>0.0</td>\n",
       "      <td>0.0</td>\n",
       "      <td>0.0</td>\n",
       "    </tr>\n",
       "    <tr>\n",
       "      <th>Toki wo Kakeru Shoujo</th>\n",
       "      <td>0.0</td>\n",
       "      <td>0.000000</td>\n",
       "      <td>0.0</td>\n",
       "      <td>0.0</td>\n",
       "      <td>0.000000</td>\n",
       "      <td>0.0</td>\n",
       "      <td>0.000000</td>\n",
       "      <td>0.0</td>\n",
       "      <td>0.0</td>\n",
       "      <td>0.0</td>\n",
       "    </tr>\n",
       "    <tr>\n",
       "      <th>Fuyu no Semi</th>\n",
       "      <td>0.0</td>\n",
       "      <td>0.000000</td>\n",
       "      <td>0.0</td>\n",
       "      <td>0.0</td>\n",
       "      <td>0.000000</td>\n",
       "      <td>0.0</td>\n",
       "      <td>0.000000</td>\n",
       "      <td>0.0</td>\n",
       "      <td>0.0</td>\n",
       "      <td>0.0</td>\n",
       "    </tr>\n",
       "    <tr>\n",
       "      <th>Cool Cool Bye</th>\n",
       "      <td>0.0</td>\n",
       "      <td>0.000000</td>\n",
       "      <td>0.0</td>\n",
       "      <td>0.0</td>\n",
       "      <td>0.000000</td>\n",
       "      <td>0.0</td>\n",
       "      <td>0.000000</td>\n",
       "      <td>0.0</td>\n",
       "      <td>0.0</td>\n",
       "      <td>0.0</td>\n",
       "    </tr>\n",
       "    <tr>\n",
       "      <th>Hello Kitty no Yuki no Joou</th>\n",
       "      <td>0.0</td>\n",
       "      <td>0.000000</td>\n",
       "      <td>0.0</td>\n",
       "      <td>0.0</td>\n",
       "      <td>0.747804</td>\n",
       "      <td>0.0</td>\n",
       "      <td>0.000000</td>\n",
       "      <td>0.0</td>\n",
       "      <td>0.0</td>\n",
       "      <td>0.0</td>\n",
       "    </tr>\n",
       "    <tr>\n",
       "      <th>First Love</th>\n",
       "      <td>0.0</td>\n",
       "      <td>0.000000</td>\n",
       "      <td>0.0</td>\n",
       "      <td>0.0</td>\n",
       "      <td>0.000000</td>\n",
       "      <td>0.0</td>\n",
       "      <td>0.000000</td>\n",
       "      <td>0.0</td>\n",
       "      <td>0.0</td>\n",
       "      <td>0.0</td>\n",
       "    </tr>\n",
       "    <tr>\n",
       "      <th>Ontama!</th>\n",
       "      <td>0.0</td>\n",
       "      <td>0.000000</td>\n",
       "      <td>0.0</td>\n",
       "      <td>0.0</td>\n",
       "      <td>0.000000</td>\n",
       "      <td>0.0</td>\n",
       "      <td>0.607112</td>\n",
       "      <td>0.0</td>\n",
       "      <td>0.0</td>\n",
       "      <td>0.0</td>\n",
       "    </tr>\n",
       "    <tr>\n",
       "      <th>Mobile Suit Gundam Thunderbolt: December Sky</th>\n",
       "      <td>0.0</td>\n",
       "      <td>0.415905</td>\n",
       "      <td>0.0</td>\n",
       "      <td>0.0</td>\n",
       "      <td>0.000000</td>\n",
       "      <td>0.0</td>\n",
       "      <td>0.000000</td>\n",
       "      <td>0.0</td>\n",
       "      <td>0.0</td>\n",
       "      <td>0.0</td>\n",
       "    </tr>\n",
       "  </tbody>\n",
       "</table>\n",
       "</div>"
      ],
      "text/plain": [
       "                                              Shounen     Mecha  Ecchi  \\\n",
       "name                                                                     \n",
       "Shin Shounan Bakusouzoku Arakure Knight           0.0  0.000000    0.0   \n",
       "Shiawase Haitatsu Taneko                          0.0  0.000000    0.0   \n",
       "Soredemo Sekai wa Utsukushii                      0.0  0.000000    0.0   \n",
       "Toki wo Kakeru Shoujo                             0.0  0.000000    0.0   \n",
       "Fuyu no Semi                                      0.0  0.000000    0.0   \n",
       "Cool Cool Bye                                     0.0  0.000000    0.0   \n",
       "Hello Kitty no Yuki no Joou                       0.0  0.000000    0.0   \n",
       "First Love                                        0.0  0.000000    0.0   \n",
       "Ontama!                                           0.0  0.000000    0.0   \n",
       "Mobile Suit Gundam Thunderbolt: December Sky      0.0  0.415905    0.0   \n",
       "\n",
       "                                              Police      Kids  Psychological  \\\n",
       "name                                                                            \n",
       "Shin Shounan Bakusouzoku Arakure Knight          0.0  0.000000            0.0   \n",
       "Shiawase Haitatsu Taneko                         0.0  0.000000            0.0   \n",
       "Soredemo Sekai wa Utsukushii                     0.0  0.000000            0.0   \n",
       "Toki wo Kakeru Shoujo                            0.0  0.000000            0.0   \n",
       "Fuyu no Semi                                     0.0  0.000000            0.0   \n",
       "Cool Cool Bye                                    0.0  0.000000            0.0   \n",
       "Hello Kitty no Yuki no Joou                      0.0  0.747804            0.0   \n",
       "First Love                                       0.0  0.000000            0.0   \n",
       "Ontama!                                          0.0  0.000000            0.0   \n",
       "Mobile Suit Gundam Thunderbolt: December Sky     0.0  0.000000            0.0   \n",
       "\n",
       "                                                Seinen  Harem  Josei  Mystery  \n",
       "name                                                                           \n",
       "Shin Shounan Bakusouzoku Arakure Knight       0.000000    0.0    0.0      0.0  \n",
       "Shiawase Haitatsu Taneko                      0.000000    0.0    0.0      0.0  \n",
       "Soredemo Sekai wa Utsukushii                  0.000000    0.0    0.0      0.0  \n",
       "Toki wo Kakeru Shoujo                         0.000000    0.0    0.0      0.0  \n",
       "Fuyu no Semi                                  0.000000    0.0    0.0      0.0  \n",
       "Cool Cool Bye                                 0.000000    0.0    0.0      0.0  \n",
       "Hello Kitty no Yuki no Joou                   0.000000    0.0    0.0      0.0  \n",
       "First Love                                    0.000000    0.0    0.0      0.0  \n",
       "Ontama!                                       0.607112    0.0    0.0      0.0  \n",
       "Mobile Suit Gundam Thunderbolt: December Sky  0.000000    0.0    0.0      0.0  "
      ]
     },
     "execution_count": 210,
     "metadata": {},
     "output_type": "execute_result"
    }
   ],
   "source": [
    "DataFrame(matrix.todense(), index=data['name'], columns=[genre_decode_dict[int(x)] for x in tfidf.get_feature_names_out()]).sample(10, axis=1).sample(10, axis=0)"
   ]
  },
  {
   "cell_type": "markdown",
   "metadata": {},
   "source": [
    "### 4.1.2. Cosine Similarity"
   ]
  },
  {
   "cell_type": "code",
   "execution_count": 211,
   "metadata": {},
   "outputs": [
    {
     "name": "stdout",
     "output_type": "stream",
     "text": [
      "(12017, 12017)\n"
     ]
    },
    {
     "data": {
      "text/plain": [
       "array([[1.        , 0.14692967, 0.        , ..., 0.        , 0.        ,\n",
       "        0.        ],\n",
       "       [0.14692967, 1.        , 0.188587  , ..., 0.        , 0.        ,\n",
       "        0.        ],\n",
       "       [0.        , 0.188587  , 1.        , ..., 0.        , 0.        ,\n",
       "        0.        ],\n",
       "       ...,\n",
       "       [0.        , 0.        , 0.        , ..., 1.        , 1.        ,\n",
       "        1.        ],\n",
       "       [0.        , 0.        , 0.        , ..., 1.        , 1.        ,\n",
       "        1.        ],\n",
       "       [0.        , 0.        , 0.        , ..., 1.        , 1.        ,\n",
       "        1.        ]])"
      ]
     },
     "execution_count": 211,
     "metadata": {},
     "output_type": "execute_result"
    }
   ],
   "source": [
    "# dense output untuk menghemat penggunaan memory/RAM\n",
    "similarity = cosine_similarity(matrix, dense_output=True)\n",
    "print(similarity.shape)\n",
    "similarity"
   ]
  },
  {
   "cell_type": "markdown",
   "metadata": {},
   "source": [
    "Menyimpan cosine similarity matrix ke dalam dataframe similarity_df"
   ]
  },
  {
   "cell_type": "code",
   "execution_count": 146,
   "metadata": {},
   "outputs": [],
   "source": [
    "similarity_df = DataFrame(similarity, index=data['name'], columns=data['name'])"
   ]
  },
  {
   "cell_type": "markdown",
   "metadata": {},
   "source": [
    "### 4.1.3. Getting Recommendation"
   ]
  },
  {
   "cell_type": "code",
   "execution_count": 183,
   "metadata": {},
   "outputs": [
    {
     "data": {
      "text/html": [
       "<div>\n",
       "<style scoped>\n",
       "    .dataframe tbody tr th:only-of-type {\n",
       "        vertical-align: middle;\n",
       "    }\n",
       "\n",
       "    .dataframe tbody tr th {\n",
       "        vertical-align: top;\n",
       "    }\n",
       "\n",
       "    .dataframe thead th {\n",
       "        text-align: right;\n",
       "    }\n",
       "</style>\n",
       "<table border=\"1\" class=\"dataframe\">\n",
       "  <thead>\n",
       "    <tr style=\"text-align: right;\">\n",
       "      <th></th>\n",
       "      <th>name</th>\n",
       "      <th>genre</th>\n",
       "    </tr>\n",
       "  </thead>\n",
       "  <tbody>\n",
       "    <tr>\n",
       "      <th>0</th>\n",
       "      <td>Death Note Rewrite</td>\n",
       "      <td>Mystery Police Psychological Supernatural Thri...</td>\n",
       "    </tr>\n",
       "    <tr>\n",
       "      <th>1</th>\n",
       "      <td>Mousou Dairinin</td>\n",
       "      <td>Drama Mystery Police Psychological Supernatura...</td>\n",
       "    </tr>\n",
       "    <tr>\n",
       "      <th>2</th>\n",
       "      <td>Higurashi no Naku Koro ni Kai</td>\n",
       "      <td>Mystery Psychological Supernatural Thriller</td>\n",
       "    </tr>\n",
       "    <tr>\n",
       "      <th>3</th>\n",
       "      <td>Higurashi no Naku Koro ni Rei</td>\n",
       "      <td>Comedy Mystery Psychological Supernatural Thri...</td>\n",
       "    </tr>\n",
       "    <tr>\n",
       "      <th>4</th>\n",
       "      <td>Mirai Nikki (TV)</td>\n",
       "      <td>Action Mystery Psychological Shounen Supernatu...</td>\n",
       "    </tr>\n",
       "    <tr>\n",
       "      <th>5</th>\n",
       "      <td>Mirai Nikki (TV): Ura Mirai Nikki</td>\n",
       "      <td>Action Comedy Mystery Psychological Shounen Su...</td>\n",
       "    </tr>\n",
       "    <tr>\n",
       "      <th>6</th>\n",
       "      <td>Higurashi no Naku Koro ni</td>\n",
       "      <td>Horror Mystery Psychological Supernatural Thri...</td>\n",
       "    </tr>\n",
       "    <tr>\n",
       "      <th>7</th>\n",
       "      <td>Monster</td>\n",
       "      <td>Drama Horror Mystery Police Psychological Sein...</td>\n",
       "    </tr>\n",
       "    <tr>\n",
       "      <th>8</th>\n",
       "      <td>AD Police</td>\n",
       "      <td>Adventure Dementia Mecha Mystery Police Psycho...</td>\n",
       "    </tr>\n",
       "    <tr>\n",
       "      <th>9</th>\n",
       "      <td>Higurashi no Naku Koro ni Kaku: Outbreak</td>\n",
       "      <td>Horror Mystery Psychological Thriller</td>\n",
       "    </tr>\n",
       "  </tbody>\n",
       "</table>\n",
       "</div>"
      ],
      "text/plain": [
       "                                       name  \\\n",
       "0                        Death Note Rewrite   \n",
       "1                           Mousou Dairinin   \n",
       "2             Higurashi no Naku Koro ni Kai   \n",
       "3             Higurashi no Naku Koro ni Rei   \n",
       "4                          Mirai Nikki (TV)   \n",
       "5         Mirai Nikki (TV): Ura Mirai Nikki   \n",
       "6                 Higurashi no Naku Koro ni   \n",
       "7                                   Monster   \n",
       "8                                 AD Police   \n",
       "9  Higurashi no Naku Koro ni Kaku: Outbreak   \n",
       "\n",
       "                                               genre  \n",
       "0  Mystery Police Psychological Supernatural Thri...  \n",
       "1  Drama Mystery Police Psychological Supernatura...  \n",
       "2        Mystery Psychological Supernatural Thriller  \n",
       "3  Comedy Mystery Psychological Supernatural Thri...  \n",
       "4  Action Mystery Psychological Shounen Supernatu...  \n",
       "5  Action Comedy Mystery Psychological Shounen Su...  \n",
       "6  Horror Mystery Psychological Supernatural Thri...  \n",
       "7  Drama Horror Mystery Police Psychological Sein...  \n",
       "8  Adventure Dementia Mecha Mystery Police Psycho...  \n",
       "9              Horror Mystery Psychological Thriller  "
      ]
     },
     "execution_count": 183,
     "metadata": {},
     "output_type": "execute_result"
    }
   ],
   "source": [
    "def anime_recommendations(name, similarity_data=similarity_df, items=anime_df[['name', 'genre']], k=5):\n",
    "    try:\n",
    "        \"\"\"\n",
    "        Provides anime recommendations based on cosine similarity.\n",
    "\n",
    "        Args:\n",
    "            name (str): The name of the anime to find recommendations for.\n",
    "            similarity_data (pd.DataFrame): The similarity matrix DataFrame.\n",
    "            items (pd.DataFrame): The DataFrame containing anime names and genres.\n",
    "            k (int): The number of recommendations to return.\n",
    "\n",
    "        Returns:\n",
    "            pd.DataFrame: A DataFrame containing the top k recommendations.\n",
    "        \"\"\"\n",
    "        # Get the similarity scores for the given anime\n",
    "        similarity_scores = similarity_data.loc[:, name]\n",
    "\n",
    "        # Check if similarity_scores is a DataFrame and convert it to a Series if necessary\n",
    "        if isinstance(similarity_scores, DataFrame):\n",
    "            similarity_scores = similarity_scores.iloc[:, 0]\n",
    "\n",
    "        # Sort the scores in descending order and get the top k indices\n",
    "        # We add 1 to k to exclude the anime itself from the recommendations\n",
    "        top_k_indices = similarity_scores.sort_values(ascending=False).index[0:k + 1].drop(name)\n",
    "\n",
    "        # Get the names of the recommended anime\n",
    "        closest = top_k_indices\n",
    "\n",
    "        # Return the recommendations as a DataFrame\n",
    "        recommendation = DataFrame(closest).merge(items)\n",
    "        recommendation['genre'] = recommendation['genre'].apply(genre_decoding)\n",
    "\n",
    "        return recommendation\n",
    "    \n",
    "    except KeyError as e:\n",
    "        print(\"Tidak ada anime dengan judul serupa di dataset.\")\n",
    "        print(\"Input judul anime lain atau pastikan judul sudah benar\")\n",
    "\n",
    "anime_recommendations('Death Note', k=10)"
   ]
  },
  {
   "cell_type": "markdown",
   "metadata": {},
   "source": [
    "## 4.2. Collaborative Filtering"
   ]
  },
  {
   "cell_type": "code",
   "execution_count": 2,
   "metadata": {},
   "outputs": [],
   "source": [
    "class RecommenderNet(Model):\n",
    "    def __init__(self, num_user, num_anime, embedding_size, *args, **kwargs):\n",
    "        super(RecommenderNet, self).__init__(*args, **kwargs)\n",
    "        self.num_user = num_user\n",
    "        self.num_anime = num_anime\n",
    "        self.embedding_size = embedding_size\n",
    "\n",
    "        # User Embedding Layer\n",
    "        self.user_embedding = layers.Embedding(\n",
    "            num_user,\n",
    "            embedding_size,\n",
    "            embeddings_initializer= 'he_normal',\n",
    "            embeddings_regularizer= regularizers.l2(1e-6)\n",
    "        )\n",
    "\n",
    "        # User Bias Embedding Layer\n",
    "        self.user_bias = layers.Embedding(num_user, 1)\n",
    "\n",
    "        # Anime Embedding Layer\n",
    "        self.anime_embedding = layers.Embedding(\n",
    "            num_anime,\n",
    "            embedding_size,\n",
    "            embeddings_initializer= 'he_normal',\n",
    "            embeddings_regularizer= regularizers.l2(1e-6)\n",
    "        )\n",
    "\n",
    "        # Anime Bias Embedding Layer\n",
    "        self.anime_bias = layers.Embedding(num_anime, 1)\n",
    "\n",
    "    def call(self, inputs):\n",
    "        user_vector = self.user_embedding(inputs[:, 0])\n",
    "        user_bias = self.user_bias(inputs[:, 0])\n",
    "        anime_vector = self.anime_embedding(inputs[:, 0])\n",
    "        anime_bias = self.anime_bias(inputs[:, 0])\n",
    "\n",
    "        dot_matrix = tensordot(user_vector, anime_vector, 2)\n",
    "\n",
    "        x = dot_matrix + user_bias + anime_bias\n",
    "\n",
    "        # Activation Layer\n",
    "        return nn.sigmoid(x)"
   ]
  },
  {
   "cell_type": "code",
   "execution_count": null,
   "metadata": {},
   "outputs": [],
   "source": [
    "model = RecommenderNet(num_user, num_anime, 100)\n",
    "\n",
    "model.compile(\n",
    "    loss = losses.BinaryCrossentropy(),\n",
    "    optimizer = optimizers.Adam(learning_rate=0.01),\n",
    "    metrics = [metrics.RootMeanSquaredError]\n",
    ")"
   ]
  },
  {
   "cell_type": "code",
   "execution_count": 44,
   "metadata": {},
   "outputs": [
    {
     "name": "stdout",
     "output_type": "stream",
     "text": [
      "Epoch 1/200\n",
      "\u001b[1m9902/9902\u001b[0m \u001b[32m━━━━━━━━━━━━━━━━━━━━\u001b[0m\u001b[37m\u001b[0m \u001b[1m55s\u001b[0m 5ms/step - loss: 11592.4629 - root_mean_squared_error: 0.4942 - val_loss: 22588.9395 - val_root_mean_squared_error: 0.5192\n",
      "Epoch 2/200\n",
      "\u001b[1m9902/9902\u001b[0m \u001b[32m━━━━━━━━━━━━━━━━━━━━\u001b[0m\u001b[37m\u001b[0m \u001b[1m59s\u001b[0m 6ms/step - loss: 38868.1641 - root_mean_squared_error: 0.4920 - val_loss: 130197.5938 - val_root_mean_squared_error: 0.4931\n",
      "Epoch 3/200\n",
      "\u001b[1m9902/9902\u001b[0m \u001b[32m━━━━━━━━━━━━━━━━━━━━\u001b[0m\u001b[37m\u001b[0m \u001b[1m53s\u001b[0m 5ms/step - loss: 117497.4688 - root_mean_squared_error: 0.4755 - val_loss: 223593.3906 - val_root_mean_squared_error: 0.4621\n",
      "Epoch 4/200\n",
      "\u001b[1m9902/9902\u001b[0m \u001b[32m━━━━━━━━━━━━━━━━━━━━\u001b[0m\u001b[37m\u001b[0m \u001b[1m57s\u001b[0m 6ms/step - loss: 240120.8594 - root_mean_squared_error: 0.4745 - val_loss: 344901.5312 - val_root_mean_squared_error: 0.4628\n",
      "Epoch 5/200\n",
      "\u001b[1m9902/9902\u001b[0m \u001b[32m━━━━━━━━━━━━━━━━━━━━\u001b[0m\u001b[37m\u001b[0m \u001b[1m57s\u001b[0m 6ms/step - loss: 365858.7812 - root_mean_squared_error: 0.4739 - val_loss: 533908.3750 - val_root_mean_squared_error: 0.4499\n",
      "Epoch 6/200\n",
      "\u001b[1m9902/9902\u001b[0m \u001b[32m━━━━━━━━━━━━━━━━━━━━\u001b[0m\u001b[37m\u001b[0m \u001b[1m53s\u001b[0m 5ms/step - loss: 630644.0625 - root_mean_squared_error: 0.4735 - val_loss: 838607.4375 - val_root_mean_squared_error: 0.5354\n",
      "Epoch 7/200\n",
      "\u001b[1m9902/9902\u001b[0m \u001b[32m━━━━━━━━━━━━━━━━━━━━\u001b[0m\u001b[37m\u001b[0m \u001b[1m55s\u001b[0m 6ms/step - loss: 852111.0000 - root_mean_squared_error: 0.4779 - val_loss: 880729.3750 - val_root_mean_squared_error: 0.4822\n",
      "Epoch 8/200\n",
      "\u001b[1m9902/9902\u001b[0m \u001b[32m━━━━━━━━━━━━━━━━━━━━\u001b[0m\u001b[37m\u001b[0m \u001b[1m53s\u001b[0m 5ms/step - loss: 910324.5000 - root_mean_squared_error: 0.4745 - val_loss: 1074445.8750 - val_root_mean_squared_error: 0.4855\n",
      "Epoch 9/200\n",
      "\u001b[1m9902/9902\u001b[0m \u001b[32m━━━━━━━━━━━━━━━━━━━━\u001b[0m\u001b[37m\u001b[0m \u001b[1m55s\u001b[0m 6ms/step - loss: 1109001.8750 - root_mean_squared_error: 0.4748 - val_loss: 1159968.3750 - val_root_mean_squared_error: 0.4947\n",
      "Epoch 10/200\n",
      "\u001b[1m9902/9902\u001b[0m \u001b[32m━━━━━━━━━━━━━━━━━━━━\u001b[0m\u001b[37m\u001b[0m \u001b[1m54s\u001b[0m 5ms/step - loss: 1135996.0000 - root_mean_squared_error: 0.4762 - val_loss: 1376727.2500 - val_root_mean_squared_error: 0.4981\n",
      "Epoch 11/200\n",
      "\u001b[1m9902/9902\u001b[0m \u001b[32m━━━━━━━━━━━━━━━━━━━━\u001b[0m\u001b[37m\u001b[0m \u001b[1m52s\u001b[0m 5ms/step - loss: 1355586.1250 - root_mean_squared_error: 0.4755 - val_loss: 1455155.2500 - val_root_mean_squared_error: 0.4812\n",
      "Epoch 12/200\n",
      "\u001b[1m9902/9902\u001b[0m \u001b[32m━━━━━━━━━━━━━━━━━━━━\u001b[0m\u001b[37m\u001b[0m \u001b[1m51s\u001b[0m 5ms/step - loss: 1614176.6250 - root_mean_squared_error: 0.4743 - val_loss: 1793454.7500 - val_root_mean_squared_error: 0.5072\n",
      "Epoch 13/200\n",
      "\u001b[1m9902/9902\u001b[0m \u001b[32m━━━━━━━━━━━━━━━━━━━━\u001b[0m\u001b[37m\u001b[0m \u001b[1m56s\u001b[0m 6ms/step - loss: 1727537.8750 - root_mean_squared_error: 0.4757 - val_loss: 1680446.8750 - val_root_mean_squared_error: 0.5064\n",
      "Epoch 14/200\n",
      "\u001b[1m9902/9902\u001b[0m \u001b[32m━━━━━━━━━━━━━━━━━━━━\u001b[0m\u001b[37m\u001b[0m \u001b[1m54s\u001b[0m 5ms/step - loss: 1684169.8750 - root_mean_squared_error: 0.4764 - val_loss: 1583955.2500 - val_root_mean_squared_error: 0.4937\n",
      "Epoch 15/200\n",
      "\u001b[1m9902/9902\u001b[0m \u001b[32m━━━━━━━━━━━━━━━━━━━━\u001b[0m\u001b[37m\u001b[0m \u001b[1m55s\u001b[0m 6ms/step - loss: 1617026.0000 - root_mean_squared_error: 0.4758 - val_loss: 1821764.0000 - val_root_mean_squared_error: 0.5093\n",
      "Epoch 16/200\n",
      "\u001b[1m9902/9902\u001b[0m \u001b[32m━━━━━━━━━━━━━━━━━━━━\u001b[0m\u001b[37m\u001b[0m \u001b[1m54s\u001b[0m 5ms/step - loss: 1968286.1250 - root_mean_squared_error: 0.4760 - val_loss: 2241620.7500 - val_root_mean_squared_error: 0.4848\n",
      "Epoch 17/200\n",
      "\u001b[1m9902/9902\u001b[0m \u001b[32m━━━━━━━━━━━━━━━━━━━━\u001b[0m\u001b[37m\u001b[0m \u001b[1m54s\u001b[0m 5ms/step - loss: 2201419.7500 - root_mean_squared_error: 0.4744 - val_loss: 2325375.2500 - val_root_mean_squared_error: 0.5139\n",
      "Epoch 18/200\n",
      "\u001b[1m9902/9902\u001b[0m \u001b[32m━━━━━━━━━━━━━━━━━━━━\u001b[0m\u001b[37m\u001b[0m \u001b[1m54s\u001b[0m 5ms/step - loss: 2327031.5000 - root_mean_squared_error: 0.4759 - val_loss: 2725060.2500 - val_root_mean_squared_error: 0.5096\n",
      "Epoch 19/200\n",
      "\u001b[1m9902/9902\u001b[0m \u001b[32m━━━━━━━━━━━━━━━━━━━━\u001b[0m\u001b[37m\u001b[0m \u001b[1m54s\u001b[0m 5ms/step - loss: 2785520.2500 - root_mean_squared_error: 0.4764 - val_loss: 2904062.0000 - val_root_mean_squared_error: 0.4890\n",
      "Epoch 20/200\n",
      "\u001b[1m9902/9902\u001b[0m \u001b[32m━━━━━━━━━━━━━━━━━━━━\u001b[0m\u001b[37m\u001b[0m \u001b[1m54s\u001b[0m 5ms/step - loss: 2966082.2500 - root_mean_squared_error: 0.4745 - val_loss: 2946444.0000 - val_root_mean_squared_error: 0.4831\n",
      "Epoch 21/200\n",
      "\u001b[1m9902/9902\u001b[0m \u001b[32m━━━━━━━━━━━━━━━━━━━━\u001b[0m\u001b[37m\u001b[0m \u001b[1m54s\u001b[0m 5ms/step - loss: 2966250.2500 - root_mean_squared_error: 0.4731 - val_loss: 2969056.7500 - val_root_mean_squared_error: 0.4976\n",
      "Epoch 22/200\n",
      "\u001b[1m9902/9902\u001b[0m \u001b[32m━━━━━━━━━━━━━━━━━━━━\u001b[0m\u001b[37m\u001b[0m \u001b[1m54s\u001b[0m 5ms/step - loss: 2872741.7500 - root_mean_squared_error: 0.4762 - val_loss: 2930593.5000 - val_root_mean_squared_error: 0.5092\n",
      "Epoch 23/200\n",
      "\u001b[1m9902/9902\u001b[0m \u001b[32m━━━━━━━━━━━━━━━━━━━━\u001b[0m\u001b[37m\u001b[0m \u001b[1m54s\u001b[0m 5ms/step - loss: 2909443.0000 - root_mean_squared_error: 0.4755 - val_loss: 3141104.2500 - val_root_mean_squared_error: 0.5172\n",
      "Epoch 24/200\n",
      "\u001b[1m9902/9902\u001b[0m \u001b[32m━━━━━━━━━━━━━━━━━━━━\u001b[0m\u001b[37m\u001b[0m \u001b[1m54s\u001b[0m 5ms/step - loss: 3188246.5000 - root_mean_squared_error: 0.4775 - val_loss: 3637211.7500 - val_root_mean_squared_error: 0.5153\n",
      "Epoch 25/200\n",
      "\u001b[1m9902/9902\u001b[0m \u001b[32m━━━━━━━━━━━━━━━━━━━━\u001b[0m\u001b[37m\u001b[0m \u001b[1m54s\u001b[0m 5ms/step - loss: 3755728.7500 - root_mean_squared_error: 0.4777 - val_loss: 3614747.0000 - val_root_mean_squared_error: 0.5046\n",
      "Epoch 26/200\n",
      "\u001b[1m9902/9902\u001b[0m \u001b[32m━━━━━━━━━━━━━━━━━━━━\u001b[0m\u001b[37m\u001b[0m \u001b[1m54s\u001b[0m 5ms/step - loss: 3792093.0000 - root_mean_squared_error: 0.4754 - val_loss: 4247618.5000 - val_root_mean_squared_error: 0.5043\n",
      "Epoch 27/200\n",
      "\u001b[1m9902/9902\u001b[0m \u001b[32m━━━━━━━━━━━━━━━━━━━━\u001b[0m\u001b[37m\u001b[0m \u001b[1m54s\u001b[0m 5ms/step - loss: 4054634.7500 - root_mean_squared_error: 0.4761 - val_loss: 3887785.2500 - val_root_mean_squared_error: 0.5008\n",
      "Epoch 28/200\n",
      "\u001b[1m9902/9902\u001b[0m \u001b[32m━━━━━━━━━━━━━━━━━━━━\u001b[0m\u001b[37m\u001b[0m \u001b[1m55s\u001b[0m 5ms/step - loss: 3880095.7500 - root_mean_squared_error: 0.4755 - val_loss: 4473055.5000 - val_root_mean_squared_error: 0.4938\n",
      "Epoch 29/200\n",
      "\u001b[1m9902/9902\u001b[0m \u001b[32m━━━━━━━━━━━━━━━━━━━━\u001b[0m\u001b[37m\u001b[0m \u001b[1m54s\u001b[0m 5ms/step - loss: 4763247.5000 - root_mean_squared_error: 0.4755 - val_loss: 5471243.5000 - val_root_mean_squared_error: 0.5237\n",
      "Epoch 30/200\n",
      "\u001b[1m9902/9902\u001b[0m \u001b[32m━━━━━━━━━━━━━━━━━━━━\u001b[0m\u001b[37m\u001b[0m \u001b[1m55s\u001b[0m 5ms/step - loss: 5249119.0000 - root_mean_squared_error: 0.4769 - val_loss: 5233648.0000 - val_root_mean_squared_error: 0.4958\n",
      "Epoch 31/200\n",
      "\u001b[1m9902/9902\u001b[0m \u001b[32m━━━━━━━━━━━━━━━━━━━━\u001b[0m\u001b[37m\u001b[0m \u001b[1m54s\u001b[0m 5ms/step - loss: 5179574.5000 - root_mean_squared_error: 0.4746 - val_loss: 4789443.5000 - val_root_mean_squared_error: 0.4940\n",
      "Epoch 32/200\n",
      "\u001b[1m9902/9902\u001b[0m \u001b[32m━━━━━━━━━━━━━━━━━━━━\u001b[0m\u001b[37m\u001b[0m \u001b[1m54s\u001b[0m 5ms/step - loss: 4698711.5000 - root_mean_squared_error: 0.4737 - val_loss: 4744525.5000 - val_root_mean_squared_error: 0.4980\n",
      "Epoch 33/200\n",
      "\u001b[1m9902/9902\u001b[0m \u001b[32m━━━━━━━━━━━━━━━━━━━━\u001b[0m\u001b[37m\u001b[0m \u001b[1m54s\u001b[0m 5ms/step - loss: 4949617.0000 - root_mean_squared_error: 0.4736 - val_loss: 4937968.0000 - val_root_mean_squared_error: 0.4872\n",
      "Epoch 34/200\n",
      "\u001b[1m9902/9902\u001b[0m \u001b[32m━━━━━━━━━━━━━━━━━━━━\u001b[0m\u001b[37m\u001b[0m \u001b[1m54s\u001b[0m 5ms/step - loss: 5299058.0000 - root_mean_squared_error: 0.4745 - val_loss: 5693359.0000 - val_root_mean_squared_error: 0.5031\n",
      "Epoch 35/200\n",
      "\u001b[1m9902/9902\u001b[0m \u001b[32m━━━━━━━━━━━━━━━━━━━━\u001b[0m\u001b[37m\u001b[0m \u001b[1m54s\u001b[0m 5ms/step - loss: 5776842.0000 - root_mean_squared_error: 0.4761 - val_loss: 6129159.0000 - val_root_mean_squared_error: 0.5308\n",
      "Epoch 36/200\n",
      "\u001b[1m9902/9902\u001b[0m \u001b[32m━━━━━━━━━━━━━━━━━━━━\u001b[0m\u001b[37m\u001b[0m \u001b[1m54s\u001b[0m 5ms/step - loss: 6098881.5000 - root_mean_squared_error: 0.4781 - val_loss: 6902005.0000 - val_root_mean_squared_error: 0.5014\n",
      "Epoch 37/200\n",
      "\u001b[1m9902/9902\u001b[0m \u001b[32m━━━━━━━━━━━━━━━━━━━━\u001b[0m\u001b[37m\u001b[0m \u001b[1m54s\u001b[0m 5ms/step - loss: 7118539.0000 - root_mean_squared_error: 0.4746 - val_loss: 7672705.0000 - val_root_mean_squared_error: 0.5051\n",
      "Epoch 38/200\n",
      "\u001b[1m9902/9902\u001b[0m \u001b[32m━━━━━━━━━━━━━━━━━━━━\u001b[0m\u001b[37m\u001b[0m \u001b[1m54s\u001b[0m 5ms/step - loss: 7688349.0000 - root_mean_squared_error: 0.4761 - val_loss: 7705382.0000 - val_root_mean_squared_error: 0.5154\n",
      "Epoch 39/200\n",
      "\u001b[1m9902/9902\u001b[0m \u001b[32m━━━━━━━━━━━━━━━━━━━━\u001b[0m\u001b[37m\u001b[0m \u001b[1m54s\u001b[0m 5ms/step - loss: 7327898.0000 - root_mean_squared_error: 0.4769 - val_loss: 7410392.5000 - val_root_mean_squared_error: 0.5070\n",
      "Epoch 40/200\n",
      "\u001b[1m9902/9902\u001b[0m \u001b[32m━━━━━━━━━━━━━━━━━━━━\u001b[0m\u001b[37m\u001b[0m \u001b[1m54s\u001b[0m 5ms/step - loss: 7528516.5000 - root_mean_squared_error: 0.4775 - val_loss: 8102909.0000 - val_root_mean_squared_error: 0.5008\n",
      "Epoch 41/200\n",
      "\u001b[1m9902/9902\u001b[0m \u001b[32m━━━━━━━━━━━━━━━━━━━━\u001b[0m\u001b[37m\u001b[0m \u001b[1m54s\u001b[0m 5ms/step - loss: 7924494.5000 - root_mean_squared_error: 0.4750 - val_loss: 8678540.0000 - val_root_mean_squared_error: 0.5191\n",
      "Epoch 42/200\n",
      "\u001b[1m9902/9902\u001b[0m \u001b[32m━━━━━━━━━━━━━━━━━━━━\u001b[0m\u001b[37m\u001b[0m \u001b[1m54s\u001b[0m 5ms/step - loss: 8670162.0000 - root_mean_squared_error: 0.4775 - val_loss: 8563109.0000 - val_root_mean_squared_error: 0.4997\n",
      "Epoch 43/200\n",
      "\u001b[1m9902/9902\u001b[0m \u001b[32m━━━━━━━━━━━━━━━━━━━━\u001b[0m\u001b[37m\u001b[0m \u001b[1m54s\u001b[0m 5ms/step - loss: 8276225.0000 - root_mean_squared_error: 0.4731 - val_loss: 8691465.0000 - val_root_mean_squared_error: 0.5179\n",
      "Epoch 44/200\n",
      "\u001b[1m9902/9902\u001b[0m \u001b[32m━━━━━━━━━━━━━━━━━━━━\u001b[0m\u001b[37m\u001b[0m \u001b[1m54s\u001b[0m 5ms/step - loss: 8252550.5000 - root_mean_squared_error: 0.4762 - val_loss: 9028136.0000 - val_root_mean_squared_error: 0.5054\n",
      "Epoch 45/200\n",
      "\u001b[1m9902/9902\u001b[0m \u001b[32m━━━━━━━━━━━━━━━━━━━━\u001b[0m\u001b[37m\u001b[0m \u001b[1m54s\u001b[0m 5ms/step - loss: 8985937.0000 - root_mean_squared_error: 0.4753 - val_loss: 9626998.0000 - val_root_mean_squared_error: 0.5039\n",
      "Epoch 46/200\n",
      "\u001b[1m9902/9902\u001b[0m \u001b[32m━━━━━━━━━━━━━━━━━━━━\u001b[0m\u001b[37m\u001b[0m \u001b[1m54s\u001b[0m 5ms/step - loss: 9107578.0000 - root_mean_squared_error: 0.4754 - val_loss: 9948091.0000 - val_root_mean_squared_error: 0.5400\n",
      "Epoch 47/200\n",
      "\u001b[1m9902/9902\u001b[0m \u001b[32m━━━━━━━━━━━━━━━━━━━━\u001b[0m\u001b[37m\u001b[0m \u001b[1m56s\u001b[0m 6ms/step - loss: 9048348.0000 - root_mean_squared_error: 0.4790 - val_loss: 9426532.0000 - val_root_mean_squared_error: 0.4918\n",
      "Epoch 48/200\n",
      "\u001b[1m9902/9902\u001b[0m \u001b[32m━━━━━━━━━━━━━━━━━━━━\u001b[0m\u001b[37m\u001b[0m \u001b[1m54s\u001b[0m 5ms/step - loss: 9190485.0000 - root_mean_squared_error: 0.4741 - val_loss: 9813861.0000 - val_root_mean_squared_error: 0.5161\n",
      "Epoch 49/200\n",
      "\u001b[1m9902/9902\u001b[0m \u001b[32m━━━━━━━━━━━━━━━━━━━━\u001b[0m\u001b[37m\u001b[0m \u001b[1m54s\u001b[0m 5ms/step - loss: 9369010.0000 - root_mean_squared_error: 0.4761 - val_loss: 9821605.0000 - val_root_mean_squared_error: 0.5060\n",
      "Epoch 50/200\n",
      "\u001b[1m9902/9902\u001b[0m \u001b[32m━━━━━━━━━━━━━━━━━━━━\u001b[0m\u001b[37m\u001b[0m \u001b[1m55s\u001b[0m 5ms/step - loss: 9456243.0000 - root_mean_squared_error: 0.4758 - val_loss: 10484878.0000 - val_root_mean_squared_error: 0.5080\n",
      "Epoch 51/200\n",
      "\u001b[1m9902/9902\u001b[0m \u001b[32m━━━━━━━━━━━━━━━━━━━━\u001b[0m\u001b[37m\u001b[0m \u001b[1m55s\u001b[0m 5ms/step - loss: 10041436.0000 - root_mean_squared_error: 0.4758 - val_loss: 10672350.0000 - val_root_mean_squared_error: 0.5069\n",
      "Epoch 52/200\n",
      "\u001b[1m9902/9902\u001b[0m \u001b[32m━━━━━━━━━━━━━━━━━━━━\u001b[0m\u001b[37m\u001b[0m \u001b[1m54s\u001b[0m 5ms/step - loss: 10424907.0000 - root_mean_squared_error: 0.4760 - val_loss: 10166500.0000 - val_root_mean_squared_error: 0.4878\n",
      "Epoch 53/200\n",
      "\u001b[1m9902/9902\u001b[0m \u001b[32m━━━━━━━━━━━━━━━━━━━━\u001b[0m\u001b[37m\u001b[0m \u001b[1m54s\u001b[0m 5ms/step - loss: 9878625.0000 - root_mean_squared_error: 0.4725 - val_loss: 10240378.0000 - val_root_mean_squared_error: 0.5053\n",
      "Epoch 54/200\n",
      "\u001b[1m9902/9902\u001b[0m \u001b[32m━━━━━━━━━━━━━━━━━━━━\u001b[0m\u001b[37m\u001b[0m \u001b[1m55s\u001b[0m 6ms/step - loss: 10197210.0000 - root_mean_squared_error: 0.4755 - val_loss: 10454602.0000 - val_root_mean_squared_error: 0.5021\n",
      "Epoch 55/200\n",
      "\u001b[1m9902/9902\u001b[0m \u001b[32m━━━━━━━━━━━━━━━━━━━━\u001b[0m\u001b[37m\u001b[0m \u001b[1m55s\u001b[0m 5ms/step - loss: 9942246.0000 - root_mean_squared_error: 0.4745 - val_loss: 9907679.0000 - val_root_mean_squared_error: 0.4876\n",
      "Epoch 56/200\n",
      "\u001b[1m9902/9902\u001b[0m \u001b[32m━━━━━━━━━━━━━━━━━━━━\u001b[0m\u001b[37m\u001b[0m \u001b[1m55s\u001b[0m 5ms/step - loss: 9813436.0000 - root_mean_squared_error: 0.4722 - val_loss: 10491295.0000 - val_root_mean_squared_error: 0.5163\n",
      "Epoch 57/200\n",
      "\u001b[1m9902/9902\u001b[0m \u001b[32m━━━━━━━━━━━━━━━━━━━━\u001b[0m\u001b[37m\u001b[0m \u001b[1m55s\u001b[0m 5ms/step - loss: 9744695.0000 - root_mean_squared_error: 0.4778 - val_loss: 10276268.0000 - val_root_mean_squared_error: 0.5123\n",
      "Epoch 58/200\n",
      "\u001b[1m9902/9902\u001b[0m \u001b[32m━━━━━━━━━━━━━━━━━━━━\u001b[0m\u001b[37m\u001b[0m \u001b[1m54s\u001b[0m 5ms/step - loss: 10155001.0000 - root_mean_squared_error: 0.4764 - val_loss: 10502001.0000 - val_root_mean_squared_error: 0.5195\n",
      "Epoch 59/200\n",
      "\u001b[1m9902/9902\u001b[0m \u001b[32m━━━━━━━━━━━━━━━━━━━━\u001b[0m\u001b[37m\u001b[0m \u001b[1m55s\u001b[0m 6ms/step - loss: 9951340.0000 - root_mean_squared_error: 0.4775 - val_loss: 10242297.0000 - val_root_mean_squared_error: 0.5041\n",
      "Epoch 60/200\n",
      "\u001b[1m9902/9902\u001b[0m \u001b[32m━━━━━━━━━━━━━━━━━━━━\u001b[0m\u001b[37m\u001b[0m \u001b[1m54s\u001b[0m 5ms/step - loss: 10182839.0000 - root_mean_squared_error: 0.4758 - val_loss: 10361794.0000 - val_root_mean_squared_error: 0.5117\n",
      "Epoch 61/200\n",
      "\u001b[1m9902/9902\u001b[0m \u001b[32m━━━━━━━━━━━━━━━━━━━━\u001b[0m\u001b[37m\u001b[0m \u001b[1m55s\u001b[0m 5ms/step - loss: 10459502.0000 - root_mean_squared_error: 0.4761 - val_loss: 10817265.0000 - val_root_mean_squared_error: 0.5058\n",
      "Epoch 62/200\n",
      "\u001b[1m9902/9902\u001b[0m \u001b[32m━━━━━━━━━━━━━━━━━━━━\u001b[0m\u001b[37m\u001b[0m \u001b[1m55s\u001b[0m 5ms/step - loss: 10707128.0000 - root_mean_squared_error: 0.4757 - val_loss: 10365188.0000 - val_root_mean_squared_error: 0.4960\n",
      "Epoch 63/200\n",
      "\u001b[1m9902/9902\u001b[0m \u001b[32m━━━━━━━━━━━━━━━━━━━━\u001b[0m\u001b[37m\u001b[0m \u001b[1m55s\u001b[0m 5ms/step - loss: 9873813.0000 - root_mean_squared_error: 0.4720 - val_loss: 10245498.0000 - val_root_mean_squared_error: 0.4968\n",
      "Epoch 64/200\n",
      "\u001b[1m9902/9902\u001b[0m \u001b[32m━━━━━━━━━━━━━━━━━━━━\u001b[0m\u001b[37m\u001b[0m \u001b[1m55s\u001b[0m 6ms/step - loss: 10416105.0000 - root_mean_squared_error: 0.4738 - val_loss: 11175617.0000 - val_root_mean_squared_error: 0.5109\n",
      "Epoch 65/200\n",
      "\u001b[1m9902/9902\u001b[0m \u001b[32m━━━━━━━━━━━━━━━━━━━━\u001b[0m\u001b[37m\u001b[0m \u001b[1m55s\u001b[0m 6ms/step - loss: 10887523.0000 - root_mean_squared_error: 0.4770 - val_loss: 11206368.0000 - val_root_mean_squared_error: 0.5124\n",
      "Epoch 66/200\n",
      "\u001b[1m9902/9902\u001b[0m \u001b[32m━━━━━━━━━━━━━━━━━━━━\u001b[0m\u001b[37m\u001b[0m \u001b[1m55s\u001b[0m 5ms/step - loss: 11481761.0000 - root_mean_squared_error: 0.4742 - val_loss: 12495115.0000 - val_root_mean_squared_error: 0.5054\n",
      "Epoch 67/200\n",
      "\u001b[1m9902/9902\u001b[0m \u001b[32m━━━━━━━━━━━━━━━━━━━━\u001b[0m\u001b[37m\u001b[0m \u001b[1m55s\u001b[0m 6ms/step - loss: 12289779.0000 - root_mean_squared_error: 0.4746 - val_loss: 12809505.0000 - val_root_mean_squared_error: 0.5148\n",
      "Epoch 68/200\n",
      "\u001b[1m9902/9902\u001b[0m \u001b[32m━━━━━━━━━━━━━━━━━━━━\u001b[0m\u001b[37m\u001b[0m \u001b[1m55s\u001b[0m 6ms/step - loss: 12306953.0000 - root_mean_squared_error: 0.4766 - val_loss: 11907789.0000 - val_root_mean_squared_error: 0.4996\n",
      "Epoch 69/200\n",
      "\u001b[1m9902/9902\u001b[0m \u001b[32m━━━━━━━━━━━━━━━━━━━━\u001b[0m\u001b[37m\u001b[0m \u001b[1m60s\u001b[0m 6ms/step - loss: 11778378.0000 - root_mean_squared_error: 0.4738 - val_loss: 11761547.0000 - val_root_mean_squared_error: 0.5049\n",
      "Epoch 70/200\n",
      "\u001b[1m9902/9902\u001b[0m \u001b[32m━━━━━━━━━━━━━━━━━━━━\u001b[0m\u001b[37m\u001b[0m \u001b[1m55s\u001b[0m 5ms/step - loss: 11654236.0000 - root_mean_squared_error: 0.4748 - val_loss: 11793844.0000 - val_root_mean_squared_error: 0.5079\n",
      "Epoch 71/200\n",
      "\u001b[1m9902/9902\u001b[0m \u001b[32m━━━━━━━━━━━━━━━━━━━━\u001b[0m\u001b[37m\u001b[0m \u001b[1m55s\u001b[0m 5ms/step - loss: 11091066.0000 - root_mean_squared_error: 0.4759 - val_loss: 12014566.0000 - val_root_mean_squared_error: 0.5140\n",
      "Epoch 72/200\n",
      "\u001b[1m9902/9902\u001b[0m \u001b[32m━━━━━━━━━━━━━━━━━━━━\u001b[0m\u001b[37m\u001b[0m \u001b[1m54s\u001b[0m 5ms/step - loss: 11830194.0000 - root_mean_squared_error: 0.4784 - val_loss: 12410680.0000 - val_root_mean_squared_error: 0.5191\n",
      "Epoch 73/200\n",
      "\u001b[1m9902/9902\u001b[0m \u001b[32m━━━━━━━━━━━━━━━━━━━━\u001b[0m\u001b[37m\u001b[0m \u001b[1m55s\u001b[0m 5ms/step - loss: 11706675.0000 - root_mean_squared_error: 0.4774 - val_loss: 12487515.0000 - val_root_mean_squared_error: 0.5071\n",
      "Epoch 74/200\n",
      "\u001b[1m9902/9902\u001b[0m \u001b[32m━━━━━━━━━━━━━━━━━━━━\u001b[0m\u001b[37m\u001b[0m \u001b[1m55s\u001b[0m 6ms/step - loss: 12475641.0000 - root_mean_squared_error: 0.4767 - val_loss: 12794472.0000 - val_root_mean_squared_error: 0.5228\n",
      "Epoch 75/200\n",
      "\u001b[1m9902/9902\u001b[0m \u001b[32m━━━━━━━━━━━━━━━━━━━━\u001b[0m\u001b[37m\u001b[0m \u001b[1m55s\u001b[0m 5ms/step - loss: 12633260.0000 - root_mean_squared_error: 0.4782 - val_loss: 13602535.0000 - val_root_mean_squared_error: 0.5218\n",
      "Epoch 76/200\n",
      "\u001b[1m9902/9902\u001b[0m \u001b[32m━━━━━━━━━━━━━━━━━━━━\u001b[0m\u001b[37m\u001b[0m \u001b[1m55s\u001b[0m 6ms/step - loss: 13005798.0000 - root_mean_squared_error: 0.4790 - val_loss: 13746298.0000 - val_root_mean_squared_error: 0.5035\n",
      "Epoch 77/200\n",
      "\u001b[1m9902/9902\u001b[0m \u001b[32m━━━━━━━━━━━━━━━━━━━━\u001b[0m\u001b[37m\u001b[0m \u001b[1m55s\u001b[0m 5ms/step - loss: 13815386.0000 - root_mean_squared_error: 0.4736 - val_loss: 14434481.0000 - val_root_mean_squared_error: 0.5074\n",
      "Epoch 78/200\n",
      "\u001b[1m9902/9902\u001b[0m \u001b[32m━━━━━━━━━━━━━━━━━━━━\u001b[0m\u001b[37m\u001b[0m \u001b[1m54s\u001b[0m 5ms/step - loss: 14692895.0000 - root_mean_squared_error: 0.4760 - val_loss: 14848356.0000 - val_root_mean_squared_error: 0.5036\n",
      "Epoch 79/200\n",
      "\u001b[1m9902/9902\u001b[0m \u001b[32m━━━━━━━━━━━━━━━━━━━━\u001b[0m\u001b[37m\u001b[0m \u001b[1m55s\u001b[0m 6ms/step - loss: 14593463.0000 - root_mean_squared_error: 0.4751 - val_loss: 15265455.0000 - val_root_mean_squared_error: 0.5275\n",
      "Epoch 80/200\n",
      "\u001b[1m9902/9902\u001b[0m \u001b[32m━━━━━━━━━━━━━━━━━━━━\u001b[0m\u001b[37m\u001b[0m \u001b[1m55s\u001b[0m 6ms/step - loss: 14470936.0000 - root_mean_squared_error: 0.4789 - val_loss: 15596115.0000 - val_root_mean_squared_error: 0.5208\n",
      "Epoch 81/200\n",
      "\u001b[1m9902/9902\u001b[0m \u001b[32m━━━━━━━━━━━━━━━━━━━━\u001b[0m\u001b[37m\u001b[0m \u001b[1m55s\u001b[0m 6ms/step - loss: 15278816.0000 - root_mean_squared_error: 0.4764 - val_loss: 15707334.0000 - val_root_mean_squared_error: 0.5075\n",
      "Epoch 82/200\n",
      "\u001b[1m9902/9902\u001b[0m \u001b[32m━━━━━━━━━━━━━━━━━━━━\u001b[0m\u001b[37m\u001b[0m \u001b[1m55s\u001b[0m 6ms/step - loss: 15804350.0000 - root_mean_squared_error: 0.4758 - val_loss: 16604073.0000 - val_root_mean_squared_error: 0.5108\n",
      "Epoch 83/200\n",
      "\u001b[1m9902/9902\u001b[0m \u001b[32m━━━━━━━━━━━━━━━━━━━━\u001b[0m\u001b[37m\u001b[0m \u001b[1m55s\u001b[0m 6ms/step - loss: 16035635.0000 - root_mean_squared_error: 0.4751 - val_loss: 17098778.0000 - val_root_mean_squared_error: 0.5004\n",
      "Epoch 84/200\n",
      "\u001b[1m9902/9902\u001b[0m \u001b[32m━━━━━━━━━━━━━━━━━━━━\u001b[0m\u001b[37m\u001b[0m \u001b[1m55s\u001b[0m 5ms/step - loss: 16400550.0000 - root_mean_squared_error: 0.4735 - val_loss: 18557060.0000 - val_root_mean_squared_error: 0.5141\n",
      "Epoch 85/200\n",
      "\u001b[1m9902/9902\u001b[0m \u001b[32m━━━━━━━━━━━━━━━━━━━━\u001b[0m\u001b[37m\u001b[0m \u001b[1m55s\u001b[0m 6ms/step - loss: 18365676.0000 - root_mean_squared_error: 0.4773 - val_loss: 18728368.0000 - val_root_mean_squared_error: 0.5108\n",
      "Epoch 86/200\n",
      "\u001b[1m9902/9902\u001b[0m \u001b[32m━━━━━━━━━━━━━━━━━━━━\u001b[0m\u001b[37m\u001b[0m \u001b[1m55s\u001b[0m 5ms/step - loss: 17769000.0000 - root_mean_squared_error: 0.4758 - val_loss: 18009566.0000 - val_root_mean_squared_error: 0.5229\n",
      "Epoch 87/200\n",
      "\u001b[1m9902/9902\u001b[0m \u001b[32m━━━━━━━━━━━━━━━━━━━━\u001b[0m\u001b[37m\u001b[0m \u001b[1m55s\u001b[0m 6ms/step - loss: 16945846.0000 - root_mean_squared_error: 0.4781 - val_loss: 17429250.0000 - val_root_mean_squared_error: 0.5211\n",
      "Epoch 88/200\n",
      "\u001b[1m9902/9902\u001b[0m \u001b[32m━━━━━━━━━━━━━━━━━━━━\u001b[0m\u001b[37m\u001b[0m \u001b[1m55s\u001b[0m 6ms/step - loss: 16787768.0000 - root_mean_squared_error: 0.4787 - val_loss: 17975578.0000 - val_root_mean_squared_error: 0.5107\n",
      "Epoch 89/200\n",
      "\u001b[1m9902/9902\u001b[0m \u001b[32m━━━━━━━━━━━━━━━━━━━━\u001b[0m\u001b[37m\u001b[0m \u001b[1m55s\u001b[0m 6ms/step - loss: 17228728.0000 - root_mean_squared_error: 0.4754 - val_loss: 18593728.0000 - val_root_mean_squared_error: 0.5123\n",
      "Epoch 90/200\n",
      "\u001b[1m9902/9902\u001b[0m \u001b[32m━━━━━━━━━━━━━━━━━━━━\u001b[0m\u001b[37m\u001b[0m \u001b[1m55s\u001b[0m 6ms/step - loss: 18214668.0000 - root_mean_squared_error: 0.4773 - val_loss: 19054928.0000 - val_root_mean_squared_error: 0.5128\n",
      "Epoch 91/200\n",
      "\u001b[1m9902/9902\u001b[0m \u001b[32m━━━━━━━━━━━━━━━━━━━━\u001b[0m\u001b[37m\u001b[0m \u001b[1m55s\u001b[0m 6ms/step - loss: 18211198.0000 - root_mean_squared_error: 0.4769 - val_loss: 18325524.0000 - val_root_mean_squared_error: 0.5182\n",
      "Epoch 92/200\n",
      "\u001b[1m9902/9902\u001b[0m \u001b[32m━━━━━━━━━━━━━━━━━━━━\u001b[0m\u001b[37m\u001b[0m \u001b[1m56s\u001b[0m 6ms/step - loss: 17643124.0000 - root_mean_squared_error: 0.4763 - val_loss: 17944576.0000 - val_root_mean_squared_error: 0.5244\n",
      "Epoch 93/200\n",
      "\u001b[1m9902/9902\u001b[0m \u001b[32m━━━━━━━━━━━━━━━━━━━━\u001b[0m\u001b[37m\u001b[0m \u001b[1m56s\u001b[0m 6ms/step - loss: 17618268.0000 - root_mean_squared_error: 0.4787 - val_loss: 18005624.0000 - val_root_mean_squared_error: 0.5144\n",
      "Epoch 94/200\n",
      "\u001b[1m9902/9902\u001b[0m \u001b[32m━━━━━━━━━━━━━━━━━━━━\u001b[0m\u001b[37m\u001b[0m \u001b[1m55s\u001b[0m 6ms/step - loss: 17466584.0000 - root_mean_squared_error: 0.4769 - val_loss: 18682560.0000 - val_root_mean_squared_error: 0.5056\n",
      "Epoch 95/200\n",
      "\u001b[1m9902/9902\u001b[0m \u001b[32m━━━━━━━━━━━━━━━━━━━━\u001b[0m\u001b[37m\u001b[0m \u001b[1m55s\u001b[0m 6ms/step - loss: 18181154.0000 - root_mean_squared_error: 0.4743 - val_loss: 20369600.0000 - val_root_mean_squared_error: 0.5149\n",
      "Epoch 96/200\n",
      "\u001b[1m9902/9902\u001b[0m \u001b[32m━━━━━━━━━━━━━━━━━━━━\u001b[0m\u001b[37m\u001b[0m \u001b[1m55s\u001b[0m 6ms/step - loss: 19502468.0000 - root_mean_squared_error: 0.4761 - val_loss: 20008066.0000 - val_root_mean_squared_error: 0.5143\n",
      "Epoch 97/200\n",
      "\u001b[1m9902/9902\u001b[0m \u001b[32m━━━━━━━━━━━━━━━━━━━━\u001b[0m\u001b[37m\u001b[0m \u001b[1m55s\u001b[0m 6ms/step - loss: 18924050.0000 - root_mean_squared_error: 0.4770 - val_loss: 19763148.0000 - val_root_mean_squared_error: 0.5100\n",
      "Epoch 98/200\n",
      "\u001b[1m9902/9902\u001b[0m \u001b[32m━━━━━━━━━━━━━━━━━━━━\u001b[0m\u001b[37m\u001b[0m \u001b[1m55s\u001b[0m 6ms/step - loss: 19304268.0000 - root_mean_squared_error: 0.4754 - val_loss: 19430210.0000 - val_root_mean_squared_error: 0.5201\n",
      "Epoch 99/200\n",
      "\u001b[1m9902/9902\u001b[0m \u001b[32m━━━━━━━━━━━━━━━━━━━━\u001b[0m\u001b[37m\u001b[0m \u001b[1m55s\u001b[0m 6ms/step - loss: 18928934.0000 - root_mean_squared_error: 0.4776 - val_loss: 20101752.0000 - val_root_mean_squared_error: 0.4896\n",
      "Epoch 100/200\n",
      "\u001b[1m9902/9902\u001b[0m \u001b[32m━━━━━━━━━━━━━━━━━━━━\u001b[0m\u001b[37m\u001b[0m \u001b[1m55s\u001b[0m 6ms/step - loss: 19528586.0000 - root_mean_squared_error: 0.4728 - val_loss: 19987418.0000 - val_root_mean_squared_error: 0.5114\n",
      "Epoch 101/200\n",
      "\u001b[1m9902/9902\u001b[0m \u001b[32m━━━━━━━━━━━━━━━━━━━━\u001b[0m\u001b[37m\u001b[0m \u001b[1m55s\u001b[0m 6ms/step - loss: 19726316.0000 - root_mean_squared_error: 0.4760 - val_loss: 19984758.0000 - val_root_mean_squared_error: 0.5217\n",
      "Epoch 102/200\n",
      "\u001b[1m9902/9902\u001b[0m \u001b[32m━━━━━━━━━━━━━━━━━━━━\u001b[0m\u001b[37m\u001b[0m \u001b[1m55s\u001b[0m 6ms/step - loss: 20118122.0000 - root_mean_squared_error: 0.4776 - val_loss: 20607770.0000 - val_root_mean_squared_error: 0.5201\n",
      "Epoch 103/200\n",
      "\u001b[1m9902/9902\u001b[0m \u001b[32m━━━━━━━━━━━━━━━━━━━━\u001b[0m\u001b[37m\u001b[0m \u001b[1m56s\u001b[0m 6ms/step - loss: 20014676.0000 - root_mean_squared_error: 0.4776 - val_loss: 20820210.0000 - val_root_mean_squared_error: 0.5261\n",
      "Epoch 104/200\n",
      "\u001b[1m9902/9902\u001b[0m \u001b[32m━━━━━━━━━━━━━━━━━━━━\u001b[0m\u001b[37m\u001b[0m \u001b[1m55s\u001b[0m 6ms/step - loss: 19636654.0000 - root_mean_squared_error: 0.4803 - val_loss: 19799138.0000 - val_root_mean_squared_error: 0.5049\n",
      "Epoch 105/200\n",
      "\u001b[1m9902/9902\u001b[0m \u001b[32m━━━━━━━━━━━━━━━━━━━━\u001b[0m\u001b[37m\u001b[0m \u001b[1m56s\u001b[0m 6ms/step - loss: 19523464.0000 - root_mean_squared_error: 0.4748 - val_loss: 19369790.0000 - val_root_mean_squared_error: 0.5261\n",
      "Epoch 106/200\n",
      "\u001b[1m9902/9902\u001b[0m \u001b[32m━━━━━━━━━━━━━━━━━━━━\u001b[0m\u001b[37m\u001b[0m \u001b[1m55s\u001b[0m 6ms/step - loss: 18186160.0000 - root_mean_squared_error: 0.4781 - val_loss: 18979374.0000 - val_root_mean_squared_error: 0.5064\n",
      "Epoch 107/200\n",
      "\u001b[1m9902/9902\u001b[0m \u001b[32m━━━━━━━━━━━━━━━━━━━━\u001b[0m\u001b[37m\u001b[0m \u001b[1m55s\u001b[0m 6ms/step - loss: 18233622.0000 - root_mean_squared_error: 0.4757 - val_loss: 18064024.0000 - val_root_mean_squared_error: 0.5145\n",
      "Epoch 108/200\n",
      "\u001b[1m9902/9902\u001b[0m \u001b[32m━━━━━━━━━━━━━━━━━━━━\u001b[0m\u001b[37m\u001b[0m \u001b[1m55s\u001b[0m 6ms/step - loss: 17550822.0000 - root_mean_squared_error: 0.4752 - val_loss: 18092504.0000 - val_root_mean_squared_error: 0.5160\n",
      "Epoch 109/200\n",
      "\u001b[1m9902/9902\u001b[0m \u001b[32m━━━━━━━━━━━━━━━━━━━━\u001b[0m\u001b[37m\u001b[0m \u001b[1m55s\u001b[0m 6ms/step - loss: 17457582.0000 - root_mean_squared_error: 0.4736 - val_loss: 18521292.0000 - val_root_mean_squared_error: 0.4972\n",
      "Epoch 110/200\n",
      "\u001b[1m9902/9902\u001b[0m \u001b[32m━━━━━━━━━━━━━━━━━━━━\u001b[0m\u001b[37m\u001b[0m \u001b[1m55s\u001b[0m 6ms/step - loss: 18800700.0000 - root_mean_squared_error: 0.4734 - val_loss: 19321354.0000 - val_root_mean_squared_error: 0.5096\n",
      "Epoch 111/200\n",
      "\u001b[1m9902/9902\u001b[0m \u001b[32m━━━━━━━━━━━━━━━━━━━━\u001b[0m\u001b[37m\u001b[0m \u001b[1m55s\u001b[0m 6ms/step - loss: 19755112.0000 - root_mean_squared_error: 0.4743 - val_loss: 21839618.0000 - val_root_mean_squared_error: 0.5223\n",
      "Epoch 112/200\n",
      "\u001b[1m9902/9902\u001b[0m \u001b[32m━━━━━━━━━━━━━━━━━━━━\u001b[0m\u001b[37m\u001b[0m \u001b[1m56s\u001b[0m 6ms/step - loss: 21167728.0000 - root_mean_squared_error: 0.4776 - val_loss: 21467982.0000 - val_root_mean_squared_error: 0.5055\n",
      "Epoch 113/200\n",
      "\u001b[1m9902/9902\u001b[0m \u001b[32m━━━━━━━━━━━━━━━━━━━━\u001b[0m\u001b[37m\u001b[0m \u001b[1m56s\u001b[0m 6ms/step - loss: 21017838.0000 - root_mean_squared_error: 0.4757 - val_loss: 22491660.0000 - val_root_mean_squared_error: 0.5147\n",
      "Epoch 114/200\n",
      "\u001b[1m9902/9902\u001b[0m \u001b[32m━━━━━━━━━━━━━━━━━━━━\u001b[0m\u001b[37m\u001b[0m \u001b[1m55s\u001b[0m 6ms/step - loss: 21137616.0000 - root_mean_squared_error: 0.4748 - val_loss: 21420486.0000 - val_root_mean_squared_error: 0.5089\n",
      "Epoch 115/200\n",
      "\u001b[1m9902/9902\u001b[0m \u001b[32m━━━━━━━━━━━━━━━━━━━━\u001b[0m\u001b[37m\u001b[0m \u001b[1m56s\u001b[0m 6ms/step - loss: 20619508.0000 - root_mean_squared_error: 0.4756 - val_loss: 21701662.0000 - val_root_mean_squared_error: 0.5177\n",
      "Epoch 116/200\n",
      "\u001b[1m9902/9902\u001b[0m \u001b[32m━━━━━━━━━━━━━━━━━━━━\u001b[0m\u001b[37m\u001b[0m \u001b[1m56s\u001b[0m 6ms/step - loss: 21184224.0000 - root_mean_squared_error: 0.4781 - val_loss: 23067738.0000 - val_root_mean_squared_error: 0.5147\n",
      "Epoch 117/200\n",
      "\u001b[1m9902/9902\u001b[0m \u001b[32m━━━━━━━━━━━━━━━━━━━━\u001b[0m\u001b[37m\u001b[0m \u001b[1m56s\u001b[0m 6ms/step - loss: 23106992.0000 - root_mean_squared_error: 0.4759 - val_loss: 24198634.0000 - val_root_mean_squared_error: 0.5183\n",
      "Epoch 118/200\n",
      "\u001b[1m9902/9902\u001b[0m \u001b[32m━━━━━━━━━━━━━━━━━━━━\u001b[0m\u001b[37m\u001b[0m \u001b[1m56s\u001b[0m 6ms/step - loss: 23589786.0000 - root_mean_squared_error: 0.4779 - val_loss: 26294696.0000 - val_root_mean_squared_error: 0.5197\n",
      "Epoch 119/200\n",
      "\u001b[1m9902/9902\u001b[0m \u001b[32m━━━━━━━━━━━━━━━━━━━━\u001b[0m\u001b[37m\u001b[0m \u001b[1m55s\u001b[0m 6ms/step - loss: 25208552.0000 - root_mean_squared_error: 0.4780 - val_loss: 25508860.0000 - val_root_mean_squared_error: 0.5267\n",
      "Epoch 120/200\n",
      "\u001b[1m9902/9902\u001b[0m \u001b[32m━━━━━━━━━━━━━━━━━━━━\u001b[0m\u001b[37m\u001b[0m \u001b[1m55s\u001b[0m 6ms/step - loss: 23384434.0000 - root_mean_squared_error: 0.4781 - val_loss: 24616864.0000 - val_root_mean_squared_error: 0.5088\n",
      "Epoch 121/200\n",
      "\u001b[1m9902/9902\u001b[0m \u001b[32m━━━━━━━━━━━━━━━━━━━━\u001b[0m\u001b[37m\u001b[0m \u001b[1m56s\u001b[0m 6ms/step - loss: 24204976.0000 - root_mean_squared_error: 0.4759 - val_loss: 25907408.0000 - val_root_mean_squared_error: 0.5058\n",
      "Epoch 122/200\n",
      "\u001b[1m9902/9902\u001b[0m \u001b[32m━━━━━━━━━━━━━━━━━━━━\u001b[0m\u001b[37m\u001b[0m \u001b[1m55s\u001b[0m 6ms/step - loss: 25999892.0000 - root_mean_squared_error: 0.4745 - val_loss: 27690002.0000 - val_root_mean_squared_error: 0.5098\n",
      "Epoch 123/200\n",
      "\u001b[1m9902/9902\u001b[0m \u001b[32m━━━━━━━━━━━━━━━━━━━━\u001b[0m\u001b[37m\u001b[0m \u001b[1m55s\u001b[0m 6ms/step - loss: 26643756.0000 - root_mean_squared_error: 0.4763 - val_loss: 28502828.0000 - val_root_mean_squared_error: 0.5110\n",
      "Epoch 124/200\n",
      "\u001b[1m9902/9902\u001b[0m \u001b[32m━━━━━━━━━━━━━━━━━━━━\u001b[0m\u001b[37m\u001b[0m \u001b[1m56s\u001b[0m 6ms/step - loss: 28289584.0000 - root_mean_squared_error: 0.4766 - val_loss: 30041270.0000 - val_root_mean_squared_error: 0.5157\n",
      "Epoch 125/200\n",
      "\u001b[1m9902/9902\u001b[0m \u001b[32m━━━━━━━━━━━━━━━━━━━━\u001b[0m\u001b[37m\u001b[0m \u001b[1m56s\u001b[0m 6ms/step - loss: 28931586.0000 - root_mean_squared_error: 0.4774 - val_loss: 29036708.0000 - val_root_mean_squared_error: 0.5081\n",
      "Epoch 126/200\n",
      "\u001b[1m9902/9902\u001b[0m \u001b[32m━━━━━━━━━━━━━━━━━━━━\u001b[0m\u001b[37m\u001b[0m \u001b[1m56s\u001b[0m 6ms/step - loss: 29162976.0000 - root_mean_squared_error: 0.4740 - val_loss: 30541682.0000 - val_root_mean_squared_error: 0.5075\n",
      "Epoch 127/200\n",
      "\u001b[1m9902/9902\u001b[0m \u001b[32m━━━━━━━━━━━━━━━━━━━━\u001b[0m\u001b[37m\u001b[0m \u001b[1m57s\u001b[0m 6ms/step - loss: 30333854.0000 - root_mean_squared_error: 0.4760 - val_loss: 31435066.0000 - val_root_mean_squared_error: 0.5039\n",
      "Epoch 128/200\n",
      "\u001b[1m9902/9902\u001b[0m \u001b[32m━━━━━━━━━━━━━━━━━━━━\u001b[0m\u001b[37m\u001b[0m \u001b[1m56s\u001b[0m 6ms/step - loss: 31242968.0000 - root_mean_squared_error: 0.4746 - val_loss: 32351424.0000 - val_root_mean_squared_error: 0.5110\n",
      "Epoch 129/200\n",
      "\u001b[1m9902/9902\u001b[0m \u001b[32m━━━━━━━━━━━━━━━━━━━━\u001b[0m\u001b[37m\u001b[0m \u001b[1m56s\u001b[0m 6ms/step - loss: 31895360.0000 - root_mean_squared_error: 0.4749 - val_loss: 33687620.0000 - val_root_mean_squared_error: 0.5191\n",
      "Epoch 130/200\n",
      "\u001b[1m9902/9902\u001b[0m \u001b[32m━━━━━━━━━━━━━━━━━━━━\u001b[0m\u001b[37m\u001b[0m \u001b[1m56s\u001b[0m 6ms/step - loss: 32399488.0000 - root_mean_squared_error: 0.4771 - val_loss: 34080624.0000 - val_root_mean_squared_error: 0.5120\n",
      "Epoch 131/200\n",
      "\u001b[1m9902/9902\u001b[0m \u001b[32m━━━━━━━━━━━━━━━━━━━━\u001b[0m\u001b[37m\u001b[0m \u001b[1m56s\u001b[0m 6ms/step - loss: 33240170.0000 - root_mean_squared_error: 0.4777 - val_loss: 34159116.0000 - val_root_mean_squared_error: 0.5206\n",
      "Epoch 132/200\n",
      "\u001b[1m9902/9902\u001b[0m \u001b[32m━━━━━━━━━━━━━━━━━━━━\u001b[0m\u001b[37m\u001b[0m \u001b[1m56s\u001b[0m 6ms/step - loss: 33833088.0000 - root_mean_squared_error: 0.4781 - val_loss: 37195072.0000 - val_root_mean_squared_error: 0.5187\n",
      "Epoch 133/200\n",
      "\u001b[1m9902/9902\u001b[0m \u001b[32m━━━━━━━━━━━━━━━━━━━━\u001b[0m\u001b[37m\u001b[0m \u001b[1m56s\u001b[0m 6ms/step - loss: 35842936.0000 - root_mean_squared_error: 0.4779 - val_loss: 39119776.0000 - val_root_mean_squared_error: 0.5081\n",
      "Epoch 134/200\n",
      "\u001b[1m9902/9902\u001b[0m \u001b[32m━━━━━━━━━━━━━━━━━━━━\u001b[0m\u001b[37m\u001b[0m \u001b[1m56s\u001b[0m 6ms/step - loss: 38468820.0000 - root_mean_squared_error: 0.4761 - val_loss: 40355384.0000 - val_root_mean_squared_error: 0.5150\n",
      "Epoch 135/200\n",
      "\u001b[1m9902/9902\u001b[0m \u001b[32m━━━━━━━━━━━━━━━━━━━━\u001b[0m\u001b[37m\u001b[0m \u001b[1m56s\u001b[0m 6ms/step - loss: 39191708.0000 - root_mean_squared_error: 0.4776 - val_loss: 40771968.0000 - val_root_mean_squared_error: 0.5153\n",
      "Epoch 136/200\n",
      "\u001b[1m9902/9902\u001b[0m \u001b[32m━━━━━━━━━━━━━━━━━━━━\u001b[0m\u001b[37m\u001b[0m \u001b[1m56s\u001b[0m 6ms/step - loss: 39349920.0000 - root_mean_squared_error: 0.4763 - val_loss: 40679964.0000 - val_root_mean_squared_error: 0.4988\n",
      "Epoch 137/200\n",
      "\u001b[1m9902/9902\u001b[0m \u001b[32m━━━━━━━━━━━━━━━━━━━━\u001b[0m\u001b[37m\u001b[0m \u001b[1m55s\u001b[0m 6ms/step - loss: 40132636.0000 - root_mean_squared_error: 0.4749 - val_loss: 42372100.0000 - val_root_mean_squared_error: 0.5151\n",
      "Epoch 138/200\n",
      "\u001b[1m9902/9902\u001b[0m \u001b[32m━━━━━━━━━━━━━━━━━━━━\u001b[0m\u001b[37m\u001b[0m \u001b[1m55s\u001b[0m 6ms/step - loss: 41490192.0000 - root_mean_squared_error: 0.4769 - val_loss: 44474488.0000 - val_root_mean_squared_error: 0.5077\n",
      "Epoch 139/200\n",
      "\u001b[1m9902/9902\u001b[0m \u001b[32m━━━━━━━━━━━━━━━━━━━━\u001b[0m\u001b[37m\u001b[0m \u001b[1m55s\u001b[0m 6ms/step - loss: 44100796.0000 - root_mean_squared_error: 0.4760 - val_loss: 45760852.0000 - val_root_mean_squared_error: 0.5133\n",
      "Epoch 140/200\n",
      "\u001b[1m9902/9902\u001b[0m \u001b[32m━━━━━━━━━━━━━━━━━━━━\u001b[0m\u001b[37m\u001b[0m \u001b[1m55s\u001b[0m 6ms/step - loss: 44183756.0000 - root_mean_squared_error: 0.4763 - val_loss: 46797992.0000 - val_root_mean_squared_error: 0.5156\n",
      "Epoch 141/200\n",
      "\u001b[1m9902/9902\u001b[0m \u001b[32m━━━━━━━━━━━━━━━━━━━━\u001b[0m\u001b[37m\u001b[0m \u001b[1m57s\u001b[0m 6ms/step - loss: 45376612.0000 - root_mean_squared_error: 0.4763 - val_loss: 46857776.0000 - val_root_mean_squared_error: 0.5136\n",
      "Epoch 142/200\n",
      "\u001b[1m9902/9902\u001b[0m \u001b[32m━━━━━━━━━━━━━━━━━━━━\u001b[0m\u001b[37m\u001b[0m \u001b[1m56s\u001b[0m 6ms/step - loss: 45484388.0000 - root_mean_squared_error: 0.4771 - val_loss: 44942116.0000 - val_root_mean_squared_error: 0.5050\n",
      "Epoch 143/200\n",
      "\u001b[1m9902/9902\u001b[0m \u001b[32m━━━━━━━━━━━━━━━━━━━━\u001b[0m\u001b[37m\u001b[0m \u001b[1m56s\u001b[0m 6ms/step - loss: 44492456.0000 - root_mean_squared_error: 0.4725 - val_loss: 46246600.0000 - val_root_mean_squared_error: 0.5106\n",
      "Epoch 144/200\n",
      "\u001b[1m9902/9902\u001b[0m \u001b[32m━━━━━━━━━━━━━━━━━━━━\u001b[0m\u001b[37m\u001b[0m \u001b[1m56s\u001b[0m 6ms/step - loss: 45481972.0000 - root_mean_squared_error: 0.4766 - val_loss: 45363636.0000 - val_root_mean_squared_error: 0.5081\n",
      "Epoch 145/200\n",
      "\u001b[1m9902/9902\u001b[0m \u001b[32m━━━━━━━━━━━━━━━━━━━━\u001b[0m\u001b[37m\u001b[0m \u001b[1m56s\u001b[0m 6ms/step - loss: 44136252.0000 - root_mean_squared_error: 0.4750 - val_loss: 45334932.0000 - val_root_mean_squared_error: 0.5069\n",
      "Epoch 146/200\n",
      "\u001b[1m9902/9902\u001b[0m \u001b[32m━━━━━━━━━━━━━━━━━━━━\u001b[0m\u001b[37m\u001b[0m \u001b[1m56s\u001b[0m 6ms/step - loss: 44028572.0000 - root_mean_squared_error: 0.4746 - val_loss: 44518436.0000 - val_root_mean_squared_error: 0.5105\n",
      "Epoch 147/200\n",
      "\u001b[1m9902/9902\u001b[0m \u001b[32m━━━━━━━━━━━━━━━━━━━━\u001b[0m\u001b[37m\u001b[0m \u001b[1m56s\u001b[0m 6ms/step - loss: 43348140.0000 - root_mean_squared_error: 0.4749 - val_loss: 44082012.0000 - val_root_mean_squared_error: 0.5144\n",
      "Epoch 148/200\n",
      "\u001b[1m9902/9902\u001b[0m \u001b[32m━━━━━━━━━━━━━━━━━━━━\u001b[0m\u001b[37m\u001b[0m \u001b[1m56s\u001b[0m 6ms/step - loss: 44141960.0000 - root_mean_squared_error: 0.4768 - val_loss: 45937924.0000 - val_root_mean_squared_error: 0.5189\n",
      "Epoch 149/200\n",
      "\u001b[1m9902/9902\u001b[0m \u001b[32m━━━━━━━━━━━━━━━━━━━━\u001b[0m\u001b[37m\u001b[0m \u001b[1m56s\u001b[0m 6ms/step - loss: 44179920.0000 - root_mean_squared_error: 0.4762 - val_loss: 46078912.0000 - val_root_mean_squared_error: 0.5158\n",
      "Epoch 150/200\n",
      "\u001b[1m9902/9902\u001b[0m \u001b[32m━━━━━━━━━━━━━━━━━━━━\u001b[0m\u001b[37m\u001b[0m \u001b[1m56s\u001b[0m 6ms/step - loss: 44233196.0000 - root_mean_squared_error: 0.4758 - val_loss: 45311516.0000 - val_root_mean_squared_error: 0.5159\n",
      "Epoch 151/200\n",
      "\u001b[1m9902/9902\u001b[0m \u001b[32m━━━━━━━━━━━━━━━━━━━━\u001b[0m\u001b[37m\u001b[0m \u001b[1m56s\u001b[0m 6ms/step - loss: 43747000.0000 - root_mean_squared_error: 0.4778 - val_loss: 45921524.0000 - val_root_mean_squared_error: 0.5193\n",
      "Epoch 152/200\n",
      "\u001b[1m9902/9902\u001b[0m \u001b[32m━━━━━━━━━━━━━━━━━━━━\u001b[0m\u001b[37m\u001b[0m \u001b[1m56s\u001b[0m 6ms/step - loss: 42876344.0000 - root_mean_squared_error: 0.4768 - val_loss: 46652700.0000 - val_root_mean_squared_error: 0.5280\n",
      "Epoch 153/200\n",
      "\u001b[1m9902/9902\u001b[0m \u001b[32m━━━━━━━━━━━━━━━━━━━━\u001b[0m\u001b[37m\u001b[0m \u001b[1m56s\u001b[0m 6ms/step - loss: 45288968.0000 - root_mean_squared_error: 0.4792 - val_loss: 44700600.0000 - val_root_mean_squared_error: 0.5137\n",
      "Epoch 154/200\n",
      "\u001b[1m9902/9902\u001b[0m \u001b[32m━━━━━━━━━━━━━━━━━━━━\u001b[0m\u001b[37m\u001b[0m \u001b[1m56s\u001b[0m 6ms/step - loss: 43901216.0000 - root_mean_squared_error: 0.4762 - val_loss: 46172360.0000 - val_root_mean_squared_error: 0.5143\n",
      "Epoch 155/200\n",
      "\u001b[1m9902/9902\u001b[0m \u001b[32m━━━━━━━━━━━━━━━━━━━━\u001b[0m\u001b[37m\u001b[0m \u001b[1m56s\u001b[0m 6ms/step - loss: 45325724.0000 - root_mean_squared_error: 0.4776 - val_loss: 47233160.0000 - val_root_mean_squared_error: 0.5113\n",
      "Epoch 156/200\n",
      "\u001b[1m9902/9902\u001b[0m \u001b[32m━━━━━━━━━━━━━━━━━━━━\u001b[0m\u001b[37m\u001b[0m \u001b[1m56s\u001b[0m 6ms/step - loss: 47218424.0000 - root_mean_squared_error: 0.4758 - val_loss: 51867996.0000 - val_root_mean_squared_error: 0.5155\n",
      "Epoch 157/200\n",
      "\u001b[1m9902/9902\u001b[0m \u001b[32m━━━━━━━━━━━━━━━━━━━━\u001b[0m\u001b[37m\u001b[0m \u001b[1m56s\u001b[0m 6ms/step - loss: 50754820.0000 - root_mean_squared_error: 0.4762 - val_loss: 53388660.0000 - val_root_mean_squared_error: 0.5155\n",
      "Epoch 158/200\n",
      "\u001b[1m9902/9902\u001b[0m \u001b[32m━━━━━━━━━━━━━━━━━━━━\u001b[0m\u001b[37m\u001b[0m \u001b[1m56s\u001b[0m 6ms/step - loss: 53193428.0000 - root_mean_squared_error: 0.4770 - val_loss: 55289408.0000 - val_root_mean_squared_error: 0.5173\n",
      "Epoch 159/200\n",
      "\u001b[1m9902/9902\u001b[0m \u001b[32m━━━━━━━━━━━━━━━━━━━━\u001b[0m\u001b[37m\u001b[0m \u001b[1m56s\u001b[0m 6ms/step - loss: 54223096.0000 - root_mean_squared_error: 0.4797 - val_loss: 54445876.0000 - val_root_mean_squared_error: 0.5102\n",
      "Epoch 160/200\n",
      "\u001b[1m9902/9902\u001b[0m \u001b[32m━━━━━━━━━━━━━━━━━━━━\u001b[0m\u001b[37m\u001b[0m \u001b[1m56s\u001b[0m 6ms/step - loss: 54662132.0000 - root_mean_squared_error: 0.4756 - val_loss: 57520780.0000 - val_root_mean_squared_error: 0.5106\n",
      "Epoch 161/200\n",
      "\u001b[1m9902/9902\u001b[0m \u001b[32m━━━━━━━━━━━━━━━━━━━━\u001b[0m\u001b[37m\u001b[0m \u001b[1m56s\u001b[0m 6ms/step - loss: 56912964.0000 - root_mean_squared_error: 0.4761 - val_loss: 57713768.0000 - val_root_mean_squared_error: 0.5071\n",
      "Epoch 162/200\n",
      "\u001b[1m9902/9902\u001b[0m \u001b[32m━━━━━━━━━━━━━━━━━━━━\u001b[0m\u001b[37m\u001b[0m \u001b[1m56s\u001b[0m 6ms/step - loss: 56804276.0000 - root_mean_squared_error: 0.4741 - val_loss: 58776396.0000 - val_root_mean_squared_error: 0.5132\n",
      "Epoch 163/200\n",
      "\u001b[1m9902/9902\u001b[0m \u001b[32m━━━━━━━━━━━━━━━━━━━━\u001b[0m\u001b[37m\u001b[0m \u001b[1m56s\u001b[0m 6ms/step - loss: 56236664.0000 - root_mean_squared_error: 0.4782 - val_loss: 56743392.0000 - val_root_mean_squared_error: 0.5199\n",
      "Epoch 164/200\n",
      "\u001b[1m9902/9902\u001b[0m \u001b[32m━━━━━━━━━━━━━━━━━━━━\u001b[0m\u001b[37m\u001b[0m \u001b[1m55s\u001b[0m 6ms/step - loss: 54482244.0000 - root_mean_squared_error: 0.4769 - val_loss: 56325068.0000 - val_root_mean_squared_error: 0.5120\n",
      "Epoch 165/200\n",
      "\u001b[1m9902/9902\u001b[0m \u001b[32m━━━━━━━━━━━━━━━━━━━━\u001b[0m\u001b[37m\u001b[0m \u001b[1m56s\u001b[0m 6ms/step - loss: 54781692.0000 - root_mean_squared_error: 0.4760 - val_loss: 56150348.0000 - val_root_mean_squared_error: 0.5170\n",
      "Epoch 166/200\n",
      "\u001b[1m9902/9902\u001b[0m \u001b[32m━━━━━━━━━━━━━━━━━━━━\u001b[0m\u001b[37m\u001b[0m \u001b[1m56s\u001b[0m 6ms/step - loss: 53768600.0000 - root_mean_squared_error: 0.4771 - val_loss: 57592568.0000 - val_root_mean_squared_error: 0.5114\n",
      "Epoch 167/200\n",
      "\u001b[1m9902/9902\u001b[0m \u001b[32m━━━━━━━━━━━━━━━━━━━━\u001b[0m\u001b[37m\u001b[0m \u001b[1m55s\u001b[0m 6ms/step - loss: 55388424.0000 - root_mean_squared_error: 0.4753 - val_loss: 57491044.0000 - val_root_mean_squared_error: 0.5121\n",
      "Epoch 168/200\n",
      "\u001b[1m9902/9902\u001b[0m \u001b[32m━━━━━━━━━━━━━━━━━━━━\u001b[0m\u001b[37m\u001b[0m \u001b[1m56s\u001b[0m 6ms/step - loss: 55497912.0000 - root_mean_squared_error: 0.4772 - val_loss: 57448664.0000 - val_root_mean_squared_error: 0.5145\n",
      "Epoch 169/200\n",
      "\u001b[1m9902/9902\u001b[0m \u001b[32m━━━━━━━━━━━━━━━━━━━━\u001b[0m\u001b[37m\u001b[0m \u001b[1m56s\u001b[0m 6ms/step - loss: 53898812.0000 - root_mean_squared_error: 0.4752 - val_loss: 57523408.0000 - val_root_mean_squared_error: 0.5038\n",
      "Epoch 170/200\n",
      "\u001b[1m9902/9902\u001b[0m \u001b[32m━━━━━━━━━━━━━━━━━━━━\u001b[0m\u001b[37m\u001b[0m \u001b[1m60s\u001b[0m 6ms/step - loss: 57639728.0000 - root_mean_squared_error: 0.4724 - val_loss: 58629424.0000 - val_root_mean_squared_error: 0.5112\n",
      "Epoch 171/200\n",
      "\u001b[1m9902/9902\u001b[0m \u001b[32m━━━━━━━━━━━━━━━━━━━━\u001b[0m\u001b[37m\u001b[0m \u001b[1m56s\u001b[0m 6ms/step - loss: 57798872.0000 - root_mean_squared_error: 0.4766 - val_loss: 59532688.0000 - val_root_mean_squared_error: 0.5232\n",
      "Epoch 172/200\n",
      "\u001b[1m9902/9902\u001b[0m \u001b[32m━━━━━━━━━━━━━━━━━━━━\u001b[0m\u001b[37m\u001b[0m \u001b[1m56s\u001b[0m 6ms/step - loss: 57281020.0000 - root_mean_squared_error: 0.4807 - val_loss: 57759548.0000 - val_root_mean_squared_error: 0.5104\n",
      "Epoch 173/200\n",
      "\u001b[1m9902/9902\u001b[0m \u001b[32m━━━━━━━━━━━━━━━━━━━━\u001b[0m\u001b[37m\u001b[0m \u001b[1m55s\u001b[0m 6ms/step - loss: 56058472.0000 - root_mean_squared_error: 0.4751 - val_loss: 60605388.0000 - val_root_mean_squared_error: 0.5270\n",
      "Epoch 174/200\n",
      "\u001b[1m9902/9902\u001b[0m \u001b[32m━━━━━━━━━━━━━━━━━━━━\u001b[0m\u001b[37m\u001b[0m \u001b[1m56s\u001b[0m 6ms/step - loss: 56747648.0000 - root_mean_squared_error: 0.4801 - val_loss: 57400304.0000 - val_root_mean_squared_error: 0.5037\n",
      "Epoch 175/200\n",
      "\u001b[1m9902/9902\u001b[0m \u001b[32m━━━━━━━━━━━━━━━━━━━━\u001b[0m\u001b[37m\u001b[0m \u001b[1m56s\u001b[0m 6ms/step - loss: 56650672.0000 - root_mean_squared_error: 0.4720 - val_loss: 60422016.0000 - val_root_mean_squared_error: 0.5147\n",
      "Epoch 176/200\n",
      "\u001b[1m9902/9902\u001b[0m \u001b[32m━━━━━━━━━━━━━━━━━━━━\u001b[0m\u001b[37m\u001b[0m \u001b[1m56s\u001b[0m 6ms/step - loss: 59185576.0000 - root_mean_squared_error: 0.4764 - val_loss: 58534872.0000 - val_root_mean_squared_error: 0.5173\n",
      "Epoch 177/200\n",
      "\u001b[1m9902/9902\u001b[0m \u001b[32m━━━━━━━━━━━━━━━━━━━━\u001b[0m\u001b[37m\u001b[0m \u001b[1m57s\u001b[0m 6ms/step - loss: 55249996.0000 - root_mean_squared_error: 0.4775 - val_loss: 57651456.0000 - val_root_mean_squared_error: 0.5111\n",
      "Epoch 178/200\n",
      "\u001b[1m9902/9902\u001b[0m \u001b[32m━━━━━━━━━━━━━━━━━━━━\u001b[0m\u001b[37m\u001b[0m \u001b[1m56s\u001b[0m 6ms/step - loss: 54917892.0000 - root_mean_squared_error: 0.4755 - val_loss: 56785716.0000 - val_root_mean_squared_error: 0.5190\n",
      "Epoch 179/200\n",
      "\u001b[1m9902/9902\u001b[0m \u001b[32m━━━━━━━━━━━━━━━━━━━━\u001b[0m\u001b[37m\u001b[0m \u001b[1m56s\u001b[0m 6ms/step - loss: 53992064.0000 - root_mean_squared_error: 0.4775 - val_loss: 55576488.0000 - val_root_mean_squared_error: 0.5084\n",
      "Epoch 180/200\n",
      "\u001b[1m9902/9902\u001b[0m \u001b[32m━━━━━━━━━━━━━━━━━━━━\u001b[0m\u001b[37m\u001b[0m \u001b[1m56s\u001b[0m 6ms/step - loss: 53556888.0000 - root_mean_squared_error: 0.4753 - val_loss: 54451136.0000 - val_root_mean_squared_error: 0.5053\n",
      "Epoch 181/200\n",
      "\u001b[1m9902/9902\u001b[0m \u001b[32m━━━━━━━━━━━━━━━━━━━━\u001b[0m\u001b[37m\u001b[0m \u001b[1m56s\u001b[0m 6ms/step - loss: 51980880.0000 - root_mean_squared_error: 0.4749 - val_loss: 54649832.0000 - val_root_mean_squared_error: 0.5099\n",
      "Epoch 182/200\n",
      "\u001b[1m9902/9902\u001b[0m \u001b[32m━━━━━━━━━━━━━━━━━━━━\u001b[0m\u001b[37m\u001b[0m \u001b[1m56s\u001b[0m 6ms/step - loss: 52643420.0000 - root_mean_squared_error: 0.4780 - val_loss: 52955292.0000 - val_root_mean_squared_error: 0.5079\n",
      "Epoch 183/200\n",
      "\u001b[1m9902/9902\u001b[0m \u001b[32m━━━━━━━━━━━━━━━━━━━━\u001b[0m\u001b[37m\u001b[0m \u001b[1m56s\u001b[0m 6ms/step - loss: 50697976.0000 - root_mean_squared_error: 0.4763 - val_loss: 51884924.0000 - val_root_mean_squared_error: 0.5191\n",
      "Epoch 184/200\n",
      "\u001b[1m9902/9902\u001b[0m \u001b[32m━━━━━━━━━━━━━━━━━━━━\u001b[0m\u001b[37m\u001b[0m \u001b[1m56s\u001b[0m 6ms/step - loss: 49720180.0000 - root_mean_squared_error: 0.4785 - val_loss: 52140524.0000 - val_root_mean_squared_error: 0.5087\n",
      "Epoch 185/200\n",
      "\u001b[1m9902/9902\u001b[0m \u001b[32m━━━━━━━━━━━━━━━━━━━━\u001b[0m\u001b[37m\u001b[0m \u001b[1m56s\u001b[0m 6ms/step - loss: 50225760.0000 - root_mean_squared_error: 0.4749 - val_loss: 53364660.0000 - val_root_mean_squared_error: 0.5168\n",
      "Epoch 186/200\n",
      "\u001b[1m9902/9902\u001b[0m \u001b[32m━━━━━━━━━━━━━━━━━━━━\u001b[0m\u001b[37m\u001b[0m \u001b[1m56s\u001b[0m 6ms/step - loss: 51679928.0000 - root_mean_squared_error: 0.4774 - val_loss: 55039984.0000 - val_root_mean_squared_error: 0.5052\n",
      "Epoch 187/200\n",
      "\u001b[1m9902/9902\u001b[0m \u001b[32m━━━━━━━━━━━━━━━━━━━━\u001b[0m\u001b[37m\u001b[0m \u001b[1m56s\u001b[0m 6ms/step - loss: 53618192.0000 - root_mean_squared_error: 0.4718 - val_loss: 55935820.0000 - val_root_mean_squared_error: 0.4946\n",
      "Epoch 188/200\n",
      "\u001b[1m9902/9902\u001b[0m \u001b[32m━━━━━━━━━━━━━━━━━━━━\u001b[0m\u001b[37m\u001b[0m \u001b[1m56s\u001b[0m 6ms/step - loss: 55080968.0000 - root_mean_squared_error: 0.4721 - val_loss: 56258988.0000 - val_root_mean_squared_error: 0.5167\n",
      "Epoch 189/200\n",
      "\u001b[1m9902/9902\u001b[0m \u001b[32m━━━━━━━━━━━━━━━━━━━━\u001b[0m\u001b[37m\u001b[0m \u001b[1m56s\u001b[0m 6ms/step - loss: 55518448.0000 - root_mean_squared_error: 0.4782 - val_loss: 57893460.0000 - val_root_mean_squared_error: 0.5125\n",
      "Epoch 190/200\n",
      "\u001b[1m9902/9902\u001b[0m \u001b[32m━━━━━━━━━━━━━━━━━━━━\u001b[0m\u001b[37m\u001b[0m \u001b[1m56s\u001b[0m 6ms/step - loss: 55459392.0000 - root_mean_squared_error: 0.4770 - val_loss: 59299964.0000 - val_root_mean_squared_error: 0.5103\n",
      "Epoch 191/200\n",
      "\u001b[1m9902/9902\u001b[0m \u001b[32m━━━━━━━━━━━━━━━━━━━━\u001b[0m\u001b[37m\u001b[0m \u001b[1m56s\u001b[0m 6ms/step - loss: 56631324.0000 - root_mean_squared_error: 0.4753 - val_loss: 58798996.0000 - val_root_mean_squared_error: 0.5093\n",
      "Epoch 192/200\n",
      "\u001b[1m9902/9902\u001b[0m \u001b[32m━━━━━━━━━━━━━━━━━━━━\u001b[0m\u001b[37m\u001b[0m \u001b[1m56s\u001b[0m 6ms/step - loss: 58664248.0000 - root_mean_squared_error: 0.4769 - val_loss: 60129500.0000 - val_root_mean_squared_error: 0.5051\n",
      "Epoch 193/200\n",
      "\u001b[1m9902/9902\u001b[0m \u001b[32m━━━━━━━━━━━━━━━━━━━━\u001b[0m\u001b[37m\u001b[0m \u001b[1m56s\u001b[0m 6ms/step - loss: 58695712.0000 - root_mean_squared_error: 0.4737 - val_loss: 61871520.0000 - val_root_mean_squared_error: 0.5117\n",
      "Epoch 194/200\n",
      "\u001b[1m9902/9902\u001b[0m \u001b[32m━━━━━━━━━━━━━━━━━━━━\u001b[0m\u001b[37m\u001b[0m \u001b[1m56s\u001b[0m 6ms/step - loss: 59868664.0000 - root_mean_squared_error: 0.4736 - val_loss: 62958816.0000 - val_root_mean_squared_error: 0.5138\n",
      "Epoch 195/200\n",
      "\u001b[1m9902/9902\u001b[0m \u001b[32m━━━━━━━━━━━━━━━━━━━━\u001b[0m\u001b[37m\u001b[0m \u001b[1m56s\u001b[0m 6ms/step - loss: 61227796.0000 - root_mean_squared_error: 0.4764 - val_loss: 65486636.0000 - val_root_mean_squared_error: 0.5187\n",
      "Epoch 196/200\n",
      "\u001b[1m9902/9902\u001b[0m \u001b[32m━━━━━━━━━━━━━━━━━━━━\u001b[0m\u001b[37m\u001b[0m \u001b[1m56s\u001b[0m 6ms/step - loss: 63207076.0000 - root_mean_squared_error: 0.4776 - val_loss: 66515084.0000 - val_root_mean_squared_error: 0.5178\n",
      "Epoch 197/200\n",
      "\u001b[1m9902/9902\u001b[0m \u001b[32m━━━━━━━━━━━━━━━━━━━━\u001b[0m\u001b[37m\u001b[0m \u001b[1m56s\u001b[0m 6ms/step - loss: 64579796.0000 - root_mean_squared_error: 0.4786 - val_loss: 63432264.0000 - val_root_mean_squared_error: 0.5117\n",
      "Epoch 198/200\n",
      "\u001b[1m9902/9902\u001b[0m \u001b[32m━━━━━━━━━━━━━━━━━━━━\u001b[0m\u001b[37m\u001b[0m \u001b[1m57s\u001b[0m 6ms/step - loss: 60657740.0000 - root_mean_squared_error: 0.4743 - val_loss: 60518844.0000 - val_root_mean_squared_error: 0.5067\n",
      "Epoch 199/200\n",
      "\u001b[1m9902/9902\u001b[0m \u001b[32m━━━━━━━━━━━━━━━━━━━━\u001b[0m\u001b[37m\u001b[0m \u001b[1m56s\u001b[0m 6ms/step - loss: 59823408.0000 - root_mean_squared_error: 0.4721 - val_loss: 60852168.0000 - val_root_mean_squared_error: 0.5083\n",
      "Epoch 200/200\n",
      "\u001b[1m9902/9902\u001b[0m \u001b[32m━━━━━━━━━━━━━━━━━━━━\u001b[0m\u001b[37m\u001b[0m \u001b[1m56s\u001b[0m 6ms/step - loss: 58395540.0000 - root_mean_squared_error: 0.4748 - val_loss: 61020924.0000 - val_root_mean_squared_error: 0.5191\n"
     ]
    }
   ],
   "source": [
    "history = model.fit(\n",
    "    x = x_train,\n",
    "    y = y_train,\n",
    "    batch_size = 512,\n",
    "    epochs = 200,\n",
    "    validation_data = (x_valid, y_valid)\n",
    ")"
   ]
  },
  {
   "cell_type": "markdown",
   "metadata": {},
   "source": [
    "# 5. Evaluation"
   ]
  },
  {
   "cell_type": "code",
   "execution_count": 45,
   "metadata": {},
   "outputs": [
    {
     "data": {
      "image/png": "[encoded data removed]",
      "text/plain": [
       "<Figure size 640x480 with 1 Axes>"
      ]
     },
     "metadata": {},
     "output_type": "display_data"
    }
   ],
   "source": [
    "plt.plot(history.history['root_mean_squared_error'])\n",
    "plt.plot(history.history['val_root_mean_squared_error'])\n",
    "plt.title('model_metrics')\n",
    "plt.ylabel('root_mean_squared_error')\n",
    "plt.xlabel('epoch')\n",
    "plt.legend(['train', 'test'], loc='upper left')\n",
    "plt.show()"
   ]
  }
 ],
 "metadata": {
  "kernelspec": {
   "display_name": "tf2.16",
   "language": "python",
   "name": "python3"
  },
  "language_info": {
   "codemirror_mode": {
    "name": "ipython",
    "version": 3
   },
   "file_extension": ".py",
   "mimetype": "text/x-python",
   "name": "python",
   "nbconvert_exporter": "python",
   "pygments_lexer": "ipython3",
   "version": "3.10.15"
  }
 },
 "nbformat": 4,
 "nbformat_minor": 2
}
