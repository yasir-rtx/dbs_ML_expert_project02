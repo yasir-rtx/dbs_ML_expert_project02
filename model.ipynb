{
 "cells": [
  {
   "cell_type": "markdown",
   "metadata": {},
   "source": [
    "# Library"
   ]
  },
  {
   "cell_type": "code",
   "execution_count": 4,
   "metadata": {},
   "outputs": [],
   "source": [
    "# For Clean Tensorflow Verbosity\n",
    "import os\n",
    "from silence_tensorflow import silence_tensorflow\n",
    "\n",
    "os.environ['TF_CPP_MIN_LOG_LEVEL'] = '3' \n",
    "silence_tensorflow()\n",
    "\n",
    "# Loading Data\n",
    "from pandas import read_csv\n",
    "from pandas import DataFrame\n",
    "\n",
    "# Manipulation\n",
    "from numpy import float32\n",
    "from numpy import reshape\n",
    "from numpy import hstack\n",
    "from numpy import zeros\n",
    "from numpy import sort\n",
    "\n",
    "# Plotting\n",
    "from matplotlib.ticker import FuncFormatter\n",
    "from matplotlib import pyplot as plt\n",
    "from seaborn import barplot\n",
    "\n",
    "# Modelling\n",
    "from sklearn.feature_extraction.text import TfidfVectorizer\n",
    "from sklearn.metrics.pairwise import cosine_similarity\n",
    "from sklearn.preprocessing import MinMaxScaler\n",
    "\n",
    "from tensorflow import tensordot\n",
    "from tensorflow import nn\n",
    "\n",
    "from keras.callbacks import Callback # type: ignore\n",
    "from keras.callbacks import EarlyStopping # type: ignore\n",
    "from keras import regularizers\n",
    "from keras import optimizers\n",
    "from keras import metrics\n",
    "from keras import losses\n",
    "from keras import layers\n",
    "from keras import Model"
   ]
  },
  {
   "cell_type": "markdown",
   "metadata": {},
   "source": [
    "# 1. Data Understanding"
   ]
  },
  {
   "cell_type": "markdown",
   "metadata": {},
   "source": [
    "## 1.1. Downloading Data"
   ]
  },
  {
   "cell_type": "markdown",
   "metadata": {},
   "source": [
    "Buat folder /data untuk menyimpan dataset"
   ]
  },
  {
   "cell_type": "code",
   "execution_count": 2,
   "metadata": {},
   "outputs": [],
   "source": [
    "os.makedirs('./data', exist_ok=True)"
   ]
  },
  {
   "cell_type": "markdown",
   "metadata": {},
   "source": [
    "Mendownload data dari kaggle dan menyimpannya dalam folder data/"
   ]
  },
  {
   "cell_type": "code",
   "execution_count": 3,
   "metadata": {},
   "outputs": [
    {
     "name": "stdout",
     "output_type": "stream",
     "text": [
      "Dataset URL: https://www.kaggle.com/datasets/CooperUnion/anime-recommendations-database\n",
      "License(s): CC0-1.0\n",
      "Downloading anime-recommendations-database.zip to data\n",
      "100%|█████████████████████████████████████▉| 25.0M/25.0M [00:10<00:00, 2.14MB/s]\n",
      "100%|██████████████████████████████████████| 25.0M/25.0M [00:10<00:00, 2.44MB/s]\n"
     ]
    }
   ],
   "source": [
    "!kaggle datasets download CooperUnion/anime-recommendations-database -p data/"
   ]
  },
  {
   "cell_type": "markdown",
   "metadata": {},
   "source": [
    "## 1.2. Extracting Data"
   ]
  },
  {
   "cell_type": "markdown",
   "metadata": {},
   "source": [
    "Mengekstrak data ke dalam folder data/"
   ]
  },
  {
   "cell_type": "code",
   "execution_count": 4,
   "metadata": {},
   "outputs": [
    {
     "name": "stdout",
     "output_type": "stream",
     "text": [
      "Archive:  data/anime-recommendations-database.zip\n",
      "  inflating: data/anime.csv          \n",
      "  inflating: data/rating.csv         \n"
     ]
    }
   ],
   "source": [
    "!unzip data/anime-recommendations-database.zip -d data/"
   ]
  },
  {
   "cell_type": "markdown",
   "metadata": {},
   "source": [
    "## 1.3. Data Loading"
   ]
  },
  {
   "cell_type": "code",
   "execution_count": 5,
   "metadata": {},
   "outputs": [
    {
     "name": "stdout",
     "output_type": "stream",
     "text": [
      "Dataframe Anime\n",
      "Jumlah Data Anime  : 12294\n",
      "\n",
      "Dataframe Rating\n",
      "Jumlah Data Rating : 73515\n",
      "Jumlah Anime yang di rating 11200\n"
     ]
    }
   ],
   "source": [
    "anime_df = read_csv('./data/anime.csv')\n",
    "rating_df = read_csv('./data/rating.csv')\n",
    "\n",
    "print(\"Dataframe Anime\")\n",
    "print(\"Jumlah Data Anime  :\", len(anime_df.anime_id.unique()))\n",
    "\n",
    "print(\"\\nDataframe Rating\")\n",
    "print(\"Jumlah Data Rating :\", len(rating_df.user_id.unique()))\n",
    "print(\"Jumlah Anime yang di rating\", len(rating_df.anime_id.unique()))"
   ]
  },
  {
   "cell_type": "markdown",
   "metadata": {},
   "source": [
    "## 1.5. Anime Variabel"
   ]
  },
  {
   "cell_type": "code",
   "execution_count": 6,
   "metadata": {},
   "outputs": [
    {
     "data": {
      "text/html": [
       "<div>\n",
       "<style scoped>\n",
       "    .dataframe tbody tr th:only-of-type {\n",
       "        vertical-align: middle;\n",
       "    }\n",
       "\n",
       "    .dataframe tbody tr th {\n",
       "        vertical-align: top;\n",
       "    }\n",
       "\n",
       "    .dataframe thead th {\n",
       "        text-align: right;\n",
       "    }\n",
       "</style>\n",
       "<table border=\"1\" class=\"dataframe\">\n",
       "  <thead>\n",
       "    <tr style=\"text-align: right;\">\n",
       "      <th></th>\n",
       "      <th>anime_id</th>\n",
       "      <th>name</th>\n",
       "      <th>genre</th>\n",
       "      <th>type</th>\n",
       "      <th>episodes</th>\n",
       "      <th>rating</th>\n",
       "      <th>members</th>\n",
       "    </tr>\n",
       "  </thead>\n",
       "  <tbody>\n",
       "    <tr>\n",
       "      <th>0</th>\n",
       "      <td>32281</td>\n",
       "      <td>Kimi no Na wa.</td>\n",
       "      <td>Drama, Romance, School, Supernatural</td>\n",
       "      <td>Movie</td>\n",
       "      <td>1</td>\n",
       "      <td>9.37</td>\n",
       "      <td>200630</td>\n",
       "    </tr>\n",
       "    <tr>\n",
       "      <th>1</th>\n",
       "      <td>5114</td>\n",
       "      <td>Fullmetal Alchemist: Brotherhood</td>\n",
       "      <td>Action, Adventure, Drama, Fantasy, Magic, Mili...</td>\n",
       "      <td>TV</td>\n",
       "      <td>64</td>\n",
       "      <td>9.26</td>\n",
       "      <td>793665</td>\n",
       "    </tr>\n",
       "    <tr>\n",
       "      <th>2</th>\n",
       "      <td>28977</td>\n",
       "      <td>Gintama°</td>\n",
       "      <td>Action, Comedy, Historical, Parody, Samurai, S...</td>\n",
       "      <td>TV</td>\n",
       "      <td>51</td>\n",
       "      <td>9.25</td>\n",
       "      <td>114262</td>\n",
       "    </tr>\n",
       "    <tr>\n",
       "      <th>3</th>\n",
       "      <td>9253</td>\n",
       "      <td>Steins;Gate</td>\n",
       "      <td>Sci-Fi, Thriller</td>\n",
       "      <td>TV</td>\n",
       "      <td>24</td>\n",
       "      <td>9.17</td>\n",
       "      <td>673572</td>\n",
       "    </tr>\n",
       "    <tr>\n",
       "      <th>4</th>\n",
       "      <td>9969</td>\n",
       "      <td>Gintama&amp;#039;</td>\n",
       "      <td>Action, Comedy, Historical, Parody, Samurai, S...</td>\n",
       "      <td>TV</td>\n",
       "      <td>51</td>\n",
       "      <td>9.16</td>\n",
       "      <td>151266</td>\n",
       "    </tr>\n",
       "  </tbody>\n",
       "</table>\n",
       "</div>"
      ],
      "text/plain": [
       "   anime_id                              name  \\\n",
       "0     32281                    Kimi no Na wa.   \n",
       "1      5114  Fullmetal Alchemist: Brotherhood   \n",
       "2     28977                          Gintama°   \n",
       "3      9253                       Steins;Gate   \n",
       "4      9969                     Gintama&#039;   \n",
       "\n",
       "                                               genre   type episodes  rating  \\\n",
       "0               Drama, Romance, School, Supernatural  Movie        1    9.37   \n",
       "1  Action, Adventure, Drama, Fantasy, Magic, Mili...     TV       64    9.26   \n",
       "2  Action, Comedy, Historical, Parody, Samurai, S...     TV       51    9.25   \n",
       "3                                   Sci-Fi, Thriller     TV       24    9.17   \n",
       "4  Action, Comedy, Historical, Parody, Samurai, S...     TV       51    9.16   \n",
       "\n",
       "   members  \n",
       "0   200630  \n",
       "1   793665  \n",
       "2   114262  \n",
       "3   673572  \n",
       "4   151266  "
      ]
     },
     "execution_count": 6,
     "metadata": {},
     "output_type": "execute_result"
    }
   ],
   "source": [
    "anime_df.head()"
   ]
  },
  {
   "cell_type": "code",
   "execution_count": null,
   "metadata": {},
   "outputs": [
    {
     "name": "stdout",
     "output_type": "stream",
     "text": [
      "<class 'pandas.core.frame.DataFrame'>\n",
      "RangeIndex: 12294 entries, 0 to 12293\n",
      "Data columns (total 7 columns):\n",
      " #   Column    Non-Null Count  Dtype  \n",
      "---  ------    --------------  -----  \n",
      " 0   anime_id  12294 non-null  int64  \n",
      " 1   name      12294 non-null  object \n",
      " 2   genre     12232 non-null  object \n",
      " 3   type      12269 non-null  object \n",
      " 4   episodes  12294 non-null  object \n",
      " 5   rating    12064 non-null  float64\n",
      " 6   members   12294 non-null  int64  \n",
      "dtypes: float64(1), int64(2), object(4)\n",
      "memory usage: 672.5+ KB\n"
     ]
    }
   ],
   "source": [
    "anime_df.info()"
   ]
  },
  {
   "cell_type": "code",
   "execution_count": 8,
   "metadata": {},
   "outputs": [
    {
     "name": "stdout",
     "output_type": "stream",
     "text": [
      "Jumlah Anime: 12294\n"
     ]
    }
   ],
   "source": [
    "print(\"Jumlah Anime:\", len(anime_df['anime_id'].unique()))"
   ]
  },
  {
   "cell_type": "code",
   "execution_count": 9,
   "metadata": {},
   "outputs": [
    {
     "data": {
      "text/plain": [
       "count    12064.000000\n",
       "mean         6.473902\n",
       "std          1.026746\n",
       "min          1.670000\n",
       "25%          5.880000\n",
       "50%          6.570000\n",
       "75%          7.180000\n",
       "max         10.000000\n",
       "Name: rating, dtype: float64"
      ]
     },
     "execution_count": 9,
     "metadata": {},
     "output_type": "execute_result"
    }
   ],
   "source": [
    "anime_df['rating'].describe()"
   ]
  },
  {
   "cell_type": "markdown",
   "metadata": {},
   "source": [
    "## 1.6. Rating Variabel"
   ]
  },
  {
   "cell_type": "code",
   "execution_count": 10,
   "metadata": {},
   "outputs": [
    {
     "data": {
      "text/html": [
       "<div>\n",
       "<style scoped>\n",
       "    .dataframe tbody tr th:only-of-type {\n",
       "        vertical-align: middle;\n",
       "    }\n",
       "\n",
       "    .dataframe tbody tr th {\n",
       "        vertical-align: top;\n",
       "    }\n",
       "\n",
       "    .dataframe thead th {\n",
       "        text-align: right;\n",
       "    }\n",
       "</style>\n",
       "<table border=\"1\" class=\"dataframe\">\n",
       "  <thead>\n",
       "    <tr style=\"text-align: right;\">\n",
       "      <th></th>\n",
       "      <th>user_id</th>\n",
       "      <th>anime_id</th>\n",
       "      <th>rating</th>\n",
       "    </tr>\n",
       "  </thead>\n",
       "  <tbody>\n",
       "    <tr>\n",
       "      <th>0</th>\n",
       "      <td>1</td>\n",
       "      <td>20</td>\n",
       "      <td>-1</td>\n",
       "    </tr>\n",
       "    <tr>\n",
       "      <th>1</th>\n",
       "      <td>1</td>\n",
       "      <td>24</td>\n",
       "      <td>-1</td>\n",
       "    </tr>\n",
       "    <tr>\n",
       "      <th>2</th>\n",
       "      <td>1</td>\n",
       "      <td>79</td>\n",
       "      <td>-1</td>\n",
       "    </tr>\n",
       "    <tr>\n",
       "      <th>3</th>\n",
       "      <td>1</td>\n",
       "      <td>226</td>\n",
       "      <td>-1</td>\n",
       "    </tr>\n",
       "    <tr>\n",
       "      <th>4</th>\n",
       "      <td>1</td>\n",
       "      <td>241</td>\n",
       "      <td>-1</td>\n",
       "    </tr>\n",
       "  </tbody>\n",
       "</table>\n",
       "</div>"
      ],
      "text/plain": [
       "   user_id  anime_id  rating\n",
       "0        1        20      -1\n",
       "1        1        24      -1\n",
       "2        1        79      -1\n",
       "3        1       226      -1\n",
       "4        1       241      -1"
      ]
     },
     "execution_count": 10,
     "metadata": {},
     "output_type": "execute_result"
    }
   ],
   "source": [
    "rating_df.head()"
   ]
  },
  {
   "cell_type": "code",
   "execution_count": 11,
   "metadata": {},
   "outputs": [
    {
     "name": "stdout",
     "output_type": "stream",
     "text": [
      "<class 'pandas.core.frame.DataFrame'>\n",
      "RangeIndex: 7813737 entries, 0 to 7813736\n",
      "Data columns (total 3 columns):\n",
      " #   Column    Dtype\n",
      "---  ------    -----\n",
      " 0   user_id   int64\n",
      " 1   anime_id  int64\n",
      " 2   rating    int64\n",
      "dtypes: int64(3)\n",
      "memory usage: 178.8 MB\n"
     ]
    }
   ],
   "source": [
    "rating_df.info()"
   ]
  },
  {
   "cell_type": "code",
   "execution_count": 12,
   "metadata": {},
   "outputs": [
    {
     "name": "stdout",
     "output_type": "stream",
     "text": [
      "Jumlah User     : 73515\n"
     ]
    },
    {
     "name": "stdout",
     "output_type": "stream",
     "text": [
      "Jumlah Anime    : 11200\n",
      "Panjang Rating  : 11\n",
      "Rentang Rating  : [-1  1  2  3  4  5  6  7  8  9 10]\n"
     ]
    }
   ],
   "source": [
    "print(\"Jumlah User     :\", len(rating_df.user_id.unique()))\n",
    "print(\"Jumlah Anime    :\", len(rating_df.anime_id.unique()))\n",
    "print(\"Panjang Rating  :\", len(rating_df.rating.unique()))\n",
    "print(\"Rentang Rating  :\", sort(rating_df.rating.unique()))"
   ]
  },
  {
   "cell_type": "markdown",
   "metadata": {},
   "source": [
    "Melihat jumlah data untuk setiap rating"
   ]
  },
  {
   "cell_type": "code",
   "execution_count": 13,
   "metadata": {},
   "outputs": [
    {
     "data": {
      "image/png": "[encoded data removed]",
      "text/plain": [
       "<Figure size 800x400 with 1 Axes>"
      ]
     },
     "metadata": {},
     "output_type": "display_data"
    }
   ],
   "source": [
    "rating_count = rating_df['rating'].value_counts(sort=False)\n",
    "\n",
    "def y_format(x, pos): return '{:,.0f}'.format(x)\n",
    "plt.figure(figsize=(8, 4))\n",
    "plt.bar(rating_count.index, rating_count.values, color='skyblue', edgecolor='black')\n",
    "plt.title('Distribusi Rating')\n",
    "plt.xlabel('Rating')\n",
    "plt.xticks(rating_count.index)\n",
    "plt.ylabel('Jumlah')\n",
    "plt.gca().yaxis.set_major_formatter(FuncFormatter(y_format))\n",
    "plt.grid(True)\n",
    "plt.show()"
   ]
  },
  {
   "cell_type": "markdown",
   "metadata": {},
   "source": [
    "Berdasarkan keterangan dataset, nilai rating -1 menandakan anime tersebut sudah ditonton oleh user namun belum mendapatkan rating. Karena data ini tidak dibutuhkan makan akan dihapus pada tahap data preprocessing."
   ]
  },
  {
   "cell_type": "code",
   "execution_count": 14,
   "metadata": {},
   "outputs": [],
   "source": [
    "user_rating_count = rating_df.groupby('user_id')['rating'].count()"
   ]
  },
  {
   "cell_type": "code",
   "execution_count": 15,
   "metadata": {},
   "outputs": [
    {
     "data": {
      "text/plain": [
       "<matplotlib.collections.PathCollection at 0x7f71a2f3ead0>"
      ]
     },
     "execution_count": 15,
     "metadata": {},
     "output_type": "execute_result"
    },
    {
     "data": {
      "image/png": "[encoded data removed]",
      "text/plain": [
       "<Figure size 1600x400 with 1 Axes>"
      ]
     },
     "metadata": {},
     "output_type": "display_data"
    }
   ],
   "source": [
    "plt.figure(figsize=(16, 4))\n",
    "plt.scatter(user_rating_count.index, user_rating_count.values)"
   ]
  },
  {
   "cell_type": "code",
   "execution_count": 23,
   "metadata": {},
   "outputs": [
    {
     "data": {
      "text/plain": [
       "anime_id\n",
       "1        False\n",
       "5        False\n",
       "6        False\n",
       "7        False\n",
       "8        False\n",
       "         ...  \n",
       "34367     True\n",
       "34412     True\n",
       "34475     True\n",
       "34476     True\n",
       "34519     True\n",
       "Name: rating, Length: 11200, dtype: bool"
      ]
     },
     "execution_count": 23,
     "metadata": {},
     "output_type": "execute_result"
    }
   ],
   "source": [
    "rating_df.groupby('anime_id')['rating'].count() < 50"
   ]
  },
  {
   "cell_type": "code",
   "execution_count": 17,
   "metadata": {},
   "outputs": [
    {
     "name": "stderr",
     "output_type": "stream",
     "text": [
      "/tmp/ipykernel_2048/737623655.py:1: UserWarning: Boolean Series key will be reindexed to match DataFrame index.\n",
      "  anime_rating_count = rating_df[rating_df.groupby('anime_id')['rating'].count() < 50]\n"
     ]
    },
    {
     "ename": "IndexingError",
     "evalue": "Unalignable boolean Series provided as indexer (index of the boolean Series and of the indexed object do not match).",
     "output_type": "error",
     "traceback": [
      "\u001b[0;31m---------------------------------------------------------------------------\u001b[0m",
      "\u001b[0;31mIndexingError\u001b[0m                             Traceback (most recent call last)",
      "Cell \u001b[0;32mIn[17], line 1\u001b[0m\n\u001b[0;32m----> 1\u001b[0m anime_rating_count \u001b[38;5;241m=\u001b[39m \u001b[43mrating_df\u001b[49m\u001b[43m[\u001b[49m\u001b[43mrating_df\u001b[49m\u001b[38;5;241;43m.\u001b[39;49m\u001b[43mgroupby\u001b[49m\u001b[43m(\u001b[49m\u001b[38;5;124;43m'\u001b[39;49m\u001b[38;5;124;43manime_id\u001b[39;49m\u001b[38;5;124;43m'\u001b[39;49m\u001b[43m)\u001b[49m\u001b[43m[\u001b[49m\u001b[38;5;124;43m'\u001b[39;49m\u001b[38;5;124;43mrating\u001b[39;49m\u001b[38;5;124;43m'\u001b[39;49m\u001b[43m]\u001b[49m\u001b[38;5;241;43m.\u001b[39;49m\u001b[43mcount\u001b[49m\u001b[43m(\u001b[49m\u001b[43m)\u001b[49m\u001b[43m \u001b[49m\u001b[38;5;241;43m<\u001b[39;49m\u001b[43m \u001b[49m\u001b[38;5;241;43m50\u001b[39;49m\u001b[43m]\u001b[49m\n\u001b[1;32m      2\u001b[0m anime_rating_count\n",
      "File \u001b[0;32m~/.pyenv/tf2.16/lib/python3.10/site-packages/pandas/core/frame.py:4093\u001b[0m, in \u001b[0;36mDataFrame.__getitem__\u001b[0;34m(self, key)\u001b[0m\n\u001b[1;32m   4091\u001b[0m \u001b[38;5;66;03m# Do we have a (boolean) 1d indexer?\u001b[39;00m\n\u001b[1;32m   4092\u001b[0m \u001b[38;5;28;01mif\u001b[39;00m com\u001b[38;5;241m.\u001b[39mis_bool_indexer(key):\n\u001b[0;32m-> 4093\u001b[0m     \u001b[38;5;28;01mreturn\u001b[39;00m \u001b[38;5;28;43mself\u001b[39;49m\u001b[38;5;241;43m.\u001b[39;49m\u001b[43m_getitem_bool_array\u001b[49m\u001b[43m(\u001b[49m\u001b[43mkey\u001b[49m\u001b[43m)\u001b[49m\n\u001b[1;32m   4095\u001b[0m \u001b[38;5;66;03m# We are left with two options: a single key, and a collection of keys,\u001b[39;00m\n\u001b[1;32m   4096\u001b[0m \u001b[38;5;66;03m# We interpret tuples as collections only for non-MultiIndex\u001b[39;00m\n\u001b[1;32m   4097\u001b[0m is_single_key \u001b[38;5;241m=\u001b[39m \u001b[38;5;28misinstance\u001b[39m(key, \u001b[38;5;28mtuple\u001b[39m) \u001b[38;5;129;01mor\u001b[39;00m \u001b[38;5;129;01mnot\u001b[39;00m is_list_like(key)\n",
      "File \u001b[0;32m~/.pyenv/tf2.16/lib/python3.10/site-packages/pandas/core/frame.py:4149\u001b[0m, in \u001b[0;36mDataFrame._getitem_bool_array\u001b[0;34m(self, key)\u001b[0m\n\u001b[1;32m   4143\u001b[0m     \u001b[38;5;28;01mraise\u001b[39;00m \u001b[38;5;167;01mValueError\u001b[39;00m(\n\u001b[1;32m   4144\u001b[0m         \u001b[38;5;124mf\u001b[39m\u001b[38;5;124m\"\u001b[39m\u001b[38;5;124mItem wrong length \u001b[39m\u001b[38;5;132;01m{\u001b[39;00m\u001b[38;5;28mlen\u001b[39m(key)\u001b[38;5;132;01m}\u001b[39;00m\u001b[38;5;124m instead of \u001b[39m\u001b[38;5;132;01m{\u001b[39;00m\u001b[38;5;28mlen\u001b[39m(\u001b[38;5;28mself\u001b[39m\u001b[38;5;241m.\u001b[39mindex)\u001b[38;5;132;01m}\u001b[39;00m\u001b[38;5;124m.\u001b[39m\u001b[38;5;124m\"\u001b[39m\n\u001b[1;32m   4145\u001b[0m     )\n\u001b[1;32m   4147\u001b[0m \u001b[38;5;66;03m# check_bool_indexer will throw exception if Series key cannot\u001b[39;00m\n\u001b[1;32m   4148\u001b[0m \u001b[38;5;66;03m# be reindexed to match DataFrame rows\u001b[39;00m\n\u001b[0;32m-> 4149\u001b[0m key \u001b[38;5;241m=\u001b[39m \u001b[43mcheck_bool_indexer\u001b[49m\u001b[43m(\u001b[49m\u001b[38;5;28;43mself\u001b[39;49m\u001b[38;5;241;43m.\u001b[39;49m\u001b[43mindex\u001b[49m\u001b[43m,\u001b[49m\u001b[43m \u001b[49m\u001b[43mkey\u001b[49m\u001b[43m)\u001b[49m\n\u001b[1;32m   4151\u001b[0m \u001b[38;5;28;01mif\u001b[39;00m key\u001b[38;5;241m.\u001b[39mall():\n\u001b[1;32m   4152\u001b[0m     \u001b[38;5;28;01mreturn\u001b[39;00m \u001b[38;5;28mself\u001b[39m\u001b[38;5;241m.\u001b[39mcopy(deep\u001b[38;5;241m=\u001b[39m\u001b[38;5;28;01mNone\u001b[39;00m)\n",
      "File \u001b[0;32m~/.pyenv/tf2.16/lib/python3.10/site-packages/pandas/core/indexing.py:2662\u001b[0m, in \u001b[0;36mcheck_bool_indexer\u001b[0;34m(index, key)\u001b[0m\n\u001b[1;32m   2660\u001b[0m indexer \u001b[38;5;241m=\u001b[39m result\u001b[38;5;241m.\u001b[39mindex\u001b[38;5;241m.\u001b[39mget_indexer_for(index)\n\u001b[1;32m   2661\u001b[0m \u001b[38;5;28;01mif\u001b[39;00m \u001b[38;5;241m-\u001b[39m\u001b[38;5;241m1\u001b[39m \u001b[38;5;129;01min\u001b[39;00m indexer:\n\u001b[0;32m-> 2662\u001b[0m     \u001b[38;5;28;01mraise\u001b[39;00m IndexingError(\n\u001b[1;32m   2663\u001b[0m         \u001b[38;5;124m\"\u001b[39m\u001b[38;5;124mUnalignable boolean Series provided as \u001b[39m\u001b[38;5;124m\"\u001b[39m\n\u001b[1;32m   2664\u001b[0m         \u001b[38;5;124m\"\u001b[39m\u001b[38;5;124mindexer (index of the boolean Series and of \u001b[39m\u001b[38;5;124m\"\u001b[39m\n\u001b[1;32m   2665\u001b[0m         \u001b[38;5;124m\"\u001b[39m\u001b[38;5;124mthe indexed object do not match).\u001b[39m\u001b[38;5;124m\"\u001b[39m\n\u001b[1;32m   2666\u001b[0m     )\n\u001b[1;32m   2668\u001b[0m result \u001b[38;5;241m=\u001b[39m result\u001b[38;5;241m.\u001b[39mtake(indexer)\n\u001b[1;32m   2670\u001b[0m \u001b[38;5;66;03m# fall through for boolean\u001b[39;00m\n",
      "\u001b[0;31mIndexingError\u001b[0m: Unalignable boolean Series provided as indexer (index of the boolean Series and of the indexed object do not match)."
     ]
    }
   ],
   "source": [
    "anime_rating_count = rating_df[rating_df.groupby('anime_id')['rating'].count() < 50]\n",
    "anime_rating_count"
   ]
  },
  {
   "cell_type": "markdown",
   "metadata": {},
   "source": [
    "Mencetak informasi statistik deskriptif"
   ]
  },
  {
   "cell_type": "code",
   "execution_count": 18,
   "metadata": {},
   "outputs": [
    {
     "data": {
      "text/plain": [
       "count    7.813737e+06\n",
       "mean     6.144030e+00\n",
       "std      3.727800e+00\n",
       "min     -1.000000e+00\n",
       "25%      6.000000e+00\n",
       "50%      7.000000e+00\n",
       "75%      9.000000e+00\n",
       "max      1.000000e+01\n",
       "Name: rating, dtype: float64"
      ]
     },
     "execution_count": 18,
     "metadata": {},
     "output_type": "execute_result"
    }
   ],
   "source": [
    "rating_df['rating'].describe()"
   ]
  },
  {
   "cell_type": "markdown",
   "metadata": {},
   "source": [
    "# 2. Data Preprocessing"
   ]
  },
  {
   "cell_type": "markdown",
   "metadata": {},
   "source": [
    "## 2.1. Missing Value"
   ]
  },
  {
   "cell_type": "markdown",
   "metadata": {},
   "source": [
    "### 2.1.1. Variabel Anime"
   ]
  },
  {
   "cell_type": "code",
   "execution_count": 24,
   "metadata": {},
   "outputs": [
    {
     "data": {
      "text/plain": [
       "anime_id      0\n",
       "name          0\n",
       "genre        62\n",
       "type         25\n",
       "episodes      0\n",
       "rating      230\n",
       "members       0\n",
       "dtype: int64"
      ]
     },
     "execution_count": 24,
     "metadata": {},
     "output_type": "execute_result"
    }
   ],
   "source": [
    "anime_df.isnull().sum()"
   ]
  },
  {
   "cell_type": "code",
   "execution_count": 26,
   "metadata": {},
   "outputs": [
    {
     "data": {
      "text/html": [
       "<div>\n",
       "<style scoped>\n",
       "    .dataframe tbody tr th:only-of-type {\n",
       "        vertical-align: middle;\n",
       "    }\n",
       "\n",
       "    .dataframe tbody tr th {\n",
       "        vertical-align: top;\n",
       "    }\n",
       "\n",
       "    .dataframe thead th {\n",
       "        text-align: right;\n",
       "    }\n",
       "</style>\n",
       "<table border=\"1\" class=\"dataframe\">\n",
       "  <thead>\n",
       "    <tr style=\"text-align: right;\">\n",
       "      <th></th>\n",
       "      <th>anime_id</th>\n",
       "      <th>name</th>\n",
       "      <th>genre</th>\n",
       "      <th>type</th>\n",
       "      <th>episodes</th>\n",
       "      <th>rating</th>\n",
       "      <th>members</th>\n",
       "    </tr>\n",
       "  </thead>\n",
       "  <tbody>\n",
       "    <tr>\n",
       "      <th>2844</th>\n",
       "      <td>33242</td>\n",
       "      <td>IS: Infinite Stratos 2 - Infinite Wedding</td>\n",
       "      <td>NaN</td>\n",
       "      <td>Special</td>\n",
       "      <td>1</td>\n",
       "      <td>7.15</td>\n",
       "      <td>6604</td>\n",
       "    </tr>\n",
       "    <tr>\n",
       "      <th>3541</th>\n",
       "      <td>33589</td>\n",
       "      <td>ViVid Strike!</td>\n",
       "      <td>NaN</td>\n",
       "      <td>TV</td>\n",
       "      <td>12</td>\n",
       "      <td>6.96</td>\n",
       "      <td>12345</td>\n",
       "    </tr>\n",
       "    <tr>\n",
       "      <th>6040</th>\n",
       "      <td>29765</td>\n",
       "      <td>Metropolis (2009)</td>\n",
       "      <td>NaN</td>\n",
       "      <td>Movie</td>\n",
       "      <td>1</td>\n",
       "      <td>6.27</td>\n",
       "      <td>313</td>\n",
       "    </tr>\n",
       "    <tr>\n",
       "      <th>6646</th>\n",
       "      <td>32695</td>\n",
       "      <td>Match Shoujo</td>\n",
       "      <td>NaN</td>\n",
       "      <td>ONA</td>\n",
       "      <td>1</td>\n",
       "      <td>6.02</td>\n",
       "      <td>242</td>\n",
       "    </tr>\n",
       "    <tr>\n",
       "      <th>7018</th>\n",
       "      <td>33187</td>\n",
       "      <td>Katsudou Shashin</td>\n",
       "      <td>NaN</td>\n",
       "      <td>Movie</td>\n",
       "      <td>1</td>\n",
       "      <td>5.79</td>\n",
       "      <td>607</td>\n",
       "    </tr>\n",
       "    <tr>\n",
       "      <th>...</th>\n",
       "      <td>...</td>\n",
       "      <td>...</td>\n",
       "      <td>...</td>\n",
       "      <td>...</td>\n",
       "      <td>...</td>\n",
       "      <td>...</td>\n",
       "      <td>...</td>\n",
       "    </tr>\n",
       "    <tr>\n",
       "      <th>12274</th>\n",
       "      <td>34492</td>\n",
       "      <td>Nuki Doki! Tenshi to Akuma no Sakusei Battle -...</td>\n",
       "      <td>Hentai</td>\n",
       "      <td>OVA</td>\n",
       "      <td>Unknown</td>\n",
       "      <td>NaN</td>\n",
       "      <td>392</td>\n",
       "    </tr>\n",
       "    <tr>\n",
       "      <th>12279</th>\n",
       "      <td>34491</td>\n",
       "      <td>Sagurare Otome The Animation</td>\n",
       "      <td>Hentai</td>\n",
       "      <td>OVA</td>\n",
       "      <td>1</td>\n",
       "      <td>NaN</td>\n",
       "      <td>79</td>\n",
       "    </tr>\n",
       "    <tr>\n",
       "      <th>12280</th>\n",
       "      <td>34312</td>\n",
       "      <td>Saimin Class</td>\n",
       "      <td>Hentai</td>\n",
       "      <td>OVA</td>\n",
       "      <td>Unknown</td>\n",
       "      <td>NaN</td>\n",
       "      <td>240</td>\n",
       "    </tr>\n",
       "    <tr>\n",
       "      <th>12282</th>\n",
       "      <td>34388</td>\n",
       "      <td>Shikkoku no Shaga The Animation</td>\n",
       "      <td>Hentai</td>\n",
       "      <td>OVA</td>\n",
       "      <td>Unknown</td>\n",
       "      <td>NaN</td>\n",
       "      <td>195</td>\n",
       "    </tr>\n",
       "    <tr>\n",
       "      <th>12285</th>\n",
       "      <td>34399</td>\n",
       "      <td>Taimanin Asagi 3</td>\n",
       "      <td>Demons, Hentai, Supernatural</td>\n",
       "      <td>OVA</td>\n",
       "      <td>Unknown</td>\n",
       "      <td>NaN</td>\n",
       "      <td>485</td>\n",
       "    </tr>\n",
       "  </tbody>\n",
       "</table>\n",
       "<p>277 rows × 7 columns</p>\n",
       "</div>"
      ],
      "text/plain": [
       "       anime_id                                               name  \\\n",
       "2844      33242          IS: Infinite Stratos 2 - Infinite Wedding   \n",
       "3541      33589                                      ViVid Strike!   \n",
       "6040      29765                                  Metropolis (2009)   \n",
       "6646      32695                                       Match Shoujo   \n",
       "7018      33187                                   Katsudou Shashin   \n",
       "...         ...                                                ...   \n",
       "12274     34492  Nuki Doki! Tenshi to Akuma no Sakusei Battle -...   \n",
       "12279     34491                       Sagurare Otome The Animation   \n",
       "12280     34312                                       Saimin Class   \n",
       "12282     34388                    Shikkoku no Shaga The Animation   \n",
       "12285     34399                                   Taimanin Asagi 3   \n",
       "\n",
       "                              genre     type episodes  rating  members  \n",
       "2844                            NaN  Special        1    7.15     6604  \n",
       "3541                            NaN       TV       12    6.96    12345  \n",
       "6040                            NaN    Movie        1    6.27      313  \n",
       "6646                            NaN      ONA        1    6.02      242  \n",
       "7018                            NaN    Movie        1    5.79      607  \n",
       "...                             ...      ...      ...     ...      ...  \n",
       "12274                        Hentai      OVA  Unknown     NaN      392  \n",
       "12279                        Hentai      OVA        1     NaN       79  \n",
       "12280                        Hentai      OVA  Unknown     NaN      240  \n",
       "12282                        Hentai      OVA  Unknown     NaN      195  \n",
       "12285  Demons, Hentai, Supernatural      OVA  Unknown     NaN      485  \n",
       "\n",
       "[277 rows x 7 columns]"
      ]
     },
     "execution_count": 26,
     "metadata": {},
     "output_type": "execute_result"
    }
   ],
   "source": [
    "anime_df[anime_df.isnull().any(axis=1)]"
   ]
  },
  {
   "cell_type": "markdown",
   "metadata": {},
   "source": [
    "Terdapat 277 data yang memilik missing value. Karena jumlahnya sedikit maka data dengan missing value akan dihapus"
   ]
  },
  {
   "cell_type": "code",
   "execution_count": 27,
   "metadata": {},
   "outputs": [
    {
     "data": {
      "text/plain": [
       "anime_id    0\n",
       "name        0\n",
       "genre       0\n",
       "type        0\n",
       "episodes    0\n",
       "rating      0\n",
       "members     0\n",
       "dtype: int64"
      ]
     },
     "execution_count": 27,
     "metadata": {},
     "output_type": "execute_result"
    }
   ],
   "source": [
    "anime_df = anime_df.dropna()\n",
    "\n",
    "# Periksa kembali missing value\n",
    "anime_df.isnull().sum()"
   ]
  },
  {
   "cell_type": "markdown",
   "metadata": {},
   "source": [
    "Sekarang dataset anime sudah bersih dari missing value dan jumlah data berkurang menjadi 12017"
   ]
  },
  {
   "cell_type": "markdown",
   "metadata": {},
   "source": [
    "### 2.1.2. Variabel Rating"
   ]
  },
  {
   "cell_type": "code",
   "execution_count": 28,
   "metadata": {},
   "outputs": [
    {
     "data": {
      "text/plain": [
       "user_id     0\n",
       "anime_id    0\n",
       "rating      0\n",
       "dtype: int64"
      ]
     },
     "execution_count": 28,
     "metadata": {},
     "output_type": "execute_result"
    }
   ],
   "source": [
    "rating_df.isnull().sum()"
   ]
  },
  {
   "cell_type": "markdown",
   "metadata": {},
   "source": [
    "Tidak terdapat missing value pada dataset rating"
   ]
  },
  {
   "cell_type": "markdown",
   "metadata": {},
   "source": [
    "## 2.2. Unrated Anime"
   ]
  },
  {
   "cell_type": "code",
   "execution_count": 29,
   "metadata": {},
   "outputs": [
    {
     "data": {
      "text/html": [
       "<div>\n",
       "<style scoped>\n",
       "    .dataframe tbody tr th:only-of-type {\n",
       "        vertical-align: middle;\n",
       "    }\n",
       "\n",
       "    .dataframe tbody tr th {\n",
       "        vertical-align: top;\n",
       "    }\n",
       "\n",
       "    .dataframe thead th {\n",
       "        text-align: right;\n",
       "    }\n",
       "</style>\n",
       "<table border=\"1\" class=\"dataframe\">\n",
       "  <thead>\n",
       "    <tr style=\"text-align: right;\">\n",
       "      <th></th>\n",
       "      <th>user_id</th>\n",
       "      <th>anime_id</th>\n",
       "      <th>rating</th>\n",
       "    </tr>\n",
       "  </thead>\n",
       "  <tbody>\n",
       "    <tr>\n",
       "      <th>2099275</th>\n",
       "      <td>20330</td>\n",
       "      <td>1</td>\n",
       "      <td>9</td>\n",
       "    </tr>\n",
       "    <tr>\n",
       "      <th>4019592</th>\n",
       "      <td>38114</td>\n",
       "      <td>28171</td>\n",
       "      <td>9</td>\n",
       "    </tr>\n",
       "    <tr>\n",
       "      <th>4860697</th>\n",
       "      <td>46369</td>\n",
       "      <td>1887</td>\n",
       "      <td>8</td>\n",
       "    </tr>\n",
       "    <tr>\n",
       "      <th>894702</th>\n",
       "      <td>8115</td>\n",
       "      <td>15437</td>\n",
       "      <td>5</td>\n",
       "    </tr>\n",
       "    <tr>\n",
       "      <th>4019174</th>\n",
       "      <td>38110</td>\n",
       "      <td>1604</td>\n",
       "      <td>10</td>\n",
       "    </tr>\n",
       "  </tbody>\n",
       "</table>\n",
       "</div>"
      ],
      "text/plain": [
       "         user_id  anime_id  rating\n",
       "2099275    20330         1       9\n",
       "4019592    38114     28171       9\n",
       "4860697    46369      1887       8\n",
       "894702      8115     15437       5\n",
       "4019174    38110      1604      10"
      ]
     },
     "execution_count": 29,
     "metadata": {},
     "output_type": "execute_result"
    }
   ],
   "source": [
    "rating_df = rating_df.loc[rating_df['rating'] != -1]\n",
    "rating_df.sample(5)"
   ]
  },
  {
   "cell_type": "code",
   "execution_count": 30,
   "metadata": {},
   "outputs": [
    {
     "data": {
      "text/plain": [
       "rating\n",
       "1       16649\n",
       "2       23150\n",
       "3       41453\n",
       "4      104291\n",
       "5      282806\n",
       "6      637775\n",
       "7     1375287\n",
       "8     1646019\n",
       "9     1254096\n",
       "10     955715\n",
       "Name: count, dtype: int64"
      ]
     },
     "execution_count": 30,
     "metadata": {},
     "output_type": "execute_result"
    }
   ],
   "source": [
    "rating_df.value_counts(rating_df['rating'], sort=False)"
   ]
  },
  {
   "cell_type": "markdown",
   "metadata": {},
   "source": [
    "## 2.3. Bias Data"
   ]
  },
  {
   "cell_type": "code",
   "execution_count": 31,
   "metadata": {},
   "outputs": [],
   "source": [
    "data_anime = anime_df\n",
    "data_rating = rating_df"
   ]
  },
  {
   "cell_type": "markdown",
   "metadata": {},
   "source": [
    "### 2.3.1. User"
   ]
  },
  {
   "cell_type": "code",
   "execution_count": 35,
   "metadata": {},
   "outputs": [
    {
     "name": "stdout",
     "output_type": "stream",
     "text": [
      "User sebelum bias dihapus: 69600\n",
      "User setelah bias dihapus: 891\n"
     ]
    }
   ],
   "source": [
    "print(\"User sebelum bias dihapus:\", len(data_rating['user_id'].unique()))\n",
    "\n",
    "user_count_rating = rating_df['user_id'].value_counts()\n",
    "valid_users = user_count_rating[user_count_rating >= 100]\n",
    "data_rating = data_rating[data_rating['user_id'].isin(valid_users)]\n",
    "\n",
    "print(\"User setelah bias dihapus:\", len(data_rating['user_id'].unique()))"
   ]
  },
  {
   "cell_type": "markdown",
   "metadata": {},
   "source": [
    "### 2.3.2. Anime"
   ]
  },
  {
   "cell_type": "code",
   "execution_count": 36,
   "metadata": {},
   "outputs": [
    {
     "data": {
      "text/html": [
       "<div>\n",
       "<style scoped>\n",
       "    .dataframe tbody tr th:only-of-type {\n",
       "        vertical-align: middle;\n",
       "    }\n",
       "\n",
       "    .dataframe tbody tr th {\n",
       "        vertical-align: top;\n",
       "    }\n",
       "\n",
       "    .dataframe thead th {\n",
       "        text-align: right;\n",
       "    }\n",
       "</style>\n",
       "<table border=\"1\" class=\"dataframe\">\n",
       "  <thead>\n",
       "    <tr style=\"text-align: right;\">\n",
       "      <th></th>\n",
       "      <th>user_id</th>\n",
       "      <th>anime_id</th>\n",
       "      <th>rating</th>\n",
       "    </tr>\n",
       "  </thead>\n",
       "  <tbody>\n",
       "    <tr>\n",
       "      <th>8273</th>\n",
       "      <td>100</td>\n",
       "      <td>1281</td>\n",
       "      <td>10</td>\n",
       "    </tr>\n",
       "    <tr>\n",
       "      <th>8274</th>\n",
       "      <td>100</td>\n",
       "      <td>6746</td>\n",
       "      <td>10</td>\n",
       "    </tr>\n",
       "    <tr>\n",
       "      <th>8275</th>\n",
       "      <td>100</td>\n",
       "      <td>8074</td>\n",
       "      <td>9</td>\n",
       "    </tr>\n",
       "    <tr>\n",
       "      <th>8276</th>\n",
       "      <td>100</td>\n",
       "      <td>9919</td>\n",
       "      <td>10</td>\n",
       "    </tr>\n",
       "    <tr>\n",
       "      <th>8277</th>\n",
       "      <td>100</td>\n",
       "      <td>11757</td>\n",
       "      <td>10</td>\n",
       "    </tr>\n",
       "    <tr>\n",
       "      <th>...</th>\n",
       "      <td>...</td>\n",
       "      <td>...</td>\n",
       "      <td>...</td>\n",
       "    </tr>\n",
       "    <tr>\n",
       "      <th>367885</th>\n",
       "      <td>3747</td>\n",
       "      <td>11759</td>\n",
       "      <td>8</td>\n",
       "    </tr>\n",
       "    <tr>\n",
       "      <th>367890</th>\n",
       "      <td>3747</td>\n",
       "      <td>14513</td>\n",
       "      <td>9</td>\n",
       "    </tr>\n",
       "    <tr>\n",
       "      <th>367891</th>\n",
       "      <td>3747</td>\n",
       "      <td>14741</td>\n",
       "      <td>7</td>\n",
       "    </tr>\n",
       "    <tr>\n",
       "      <th>367895</th>\n",
       "      <td>3747</td>\n",
       "      <td>15583</td>\n",
       "      <td>7</td>\n",
       "    </tr>\n",
       "    <tr>\n",
       "      <th>367906</th>\n",
       "      <td>3747</td>\n",
       "      <td>20507</td>\n",
       "      <td>8</td>\n",
       "    </tr>\n",
       "  </tbody>\n",
       "</table>\n",
       "<p>76645 rows × 3 columns</p>\n",
       "</div>"
      ],
      "text/plain": [
       "        user_id  anime_id  rating\n",
       "8273        100      1281      10\n",
       "8274        100      6746      10\n",
       "8275        100      8074       9\n",
       "8276        100      9919      10\n",
       "8277        100     11757      10\n",
       "...         ...       ...     ...\n",
       "367885     3747     11759       8\n",
       "367890     3747     14513       9\n",
       "367891     3747     14741       7\n",
       "367895     3747     15583       7\n",
       "367906     3747     20507       8\n",
       "\n",
       "[76645 rows x 3 columns]"
      ]
     },
     "execution_count": 36,
     "metadata": {},
     "output_type": "execute_result"
    }
   ],
   "source": [
    "data_rating"
   ]
  },
  {
   "cell_type": "code",
   "execution_count": 37,
   "metadata": {},
   "outputs": [
    {
     "data": {
      "text/plain": [
       "anime_id\n",
       "1        146\n",
       "5         41\n",
       "6         91\n",
       "7         10\n",
       "8          1\n",
       "        ... \n",
       "33558      9\n",
       "33569      1\n",
       "33964      1\n",
       "34103     10\n",
       "34240     19\n",
       "Name: rating, Length: 4579, dtype: int64"
      ]
     },
     "execution_count": 37,
     "metadata": {},
     "output_type": "execute_result"
    }
   ],
   "source": [
    "data_rating_count = data_rating.groupby('anime_id')['rating'].count()\n",
    "data_rating_count"
   ]
  },
  {
   "cell_type": "code",
   "execution_count": 38,
   "metadata": {},
   "outputs": [
    {
     "data": {
      "text/html": [
       "<div>\n",
       "<style scoped>\n",
       "    .dataframe tbody tr th:only-of-type {\n",
       "        vertical-align: middle;\n",
       "    }\n",
       "\n",
       "    .dataframe tbody tr th {\n",
       "        vertical-align: top;\n",
       "    }\n",
       "\n",
       "    .dataframe thead th {\n",
       "        text-align: right;\n",
       "    }\n",
       "</style>\n",
       "<table border=\"1\" class=\"dataframe\">\n",
       "  <thead>\n",
       "    <tr style=\"text-align: right;\">\n",
       "      <th></th>\n",
       "      <th>anime_id</th>\n",
       "      <th>name</th>\n",
       "      <th>genre</th>\n",
       "      <th>type</th>\n",
       "      <th>episodes</th>\n",
       "      <th>rating</th>\n",
       "      <th>members</th>\n",
       "      <th>num_rating</th>\n",
       "    </tr>\n",
       "  </thead>\n",
       "  <tbody>\n",
       "    <tr>\n",
       "      <th>0</th>\n",
       "      <td>32281</td>\n",
       "      <td>Kimi no Na wa.</td>\n",
       "      <td>Drama, Romance, School, Supernatural</td>\n",
       "      <td>Movie</td>\n",
       "      <td>1</td>\n",
       "      <td>9.37</td>\n",
       "      <td>200630</td>\n",
       "      <td>18</td>\n",
       "    </tr>\n",
       "    <tr>\n",
       "      <th>1</th>\n",
       "      <td>5114</td>\n",
       "      <td>Fullmetal Alchemist: Brotherhood</td>\n",
       "      <td>Action, Adventure, Drama, Fantasy, Magic, Mili...</td>\n",
       "      <td>TV</td>\n",
       "      <td>64</td>\n",
       "      <td>9.26</td>\n",
       "      <td>793665</td>\n",
       "      <td>322</td>\n",
       "    </tr>\n",
       "    <tr>\n",
       "      <th>2</th>\n",
       "      <td>28977</td>\n",
       "      <td>Gintama°</td>\n",
       "      <td>Action, Comedy, Historical, Parody, Samurai, S...</td>\n",
       "      <td>TV</td>\n",
       "      <td>51</td>\n",
       "      <td>9.25</td>\n",
       "      <td>114262</td>\n",
       "      <td>13</td>\n",
       "    </tr>\n",
       "    <tr>\n",
       "      <th>3</th>\n",
       "      <td>9253</td>\n",
       "      <td>Steins;Gate</td>\n",
       "      <td>Sci-Fi, Thriller</td>\n",
       "      <td>TV</td>\n",
       "      <td>24</td>\n",
       "      <td>9.17</td>\n",
       "      <td>673572</td>\n",
       "      <td>275</td>\n",
       "    </tr>\n",
       "    <tr>\n",
       "      <th>4</th>\n",
       "      <td>9969</td>\n",
       "      <td>Gintama&amp;#039;</td>\n",
       "      <td>Action, Comedy, Historical, Parody, Samurai, S...</td>\n",
       "      <td>TV</td>\n",
       "      <td>51</td>\n",
       "      <td>9.16</td>\n",
       "      <td>151266</td>\n",
       "      <td>39</td>\n",
       "    </tr>\n",
       "    <tr>\n",
       "      <th>...</th>\n",
       "      <td>...</td>\n",
       "      <td>...</td>\n",
       "      <td>...</td>\n",
       "      <td>...</td>\n",
       "      <td>...</td>\n",
       "      <td>...</td>\n",
       "      <td>...</td>\n",
       "      <td>...</td>\n",
       "    </tr>\n",
       "    <tr>\n",
       "      <th>4574</th>\n",
       "      <td>3793</td>\n",
       "      <td>Dyogrammaton</td>\n",
       "      <td>Hentai</td>\n",
       "      <td>OVA</td>\n",
       "      <td>2</td>\n",
       "      <td>5.48</td>\n",
       "      <td>1661</td>\n",
       "      <td>1</td>\n",
       "    </tr>\n",
       "    <tr>\n",
       "      <th>4575</th>\n",
       "      <td>2592</td>\n",
       "      <td>Kimera</td>\n",
       "      <td>Action, Horror, Sci-Fi, Supernatural, Vampire,...</td>\n",
       "      <td>OVA</td>\n",
       "      <td>1</td>\n",
       "      <td>5.29</td>\n",
       "      <td>3374</td>\n",
       "      <td>1</td>\n",
       "    </tr>\n",
       "    <tr>\n",
       "      <th>4576</th>\n",
       "      <td>5391</td>\n",
       "      <td>Pico to Chico</td>\n",
       "      <td>Hentai, Yaoi</td>\n",
       "      <td>OVA</td>\n",
       "      <td>1</td>\n",
       "      <td>5.19</td>\n",
       "      <td>29463</td>\n",
       "      <td>10</td>\n",
       "    </tr>\n",
       "    <tr>\n",
       "      <th>4577</th>\n",
       "      <td>4866</td>\n",
       "      <td>Pico x CoCo x Chico</td>\n",
       "      <td>Hentai, Yaoi</td>\n",
       "      <td>OVA</td>\n",
       "      <td>1</td>\n",
       "      <td>5.16</td>\n",
       "      <td>27411</td>\n",
       "      <td>11</td>\n",
       "    </tr>\n",
       "    <tr>\n",
       "      <th>4578</th>\n",
       "      <td>1639</td>\n",
       "      <td>Boku no Pico</td>\n",
       "      <td>Hentai, Yaoi</td>\n",
       "      <td>OVA</td>\n",
       "      <td>1</td>\n",
       "      <td>5.13</td>\n",
       "      <td>57355</td>\n",
       "      <td>17</td>\n",
       "    </tr>\n",
       "  </tbody>\n",
       "</table>\n",
       "<p>4579 rows × 8 columns</p>\n",
       "</div>"
      ],
      "text/plain": [
       "      anime_id                              name  \\\n",
       "0        32281                    Kimi no Na wa.   \n",
       "1         5114  Fullmetal Alchemist: Brotherhood   \n",
       "2        28977                          Gintama°   \n",
       "3         9253                       Steins;Gate   \n",
       "4         9969                     Gintama&#039;   \n",
       "...        ...                               ...   \n",
       "4574      3793                      Dyogrammaton   \n",
       "4575      2592                            Kimera   \n",
       "4576      5391                     Pico to Chico   \n",
       "4577      4866               Pico x CoCo x Chico   \n",
       "4578      1639                      Boku no Pico   \n",
       "\n",
       "                                                  genre   type episodes  \\\n",
       "0                  Drama, Romance, School, Supernatural  Movie        1   \n",
       "1     Action, Adventure, Drama, Fantasy, Magic, Mili...     TV       64   \n",
       "2     Action, Comedy, Historical, Parody, Samurai, S...     TV       51   \n",
       "3                                      Sci-Fi, Thriller     TV       24   \n",
       "4     Action, Comedy, Historical, Parody, Samurai, S...     TV       51   \n",
       "...                                                 ...    ...      ...   \n",
       "4574                                             Hentai    OVA        2   \n",
       "4575  Action, Horror, Sci-Fi, Supernatural, Vampire,...    OVA        1   \n",
       "4576                                       Hentai, Yaoi    OVA        1   \n",
       "4577                                       Hentai, Yaoi    OVA        1   \n",
       "4578                                       Hentai, Yaoi    OVA        1   \n",
       "\n",
       "      rating  members  num_rating  \n",
       "0       9.37   200630          18  \n",
       "1       9.26   793665         322  \n",
       "2       9.25   114262          13  \n",
       "3       9.17   673572         275  \n",
       "4       9.16   151266          39  \n",
       "...      ...      ...         ...  \n",
       "4574    5.48     1661           1  \n",
       "4575    5.29     3374           1  \n",
       "4576    5.19    29463          10  \n",
       "4577    5.16    27411          11  \n",
       "4578    5.13    57355          17  \n",
       "\n",
       "[4579 rows x 8 columns]"
      ]
     },
     "execution_count": 38,
     "metadata": {},
     "output_type": "execute_result"
    }
   ],
   "source": [
    "data_anime = anime_df.merge(data_rating_count, on='anime_id')\n",
    "data_anime.rename(columns={'rating_x':'rating', 'rating_y':'num_rating'}, inplace=True)\n",
    "data_anime"
   ]
  },
  {
   "cell_type": "code",
   "execution_count": 39,
   "metadata": {},
   "outputs": [
    {
     "data": {
      "text/html": [
       "<div>\n",
       "<style scoped>\n",
       "    .dataframe tbody tr th:only-of-type {\n",
       "        vertical-align: middle;\n",
       "    }\n",
       "\n",
       "    .dataframe tbody tr th {\n",
       "        vertical-align: top;\n",
       "    }\n",
       "\n",
       "    .dataframe thead th {\n",
       "        text-align: right;\n",
       "    }\n",
       "</style>\n",
       "<table border=\"1\" class=\"dataframe\">\n",
       "  <thead>\n",
       "    <tr style=\"text-align: right;\">\n",
       "      <th></th>\n",
       "      <th>anime_id</th>\n",
       "      <th>name</th>\n",
       "      <th>genre</th>\n",
       "      <th>type</th>\n",
       "      <th>episodes</th>\n",
       "      <th>rating</th>\n",
       "      <th>members</th>\n",
       "      <th>num_rating</th>\n",
       "    </tr>\n",
       "  </thead>\n",
       "  <tbody>\n",
       "    <tr>\n",
       "      <th>1</th>\n",
       "      <td>5114</td>\n",
       "      <td>Fullmetal Alchemist: Brotherhood</td>\n",
       "      <td>Action, Adventure, Drama, Fantasy, Magic, Mili...</td>\n",
       "      <td>TV</td>\n",
       "      <td>64</td>\n",
       "      <td>9.26</td>\n",
       "      <td>793665</td>\n",
       "      <td>322</td>\n",
       "    </tr>\n",
       "    <tr>\n",
       "      <th>3</th>\n",
       "      <td>9253</td>\n",
       "      <td>Steins;Gate</td>\n",
       "      <td>Sci-Fi, Thriller</td>\n",
       "      <td>TV</td>\n",
       "      <td>24</td>\n",
       "      <td>9.17</td>\n",
       "      <td>673572</td>\n",
       "      <td>275</td>\n",
       "    </tr>\n",
       "    <tr>\n",
       "      <th>6</th>\n",
       "      <td>11061</td>\n",
       "      <td>Hunter x Hunter (2011)</td>\n",
       "      <td>Action, Adventure, Shounen, Super Power</td>\n",
       "      <td>TV</td>\n",
       "      <td>148</td>\n",
       "      <td>9.13</td>\n",
       "      <td>425855</td>\n",
       "      <td>113</td>\n",
       "    </tr>\n",
       "    <tr>\n",
       "      <th>10</th>\n",
       "      <td>4181</td>\n",
       "      <td>Clannad: After Story</td>\n",
       "      <td>Drama, Fantasy, Romance, Slice of Life, Supern...</td>\n",
       "      <td>TV</td>\n",
       "      <td>24</td>\n",
       "      <td>9.06</td>\n",
       "      <td>456749</td>\n",
       "      <td>222</td>\n",
       "    </tr>\n",
       "    <tr>\n",
       "      <th>12</th>\n",
       "      <td>2904</td>\n",
       "      <td>Code Geass: Hangyaku no Lelouch R2</td>\n",
       "      <td>Action, Drama, Mecha, Military, Sci-Fi, Super ...</td>\n",
       "      <td>TV</td>\n",
       "      <td>25</td>\n",
       "      <td>8.98</td>\n",
       "      <td>572888</td>\n",
       "      <td>276</td>\n",
       "    </tr>\n",
       "    <tr>\n",
       "      <th>...</th>\n",
       "      <td>...</td>\n",
       "      <td>...</td>\n",
       "      <td>...</td>\n",
       "      <td>...</td>\n",
       "      <td>...</td>\n",
       "      <td>...</td>\n",
       "      <td>...</td>\n",
       "      <td>...</td>\n",
       "    </tr>\n",
       "    <tr>\n",
       "      <th>3351</th>\n",
       "      <td>9936</td>\n",
       "      <td>Maken-Ki!</td>\n",
       "      <td>Action, Ecchi, Harem, Martial Arts, School, Su...</td>\n",
       "      <td>TV</td>\n",
       "      <td>12</td>\n",
       "      <td>6.69</td>\n",
       "      <td>104182</td>\n",
       "      <td>58</td>\n",
       "    </tr>\n",
       "    <tr>\n",
       "      <th>3468</th>\n",
       "      <td>4975</td>\n",
       "      <td>ChäoS;HEAd</td>\n",
       "      <td>Harem, Mystery, Psychological, Sci-Fi, Superna...</td>\n",
       "      <td>TV</td>\n",
       "      <td>12</td>\n",
       "      <td>6.62</td>\n",
       "      <td>174337</td>\n",
       "      <td>71</td>\n",
       "    </tr>\n",
       "    <tr>\n",
       "      <th>3651</th>\n",
       "      <td>6682</td>\n",
       "      <td>11eyes</td>\n",
       "      <td>Action, Ecchi, Super Power, Supernatural</td>\n",
       "      <td>TV</td>\n",
       "      <td>12</td>\n",
       "      <td>6.49</td>\n",
       "      <td>133971</td>\n",
       "      <td>67</td>\n",
       "    </tr>\n",
       "    <tr>\n",
       "      <th>3756</th>\n",
       "      <td>15085</td>\n",
       "      <td>Amnesia</td>\n",
       "      <td>Fantasy, Josei, Mystery, Romance</td>\n",
       "      <td>TV</td>\n",
       "      <td>12</td>\n",
       "      <td>6.39</td>\n",
       "      <td>134349</td>\n",
       "      <td>63</td>\n",
       "    </tr>\n",
       "    <tr>\n",
       "      <th>3978</th>\n",
       "      <td>2476</td>\n",
       "      <td>School Days</td>\n",
       "      <td>Drama, Harem, Romance, School</td>\n",
       "      <td>TV</td>\n",
       "      <td>12</td>\n",
       "      <td>6.17</td>\n",
       "      <td>279183</td>\n",
       "      <td>120</td>\n",
       "    </tr>\n",
       "  </tbody>\n",
       "</table>\n",
       "<p>394 rows × 8 columns</p>\n",
       "</div>"
      ],
      "text/plain": [
       "      anime_id                                name  \\\n",
       "1         5114    Fullmetal Alchemist: Brotherhood   \n",
       "3         9253                         Steins;Gate   \n",
       "6        11061              Hunter x Hunter (2011)   \n",
       "10        4181                Clannad: After Story   \n",
       "12        2904  Code Geass: Hangyaku no Lelouch R2   \n",
       "...        ...                                 ...   \n",
       "3351      9936                           Maken-Ki!   \n",
       "3468      4975                          ChäoS;HEAd   \n",
       "3651      6682                              11eyes   \n",
       "3756     15085                             Amnesia   \n",
       "3978      2476                         School Days   \n",
       "\n",
       "                                                  genre type episodes  rating  \\\n",
       "1     Action, Adventure, Drama, Fantasy, Magic, Mili...   TV       64    9.26   \n",
       "3                                      Sci-Fi, Thriller   TV       24    9.17   \n",
       "6               Action, Adventure, Shounen, Super Power   TV      148    9.13   \n",
       "10    Drama, Fantasy, Romance, Slice of Life, Supern...   TV       24    9.06   \n",
       "12    Action, Drama, Mecha, Military, Sci-Fi, Super ...   TV       25    8.98   \n",
       "...                                                 ...  ...      ...     ...   \n",
       "3351  Action, Ecchi, Harem, Martial Arts, School, Su...   TV       12    6.69   \n",
       "3468  Harem, Mystery, Psychological, Sci-Fi, Superna...   TV       12    6.62   \n",
       "3651           Action, Ecchi, Super Power, Supernatural   TV       12    6.49   \n",
       "3756                   Fantasy, Josei, Mystery, Romance   TV       12    6.39   \n",
       "3978                      Drama, Harem, Romance, School   TV       12    6.17   \n",
       "\n",
       "      members  num_rating  \n",
       "1      793665         322  \n",
       "3      673572         275  \n",
       "6      425855         113  \n",
       "10     456749         222  \n",
       "12     572888         276  \n",
       "...       ...         ...  \n",
       "3351   104182          58  \n",
       "3468   174337          71  \n",
       "3651   133971          67  \n",
       "3756   134349          63  \n",
       "3978   279183         120  \n",
       "\n",
       "[394 rows x 8 columns]"
      ]
     },
     "execution_count": 39,
     "metadata": {},
     "output_type": "execute_result"
    }
   ],
   "source": [
    "data_anime = data_anime[data_anime['num_rating'] > 50]\n",
    "data_anime"
   ]
  },
  {
   "cell_type": "markdown",
   "metadata": {},
   "source": [
    "# 3. Data Preparation"
   ]
  },
  {
   "cell_type": "markdown",
   "metadata": {},
   "source": [
    "## 3.3. Label Encoding"
   ]
  },
  {
   "cell_type": "code",
   "execution_count": 40,
   "metadata": {},
   "outputs": [
    {
     "data": {
      "text/html": [
       "<div>\n",
       "<style scoped>\n",
       "    .dataframe tbody tr th:only-of-type {\n",
       "        vertical-align: middle;\n",
       "    }\n",
       "\n",
       "    .dataframe tbody tr th {\n",
       "        vertical-align: top;\n",
       "    }\n",
       "\n",
       "    .dataframe thead th {\n",
       "        text-align: right;\n",
       "    }\n",
       "</style>\n",
       "<table border=\"1\" class=\"dataframe\">\n",
       "  <thead>\n",
       "    <tr style=\"text-align: right;\">\n",
       "      <th></th>\n",
       "      <th>user_id</th>\n",
       "      <th>anime_id</th>\n",
       "      <th>rating</th>\n",
       "    </tr>\n",
       "  </thead>\n",
       "  <tbody>\n",
       "    <tr>\n",
       "      <th>2131594</th>\n",
       "      <td>20637</td>\n",
       "      <td>1122</td>\n",
       "      <td>8</td>\n",
       "    </tr>\n",
       "    <tr>\n",
       "      <th>3057656</th>\n",
       "      <td>28326</td>\n",
       "      <td>4981</td>\n",
       "      <td>8</td>\n",
       "    </tr>\n",
       "    <tr>\n",
       "      <th>2094785</th>\n",
       "      <td>20290</td>\n",
       "      <td>15689</td>\n",
       "      <td>8</td>\n",
       "    </tr>\n",
       "    <tr>\n",
       "      <th>620389</th>\n",
       "      <td>5994</td>\n",
       "      <td>22297</td>\n",
       "      <td>3</td>\n",
       "    </tr>\n",
       "    <tr>\n",
       "      <th>6778071</th>\n",
       "      <td>62721</td>\n",
       "      <td>21881</td>\n",
       "      <td>9</td>\n",
       "    </tr>\n",
       "    <tr>\n",
       "      <th>3840039</th>\n",
       "      <td>35926</td>\n",
       "      <td>18277</td>\n",
       "      <td>8</td>\n",
       "    </tr>\n",
       "    <tr>\n",
       "      <th>4293574</th>\n",
       "      <td>40622</td>\n",
       "      <td>1604</td>\n",
       "      <td>8</td>\n",
       "    </tr>\n",
       "    <tr>\n",
       "      <th>4719226</th>\n",
       "      <td>45093</td>\n",
       "      <td>8514</td>\n",
       "      <td>7</td>\n",
       "    </tr>\n",
       "    <tr>\n",
       "      <th>6489551</th>\n",
       "      <td>59969</td>\n",
       "      <td>2581</td>\n",
       "      <td>9</td>\n",
       "    </tr>\n",
       "    <tr>\n",
       "      <th>7560452</th>\n",
       "      <td>70807</td>\n",
       "      <td>430</td>\n",
       "      <td>9</td>\n",
       "    </tr>\n",
       "  </tbody>\n",
       "</table>\n",
       "</div>"
      ],
      "text/plain": [
       "         user_id  anime_id  rating\n",
       "2131594    20637      1122       8\n",
       "3057656    28326      4981       8\n",
       "2094785    20290     15689       8\n",
       "620389      5994     22297       3\n",
       "6778071    62721     21881       9\n",
       "3840039    35926     18277       8\n",
       "4293574    40622      1604       8\n",
       "4719226    45093      8514       7\n",
       "6489551    59969      2581       9\n",
       "7560452    70807       430       9"
      ]
     },
     "execution_count": 40,
     "metadata": {},
     "output_type": "execute_result"
    }
   ],
   "source": [
    "rating_df.sample(10)"
   ]
  },
  {
   "cell_type": "markdown",
   "metadata": {},
   "source": [
    "### 3.3.1. Anime Encoding"
   ]
  },
  {
   "cell_type": "code",
   "execution_count": 41,
   "metadata": {},
   "outputs": [],
   "source": [
    "userID = data_rating['user_id'].unique().tolist()\n",
    "idU2idUE = {x : i for i, x in enumerate(userID)}\n",
    "idUE2idU = {i : x for i, x in enumerate(userID)}"
   ]
  },
  {
   "cell_type": "markdown",
   "metadata": {},
   "source": [
    "### 3.3.2. Rating Encoding"
   ]
  },
  {
   "cell_type": "code",
   "execution_count": 42,
   "metadata": {},
   "outputs": [],
   "source": [
    "animeID = data_rating['anime_id'].unique().tolist()\n",
    "idA2idAE = {x : i for i, x in enumerate(animeID)}\n",
    "idAE2idA = {i : x for i, x in enumerate(animeID)}"
   ]
  },
  {
   "cell_type": "markdown",
   "metadata": {},
   "source": [
    "### 3.3.3.Genre Encoding"
   ]
  },
  {
   "cell_type": "code",
   "execution_count": 43,
   "metadata": {},
   "outputs": [
    {
     "name": "stdout",
     "output_type": "stream",
     "text": [
      "43\n",
      "['Action' 'Adventure' 'Cars' 'Comedy' 'Dementia' 'Demons' 'Drama' 'Ecchi'\n",
      " 'Fantasy' 'Game' 'Harem' 'Hentai' 'Historical' 'Horror' 'Josei' 'Kids'\n",
      " 'Magic' 'Martial Arts' 'Mecha' 'Military' 'Music' 'Mystery' 'Parody'\n",
      " 'Police' 'Psychological' 'Romance' 'Samurai' 'School' 'Sci-Fi' 'Seinen'\n",
      " 'Shoujo' 'Shoujo Ai' 'Shounen' 'Shounen Ai' 'Slice of Life' 'Space'\n",
      " 'Sports' 'Super Power' 'Supernatural' 'Thriller' 'Vampire' 'Yaoi' 'Yuri']\n"
     ]
    }
   ],
   "source": [
    "list_genres = sort(anime_df['genre'].str.split(', ').explode('genre').unique())\n",
    "num_genre = len(list_genres)\n",
    "print(num_genre)\n",
    "print(list_genres)"
   ]
  },
  {
   "cell_type": "code",
   "execution_count": 44,
   "metadata": {},
   "outputs": [],
   "source": [
    "genre_encode_dict = {genre : i for i, genre in enumerate(list_genres)}\n",
    "genre_decode_dict = {i : genre for i, genre in enumerate(list_genres)}"
   ]
  },
  {
   "cell_type": "code",
   "execution_count": 45,
   "metadata": {},
   "outputs": [
    {
     "data": {
      "text/plain": [
       "'6 25 27 38'"
      ]
     },
     "execution_count": 45,
     "metadata": {},
     "output_type": "execute_result"
    }
   ],
   "source": [
    "def genre_encoding(data):\n",
    "    return ' '.join([str(genre_encode_dict[genre]) for genre in data.split(', ')])\n",
    "\n",
    "genre_encoding(anime_df['genre'].loc[0])"
   ]
  },
  {
   "cell_type": "code",
   "execution_count": 46,
   "metadata": {},
   "outputs": [
    {
     "data": {
      "text/plain": [
       "'Drama Romance School Supernatural'"
      ]
     },
     "execution_count": 46,
     "metadata": {},
     "output_type": "execute_result"
    }
   ],
   "source": [
    "def genre_decoding(data):\n",
    "    return ' '.join(genre_decode_dict[int(genre)] for genre in data.split())\n",
    "\n",
    "genre_decoding('6 25 27 38')"
   ]
  },
  {
   "cell_type": "markdown",
   "metadata": {},
   "source": [
    "### 3.3.4. Mapping to Dataframe"
   ]
  },
  {
   "cell_type": "code",
   "execution_count": 47,
   "metadata": {},
   "outputs": [
    {
     "name": "stderr",
     "output_type": "stream",
     "text": [
      "/tmp/ipykernel_2048/4040583601.py:1: SettingWithCopyWarning: \n",
      "A value is trying to be set on a copy of a slice from a DataFrame.\n",
      "Try using .loc[row_indexer,col_indexer] = value instead\n",
      "\n",
      "See the caveats in the documentation: https://pandas.pydata.org/pandas-docs/stable/user_guide/indexing.html#returning-a-view-versus-a-copy\n",
      "  data_rating['user'] = data_rating['user_id'].map(idU2idUE)\n",
      "/tmp/ipykernel_2048/4040583601.py:2: SettingWithCopyWarning: \n",
      "A value is trying to be set on a copy of a slice from a DataFrame.\n",
      "Try using .loc[row_indexer,col_indexer] = value instead\n",
      "\n",
      "See the caveats in the documentation: https://pandas.pydata.org/pandas-docs/stable/user_guide/indexing.html#returning-a-view-versus-a-copy\n",
      "  data_rating['anime'] = data_rating['anime_id'].map(idA2idAE)\n"
     ]
    }
   ],
   "source": [
    "data_rating['user'] = data_rating['user_id'].map(idU2idUE)\n",
    "data_rating['anime'] = data_rating['anime_id'].map(idA2idAE)"
   ]
  },
  {
   "cell_type": "code",
   "execution_count": 48,
   "metadata": {},
   "outputs": [
    {
     "data": {
      "text/html": [
       "<div>\n",
       "<style scoped>\n",
       "    .dataframe tbody tr th:only-of-type {\n",
       "        vertical-align: middle;\n",
       "    }\n",
       "\n",
       "    .dataframe tbody tr th {\n",
       "        vertical-align: top;\n",
       "    }\n",
       "\n",
       "    .dataframe thead th {\n",
       "        text-align: right;\n",
       "    }\n",
       "</style>\n",
       "<table border=\"1\" class=\"dataframe\">\n",
       "  <thead>\n",
       "    <tr style=\"text-align: right;\">\n",
       "      <th></th>\n",
       "      <th>user_id</th>\n",
       "      <th>anime_id</th>\n",
       "      <th>rating</th>\n",
       "      <th>user</th>\n",
       "      <th>anime</th>\n",
       "    </tr>\n",
       "  </thead>\n",
       "  <tbody>\n",
       "    <tr>\n",
       "      <th>8273</th>\n",
       "      <td>100</td>\n",
       "      <td>1281</td>\n",
       "      <td>10</td>\n",
       "      <td>0</td>\n",
       "      <td>0</td>\n",
       "    </tr>\n",
       "    <tr>\n",
       "      <th>8274</th>\n",
       "      <td>100</td>\n",
       "      <td>6746</td>\n",
       "      <td>10</td>\n",
       "      <td>0</td>\n",
       "      <td>1</td>\n",
       "    </tr>\n",
       "    <tr>\n",
       "      <th>8275</th>\n",
       "      <td>100</td>\n",
       "      <td>8074</td>\n",
       "      <td>9</td>\n",
       "      <td>0</td>\n",
       "      <td>2</td>\n",
       "    </tr>\n",
       "    <tr>\n",
       "      <th>8276</th>\n",
       "      <td>100</td>\n",
       "      <td>9919</td>\n",
       "      <td>10</td>\n",
       "      <td>0</td>\n",
       "      <td>3</td>\n",
       "    </tr>\n",
       "    <tr>\n",
       "      <th>8277</th>\n",
       "      <td>100</td>\n",
       "      <td>11757</td>\n",
       "      <td>10</td>\n",
       "      <td>0</td>\n",
       "      <td>4</td>\n",
       "    </tr>\n",
       "    <tr>\n",
       "      <th>...</th>\n",
       "      <td>...</td>\n",
       "      <td>...</td>\n",
       "      <td>...</td>\n",
       "      <td>...</td>\n",
       "      <td>...</td>\n",
       "    </tr>\n",
       "    <tr>\n",
       "      <th>367885</th>\n",
       "      <td>3747</td>\n",
       "      <td>11759</td>\n",
       "      <td>8</td>\n",
       "      <td>890</td>\n",
       "      <td>97</td>\n",
       "    </tr>\n",
       "    <tr>\n",
       "      <th>367890</th>\n",
       "      <td>3747</td>\n",
       "      <td>14513</td>\n",
       "      <td>9</td>\n",
       "      <td>890</td>\n",
       "      <td>579</td>\n",
       "    </tr>\n",
       "    <tr>\n",
       "      <th>367891</th>\n",
       "      <td>3747</td>\n",
       "      <td>14741</td>\n",
       "      <td>7</td>\n",
       "      <td>890</td>\n",
       "      <td>102</td>\n",
       "    </tr>\n",
       "    <tr>\n",
       "      <th>367895</th>\n",
       "      <td>3747</td>\n",
       "      <td>15583</td>\n",
       "      <td>7</td>\n",
       "      <td>890</td>\n",
       "      <td>172</td>\n",
       "    </tr>\n",
       "    <tr>\n",
       "      <th>367906</th>\n",
       "      <td>3747</td>\n",
       "      <td>20507</td>\n",
       "      <td>8</td>\n",
       "      <td>890</td>\n",
       "      <td>501</td>\n",
       "    </tr>\n",
       "  </tbody>\n",
       "</table>\n",
       "<p>76645 rows × 5 columns</p>\n",
       "</div>"
      ],
      "text/plain": [
       "        user_id  anime_id  rating  user  anime\n",
       "8273        100      1281      10     0      0\n",
       "8274        100      6746      10     0      1\n",
       "8275        100      8074       9     0      2\n",
       "8276        100      9919      10     0      3\n",
       "8277        100     11757      10     0      4\n",
       "...         ...       ...     ...   ...    ...\n",
       "367885     3747     11759       8   890     97\n",
       "367890     3747     14513       9   890    579\n",
       "367891     3747     14741       7   890    102\n",
       "367895     3747     15583       7   890    172\n",
       "367906     3747     20507       8   890    501\n",
       "\n",
       "[76645 rows x 5 columns]"
      ]
     },
     "execution_count": 48,
     "metadata": {},
     "output_type": "execute_result"
    }
   ],
   "source": [
    "data_rating"
   ]
  },
  {
   "cell_type": "code",
   "execution_count": 49,
   "metadata": {},
   "outputs": [
    {
     "data": {
      "text/html": [
       "<div>\n",
       "<style scoped>\n",
       "    .dataframe tbody tr th:only-of-type {\n",
       "        vertical-align: middle;\n",
       "    }\n",
       "\n",
       "    .dataframe tbody tr th {\n",
       "        vertical-align: top;\n",
       "    }\n",
       "\n",
       "    .dataframe thead th {\n",
       "        text-align: right;\n",
       "    }\n",
       "</style>\n",
       "<table border=\"1\" class=\"dataframe\">\n",
       "  <thead>\n",
       "    <tr style=\"text-align: right;\">\n",
       "      <th></th>\n",
       "      <th>user_id</th>\n",
       "      <th>anime_id</th>\n",
       "      <th>rating</th>\n",
       "    </tr>\n",
       "  </thead>\n",
       "  <tbody>\n",
       "    <tr>\n",
       "      <th>47</th>\n",
       "      <td>1</td>\n",
       "      <td>8074</td>\n",
       "      <td>10</td>\n",
       "    </tr>\n",
       "    <tr>\n",
       "      <th>81</th>\n",
       "      <td>1</td>\n",
       "      <td>11617</td>\n",
       "      <td>10</td>\n",
       "    </tr>\n",
       "    <tr>\n",
       "      <th>83</th>\n",
       "      <td>1</td>\n",
       "      <td>11757</td>\n",
       "      <td>10</td>\n",
       "    </tr>\n",
       "    <tr>\n",
       "      <th>101</th>\n",
       "      <td>1</td>\n",
       "      <td>15451</td>\n",
       "      <td>10</td>\n",
       "    </tr>\n",
       "    <tr>\n",
       "      <th>153</th>\n",
       "      <td>2</td>\n",
       "      <td>11771</td>\n",
       "      <td>10</td>\n",
       "    </tr>\n",
       "  </tbody>\n",
       "</table>\n",
       "</div>"
      ],
      "text/plain": [
       "     user_id  anime_id  rating\n",
       "47         1      8074      10\n",
       "81         1     11617      10\n",
       "83         1     11757      10\n",
       "101        1     15451      10\n",
       "153        2     11771      10"
      ]
     },
     "execution_count": 49,
     "metadata": {},
     "output_type": "execute_result"
    }
   ],
   "source": [
    "rating_df.head()"
   ]
  },
  {
   "cell_type": "code",
   "execution_count": 50,
   "metadata": {},
   "outputs": [],
   "source": [
    "anime_df['genre'] = anime_df['genre'].apply(genre_encoding)"
   ]
  },
  {
   "cell_type": "markdown",
   "metadata": {},
   "source": [
    "### 3.3.5. Getting Len of User & Anime"
   ]
  },
  {
   "cell_type": "code",
   "execution_count": 51,
   "metadata": {},
   "outputs": [
    {
     "name": "stdout",
     "output_type": "stream",
     "text": [
      "Jumlah User  : 891\n",
      "Jumlah Anime : 4579\n"
     ]
    }
   ],
   "source": [
    "num_user = len(idU2idUE)\n",
    "print(\"Jumlah User  :\", num_user)\n",
    "\n",
    "num_anime = len(idA2idAE)\n",
    "print(\"Jumlah Anime :\", num_anime)\n"
   ]
  },
  {
   "cell_type": "markdown",
   "metadata": {},
   "source": [
    "### 3.3.6. Convert Rating Values to Float"
   ]
  },
  {
   "cell_type": "code",
   "execution_count": 57,
   "metadata": {},
   "outputs": [
    {
     "name": "stdout",
     "output_type": "stream",
     "text": [
      "Rating Terendah: 1.0\n",
      "Rating Tertinggi: 10.0\n"
     ]
    }
   ],
   "source": [
    "rating_df['rating'] = rating_df.loc[:, 'rating'].values.astype(float32)\n",
    "\n",
    "min_rating = min(rating_df['rating'])\n",
    "print(\"Rating Terendah:\", min_rating)\n",
    "\n",
    "max_rating = max(rating_df['rating'])\n",
    "print(\"Rating Tertinggi:\", max_rating)"
   ]
  },
  {
   "cell_type": "markdown",
   "metadata": {},
   "source": [
    "## 3.4. Seleksi Fitur"
   ]
  },
  {
   "cell_type": "code",
   "execution_count": 58,
   "metadata": {},
   "outputs": [
    {
     "data": {
      "text/html": [
       "<div>\n",
       "<style scoped>\n",
       "    .dataframe tbody tr th:only-of-type {\n",
       "        vertical-align: middle;\n",
       "    }\n",
       "\n",
       "    .dataframe tbody tr th {\n",
       "        vertical-align: top;\n",
       "    }\n",
       "\n",
       "    .dataframe thead th {\n",
       "        text-align: right;\n",
       "    }\n",
       "</style>\n",
       "<table border=\"1\" class=\"dataframe\">\n",
       "  <thead>\n",
       "    <tr style=\"text-align: right;\">\n",
       "      <th></th>\n",
       "      <th>user_id</th>\n",
       "      <th>anime_id</th>\n",
       "      <th>rating</th>\n",
       "      <th>user</th>\n",
       "      <th>anime</th>\n",
       "    </tr>\n",
       "  </thead>\n",
       "  <tbody>\n",
       "    <tr>\n",
       "      <th>77840</th>\n",
       "      <td>798</td>\n",
       "      <td>4177</td>\n",
       "      <td>8</td>\n",
       "      <td>641</td>\n",
       "      <td>55</td>\n",
       "    </tr>\n",
       "    <tr>\n",
       "      <th>27629</th>\n",
       "      <td>317</td>\n",
       "      <td>1530</td>\n",
       "      <td>9</td>\n",
       "      <td>206</td>\n",
       "      <td>331</td>\n",
       "    </tr>\n",
       "    <tr>\n",
       "      <th>9881</th>\n",
       "      <td>123</td>\n",
       "      <td>23037</td>\n",
       "      <td>4</td>\n",
       "      <td>23</td>\n",
       "      <td>882</td>\n",
       "    </tr>\n",
       "    <tr>\n",
       "      <th>38740</th>\n",
       "      <td>427</td>\n",
       "      <td>11843</td>\n",
       "      <td>8</td>\n",
       "      <td>308</td>\n",
       "      <td>794</td>\n",
       "    </tr>\n",
       "    <tr>\n",
       "      <th>61680</th>\n",
       "      <td>640</td>\n",
       "      <td>29976</td>\n",
       "      <td>9</td>\n",
       "      <td>506</td>\n",
       "      <td>1480</td>\n",
       "    </tr>\n",
       "    <tr>\n",
       "      <th>...</th>\n",
       "      <td>...</td>\n",
       "      <td>...</td>\n",
       "      <td>...</td>\n",
       "      <td>...</td>\n",
       "      <td>...</td>\n",
       "    </tr>\n",
       "    <tr>\n",
       "      <th>84690</th>\n",
       "      <td>884</td>\n",
       "      <td>10396</td>\n",
       "      <td>7</td>\n",
       "      <td>697</td>\n",
       "      <td>375</td>\n",
       "    </tr>\n",
       "    <tr>\n",
       "      <th>14520</th>\n",
       "      <td>189</td>\n",
       "      <td>205</td>\n",
       "      <td>10</td>\n",
       "      <td>85</td>\n",
       "      <td>27</td>\n",
       "    </tr>\n",
       "    <tr>\n",
       "      <th>35246</th>\n",
       "      <td>392</td>\n",
       "      <td>1482</td>\n",
       "      <td>8</td>\n",
       "      <td>276</td>\n",
       "      <td>273</td>\n",
       "    </tr>\n",
       "    <tr>\n",
       "      <th>40675</th>\n",
       "      <td>441</td>\n",
       "      <td>10620</td>\n",
       "      <td>9</td>\n",
       "      <td>321</td>\n",
       "      <td>90</td>\n",
       "    </tr>\n",
       "    <tr>\n",
       "      <th>48584</th>\n",
       "      <td>511</td>\n",
       "      <td>7041</td>\n",
       "      <td>6</td>\n",
       "      <td>383</td>\n",
       "      <td>3639</td>\n",
       "    </tr>\n",
       "  </tbody>\n",
       "</table>\n",
       "<p>76645 rows × 5 columns</p>\n",
       "</div>"
      ],
      "text/plain": [
       "       user_id  anime_id  rating  user  anime\n",
       "77840      798      4177       8   641     55\n",
       "27629      317      1530       9   206    331\n",
       "9881       123     23037       4    23    882\n",
       "38740      427     11843       8   308    794\n",
       "61680      640     29976       9   506   1480\n",
       "...        ...       ...     ...   ...    ...\n",
       "84690      884     10396       7   697    375\n",
       "14520      189       205      10    85     27\n",
       "35246      392      1482       8   276    273\n",
       "40675      441     10620       9   321     90\n",
       "48584      511      7041       6   383   3639\n",
       "\n",
       "[76645 rows x 5 columns]"
      ]
     },
     "execution_count": 58,
     "metadata": {},
     "output_type": "execute_result"
    }
   ],
   "source": [
    "data_rating = data_rating.sample(frac=1, random_state=22)\n",
    "data_rating"
   ]
  },
  {
   "cell_type": "code",
   "execution_count": 59,
   "metadata": {},
   "outputs": [
    {
     "name": "stdout",
     "output_type": "stream",
     "text": [
      "Dimensi Fitur : (76645, 2)\n",
      "Dimensi Label : (76645,)\n"
     ]
    }
   ],
   "source": [
    "x = data_rating[['user', 'anime']].values\n",
    "y = data_rating['rating']\n",
    "\n",
    "print(\"Dimensi Fitur :\", x.shape)\n",
    "print(\"Dimensi Label :\", y.shape)"
   ]
  },
  {
   "cell_type": "markdown",
   "metadata": {},
   "source": [
    "## 3.5. Normalisasi"
   ]
  },
  {
   "cell_type": "code",
   "execution_count": 60,
   "metadata": {},
   "outputs": [],
   "source": [
    "scaler = MinMaxScaler()\n",
    "scaler.fit(reshape(y, (-1, 1)))\n",
    "y = scaler.fit_transform(reshape(y, (-1, 1)))"
   ]
  },
  {
   "cell_type": "markdown",
   "metadata": {},
   "source": [
    "## 3.6. Data Splitting"
   ]
  },
  {
   "cell_type": "code",
   "execution_count": 61,
   "metadata": {},
   "outputs": [
    {
     "name": "stdout",
     "output_type": "stream",
     "text": [
      "Dimensi Fitur Latih    : (61316, 2)\n",
      "Dimensi Label Latih    : (61316, 1)\n",
      "Dimensi Fitur Validasi : (15329, 2)\n",
      "Dimensi Label Validasi : (15329, 1)\n"
     ]
    }
   ],
   "source": [
    "train_indicies = int(0.8 * data_rating.shape[0])\n",
    "x_train, x_valid, y_train, y_valid = (x[:train_indicies], x[train_indicies:], y[:train_indicies], y[train_indicies:])\n",
    "\n",
    "print(\"Dimensi Fitur Latih    :\", x_train.shape)\n",
    "print(\"Dimensi Label Latih    :\", y_train.shape)\n",
    "print(\"Dimensi Fitur Validasi :\", x_valid.shape)\n",
    "print(\"Dimensi Label Validasi :\", y_valid.shape)"
   ]
  },
  {
   "cell_type": "markdown",
   "metadata": {},
   "source": [
    "# 4. Model Development"
   ]
  },
  {
   "cell_type": "markdown",
   "metadata": {},
   "source": [
    "## 4.1. Content Based Filtering"
   ]
  },
  {
   "cell_type": "markdown",
   "metadata": {},
   "source": [
    "Menampung dataframe anime ke variabel \"data\" untuk diolah"
   ]
  },
  {
   "cell_type": "code",
   "execution_count": 62,
   "metadata": {},
   "outputs": [],
   "source": [
    "data = anime_df"
   ]
  },
  {
   "cell_type": "markdown",
   "metadata": {},
   "source": [
    "#### 4.1.1. TF-IDF"
   ]
  },
  {
   "cell_type": "code",
   "execution_count": 63,
   "metadata": {},
   "outputs": [
    {
     "data": {
      "text/plain": [
       "array(['0', '1', '10', '11', '12', '13', '14', '15', '16', '17', '18',\n",
       "       '19', '2', '20', '21', '22', '23', '24', '25', '26', '27', '28',\n",
       "       '29', '3', '30', '31', '32', '33', '34', '35', '36', '37', '38',\n",
       "       '39', '4', '40', '41', '42', '5', '6', '7', '8', '9'], dtype=object)"
      ]
     },
     "execution_count": 63,
     "metadata": {},
     "output_type": "execute_result"
    }
   ],
   "source": [
    "# Menambahkan [token_pattern=r'\\b\\w+\\b'] agar TFIDF tidak melewati karakter 1 digit\n",
    "tfidf = TfidfVectorizer(token_pattern=r'\\b\\w+\\b')\n",
    "tfidf.fit(data['genre'])\n",
    "tfidf.get_feature_names_out()"
   ]
  },
  {
   "cell_type": "code",
   "execution_count": 64,
   "metadata": {},
   "outputs": [
    {
     "data": {
      "text/plain": [
       "(12017, 43)"
      ]
     },
     "execution_count": 64,
     "metadata": {},
     "output_type": "execute_result"
    }
   ],
   "source": [
    "matrix = tfidf.fit_transform(data['genre'])\n",
    "matrix.shape"
   ]
  },
  {
   "cell_type": "markdown",
   "metadata": {},
   "source": [
    "Menampilkan TFIDF matrix dalam dataframe"
   ]
  },
  {
   "cell_type": "code",
   "execution_count": 65,
   "metadata": {},
   "outputs": [
    {
     "data": {
      "text/html": [
       "<div>\n",
       "<style scoped>\n",
       "    .dataframe tbody tr th:only-of-type {\n",
       "        vertical-align: middle;\n",
       "    }\n",
       "\n",
       "    .dataframe tbody tr th {\n",
       "        vertical-align: top;\n",
       "    }\n",
       "\n",
       "    .dataframe thead th {\n",
       "        text-align: right;\n",
       "    }\n",
       "</style>\n",
       "<table border=\"1\" class=\"dataframe\">\n",
       "  <thead>\n",
       "    <tr style=\"text-align: right;\">\n",
       "      <th></th>\n",
       "      <th>Magic</th>\n",
       "      <th>Yaoi</th>\n",
       "      <th>School</th>\n",
       "      <th>Fantasy</th>\n",
       "      <th>Josei</th>\n",
       "      <th>Dementia</th>\n",
       "      <th>Action</th>\n",
       "      <th>Music</th>\n",
       "      <th>Shoujo</th>\n",
       "      <th>Kids</th>\n",
       "    </tr>\n",
       "    <tr>\n",
       "      <th>name</th>\n",
       "      <th></th>\n",
       "      <th></th>\n",
       "      <th></th>\n",
       "      <th></th>\n",
       "      <th></th>\n",
       "      <th></th>\n",
       "      <th></th>\n",
       "      <th></th>\n",
       "      <th></th>\n",
       "      <th></th>\n",
       "    </tr>\n",
       "  </thead>\n",
       "  <tbody>\n",
       "    <tr>\n",
       "      <th>Kansen 3: Shuto Houkai</th>\n",
       "      <td>0.000000</td>\n",
       "      <td>0.0</td>\n",
       "      <td>0.0</td>\n",
       "      <td>0.000000</td>\n",
       "      <td>0.0</td>\n",
       "      <td>0.0</td>\n",
       "      <td>0.000000</td>\n",
       "      <td>0.000000</td>\n",
       "      <td>0.0</td>\n",
       "      <td>0.000000</td>\n",
       "    </tr>\n",
       "    <tr>\n",
       "      <th>Tachiguishi Retsuden</th>\n",
       "      <td>0.000000</td>\n",
       "      <td>0.0</td>\n",
       "      <td>0.0</td>\n",
       "      <td>0.000000</td>\n",
       "      <td>0.0</td>\n",
       "      <td>0.0</td>\n",
       "      <td>0.000000</td>\n",
       "      <td>0.000000</td>\n",
       "      <td>0.0</td>\n",
       "      <td>0.000000</td>\n",
       "    </tr>\n",
       "    <tr>\n",
       "      <th>Glass no Kamen Desu ga to Z</th>\n",
       "      <td>0.000000</td>\n",
       "      <td>0.0</td>\n",
       "      <td>0.0</td>\n",
       "      <td>0.000000</td>\n",
       "      <td>0.0</td>\n",
       "      <td>0.0</td>\n",
       "      <td>0.000000</td>\n",
       "      <td>0.000000</td>\n",
       "      <td>0.0</td>\n",
       "      <td>0.000000</td>\n",
       "    </tr>\n",
       "    <tr>\n",
       "      <th>Chinpui: Eri-sama Katsudou Daishashin</th>\n",
       "      <td>0.000000</td>\n",
       "      <td>0.0</td>\n",
       "      <td>0.0</td>\n",
       "      <td>0.000000</td>\n",
       "      <td>0.0</td>\n",
       "      <td>0.0</td>\n",
       "      <td>0.000000</td>\n",
       "      <td>0.000000</td>\n",
       "      <td>0.0</td>\n",
       "      <td>0.000000</td>\n",
       "    </tr>\n",
       "    <tr>\n",
       "      <th>Angel Blade Punish!</th>\n",
       "      <td>0.595225</td>\n",
       "      <td>0.0</td>\n",
       "      <td>0.0</td>\n",
       "      <td>0.000000</td>\n",
       "      <td>0.0</td>\n",
       "      <td>0.0</td>\n",
       "      <td>0.000000</td>\n",
       "      <td>0.000000</td>\n",
       "      <td>0.0</td>\n",
       "      <td>0.000000</td>\n",
       "    </tr>\n",
       "    <tr>\n",
       "      <th>Negima!? Natsu Special!?</th>\n",
       "      <td>0.000000</td>\n",
       "      <td>0.0</td>\n",
       "      <td>0.0</td>\n",
       "      <td>0.444002</td>\n",
       "      <td>0.0</td>\n",
       "      <td>0.0</td>\n",
       "      <td>0.000000</td>\n",
       "      <td>0.000000</td>\n",
       "      <td>0.0</td>\n",
       "      <td>0.000000</td>\n",
       "    </tr>\n",
       "    <tr>\n",
       "      <th>Chicchana Onaka</th>\n",
       "      <td>0.000000</td>\n",
       "      <td>0.0</td>\n",
       "      <td>0.0</td>\n",
       "      <td>0.000000</td>\n",
       "      <td>0.0</td>\n",
       "      <td>0.0</td>\n",
       "      <td>0.000000</td>\n",
       "      <td>0.000000</td>\n",
       "      <td>0.0</td>\n",
       "      <td>0.000000</td>\n",
       "    </tr>\n",
       "    <tr>\n",
       "      <th>Yuuwaku Countdown</th>\n",
       "      <td>0.000000</td>\n",
       "      <td>0.0</td>\n",
       "      <td>0.0</td>\n",
       "      <td>0.293603</td>\n",
       "      <td>0.0</td>\n",
       "      <td>0.0</td>\n",
       "      <td>0.270511</td>\n",
       "      <td>0.000000</td>\n",
       "      <td>0.0</td>\n",
       "      <td>0.000000</td>\n",
       "    </tr>\n",
       "    <tr>\n",
       "      <th>Dragon Ball Z Movie 14: Kami to Kami</th>\n",
       "      <td>0.000000</td>\n",
       "      <td>0.0</td>\n",
       "      <td>0.0</td>\n",
       "      <td>0.318877</td>\n",
       "      <td>0.0</td>\n",
       "      <td>0.0</td>\n",
       "      <td>0.293797</td>\n",
       "      <td>0.000000</td>\n",
       "      <td>0.0</td>\n",
       "      <td>0.000000</td>\n",
       "    </tr>\n",
       "    <tr>\n",
       "      <th>Coral no Tanken</th>\n",
       "      <td>0.000000</td>\n",
       "      <td>0.0</td>\n",
       "      <td>0.0</td>\n",
       "      <td>0.000000</td>\n",
       "      <td>0.0</td>\n",
       "      <td>0.0</td>\n",
       "      <td>0.000000</td>\n",
       "      <td>0.673578</td>\n",
       "      <td>0.0</td>\n",
       "      <td>0.555672</td>\n",
       "    </tr>\n",
       "  </tbody>\n",
       "</table>\n",
       "</div>"
      ],
      "text/plain": [
       "                                          Magic  Yaoi  School   Fantasy  \\\n",
       "name                                                                      \n",
       "Kansen 3: Shuto Houkai                 0.000000   0.0     0.0  0.000000   \n",
       "Tachiguishi Retsuden                   0.000000   0.0     0.0  0.000000   \n",
       "Glass no Kamen Desu ga to Z            0.000000   0.0     0.0  0.000000   \n",
       "Chinpui: Eri-sama Katsudou Daishashin  0.000000   0.0     0.0  0.000000   \n",
       "Angel Blade Punish!                    0.595225   0.0     0.0  0.000000   \n",
       "Negima!? Natsu Special!?               0.000000   0.0     0.0  0.444002   \n",
       "Chicchana Onaka                        0.000000   0.0     0.0  0.000000   \n",
       "Yuuwaku Countdown                      0.000000   0.0     0.0  0.293603   \n",
       "Dragon Ball Z Movie 14: Kami to Kami   0.000000   0.0     0.0  0.318877   \n",
       "Coral no Tanken                        0.000000   0.0     0.0  0.000000   \n",
       "\n",
       "                                       Josei  Dementia    Action     Music  \\\n",
       "name                                                                         \n",
       "Kansen 3: Shuto Houkai                   0.0       0.0  0.000000  0.000000   \n",
       "Tachiguishi Retsuden                     0.0       0.0  0.000000  0.000000   \n",
       "Glass no Kamen Desu ga to Z              0.0       0.0  0.000000  0.000000   \n",
       "Chinpui: Eri-sama Katsudou Daishashin    0.0       0.0  0.000000  0.000000   \n",
       "Angel Blade Punish!                      0.0       0.0  0.000000  0.000000   \n",
       "Negima!? Natsu Special!?                 0.0       0.0  0.000000  0.000000   \n",
       "Chicchana Onaka                          0.0       0.0  0.000000  0.000000   \n",
       "Yuuwaku Countdown                        0.0       0.0  0.270511  0.000000   \n",
       "Dragon Ball Z Movie 14: Kami to Kami     0.0       0.0  0.293797  0.000000   \n",
       "Coral no Tanken                          0.0       0.0  0.000000  0.673578   \n",
       "\n",
       "                                       Shoujo      Kids  \n",
       "name                                                     \n",
       "Kansen 3: Shuto Houkai                    0.0  0.000000  \n",
       "Tachiguishi Retsuden                      0.0  0.000000  \n",
       "Glass no Kamen Desu ga to Z               0.0  0.000000  \n",
       "Chinpui: Eri-sama Katsudou Daishashin     0.0  0.000000  \n",
       "Angel Blade Punish!                       0.0  0.000000  \n",
       "Negima!? Natsu Special!?                  0.0  0.000000  \n",
       "Chicchana Onaka                           0.0  0.000000  \n",
       "Yuuwaku Countdown                         0.0  0.000000  \n",
       "Dragon Ball Z Movie 14: Kami to Kami      0.0  0.000000  \n",
       "Coral no Tanken                           0.0  0.555672  "
      ]
     },
     "execution_count": 65,
     "metadata": {},
     "output_type": "execute_result"
    }
   ],
   "source": [
    "DataFrame(matrix.todense(), index=data['name'], columns=[genre_decode_dict[int(x)] for x in tfidf.get_feature_names_out()]).sample(10, axis=1).sample(10, axis=0)"
   ]
  },
  {
   "cell_type": "markdown",
   "metadata": {},
   "source": [
    "### 4.1.2. Cosine Similarity"
   ]
  },
  {
   "cell_type": "code",
   "execution_count": 114,
   "metadata": {},
   "outputs": [
    {
     "name": "stdout",
     "output_type": "stream",
     "text": [
      "(12017, 12017)\n"
     ]
    },
    {
     "data": {
      "text/plain": [
       "array([[1.        , 0.14692967, 0.        , ..., 0.        , 0.        ,\n",
       "        0.        ],\n",
       "       [0.14692967, 1.        , 0.188587  , ..., 0.        , 0.        ,\n",
       "        0.        ],\n",
       "       [0.        , 0.188587  , 1.        , ..., 0.        , 0.        ,\n",
       "        0.        ],\n",
       "       ...,\n",
       "       [0.        , 0.        , 0.        , ..., 1.        , 1.        ,\n",
       "        1.        ],\n",
       "       [0.        , 0.        , 0.        , ..., 1.        , 1.        ,\n",
       "        1.        ],\n",
       "       [0.        , 0.        , 0.        , ..., 1.        , 1.        ,\n",
       "        1.        ]])"
      ]
     },
     "execution_count": 114,
     "metadata": {},
     "output_type": "execute_result"
    }
   ],
   "source": [
    "# dense output untuk menghemat penggunaan memory/RAM\n",
    "similarity = cosine_similarity(matrix, dense_output=True)\n",
    "print(similarity.shape)\n",
    "similarity"
   ]
  },
  {
   "cell_type": "markdown",
   "metadata": {},
   "source": [
    "Menyimpan cosine similarity matrix ke dalam dataframe similarity_df"
   ]
  },
  {
   "cell_type": "code",
   "execution_count": 115,
   "metadata": {},
   "outputs": [],
   "source": [
    "similarity_df = DataFrame(similarity, index=data['name'], columns=data['name'])"
   ]
  },
  {
   "cell_type": "markdown",
   "metadata": {},
   "source": [
    "### 4.1.3. Getting Recommendation"
   ]
  },
  {
   "cell_type": "code",
   "execution_count": 116,
   "metadata": {},
   "outputs": [
    {
     "data": {
      "text/html": [
       "<div>\n",
       "<style scoped>\n",
       "    .dataframe tbody tr th:only-of-type {\n",
       "        vertical-align: middle;\n",
       "    }\n",
       "\n",
       "    .dataframe tbody tr th {\n",
       "        vertical-align: top;\n",
       "    }\n",
       "\n",
       "    .dataframe thead th {\n",
       "        text-align: right;\n",
       "    }\n",
       "</style>\n",
       "<table border=\"1\" class=\"dataframe\">\n",
       "  <thead>\n",
       "    <tr style=\"text-align: right;\">\n",
       "      <th></th>\n",
       "      <th>name</th>\n",
       "      <th>genre</th>\n",
       "    </tr>\n",
       "  </thead>\n",
       "  <tbody>\n",
       "    <tr>\n",
       "      <th>0</th>\n",
       "      <td>Death Note Rewrite</td>\n",
       "      <td>Mystery Police Psychological Supernatural Thri...</td>\n",
       "    </tr>\n",
       "    <tr>\n",
       "      <th>1</th>\n",
       "      <td>Mousou Dairinin</td>\n",
       "      <td>Drama Mystery Police Psychological Supernatura...</td>\n",
       "    </tr>\n",
       "    <tr>\n",
       "      <th>2</th>\n",
       "      <td>Higurashi no Naku Koro ni Kai</td>\n",
       "      <td>Mystery Psychological Supernatural Thriller</td>\n",
       "    </tr>\n",
       "    <tr>\n",
       "      <th>3</th>\n",
       "      <td>Higurashi no Naku Koro ni Rei</td>\n",
       "      <td>Comedy Mystery Psychological Supernatural Thri...</td>\n",
       "    </tr>\n",
       "    <tr>\n",
       "      <th>4</th>\n",
       "      <td>Mirai Nikki (TV)</td>\n",
       "      <td>Action Mystery Psychological Shounen Supernatu...</td>\n",
       "    </tr>\n",
       "    <tr>\n",
       "      <th>5</th>\n",
       "      <td>Mirai Nikki (TV): Ura Mirai Nikki</td>\n",
       "      <td>Action Comedy Mystery Psychological Shounen Su...</td>\n",
       "    </tr>\n",
       "    <tr>\n",
       "      <th>6</th>\n",
       "      <td>Higurashi no Naku Koro ni</td>\n",
       "      <td>Horror Mystery Psychological Supernatural Thri...</td>\n",
       "    </tr>\n",
       "    <tr>\n",
       "      <th>7</th>\n",
       "      <td>Monster</td>\n",
       "      <td>Drama Horror Mystery Police Psychological Sein...</td>\n",
       "    </tr>\n",
       "    <tr>\n",
       "      <th>8</th>\n",
       "      <td>AD Police</td>\n",
       "      <td>Adventure Dementia Mecha Mystery Police Psycho...</td>\n",
       "    </tr>\n",
       "    <tr>\n",
       "      <th>9</th>\n",
       "      <td>Higurashi no Naku Koro ni Kaku: Outbreak</td>\n",
       "      <td>Horror Mystery Psychological Thriller</td>\n",
       "    </tr>\n",
       "  </tbody>\n",
       "</table>\n",
       "</div>"
      ],
      "text/plain": [
       "                                       name  \\\n",
       "0                        Death Note Rewrite   \n",
       "1                           Mousou Dairinin   \n",
       "2             Higurashi no Naku Koro ni Kai   \n",
       "3             Higurashi no Naku Koro ni Rei   \n",
       "4                          Mirai Nikki (TV)   \n",
       "5         Mirai Nikki (TV): Ura Mirai Nikki   \n",
       "6                 Higurashi no Naku Koro ni   \n",
       "7                                   Monster   \n",
       "8                                 AD Police   \n",
       "9  Higurashi no Naku Koro ni Kaku: Outbreak   \n",
       "\n",
       "                                               genre  \n",
       "0  Mystery Police Psychological Supernatural Thri...  \n",
       "1  Drama Mystery Police Psychological Supernatura...  \n",
       "2        Mystery Psychological Supernatural Thriller  \n",
       "3  Comedy Mystery Psychological Supernatural Thri...  \n",
       "4  Action Mystery Psychological Shounen Supernatu...  \n",
       "5  Action Comedy Mystery Psychological Shounen Su...  \n",
       "6  Horror Mystery Psychological Supernatural Thri...  \n",
       "7  Drama Horror Mystery Police Psychological Sein...  \n",
       "8  Adventure Dementia Mecha Mystery Police Psycho...  \n",
       "9              Horror Mystery Psychological Thriller  "
      ]
     },
     "execution_count": 116,
     "metadata": {},
     "output_type": "execute_result"
    }
   ],
   "source": [
    "def anime_recommendations(name, similarity_data=similarity_df, items=anime_df[['name', 'genre']], k=5):\n",
    "    try:\n",
    "        \"\"\"\n",
    "        Provides anime recommendations based on cosine similarity.\n",
    "\n",
    "        Args:\n",
    "            name (str): The name of the anime to find recommendations for.\n",
    "            similarity_data (pd.DataFrame): The similarity matrix DataFrame.\n",
    "            items (pd.DataFrame): The DataFrame containing anime names and genres.\n",
    "            k (int): The number of recommendations to return.\n",
    "\n",
    "        Returns:\n",
    "            pd.DataFrame: A DataFrame containing the top k recommendations.\n",
    "        \"\"\"\n",
    "        # Get the similarity scores for the given anime\n",
    "        similarity_scores = similarity_data.loc[:, name]\n",
    "\n",
    "        # Check if similarity_scores is a DataFrame and convert it to a Series if necessary\n",
    "        if isinstance(similarity_scores, DataFrame):\n",
    "            similarity_scores = similarity_scores.iloc[:, 0]\n",
    "\n",
    "        # Sort the scores in descending order and get the top k indices\n",
    "        # We add 1 to k to exclude the anime itself from the recommendations\n",
    "        top_k_indices = similarity_scores.sort_values(ascending=False).index[0:k + 1].drop(name)\n",
    "\n",
    "        # Get the names of the recommended anime\n",
    "        closest = top_k_indices\n",
    "\n",
    "        # Return the recommendations as a DataFrame\n",
    "        recommendation = DataFrame(closest).merge(items)\n",
    "        recommendation['genre'] = recommendation['genre'].apply(genre_decoding)\n",
    "\n",
    "        return recommendation\n",
    "    \n",
    "    except KeyError as e:\n",
    "        print(\"Tidak ada anime dengan judul serupa di dataset.\")\n",
    "        print(\"Input judul anime lain atau pastikan judul sudah benar\")\n",
    "\n",
    "anime_recommendations('Death Note', k=10)"
   ]
  },
  {
   "cell_type": "markdown",
   "metadata": {},
   "source": [
    "## 4.2. Collaborative Filtering"
   ]
  },
  {
   "cell_type": "markdown",
   "metadata": {},
   "source": [
    "### 4.2.1. Define Model"
   ]
  },
  {
   "cell_type": "code",
   "execution_count": 117,
   "metadata": {},
   "outputs": [],
   "source": [
    "class RecommenderNet(Model):\n",
    "    def __init__(self, num_user, num_anime, embedding_size, *args, **kwargs):\n",
    "        super(RecommenderNet, self).__init__(*args, **kwargs)\n",
    "        self.num_user = num_user\n",
    "        self.num_anime = num_anime\n",
    "        self.embedding_size = embedding_size\n",
    "\n",
    "        # User Embedding Layer\n",
    "        self.user_embedding = layers.Embedding(\n",
    "            num_user,\n",
    "            embedding_size,\n",
    "            embeddings_initializer= 'he_normal',\n",
    "            embeddings_regularizer= regularizers.l2(1e-6)\n",
    "        )\n",
    "\n",
    "        # User Bias Embedding Layer\n",
    "        self.user_bias = layers.Embedding(num_user, 1)\n",
    "\n",
    "        # Anime Embedding Layer\n",
    "        self.anime_embedding = layers.Embedding(\n",
    "            num_anime,\n",
    "            embedding_size,\n",
    "            embeddings_initializer= 'he_normal',\n",
    "            embeddings_regularizer= regularizers.l2(1e-6)\n",
    "        )\n",
    "\n",
    "        # Anime Bias Embedding Layer\n",
    "        self.anime_bias = layers.Embedding(num_anime, 1)\n",
    "\n",
    "    def call(self, inputs):\n",
    "        user_vector = self.user_embedding(inputs[:, 0])\n",
    "        user_bias = self.user_bias(inputs[:, 0])\n",
    "        anime_vector = self.anime_embedding(inputs[:, 0])\n",
    "        anime_bias = self.anime_bias(inputs[:, 0])\n",
    "\n",
    "        dot_matrix = tensordot(user_vector, anime_vector, 2)\n",
    "\n",
    "        x = dot_matrix + user_bias + anime_bias\n",
    "\n",
    "        # Activation Layer\n",
    "        return nn.sigmoid(x)"
   ]
  },
  {
   "cell_type": "markdown",
   "metadata": {},
   "source": [
    "### 4.2.2. Callback"
   ]
  },
  {
   "cell_type": "code",
   "execution_count": 118,
   "metadata": {},
   "outputs": [],
   "source": [
    "# class myCallback(Callback):\n",
    "#     def on_epoch_end(self, epoch, logs={}):\n",
    "#         if (logs.get('root_mean_squared_error') < 0.1 and logs.get('val_root_mean_squared_error') < 0.1):\n",
    "#             self.model.stop_training=True\n",
    "#             print('\\nMetrix RMSE berhasil mencapai target (RMSE<0.1)')\n",
    "\n",
    "myCallback = EarlyStopping(monitor='val_root_mean_squared_error', mode='min', patience=10, restore_best_weights=True)"
   ]
  },
  {
   "cell_type": "markdown",
   "metadata": {},
   "source": [
    "### 4.2.3. Compile Model"
   ]
  },
  {
   "cell_type": "code",
   "execution_count": 127,
   "metadata": {},
   "outputs": [],
   "source": [
    "model = RecommenderNet(num_user, num_anime, 50)\n",
    "\n",
    "model.compile(\n",
    "    loss = losses.BinaryCrossentropy(),\n",
    "    optimizer = optimizers.Adam(learning_rate=0.0001),\n",
    "    metrics = [metrics.RootMeanSquaredError]\n",
    ")"
   ]
  },
  {
   "cell_type": "markdown",
   "metadata": {},
   "source": [
    "### 4.2.4. Train Model"
   ]
  },
  {
   "cell_type": "code",
   "execution_count": 128,
   "metadata": {},
   "outputs": [
    {
     "name": "stdout",
     "output_type": "stream",
     "text": [
      "Epoch 1/100\n",
      "\u001b[1m7665/7665\u001b[0m \u001b[32m━━━━━━━━━━━━━━━━━━━━\u001b[0m\u001b[37m\u001b[0m \u001b[1m48s\u001b[0m 6ms/step - loss: 0.6036 - root_mean_squared_error: 0.2321 - val_loss: 0.5425 - val_root_mean_squared_error: 0.1643\n",
      "Epoch 2/100\n",
      "\u001b[1m7665/7665\u001b[0m \u001b[32m━━━━━━━━━━━━━━━━━━━━\u001b[0m\u001b[37m\u001b[0m \u001b[1m44s\u001b[0m 6ms/step - loss: 0.5401 - root_mean_squared_error: 0.1611 - val_loss: 0.5377 - val_root_mean_squared_error: 0.1588\n",
      "Epoch 3/100\n",
      "\u001b[1m7665/7665\u001b[0m \u001b[32m━━━━━━━━━━━━━━━━━━━━\u001b[0m\u001b[37m\u001b[0m \u001b[1m43s\u001b[0m 6ms/step - loss: 0.5366 - root_mean_squared_error: 0.1567 - val_loss: 0.5352 - val_root_mean_squared_error: 0.1560\n",
      "Epoch 4/100\n",
      "\u001b[1m7665/7665\u001b[0m \u001b[32m━━━━━━━━━━━━━━━━━━━━\u001b[0m\u001b[37m\u001b[0m \u001b[1m43s\u001b[0m 6ms/step - loss: 0.5319 - root_mean_squared_error: 0.1533 - val_loss: 0.5332 - val_root_mean_squared_error: 0.1538\n",
      "Epoch 5/100\n",
      "\u001b[1m7665/7665\u001b[0m \u001b[32m━━━━━━━━━━━━━━━━━━━━\u001b[0m\u001b[37m\u001b[0m \u001b[1m41s\u001b[0m 5ms/step - loss: 0.5309 - root_mean_squared_error: 0.1511 - val_loss: 0.5320 - val_root_mean_squared_error: 0.1524\n",
      "Epoch 6/100\n",
      "\u001b[1m7665/7665\u001b[0m \u001b[32m━━━━━━━━━━━━━━━━━━━━\u001b[0m\u001b[37m\u001b[0m \u001b[1m43s\u001b[0m 6ms/step - loss: 0.5296 - root_mean_squared_error: 0.1496 - val_loss: 0.5315 - val_root_mean_squared_error: 0.1519\n",
      "Epoch 7/100\n",
      "\u001b[1m7665/7665\u001b[0m \u001b[32m━━━━━━━━━━━━━━━━━━━━\u001b[0m\u001b[37m\u001b[0m \u001b[1m44s\u001b[0m 6ms/step - loss: 0.5290 - root_mean_squared_error: 0.1490 - val_loss: 0.5306 - val_root_mean_squared_error: 0.1509\n",
      "Epoch 8/100\n",
      "\u001b[1m7665/7665\u001b[0m \u001b[32m━━━━━━━━━━━━━━━━━━━━\u001b[0m\u001b[37m\u001b[0m \u001b[1m45s\u001b[0m 6ms/step - loss: 0.5289 - root_mean_squared_error: 0.1482 - val_loss: 0.5303 - val_root_mean_squared_error: 0.1506\n",
      "Epoch 9/100\n",
      "\u001b[1m7665/7665\u001b[0m \u001b[32m━━━━━━━━━━━━━━━━━━━━\u001b[0m\u001b[37m\u001b[0m \u001b[1m44s\u001b[0m 6ms/step - loss: 0.5278 - root_mean_squared_error: 0.1474 - val_loss: 0.5298 - val_root_mean_squared_error: 0.1501\n",
      "Epoch 10/100\n",
      "\u001b[1m7665/7665\u001b[0m \u001b[32m━━━━━━━━━━━━━━━━━━━━\u001b[0m\u001b[37m\u001b[0m \u001b[1m45s\u001b[0m 6ms/step - loss: 0.5262 - root_mean_squared_error: 0.1463 - val_loss: 0.5295 - val_root_mean_squared_error: 0.1497\n",
      "Epoch 11/100\n",
      "\u001b[1m7665/7665\u001b[0m \u001b[32m━━━━━━━━━━━━━━━━━━━━\u001b[0m\u001b[37m\u001b[0m \u001b[1m45s\u001b[0m 6ms/step - loss: 0.5249 - root_mean_squared_error: 0.1462 - val_loss: 0.5294 - val_root_mean_squared_error: 0.1497\n",
      "Epoch 12/100\n",
      "\u001b[1m7665/7665\u001b[0m \u001b[32m━━━━━━━━━━━━━━━━━━━━\u001b[0m\u001b[37m\u001b[0m \u001b[1m44s\u001b[0m 6ms/step - loss: 0.5248 - root_mean_squared_error: 0.1456 - val_loss: 0.5289 - val_root_mean_squared_error: 0.1491\n",
      "Epoch 13/100\n",
      "\u001b[1m7665/7665\u001b[0m \u001b[32m━━━━━━━━━━━━━━━━━━━━\u001b[0m\u001b[37m\u001b[0m \u001b[1m46s\u001b[0m 6ms/step - loss: 0.5254 - root_mean_squared_error: 0.1459 - val_loss: 0.5288 - val_root_mean_squared_error: 0.1490\n",
      "Epoch 14/100\n",
      "\u001b[1m7665/7665\u001b[0m \u001b[32m━━━━━━━━━━━━━━━━━━━━\u001b[0m\u001b[37m\u001b[0m \u001b[1m45s\u001b[0m 6ms/step - loss: 0.5248 - root_mean_squared_error: 0.1442 - val_loss: 0.5286 - val_root_mean_squared_error: 0.1488\n",
      "Epoch 15/100\n",
      "\u001b[1m7665/7665\u001b[0m \u001b[32m━━━━━━━━━━━━━━━━━━━━\u001b[0m\u001b[37m\u001b[0m \u001b[1m46s\u001b[0m 6ms/step - loss: 0.5244 - root_mean_squared_error: 0.1457 - val_loss: 0.5287 - val_root_mean_squared_error: 0.1489\n",
      "Epoch 16/100\n",
      "\u001b[1m7665/7665\u001b[0m \u001b[32m━━━━━━━━━━━━━━━━━━━━\u001b[0m\u001b[37m\u001b[0m \u001b[1m45s\u001b[0m 6ms/step - loss: 0.5255 - root_mean_squared_error: 0.1455 - val_loss: 0.5286 - val_root_mean_squared_error: 0.1488\n",
      "Epoch 17/100\n",
      "\u001b[1m7665/7665\u001b[0m \u001b[32m━━━━━━━━━━━━━━━━━━━━\u001b[0m\u001b[37m\u001b[0m \u001b[1m47s\u001b[0m 6ms/step - loss: 0.5259 - root_mean_squared_error: 0.1455 - val_loss: 0.5286 - val_root_mean_squared_error: 0.1489\n",
      "Epoch 18/100\n",
      "\u001b[1m7665/7665\u001b[0m \u001b[32m━━━━━━━━━━━━━━━━━━━━\u001b[0m\u001b[37m\u001b[0m \u001b[1m45s\u001b[0m 6ms/step - loss: 0.5256 - root_mean_squared_error: 0.1458 - val_loss: 0.5285 - val_root_mean_squared_error: 0.1489\n",
      "Epoch 19/100\n",
      "\u001b[1m7665/7665\u001b[0m \u001b[32m━━━━━━━━━━━━━━━━━━━━\u001b[0m\u001b[37m\u001b[0m \u001b[1m46s\u001b[0m 6ms/step - loss: 0.5258 - root_mean_squared_error: 0.1460 - val_loss: 0.5284 - val_root_mean_squared_error: 0.1487\n",
      "Epoch 20/100\n",
      "\u001b[1m7665/7665\u001b[0m \u001b[32m━━━━━━━━━━━━━━━━━━━━\u001b[0m\u001b[37m\u001b[0m \u001b[1m47s\u001b[0m 6ms/step - loss: 0.5238 - root_mean_squared_error: 0.1451 - val_loss: 0.5284 - val_root_mean_squared_error: 0.1487\n",
      "Epoch 21/100\n",
      "\u001b[1m7665/7665\u001b[0m \u001b[32m━━━━━━━━━━━━━━━━━━━━\u001b[0m\u001b[37m\u001b[0m \u001b[1m44s\u001b[0m 6ms/step - loss: 0.5262 - root_mean_squared_error: 0.1455 - val_loss: 0.5283 - val_root_mean_squared_error: 0.1486\n",
      "Epoch 22/100\n",
      "\u001b[1m7665/7665\u001b[0m \u001b[32m━━━━━━━━━━━━━━━━━━━━\u001b[0m\u001b[37m\u001b[0m \u001b[1m43s\u001b[0m 6ms/step - loss: 0.5262 - root_mean_squared_error: 0.1463 - val_loss: 0.5282 - val_root_mean_squared_error: 0.1485\n",
      "Epoch 23/100\n",
      "\u001b[1m7665/7665\u001b[0m \u001b[32m━━━━━━━━━━━━━━━━━━━━\u001b[0m\u001b[37m\u001b[0m \u001b[1m41s\u001b[0m 5ms/step - loss: 0.5262 - root_mean_squared_error: 0.1459 - val_loss: 0.5282 - val_root_mean_squared_error: 0.1485\n",
      "Epoch 24/100\n",
      "\u001b[1m7665/7665\u001b[0m \u001b[32m━━━━━━━━━━━━━━━━━━━━\u001b[0m\u001b[37m\u001b[0m \u001b[1m44s\u001b[0m 6ms/step - loss: 0.5246 - root_mean_squared_error: 0.1453 - val_loss: 0.5283 - val_root_mean_squared_error: 0.1486\n",
      "Epoch 25/100\n",
      "\u001b[1m7665/7665\u001b[0m \u001b[32m━━━━━━━━━━━━━━━━━━━━\u001b[0m\u001b[37m\u001b[0m \u001b[1m46s\u001b[0m 6ms/step - loss: 0.5253 - root_mean_squared_error: 0.1458 - val_loss: 0.5283 - val_root_mean_squared_error: 0.1487\n",
      "Epoch 26/100\n",
      "\u001b[1m7665/7665\u001b[0m \u001b[32m━━━━━━━━━━━━━━━━━━━━\u001b[0m\u001b[37m\u001b[0m \u001b[1m46s\u001b[0m 6ms/step - loss: 0.5243 - root_mean_squared_error: 0.1447 - val_loss: 0.5283 - val_root_mean_squared_error: 0.1486\n",
      "Epoch 27/100\n",
      "\u001b[1m7665/7665\u001b[0m \u001b[32m━━━━━━━━━━━━━━━━━━━━\u001b[0m\u001b[37m\u001b[0m \u001b[1m45s\u001b[0m 6ms/step - loss: 0.5249 - root_mean_squared_error: 0.1450 - val_loss: 0.5283 - val_root_mean_squared_error: 0.1487\n",
      "Epoch 28/100\n",
      "\u001b[1m7665/7665\u001b[0m \u001b[32m━━━━━━━━━━━━━━━━━━━━\u001b[0m\u001b[37m\u001b[0m \u001b[1m44s\u001b[0m 6ms/step - loss: 0.5254 - root_mean_squared_error: 0.1460 - val_loss: 0.5281 - val_root_mean_squared_error: 0.1485\n",
      "Epoch 29/100\n",
      "\u001b[1m7665/7665\u001b[0m \u001b[32m━━━━━━━━━━━━━━━━━━━━\u001b[0m\u001b[37m\u001b[0m \u001b[1m44s\u001b[0m 6ms/step - loss: 0.5265 - root_mean_squared_error: 0.1464 - val_loss: 0.5283 - val_root_mean_squared_error: 0.1487\n",
      "Epoch 30/100\n",
      "\u001b[1m7665/7665\u001b[0m \u001b[32m━━━━━━━━━━━━━━━━━━━━\u001b[0m\u001b[37m\u001b[0m \u001b[1m41s\u001b[0m 5ms/step - loss: 0.5268 - root_mean_squared_error: 0.1464 - val_loss: 0.5282 - val_root_mean_squared_error: 0.1486\n",
      "Epoch 31/100\n",
      "\u001b[1m7665/7665\u001b[0m \u001b[32m━━━━━━━━━━━━━━━━━━━━\u001b[0m\u001b[37m\u001b[0m \u001b[1m43s\u001b[0m 6ms/step - loss: 0.5251 - root_mean_squared_error: 0.1462 - val_loss: 0.5280 - val_root_mean_squared_error: 0.1484\n",
      "Epoch 32/100\n",
      "\u001b[1m7665/7665\u001b[0m \u001b[32m━━━━━━━━━━━━━━━━━━━━\u001b[0m\u001b[37m\u001b[0m \u001b[1m42s\u001b[0m 6ms/step - loss: 0.5251 - root_mean_squared_error: 0.1461 - val_loss: 0.5281 - val_root_mean_squared_error: 0.1485\n",
      "Epoch 33/100\n",
      "\u001b[1m7665/7665\u001b[0m \u001b[32m━━━━━━━━━━━━━━━━━━━━\u001b[0m\u001b[37m\u001b[0m \u001b[1m42s\u001b[0m 5ms/step - loss: 0.5254 - root_mean_squared_error: 0.1446 - val_loss: 0.5282 - val_root_mean_squared_error: 0.1486\n",
      "Epoch 34/100\n",
      "\u001b[1m7665/7665\u001b[0m \u001b[32m━━━━━━━━━━━━━━━━━━━━\u001b[0m\u001b[37m\u001b[0m \u001b[1m42s\u001b[0m 6ms/step - loss: 0.5244 - root_mean_squared_error: 0.1444 - val_loss: 0.5281 - val_root_mean_squared_error: 0.1485\n",
      "Epoch 35/100\n",
      "\u001b[1m7665/7665\u001b[0m \u001b[32m━━━━━━━━━━━━━━━━━━━━\u001b[0m\u001b[37m\u001b[0m \u001b[1m44s\u001b[0m 6ms/step - loss: 0.5234 - root_mean_squared_error: 0.1454 - val_loss: 0.5281 - val_root_mean_squared_error: 0.1485\n",
      "Epoch 36/100\n",
      "\u001b[1m7665/7665\u001b[0m \u001b[32m━━━━━━━━━━━━━━━━━━━━\u001b[0m\u001b[37m\u001b[0m \u001b[1m45s\u001b[0m 6ms/step - loss: 0.5247 - root_mean_squared_error: 0.1453 - val_loss: 0.5282 - val_root_mean_squared_error: 0.1486\n"
     ]
    }
   ],
   "source": [
    "history = model.fit(\n",
    "    x = x_train,\n",
    "    y = y_train,\n",
    "    batch_size = 8,\n",
    "    epochs = 100,\n",
    "    validation_data = (x_valid, y_valid),\n",
    "    callbacks=EarlyStopping(monitor='val_root_mean_squared_error', mode='min', patience=5, restore_best_weights=True)\n",
    ")"
   ]
  },
  {
   "cell_type": "markdown",
   "metadata": {},
   "source": [
    "### 4.2.5. Getting Recommendation"
   ]
  },
  {
   "cell_type": "code",
   "execution_count": 246,
   "metadata": {},
   "outputs": [],
   "source": [
    "def collaborative_recommendation(userID, k=10):\n",
    "    # Mengambil sample user\n",
    "    # user_id_test = data_rating.user_id.sample(1).iloc[0]\n",
    "    user_id_test = userID\n",
    "    user_anime_watched = data_rating[data_rating['user_id'] == user_id_test]\n",
    "\n",
    "    # Membuat list anime yang telah ditonton user\n",
    "    user_anime_watched\n",
    "\n",
    "    # Mendapatkan list anime yang belum ditonton user\n",
    "    # operator ~(bitwise) membalikan nilai boolean\n",
    "    user_new_anime = data_anime[~data_anime['anime_id'].isin(user_anime_watched.anime_id.values)]['anime_id']\n",
    "    user_new_anime = list(\n",
    "        set(user_new_anime).intersection(set(idA2idAE.keys()))\n",
    "    )\n",
    "\n",
    "    # Decode anime_id yang ada dalam list anime yang belum ditonton user\n",
    "    user_new_anime = [[idA2idAE.get(x)] for x in user_new_anime]\n",
    "\n",
    "    # Decode user id\n",
    "    user_encoder = idU2idUE.get(user_id_test)\n",
    "\n",
    "    # Membuat array yang memasangkan user_id dan anime_id yang telah di-encode\n",
    "    anime_array = hstack(\n",
    "        ([[user_encoder]] * len(user_new_anime), user_new_anime)\n",
    "    )\n",
    "\n",
    "    # Melakukan prediksi rating pada anime baru\n",
    "    ratings = model.predict(anime_array).flatten()\n",
    "\n",
    "    # mengurutkan dari nilai terkecil dan mengembalikan index\n",
    "    # [-10:] => mengambil 10 nilai terakhir\n",
    "    # [::-1] => reverse urutan dalam array\n",
    "    top_rating_indicies = ratings.argsort()[-k:][::-1]\n",
    "\n",
    "    # Decode anime_id yang akan di rekomendasikan\n",
    "    anime_recommendation_ids = [idAE2idA.get(user_new_anime[x][0]) for x in top_rating_indicies]\n",
    "\n",
    "    # Cetak List Rekomendasi Anime\n",
    "    print(\"\\n\")\n",
    "    print(\"=================================\")\n",
    "    print(\"=== Your Anime Recommendation ===\")\n",
    "    print(\"=================================\")\n",
    "\n",
    "    top_user_animes = (\n",
    "        user_anime_watched.sort_values(\n",
    "            by = 'rating',\n",
    "            ascending = False\n",
    "        )\n",
    "        .head(5)\n",
    "        .anime_id.values\n",
    "    )\n",
    "\n",
    "    top_anime = data_anime[data_anime['anime_id'].isin(top_user_animes)]\n",
    "    list_old_title = []\n",
    "    list_old_genre = []\n",
    "    for row in top_anime.itertuples():\n",
    "        print(row.name, '=>', row.genre)\n",
    "        list_old_title.append(row.name)\n",
    "        list_old_genre.append(row.genre)\n",
    "    top_anime_df = DataFrame({'Judul Anime': list_old_title, 'Genre': list_old_genre})\n",
    "    # top_anime_df\n",
    "\n",
    "    print(\"=================================\")\n",
    "    anime_recommendation = data_anime[data_anime['anime_id'].isin(anime_recommendation_ids)]\n",
    "    list_new_title = []\n",
    "    list_new_genre = []\n",
    "    for row in anime_recommendation.itertuples():\n",
    "        print(row.name, '=>', row.genre)\n",
    "        list_new_title.append(row.name)\n",
    "        list_new_genre.append(row.genre)\n",
    "\n",
    "    recommendations = DataFrame({'Judul Anime': list_new_title, 'Genre': list_new_genre})\n",
    "    # recommendations\n",
    "\n",
    "    return top_anime_df, recommendations"
   ]
  },
  {
   "cell_type": "code",
   "execution_count": 247,
   "metadata": {},
   "outputs": [
    {
     "name": "stdout",
     "output_type": "stream",
     "text": [
      "\u001b[1m10/10\u001b[0m \u001b[32m━━━━━━━━━━━━━━━━━━━━\u001b[0m\u001b[37m\u001b[0m \u001b[1m0s\u001b[0m 2ms/step \n",
      "\n",
      "\n",
      "=================================\n",
      "=== Your Anime Recommendation ===\n",
      "=================================\n",
      "No Game No Life => Adventure, Comedy, Ecchi, Fantasy, Game, Supernatural\n",
      "High School DxD New => Action, Comedy, Demons, Ecchi, Harem, Romance, School\n",
      "Naruto => Action, Comedy, Martial Arts, Shounen, Super Power\n",
      "High School DxD => Comedy, Demons, Ecchi, Harem, Romance, School\n",
      "Black Bullet => Action, Mystery, Sci-Fi, Seinen\n",
      "=================================\n",
      "Mushishi => Adventure, Fantasy, Historical, Mystery, Seinen, Slice of Life, Supernatural\n",
      "Kuroko no Basket 2nd Season => Comedy, School, Shounen, Sports\n",
      "Akatsuki no Yona => Action, Adventure, Comedy, Fantasy, Romance, Shoujo\n",
      "Nisekoi => Comedy, Harem, Romance, School, Shounen\n",
      "Isshuukan Friends. => Comedy, School, Shounen, Slice of Life\n",
      "Amagami SS => Comedy, Romance, School, Slice of Life\n",
      "Boku wa Tomodachi ga Sukunai => Comedy, Ecchi, Harem, Romance, School, Seinen, Slice of Life\n",
      "Maoyuu Maou Yuusha => Adventure, Demons, Fantasy, Historical, Romance\n",
      "Naruto Movie 1: Dai Katsugeki!! Yuki Hime Shinobu Houjou Dattebayo! => Adventure, Comedy, Drama, Historical, Shounen, Supernatural\n",
      "Hidan no Aria => Action, Comedy, Romance, School\n"
     ]
    }
   ],
   "source": [
    "top_anime_df, recommendations = collaborative_recommendation(666)"
   ]
  },
  {
   "cell_type": "markdown",
   "metadata": {},
   "source": [
    "# 5. Evaluation"
   ]
  },
  {
   "cell_type": "code",
   "execution_count": 129,
   "metadata": {},
   "outputs": [
    {
     "data": {
      "image/png": "[encoded data removed]",
      "text/plain": [
       "<Figure size 640x480 with 1 Axes>"
      ]
     },
     "metadata": {},
     "output_type": "display_data"
    }
   ],
   "source": [
    "plt.plot(history.history['root_mean_squared_error'])\n",
    "plt.plot(history.history['val_root_mean_squared_error'])\n",
    "plt.title('model_metrics')\n",
    "plt.ylabel('root_mean_squared_error')\n",
    "plt.xlabel('epoch')\n",
    "plt.legend(['train', 'test'], loc='upper left')\n",
    "plt.show()"
   ]
  }
 ],
 "metadata": {
  "kernelspec": {
   "display_name": "tf2.16",
   "language": "python",
   "name": "python3"
  },
  "language_info": {
   "codemirror_mode": {
    "name": "ipython",
    "version": 3
   },
   "file_extension": ".py",
   "mimetype": "text/x-python",
   "name": "python",
   "nbconvert_exporter": "python",
   "pygments_lexer": "ipython3",
   "version": "3.10.15"
  }
 },
 "nbformat": 4,
 "nbformat_minor": 2
}
