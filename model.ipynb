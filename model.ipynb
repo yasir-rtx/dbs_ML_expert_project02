{
 "cells": [
  {
   "cell_type": "markdown",
   "metadata": {},
   "source": [
    "# Library"
   ]
  },
  {
   "cell_type": "code",
   "execution_count": 1,
   "metadata": {},
   "outputs": [],
   "source": [
    "from pandas import read_csv\n",
    "from pandas import DataFrame\n",
    "\n",
    "from numpy import sort\n",
    "from numpy import unique\n",
    "from numpy import delete\n",
    "\n",
    "from sklearn.feature_extraction.text import TfidfVectorizer\n",
    "from sklearn.metrics.pairwise import cosine_similarity"
   ]
  },
  {
   "cell_type": "markdown",
   "metadata": {},
   "source": [
    "# 1. Data Understanding"
   ]
  },
  {
   "cell_type": "markdown",
   "metadata": {},
   "source": [
    "## 1.1. Downloading Data"
   ]
  },
  {
   "cell_type": "code",
   "execution_count": 2,
   "metadata": {},
   "outputs": [],
   "source": [
    "# !kaggle datasets download CooperUnion/anime-recommendations-database"
   ]
  },
  {
   "cell_type": "markdown",
   "metadata": {},
   "source": [
    "## 1.2. Extracting Data"
   ]
  },
  {
   "cell_type": "code",
   "execution_count": 3,
   "metadata": {},
   "outputs": [],
   "source": [
    "# !unzip anime-recommendations-database.zip"
   ]
  },
  {
   "cell_type": "markdown",
   "metadata": {},
   "source": [
    "## 1.3. Data Loading"
   ]
  },
  {
   "cell_type": "code",
   "execution_count": 4,
   "metadata": {},
   "outputs": [
    {
     "name": "stdout",
     "output_type": "stream",
     "text": [
      "Dataframe Anime\n",
      "Jumlah Data Anime  : 12294\n",
      "\n",
      "Dataframe Rating\n",
      "Jumlah Data Rating : 73515\n",
      "Jumlah Anime yang di rating 11200\n"
     ]
    }
   ],
   "source": [
    "anime_df = read_csv('./anime.csv')\n",
    "rating_df = read_csv('./rating.csv')\n",
    "\n",
    "print(\"Dataframe Anime\")\n",
    "print(\"Jumlah Data Anime  :\", len(anime_df.anime_id.unique()))\n",
    "\n",
    "print(\"\\nDataframe Rating\")\n",
    "print(\"Jumlah Data Rating :\", len(rating_df.user_id.unique()))\n",
    "print(\"Jumlah Anime yang di rating\", len(rating_df.anime_id.unique()))"
   ]
  },
  {
   "cell_type": "markdown",
   "metadata": {},
   "source": [
    "## 1.5. Anime Variabel"
   ]
  },
  {
   "cell_type": "code",
   "execution_count": 5,
   "metadata": {},
   "outputs": [
    {
     "data": {
      "text/html": [
       "<div>\n",
       "<style scoped>\n",
       "    .dataframe tbody tr th:only-of-type {\n",
       "        vertical-align: middle;\n",
       "    }\n",
       "\n",
       "    .dataframe tbody tr th {\n",
       "        vertical-align: top;\n",
       "    }\n",
       "\n",
       "    .dataframe thead th {\n",
       "        text-align: right;\n",
       "    }\n",
       "</style>\n",
       "<table border=\"1\" class=\"dataframe\">\n",
       "  <thead>\n",
       "    <tr style=\"text-align: right;\">\n",
       "      <th></th>\n",
       "      <th>anime_id</th>\n",
       "      <th>name</th>\n",
       "      <th>genre</th>\n",
       "      <th>type</th>\n",
       "      <th>episodes</th>\n",
       "      <th>rating</th>\n",
       "      <th>members</th>\n",
       "    </tr>\n",
       "  </thead>\n",
       "  <tbody>\n",
       "    <tr>\n",
       "      <th>0</th>\n",
       "      <td>32281</td>\n",
       "      <td>Kimi no Na wa.</td>\n",
       "      <td>Drama, Romance, School, Supernatural</td>\n",
       "      <td>Movie</td>\n",
       "      <td>1</td>\n",
       "      <td>9.37</td>\n",
       "      <td>200630</td>\n",
       "    </tr>\n",
       "    <tr>\n",
       "      <th>1</th>\n",
       "      <td>5114</td>\n",
       "      <td>Fullmetal Alchemist: Brotherhood</td>\n",
       "      <td>Action, Adventure, Drama, Fantasy, Magic, Mili...</td>\n",
       "      <td>TV</td>\n",
       "      <td>64</td>\n",
       "      <td>9.26</td>\n",
       "      <td>793665</td>\n",
       "    </tr>\n",
       "    <tr>\n",
       "      <th>2</th>\n",
       "      <td>28977</td>\n",
       "      <td>Gintama°</td>\n",
       "      <td>Action, Comedy, Historical, Parody, Samurai, S...</td>\n",
       "      <td>TV</td>\n",
       "      <td>51</td>\n",
       "      <td>9.25</td>\n",
       "      <td>114262</td>\n",
       "    </tr>\n",
       "    <tr>\n",
       "      <th>3</th>\n",
       "      <td>9253</td>\n",
       "      <td>Steins;Gate</td>\n",
       "      <td>Sci-Fi, Thriller</td>\n",
       "      <td>TV</td>\n",
       "      <td>24</td>\n",
       "      <td>9.17</td>\n",
       "      <td>673572</td>\n",
       "    </tr>\n",
       "    <tr>\n",
       "      <th>4</th>\n",
       "      <td>9969</td>\n",
       "      <td>Gintama&amp;#039;</td>\n",
       "      <td>Action, Comedy, Historical, Parody, Samurai, S...</td>\n",
       "      <td>TV</td>\n",
       "      <td>51</td>\n",
       "      <td>9.16</td>\n",
       "      <td>151266</td>\n",
       "    </tr>\n",
       "  </tbody>\n",
       "</table>\n",
       "</div>"
      ],
      "text/plain": [
       "   anime_id                              name  \\\n",
       "0     32281                    Kimi no Na wa.   \n",
       "1      5114  Fullmetal Alchemist: Brotherhood   \n",
       "2     28977                          Gintama°   \n",
       "3      9253                       Steins;Gate   \n",
       "4      9969                     Gintama&#039;   \n",
       "\n",
       "                                               genre   type episodes  rating  \\\n",
       "0               Drama, Romance, School, Supernatural  Movie        1    9.37   \n",
       "1  Action, Adventure, Drama, Fantasy, Magic, Mili...     TV       64    9.26   \n",
       "2  Action, Comedy, Historical, Parody, Samurai, S...     TV       51    9.25   \n",
       "3                                   Sci-Fi, Thriller     TV       24    9.17   \n",
       "4  Action, Comedy, Historical, Parody, Samurai, S...     TV       51    9.16   \n",
       "\n",
       "   members  \n",
       "0   200630  \n",
       "1   793665  \n",
       "2   114262  \n",
       "3   673572  \n",
       "4   151266  "
      ]
     },
     "execution_count": 5,
     "metadata": {},
     "output_type": "execute_result"
    }
   ],
   "source": [
    "anime_df.head()"
   ]
  },
  {
   "cell_type": "code",
   "execution_count": 6,
   "metadata": {},
   "outputs": [
    {
     "name": "stdout",
     "output_type": "stream",
     "text": [
      "<class 'pandas.core.frame.DataFrame'>\n",
      "RangeIndex: 12294 entries, 0 to 12293\n",
      "Data columns (total 7 columns):\n",
      " #   Column    Non-Null Count  Dtype  \n",
      "---  ------    --------------  -----  \n",
      " 0   anime_id  12294 non-null  int64  \n",
      " 1   name      12294 non-null  object \n",
      " 2   genre     12232 non-null  object \n",
      " 3   type      12269 non-null  object \n",
      " 4   episodes  12294 non-null  object \n",
      " 5   rating    12064 non-null  float64\n",
      " 6   members   12294 non-null  int64  \n",
      "dtypes: float64(1), int64(2), object(4)\n",
      "memory usage: 672.5+ KB\n"
     ]
    }
   ],
   "source": [
    "anime_df.info()"
   ]
  },
  {
   "cell_type": "code",
   "execution_count": 7,
   "metadata": {},
   "outputs": [
    {
     "name": "stdout",
     "output_type": "stream",
     "text": [
      "Jumlah Anime : 12292\n",
      "Judul Anime  : ['Kimi no Na wa.' 'Fullmetal Alchemist: Brotherhood' 'Gintama°' ...\n",
      " 'Violence Gekiga David no Hoshi'\n",
      " 'Violence Gekiga Shin David no Hoshi: Inma Densetsu'\n",
      " 'Yasuji no Pornorama: Yacchimae!!']\n",
      "\n",
      "Jumlah Genre : 3265\n",
      "Genre Anime  : ['Drama, Romance, School, Supernatural'\n",
      " 'Action, Adventure, Drama, Fantasy, Magic, Military, Shounen'\n",
      " 'Action, Comedy, Historical, Parody, Samurai, Sci-Fi, Shounen' ...\n",
      " 'Hentai, Sports' 'Drama, Romance, School, Yuri' 'Hentai, Slice of Life']\n"
     ]
    }
   ],
   "source": [
    "print(\"Jumlah Anime :\", len(anime_df.name.unique()))\n",
    "print(\"Judul Anime  :\", anime_df.name.unique())\n",
    "print(\"\\nJumlah Genre :\", len(anime_df.genre.unique()))\n",
    "print(\"Genre Anime  :\", anime_df.genre.unique())"
   ]
  },
  {
   "cell_type": "markdown",
   "metadata": {},
   "source": [
    "## 1.6. Rating Variabel"
   ]
  },
  {
   "cell_type": "code",
   "execution_count": 8,
   "metadata": {},
   "outputs": [
    {
     "data": {
      "text/html": [
       "<div>\n",
       "<style scoped>\n",
       "    .dataframe tbody tr th:only-of-type {\n",
       "        vertical-align: middle;\n",
       "    }\n",
       "\n",
       "    .dataframe tbody tr th {\n",
       "        vertical-align: top;\n",
       "    }\n",
       "\n",
       "    .dataframe thead th {\n",
       "        text-align: right;\n",
       "    }\n",
       "</style>\n",
       "<table border=\"1\" class=\"dataframe\">\n",
       "  <thead>\n",
       "    <tr style=\"text-align: right;\">\n",
       "      <th></th>\n",
       "      <th>user_id</th>\n",
       "      <th>anime_id</th>\n",
       "      <th>rating</th>\n",
       "    </tr>\n",
       "  </thead>\n",
       "  <tbody>\n",
       "    <tr>\n",
       "      <th>0</th>\n",
       "      <td>1</td>\n",
       "      <td>20</td>\n",
       "      <td>-1</td>\n",
       "    </tr>\n",
       "    <tr>\n",
       "      <th>1</th>\n",
       "      <td>1</td>\n",
       "      <td>24</td>\n",
       "      <td>-1</td>\n",
       "    </tr>\n",
       "    <tr>\n",
       "      <th>2</th>\n",
       "      <td>1</td>\n",
       "      <td>79</td>\n",
       "      <td>-1</td>\n",
       "    </tr>\n",
       "    <tr>\n",
       "      <th>3</th>\n",
       "      <td>1</td>\n",
       "      <td>226</td>\n",
       "      <td>-1</td>\n",
       "    </tr>\n",
       "    <tr>\n",
       "      <th>4</th>\n",
       "      <td>1</td>\n",
       "      <td>241</td>\n",
       "      <td>-1</td>\n",
       "    </tr>\n",
       "  </tbody>\n",
       "</table>\n",
       "</div>"
      ],
      "text/plain": [
       "   user_id  anime_id  rating\n",
       "0        1        20      -1\n",
       "1        1        24      -1\n",
       "2        1        79      -1\n",
       "3        1       226      -1\n",
       "4        1       241      -1"
      ]
     },
     "execution_count": 8,
     "metadata": {},
     "output_type": "execute_result"
    }
   ],
   "source": [
    "rating_df.head()"
   ]
  },
  {
   "cell_type": "code",
   "execution_count": 9,
   "metadata": {},
   "outputs": [
    {
     "name": "stdout",
     "output_type": "stream",
     "text": [
      "<class 'pandas.core.frame.DataFrame'>\n",
      "RangeIndex: 7813737 entries, 0 to 7813736\n",
      "Data columns (total 3 columns):\n",
      " #   Column    Dtype\n",
      "---  ------    -----\n",
      " 0   user_id   int64\n",
      " 1   anime_id  int64\n",
      " 2   rating    int64\n",
      "dtypes: int64(3)\n",
      "memory usage: 178.8 MB\n"
     ]
    }
   ],
   "source": [
    "rating_df.info()"
   ]
  },
  {
   "cell_type": "code",
   "execution_count": 10,
   "metadata": {},
   "outputs": [
    {
     "name": "stdout",
     "output_type": "stream",
     "text": [
      "Jumlah User     : 73515\n",
      "Jumlah Anime    : 11200\n",
      "Panjang Rating  : 11\n",
      "Rentang Rating  : [-1  1  2  3  4  5  6  7  8  9 10]\n"
     ]
    }
   ],
   "source": [
    "print(\"Jumlah User     :\", len(rating_df.user_id.unique()))\n",
    "print(\"Jumlah Anime    :\", len(rating_df.anime_id.unique()))\n",
    "print(\"Panjang Rating  :\", len(rating_df.rating.unique()))\n",
    "print(\"Rentang Rating  :\", sort(rating_df.rating.unique()))"
   ]
  },
  {
   "cell_type": "code",
   "execution_count": 11,
   "metadata": {},
   "outputs": [
    {
     "data": {
      "text/plain": [
       "count    7.813737e+06\n",
       "mean     6.144030e+00\n",
       "std      3.727800e+00\n",
       "min     -1.000000e+00\n",
       "25%      6.000000e+00\n",
       "50%      7.000000e+00\n",
       "75%      9.000000e+00\n",
       "max      1.000000e+01\n",
       "Name: rating, dtype: float64"
      ]
     },
     "execution_count": 11,
     "metadata": {},
     "output_type": "execute_result"
    }
   ],
   "source": [
    "rating_df['rating'].describe()"
   ]
  },
  {
   "cell_type": "markdown",
   "metadata": {},
   "source": [
    "# 2. Data Preprocessing"
   ]
  },
  {
   "cell_type": "markdown",
   "metadata": {},
   "source": [
    "# 3. Data Preparation"
   ]
  },
  {
   "cell_type": "markdown",
   "metadata": {},
   "source": [
    "## 3.1. Missing Value"
   ]
  },
  {
   "cell_type": "markdown",
   "metadata": {},
   "source": [
    "### 3.1.1. Anime Variabel"
   ]
  },
  {
   "cell_type": "code",
   "execution_count": 12,
   "metadata": {},
   "outputs": [
    {
     "data": {
      "text/plain": [
       "anime_id      0\n",
       "name          0\n",
       "genre        62\n",
       "type         25\n",
       "episodes      0\n",
       "rating      230\n",
       "members       0\n",
       "dtype: int64"
      ]
     },
     "execution_count": 12,
     "metadata": {},
     "output_type": "execute_result"
    }
   ],
   "source": [
    "anime_df.isnull().sum()"
   ]
  },
  {
   "cell_type": "markdown",
   "metadata": {},
   "source": [
    "Menampilkan baris yang memiliki missing value"
   ]
  },
  {
   "cell_type": "code",
   "execution_count": 13,
   "metadata": {},
   "outputs": [
    {
     "data": {
      "text/html": [
       "<div>\n",
       "<style scoped>\n",
       "    .dataframe tbody tr th:only-of-type {\n",
       "        vertical-align: middle;\n",
       "    }\n",
       "\n",
       "    .dataframe tbody tr th {\n",
       "        vertical-align: top;\n",
       "    }\n",
       "\n",
       "    .dataframe thead th {\n",
       "        text-align: right;\n",
       "    }\n",
       "</style>\n",
       "<table border=\"1\" class=\"dataframe\">\n",
       "  <thead>\n",
       "    <tr style=\"text-align: right;\">\n",
       "      <th></th>\n",
       "      <th>anime_id</th>\n",
       "      <th>name</th>\n",
       "      <th>genre</th>\n",
       "      <th>type</th>\n",
       "      <th>episodes</th>\n",
       "      <th>rating</th>\n",
       "      <th>members</th>\n",
       "    </tr>\n",
       "  </thead>\n",
       "  <tbody>\n",
       "    <tr>\n",
       "      <th>2844</th>\n",
       "      <td>33242</td>\n",
       "      <td>IS: Infinite Stratos 2 - Infinite Wedding</td>\n",
       "      <td>NaN</td>\n",
       "      <td>Special</td>\n",
       "      <td>1</td>\n",
       "      <td>7.15</td>\n",
       "      <td>6604</td>\n",
       "    </tr>\n",
       "    <tr>\n",
       "      <th>3541</th>\n",
       "      <td>33589</td>\n",
       "      <td>ViVid Strike!</td>\n",
       "      <td>NaN</td>\n",
       "      <td>TV</td>\n",
       "      <td>12</td>\n",
       "      <td>6.96</td>\n",
       "      <td>12345</td>\n",
       "    </tr>\n",
       "    <tr>\n",
       "      <th>6040</th>\n",
       "      <td>29765</td>\n",
       "      <td>Metropolis (2009)</td>\n",
       "      <td>NaN</td>\n",
       "      <td>Movie</td>\n",
       "      <td>1</td>\n",
       "      <td>6.27</td>\n",
       "      <td>313</td>\n",
       "    </tr>\n",
       "    <tr>\n",
       "      <th>6646</th>\n",
       "      <td>32695</td>\n",
       "      <td>Match Shoujo</td>\n",
       "      <td>NaN</td>\n",
       "      <td>ONA</td>\n",
       "      <td>1</td>\n",
       "      <td>6.02</td>\n",
       "      <td>242</td>\n",
       "    </tr>\n",
       "    <tr>\n",
       "      <th>7018</th>\n",
       "      <td>33187</td>\n",
       "      <td>Katsudou Shashin</td>\n",
       "      <td>NaN</td>\n",
       "      <td>Movie</td>\n",
       "      <td>1</td>\n",
       "      <td>5.79</td>\n",
       "      <td>607</td>\n",
       "    </tr>\n",
       "    <tr>\n",
       "      <th>...</th>\n",
       "      <td>...</td>\n",
       "      <td>...</td>\n",
       "      <td>...</td>\n",
       "      <td>...</td>\n",
       "      <td>...</td>\n",
       "      <td>...</td>\n",
       "      <td>...</td>\n",
       "    </tr>\n",
       "    <tr>\n",
       "      <th>12274</th>\n",
       "      <td>34492</td>\n",
       "      <td>Nuki Doki! Tenshi to Akuma no Sakusei Battle -...</td>\n",
       "      <td>Hentai</td>\n",
       "      <td>OVA</td>\n",
       "      <td>Unknown</td>\n",
       "      <td>NaN</td>\n",
       "      <td>392</td>\n",
       "    </tr>\n",
       "    <tr>\n",
       "      <th>12279</th>\n",
       "      <td>34491</td>\n",
       "      <td>Sagurare Otome The Animation</td>\n",
       "      <td>Hentai</td>\n",
       "      <td>OVA</td>\n",
       "      <td>1</td>\n",
       "      <td>NaN</td>\n",
       "      <td>79</td>\n",
       "    </tr>\n",
       "    <tr>\n",
       "      <th>12280</th>\n",
       "      <td>34312</td>\n",
       "      <td>Saimin Class</td>\n",
       "      <td>Hentai</td>\n",
       "      <td>OVA</td>\n",
       "      <td>Unknown</td>\n",
       "      <td>NaN</td>\n",
       "      <td>240</td>\n",
       "    </tr>\n",
       "    <tr>\n",
       "      <th>12282</th>\n",
       "      <td>34388</td>\n",
       "      <td>Shikkoku no Shaga The Animation</td>\n",
       "      <td>Hentai</td>\n",
       "      <td>OVA</td>\n",
       "      <td>Unknown</td>\n",
       "      <td>NaN</td>\n",
       "      <td>195</td>\n",
       "    </tr>\n",
       "    <tr>\n",
       "      <th>12285</th>\n",
       "      <td>34399</td>\n",
       "      <td>Taimanin Asagi 3</td>\n",
       "      <td>Demons, Hentai, Supernatural</td>\n",
       "      <td>OVA</td>\n",
       "      <td>Unknown</td>\n",
       "      <td>NaN</td>\n",
       "      <td>485</td>\n",
       "    </tr>\n",
       "  </tbody>\n",
       "</table>\n",
       "<p>277 rows × 7 columns</p>\n",
       "</div>"
      ],
      "text/plain": [
       "       anime_id                                               name  \\\n",
       "2844      33242          IS: Infinite Stratos 2 - Infinite Wedding   \n",
       "3541      33589                                      ViVid Strike!   \n",
       "6040      29765                                  Metropolis (2009)   \n",
       "6646      32695                                       Match Shoujo   \n",
       "7018      33187                                   Katsudou Shashin   \n",
       "...         ...                                                ...   \n",
       "12274     34492  Nuki Doki! Tenshi to Akuma no Sakusei Battle -...   \n",
       "12279     34491                       Sagurare Otome The Animation   \n",
       "12280     34312                                       Saimin Class   \n",
       "12282     34388                    Shikkoku no Shaga The Animation   \n",
       "12285     34399                                   Taimanin Asagi 3   \n",
       "\n",
       "                              genre     type episodes  rating  members  \n",
       "2844                            NaN  Special        1    7.15     6604  \n",
       "3541                            NaN       TV       12    6.96    12345  \n",
       "6040                            NaN    Movie        1    6.27      313  \n",
       "6646                            NaN      ONA        1    6.02      242  \n",
       "7018                            NaN    Movie        1    5.79      607  \n",
       "...                             ...      ...      ...     ...      ...  \n",
       "12274                        Hentai      OVA  Unknown     NaN      392  \n",
       "12279                        Hentai      OVA        1     NaN       79  \n",
       "12280                        Hentai      OVA  Unknown     NaN      240  \n",
       "12282                        Hentai      OVA  Unknown     NaN      195  \n",
       "12285  Demons, Hentai, Supernatural      OVA  Unknown     NaN      485  \n",
       "\n",
       "[277 rows x 7 columns]"
      ]
     },
     "execution_count": 13,
     "metadata": {},
     "output_type": "execute_result"
    }
   ],
   "source": [
    "anime_df[anime_df.isnull().any(axis=1)]"
   ]
  },
  {
   "cell_type": "markdown",
   "metadata": {},
   "source": [
    "Terdapat 277 data yang memilik missing value. Karena jumlahnya sedikit maka data dengan missing value akan dihapus"
   ]
  },
  {
   "cell_type": "code",
   "execution_count": 14,
   "metadata": {},
   "outputs": [
    {
     "data": {
      "text/plain": [
       "anime_id    0\n",
       "name        0\n",
       "genre       0\n",
       "type        0\n",
       "episodes    0\n",
       "rating      0\n",
       "members     0\n",
       "dtype: int64"
      ]
     },
     "execution_count": 14,
     "metadata": {},
     "output_type": "execute_result"
    }
   ],
   "source": [
    "anime_df = anime_df.dropna()\n",
    "\n",
    "# Periksa kembali missing value\n",
    "anime_df.isnull().sum()"
   ]
  },
  {
   "cell_type": "markdown",
   "metadata": {},
   "source": [
    "Sekarang dataset anime sudah bersih dari missing value"
   ]
  },
  {
   "cell_type": "markdown",
   "metadata": {},
   "source": [
    "### 3.1.2. Rating Variabel"
   ]
  },
  {
   "cell_type": "code",
   "execution_count": 15,
   "metadata": {},
   "outputs": [
    {
     "data": {
      "text/plain": [
       "user_id     0\n",
       "anime_id    0\n",
       "rating      0\n",
       "dtype: int64"
      ]
     },
     "execution_count": 15,
     "metadata": {},
     "output_type": "execute_result"
    }
   ],
   "source": [
    "rating_df.isnull().sum()"
   ]
  },
  {
   "cell_type": "markdown",
   "metadata": {},
   "source": [
    "Tidak terdapat missing value pada dataset rating"
   ]
  },
  {
   "cell_type": "markdown",
   "metadata": {},
   "source": [
    "## 3.2. Duplicated Data"
   ]
  },
  {
   "cell_type": "code",
   "execution_count": 63,
   "metadata": {},
   "outputs": [
    {
     "name": "stdout",
     "output_type": "stream",
     "text": [
      "Duplicated Data Count: 0\n"
     ]
    }
   ],
   "source": [
    "print(\"Duplicated Data Count:\", anime_df.duplicated().sum())"
   ]
  },
  {
   "cell_type": "markdown",
   "metadata": {},
   "source": [
    "# 4. Model Development"
   ]
  },
  {
   "cell_type": "markdown",
   "metadata": {},
   "source": [
    "## 4.1. Content Based Filtering"
   ]
  },
  {
   "cell_type": "code",
   "execution_count": 21,
   "metadata": {},
   "outputs": [],
   "source": [
    "data = anime_df"
   ]
  },
  {
   "cell_type": "code",
   "execution_count": 22,
   "metadata": {},
   "outputs": [
    {
     "data": {
      "text/plain": [
       "array(['action', 'adventure', 'ai', 'arts', 'cars', 'comedy', 'dementia',\n",
       "       'demons', 'drama', 'ecchi', 'fantasy', 'fi', 'game', 'harem',\n",
       "       'hentai', 'historical', 'horror', 'josei', 'kids', 'life', 'magic',\n",
       "       'martial', 'mecha', 'military', 'music', 'mystery', 'of', 'parody',\n",
       "       'police', 'power', 'psychological', 'romance', 'samurai', 'school',\n",
       "       'sci', 'seinen', 'shoujo', 'shounen', 'slice', 'space', 'sports',\n",
       "       'super', 'supernatural', 'thriller', 'vampire', 'yaoi', 'yuri'],\n",
       "      dtype=object)"
      ]
     },
     "execution_count": 22,
     "metadata": {},
     "output_type": "execute_result"
    }
   ],
   "source": [
    "tfidf = TfidfVectorizer()\n",
    "tfidf.fit(data['genre'])\n",
    "tfidf.get_feature_names_out()"
   ]
  },
  {
   "cell_type": "code",
   "execution_count": 23,
   "metadata": {},
   "outputs": [
    {
     "data": {
      "text/plain": [
       "(12017, 47)"
      ]
     },
     "execution_count": 23,
     "metadata": {},
     "output_type": "execute_result"
    }
   ],
   "source": [
    "matrix = tfidf.fit_transform(data['genre'])\n",
    "matrix.shape"
   ]
  },
  {
   "cell_type": "code",
   "execution_count": 24,
   "metadata": {},
   "outputs": [
    {
     "data": {
      "text/html": [
       "<div>\n",
       "<style scoped>\n",
       "    .dataframe tbody tr th:only-of-type {\n",
       "        vertical-align: middle;\n",
       "    }\n",
       "\n",
       "    .dataframe tbody tr th {\n",
       "        vertical-align: top;\n",
       "    }\n",
       "\n",
       "    .dataframe thead th {\n",
       "        text-align: right;\n",
       "    }\n",
       "</style>\n",
       "<table border=\"1\" class=\"dataframe\">\n",
       "  <thead>\n",
       "    <tr style=\"text-align: right;\">\n",
       "      <th></th>\n",
       "      <th>action</th>\n",
       "      <th>adventure</th>\n",
       "      <th>ai</th>\n",
       "      <th>arts</th>\n",
       "      <th>cars</th>\n",
       "      <th>comedy</th>\n",
       "      <th>dementia</th>\n",
       "      <th>demons</th>\n",
       "      <th>drama</th>\n",
       "      <th>ecchi</th>\n",
       "      <th>...</th>\n",
       "      <th>shounen</th>\n",
       "      <th>slice</th>\n",
       "      <th>space</th>\n",
       "      <th>sports</th>\n",
       "      <th>super</th>\n",
       "      <th>supernatural</th>\n",
       "      <th>thriller</th>\n",
       "      <th>vampire</th>\n",
       "      <th>yaoi</th>\n",
       "      <th>yuri</th>\n",
       "    </tr>\n",
       "    <tr>\n",
       "      <th>name</th>\n",
       "      <th></th>\n",
       "      <th></th>\n",
       "      <th></th>\n",
       "      <th></th>\n",
       "      <th></th>\n",
       "      <th></th>\n",
       "      <th></th>\n",
       "      <th></th>\n",
       "      <th></th>\n",
       "      <th></th>\n",
       "      <th></th>\n",
       "      <th></th>\n",
       "      <th></th>\n",
       "      <th></th>\n",
       "      <th></th>\n",
       "      <th></th>\n",
       "      <th></th>\n",
       "      <th></th>\n",
       "      <th></th>\n",
       "      <th></th>\n",
       "      <th></th>\n",
       "    </tr>\n",
       "  </thead>\n",
       "  <tbody>\n",
       "    <tr>\n",
       "      <th>Kimi no Na wa.</th>\n",
       "      <td>0.000000</td>\n",
       "      <td>0.000000</td>\n",
       "      <td>0.0</td>\n",
       "      <td>0.0</td>\n",
       "      <td>0.0</td>\n",
       "      <td>0.000000</td>\n",
       "      <td>0.0</td>\n",
       "      <td>0.0</td>\n",
       "      <td>0.439008</td>\n",
       "      <td>0.0</td>\n",
       "      <td>...</td>\n",
       "      <td>0.000000</td>\n",
       "      <td>0.0</td>\n",
       "      <td>0.0</td>\n",
       "      <td>0.0</td>\n",
       "      <td>0.0</td>\n",
       "      <td>0.545474</td>\n",
       "      <td>0.000000</td>\n",
       "      <td>0.0</td>\n",
       "      <td>0.0</td>\n",
       "      <td>0.0</td>\n",
       "    </tr>\n",
       "    <tr>\n",
       "      <th>Fullmetal Alchemist: Brotherhood</th>\n",
       "      <td>0.294985</td>\n",
       "      <td>0.316287</td>\n",
       "      <td>0.0</td>\n",
       "      <td>0.0</td>\n",
       "      <td>0.0</td>\n",
       "      <td>0.000000</td>\n",
       "      <td>0.0</td>\n",
       "      <td>0.0</td>\n",
       "      <td>0.335194</td>\n",
       "      <td>0.0</td>\n",
       "      <td>...</td>\n",
       "      <td>0.350107</td>\n",
       "      <td>0.0</td>\n",
       "      <td>0.0</td>\n",
       "      <td>0.0</td>\n",
       "      <td>0.0</td>\n",
       "      <td>0.000000</td>\n",
       "      <td>0.000000</td>\n",
       "      <td>0.0</td>\n",
       "      <td>0.0</td>\n",
       "      <td>0.0</td>\n",
       "    </tr>\n",
       "    <tr>\n",
       "      <th>Gintama°</th>\n",
       "      <td>0.251618</td>\n",
       "      <td>0.000000</td>\n",
       "      <td>0.0</td>\n",
       "      <td>0.0</td>\n",
       "      <td>0.0</td>\n",
       "      <td>0.200402</td>\n",
       "      <td>0.0</td>\n",
       "      <td>0.0</td>\n",
       "      <td>0.000000</td>\n",
       "      <td>0.0</td>\n",
       "      <td>...</td>\n",
       "      <td>0.298636</td>\n",
       "      <td>0.0</td>\n",
       "      <td>0.0</td>\n",
       "      <td>0.0</td>\n",
       "      <td>0.0</td>\n",
       "      <td>0.000000</td>\n",
       "      <td>0.000000</td>\n",
       "      <td>0.0</td>\n",
       "      <td>0.0</td>\n",
       "      <td>0.0</td>\n",
       "    </tr>\n",
       "    <tr>\n",
       "      <th>Steins;Gate</th>\n",
       "      <td>0.000000</td>\n",
       "      <td>0.000000</td>\n",
       "      <td>0.0</td>\n",
       "      <td>0.0</td>\n",
       "      <td>0.0</td>\n",
       "      <td>0.000000</td>\n",
       "      <td>0.0</td>\n",
       "      <td>0.0</td>\n",
       "      <td>0.000000</td>\n",
       "      <td>0.0</td>\n",
       "      <td>...</td>\n",
       "      <td>0.000000</td>\n",
       "      <td>0.0</td>\n",
       "      <td>0.0</td>\n",
       "      <td>0.0</td>\n",
       "      <td>0.0</td>\n",
       "      <td>0.000000</td>\n",
       "      <td>0.833852</td>\n",
       "      <td>0.0</td>\n",
       "      <td>0.0</td>\n",
       "      <td>0.0</td>\n",
       "    </tr>\n",
       "    <tr>\n",
       "      <th>Gintama&amp;#039;</th>\n",
       "      <td>0.251618</td>\n",
       "      <td>0.000000</td>\n",
       "      <td>0.0</td>\n",
       "      <td>0.0</td>\n",
       "      <td>0.0</td>\n",
       "      <td>0.200402</td>\n",
       "      <td>0.0</td>\n",
       "      <td>0.0</td>\n",
       "      <td>0.000000</td>\n",
       "      <td>0.0</td>\n",
       "      <td>...</td>\n",
       "      <td>0.298636</td>\n",
       "      <td>0.0</td>\n",
       "      <td>0.0</td>\n",
       "      <td>0.0</td>\n",
       "      <td>0.0</td>\n",
       "      <td>0.000000</td>\n",
       "      <td>0.000000</td>\n",
       "      <td>0.0</td>\n",
       "      <td>0.0</td>\n",
       "      <td>0.0</td>\n",
       "    </tr>\n",
       "    <tr>\n",
       "      <th>...</th>\n",
       "      <td>...</td>\n",
       "      <td>...</td>\n",
       "      <td>...</td>\n",
       "      <td>...</td>\n",
       "      <td>...</td>\n",
       "      <td>...</td>\n",
       "      <td>...</td>\n",
       "      <td>...</td>\n",
       "      <td>...</td>\n",
       "      <td>...</td>\n",
       "      <td>...</td>\n",
       "      <td>...</td>\n",
       "      <td>...</td>\n",
       "      <td>...</td>\n",
       "      <td>...</td>\n",
       "      <td>...</td>\n",
       "      <td>...</td>\n",
       "      <td>...</td>\n",
       "      <td>...</td>\n",
       "      <td>...</td>\n",
       "      <td>...</td>\n",
       "    </tr>\n",
       "    <tr>\n",
       "      <th>Toushindai My Lover: Minami tai Mecha-Minami</th>\n",
       "      <td>0.000000</td>\n",
       "      <td>0.000000</td>\n",
       "      <td>0.0</td>\n",
       "      <td>0.0</td>\n",
       "      <td>0.0</td>\n",
       "      <td>0.000000</td>\n",
       "      <td>0.0</td>\n",
       "      <td>0.0</td>\n",
       "      <td>0.000000</td>\n",
       "      <td>0.0</td>\n",
       "      <td>...</td>\n",
       "      <td>0.000000</td>\n",
       "      <td>0.0</td>\n",
       "      <td>0.0</td>\n",
       "      <td>0.0</td>\n",
       "      <td>0.0</td>\n",
       "      <td>0.000000</td>\n",
       "      <td>0.000000</td>\n",
       "      <td>0.0</td>\n",
       "      <td>0.0</td>\n",
       "      <td>0.0</td>\n",
       "    </tr>\n",
       "    <tr>\n",
       "      <th>Under World</th>\n",
       "      <td>0.000000</td>\n",
       "      <td>0.000000</td>\n",
       "      <td>0.0</td>\n",
       "      <td>0.0</td>\n",
       "      <td>0.0</td>\n",
       "      <td>0.000000</td>\n",
       "      <td>0.0</td>\n",
       "      <td>0.0</td>\n",
       "      <td>0.000000</td>\n",
       "      <td>0.0</td>\n",
       "      <td>...</td>\n",
       "      <td>0.000000</td>\n",
       "      <td>0.0</td>\n",
       "      <td>0.0</td>\n",
       "      <td>0.0</td>\n",
       "      <td>0.0</td>\n",
       "      <td>0.000000</td>\n",
       "      <td>0.000000</td>\n",
       "      <td>0.0</td>\n",
       "      <td>0.0</td>\n",
       "      <td>0.0</td>\n",
       "    </tr>\n",
       "    <tr>\n",
       "      <th>Violence Gekiga David no Hoshi</th>\n",
       "      <td>0.000000</td>\n",
       "      <td>0.000000</td>\n",
       "      <td>0.0</td>\n",
       "      <td>0.0</td>\n",
       "      <td>0.0</td>\n",
       "      <td>0.000000</td>\n",
       "      <td>0.0</td>\n",
       "      <td>0.0</td>\n",
       "      <td>0.000000</td>\n",
       "      <td>0.0</td>\n",
       "      <td>...</td>\n",
       "      <td>0.000000</td>\n",
       "      <td>0.0</td>\n",
       "      <td>0.0</td>\n",
       "      <td>0.0</td>\n",
       "      <td>0.0</td>\n",
       "      <td>0.000000</td>\n",
       "      <td>0.000000</td>\n",
       "      <td>0.0</td>\n",
       "      <td>0.0</td>\n",
       "      <td>0.0</td>\n",
       "    </tr>\n",
       "    <tr>\n",
       "      <th>Violence Gekiga Shin David no Hoshi: Inma Densetsu</th>\n",
       "      <td>0.000000</td>\n",
       "      <td>0.000000</td>\n",
       "      <td>0.0</td>\n",
       "      <td>0.0</td>\n",
       "      <td>0.0</td>\n",
       "      <td>0.000000</td>\n",
       "      <td>0.0</td>\n",
       "      <td>0.0</td>\n",
       "      <td>0.000000</td>\n",
       "      <td>0.0</td>\n",
       "      <td>...</td>\n",
       "      <td>0.000000</td>\n",
       "      <td>0.0</td>\n",
       "      <td>0.0</td>\n",
       "      <td>0.0</td>\n",
       "      <td>0.0</td>\n",
       "      <td>0.000000</td>\n",
       "      <td>0.000000</td>\n",
       "      <td>0.0</td>\n",
       "      <td>0.0</td>\n",
       "      <td>0.0</td>\n",
       "    </tr>\n",
       "    <tr>\n",
       "      <th>Yasuji no Pornorama: Yacchimae!!</th>\n",
       "      <td>0.000000</td>\n",
       "      <td>0.000000</td>\n",
       "      <td>0.0</td>\n",
       "      <td>0.0</td>\n",
       "      <td>0.0</td>\n",
       "      <td>0.000000</td>\n",
       "      <td>0.0</td>\n",
       "      <td>0.0</td>\n",
       "      <td>0.000000</td>\n",
       "      <td>0.0</td>\n",
       "      <td>...</td>\n",
       "      <td>0.000000</td>\n",
       "      <td>0.0</td>\n",
       "      <td>0.0</td>\n",
       "      <td>0.0</td>\n",
       "      <td>0.0</td>\n",
       "      <td>0.000000</td>\n",
       "      <td>0.000000</td>\n",
       "      <td>0.0</td>\n",
       "      <td>0.0</td>\n",
       "      <td>0.0</td>\n",
       "    </tr>\n",
       "  </tbody>\n",
       "</table>\n",
       "<p>12017 rows × 47 columns</p>\n",
       "</div>"
      ],
      "text/plain": [
       "                                                      action  adventure   ai  \\\n",
       "name                                                                           \n",
       "Kimi no Na wa.                                      0.000000   0.000000  0.0   \n",
       "Fullmetal Alchemist: Brotherhood                    0.294985   0.316287  0.0   \n",
       "Gintama°                                            0.251618   0.000000  0.0   \n",
       "Steins;Gate                                         0.000000   0.000000  0.0   \n",
       "Gintama&#039;                                       0.251618   0.000000  0.0   \n",
       "...                                                      ...        ...  ...   \n",
       "Toushindai My Lover: Minami tai Mecha-Minami        0.000000   0.000000  0.0   \n",
       "Under World                                         0.000000   0.000000  0.0   \n",
       "Violence Gekiga David no Hoshi                      0.000000   0.000000  0.0   \n",
       "Violence Gekiga Shin David no Hoshi: Inma Densetsu  0.000000   0.000000  0.0   \n",
       "Yasuji no Pornorama: Yacchimae!!                    0.000000   0.000000  0.0   \n",
       "\n",
       "                                                    arts  cars    comedy  \\\n",
       "name                                                                       \n",
       "Kimi no Na wa.                                       0.0   0.0  0.000000   \n",
       "Fullmetal Alchemist: Brotherhood                     0.0   0.0  0.000000   \n",
       "Gintama°                                             0.0   0.0  0.200402   \n",
       "Steins;Gate                                          0.0   0.0  0.000000   \n",
       "Gintama&#039;                                        0.0   0.0  0.200402   \n",
       "...                                                  ...   ...       ...   \n",
       "Toushindai My Lover: Minami tai Mecha-Minami         0.0   0.0  0.000000   \n",
       "Under World                                          0.0   0.0  0.000000   \n",
       "Violence Gekiga David no Hoshi                       0.0   0.0  0.000000   \n",
       "Violence Gekiga Shin David no Hoshi: Inma Densetsu   0.0   0.0  0.000000   \n",
       "Yasuji no Pornorama: Yacchimae!!                     0.0   0.0  0.000000   \n",
       "\n",
       "                                                    dementia  demons  \\\n",
       "name                                                                   \n",
       "Kimi no Na wa.                                           0.0     0.0   \n",
       "Fullmetal Alchemist: Brotherhood                         0.0     0.0   \n",
       "Gintama°                                                 0.0     0.0   \n",
       "Steins;Gate                                              0.0     0.0   \n",
       "Gintama&#039;                                            0.0     0.0   \n",
       "...                                                      ...     ...   \n",
       "Toushindai My Lover: Minami tai Mecha-Minami             0.0     0.0   \n",
       "Under World                                              0.0     0.0   \n",
       "Violence Gekiga David no Hoshi                           0.0     0.0   \n",
       "Violence Gekiga Shin David no Hoshi: Inma Densetsu       0.0     0.0   \n",
       "Yasuji no Pornorama: Yacchimae!!                         0.0     0.0   \n",
       "\n",
       "                                                       drama  ecchi  ...  \\\n",
       "name                                                                 ...   \n",
       "Kimi no Na wa.                                      0.439008    0.0  ...   \n",
       "Fullmetal Alchemist: Brotherhood                    0.335194    0.0  ...   \n",
       "Gintama°                                            0.000000    0.0  ...   \n",
       "Steins;Gate                                         0.000000    0.0  ...   \n",
       "Gintama&#039;                                       0.000000    0.0  ...   \n",
       "...                                                      ...    ...  ...   \n",
       "Toushindai My Lover: Minami tai Mecha-Minami        0.000000    0.0  ...   \n",
       "Under World                                         0.000000    0.0  ...   \n",
       "Violence Gekiga David no Hoshi                      0.000000    0.0  ...   \n",
       "Violence Gekiga Shin David no Hoshi: Inma Densetsu  0.000000    0.0  ...   \n",
       "Yasuji no Pornorama: Yacchimae!!                    0.000000    0.0  ...   \n",
       "\n",
       "                                                     shounen  slice  space  \\\n",
       "name                                                                         \n",
       "Kimi no Na wa.                                      0.000000    0.0    0.0   \n",
       "Fullmetal Alchemist: Brotherhood                    0.350107    0.0    0.0   \n",
       "Gintama°                                            0.298636    0.0    0.0   \n",
       "Steins;Gate                                         0.000000    0.0    0.0   \n",
       "Gintama&#039;                                       0.298636    0.0    0.0   \n",
       "...                                                      ...    ...    ...   \n",
       "Toushindai My Lover: Minami tai Mecha-Minami        0.000000    0.0    0.0   \n",
       "Under World                                         0.000000    0.0    0.0   \n",
       "Violence Gekiga David no Hoshi                      0.000000    0.0    0.0   \n",
       "Violence Gekiga Shin David no Hoshi: Inma Densetsu  0.000000    0.0    0.0   \n",
       "Yasuji no Pornorama: Yacchimae!!                    0.000000    0.0    0.0   \n",
       "\n",
       "                                                    sports  super  \\\n",
       "name                                                                \n",
       "Kimi no Na wa.                                         0.0    0.0   \n",
       "Fullmetal Alchemist: Brotherhood                       0.0    0.0   \n",
       "Gintama°                                               0.0    0.0   \n",
       "Steins;Gate                                            0.0    0.0   \n",
       "Gintama&#039;                                          0.0    0.0   \n",
       "...                                                    ...    ...   \n",
       "Toushindai My Lover: Minami tai Mecha-Minami           0.0    0.0   \n",
       "Under World                                            0.0    0.0   \n",
       "Violence Gekiga David no Hoshi                         0.0    0.0   \n",
       "Violence Gekiga Shin David no Hoshi: Inma Densetsu     0.0    0.0   \n",
       "Yasuji no Pornorama: Yacchimae!!                       0.0    0.0   \n",
       "\n",
       "                                                    supernatural  thriller  \\\n",
       "name                                                                         \n",
       "Kimi no Na wa.                                          0.545474  0.000000   \n",
       "Fullmetal Alchemist: Brotherhood                        0.000000  0.000000   \n",
       "Gintama°                                                0.000000  0.000000   \n",
       "Steins;Gate                                             0.000000  0.833852   \n",
       "Gintama&#039;                                           0.000000  0.000000   \n",
       "...                                                          ...       ...   \n",
       "Toushindai My Lover: Minami tai Mecha-Minami            0.000000  0.000000   \n",
       "Under World                                             0.000000  0.000000   \n",
       "Violence Gekiga David no Hoshi                          0.000000  0.000000   \n",
       "Violence Gekiga Shin David no Hoshi: Inma Densetsu      0.000000  0.000000   \n",
       "Yasuji no Pornorama: Yacchimae!!                        0.000000  0.000000   \n",
       "\n",
       "                                                    vampire  yaoi  yuri  \n",
       "name                                                                     \n",
       "Kimi no Na wa.                                          0.0   0.0   0.0  \n",
       "Fullmetal Alchemist: Brotherhood                        0.0   0.0   0.0  \n",
       "Gintama°                                                0.0   0.0   0.0  \n",
       "Steins;Gate                                             0.0   0.0   0.0  \n",
       "Gintama&#039;                                           0.0   0.0   0.0  \n",
       "...                                                     ...   ...   ...  \n",
       "Toushindai My Lover: Minami tai Mecha-Minami            0.0   0.0   0.0  \n",
       "Under World                                             0.0   0.0   0.0  \n",
       "Violence Gekiga David no Hoshi                          0.0   0.0   0.0  \n",
       "Violence Gekiga Shin David no Hoshi: Inma Densetsu      0.0   0.0   0.0  \n",
       "Yasuji no Pornorama: Yacchimae!!                        0.0   0.0   0.0  \n",
       "\n",
       "[12017 rows x 47 columns]"
      ]
     },
     "execution_count": 24,
     "metadata": {},
     "output_type": "execute_result"
    }
   ],
   "source": [
    "DataFrame(matrix.todense(), index=data['name'], columns=tfidf.get_feature_names_out())"
   ]
  },
  {
   "cell_type": "markdown",
   "metadata": {},
   "source": [
    "### 4.1. Cosine Similarity"
   ]
  },
  {
   "cell_type": "code",
   "execution_count": 25,
   "metadata": {},
   "outputs": [
    {
     "name": "stdout",
     "output_type": "stream",
     "text": [
      "(12017, 12017)\n"
     ]
    },
    {
     "data": {
      "text/plain": [
       "array([[1.        , 0.14715318, 0.        , ..., 0.        , 0.        ,\n",
       "        0.        ],\n",
       "       [0.14715318, 1.        , 0.17877808, ..., 0.        , 0.        ,\n",
       "        0.        ],\n",
       "       [0.        , 0.17877808, 1.        , ..., 0.        , 0.        ,\n",
       "        0.        ],\n",
       "       ...,\n",
       "       [0.        , 0.        , 0.        , ..., 1.        , 1.        ,\n",
       "        1.        ],\n",
       "       [0.        , 0.        , 0.        , ..., 1.        , 1.        ,\n",
       "        1.        ],\n",
       "       [0.        , 0.        , 0.        , ..., 1.        , 1.        ,\n",
       "        1.        ]])"
      ]
     },
     "execution_count": 25,
     "metadata": {},
     "output_type": "execute_result"
    }
   ],
   "source": [
    "# dense output untuk menghemat penggunaan memory/RAM\n",
    "similarity = cosine_similarity(matrix, dense_output=True)\n",
    "print(similarity.shape)\n",
    "similarity"
   ]
  },
  {
   "cell_type": "code",
   "execution_count": 27,
   "metadata": {},
   "outputs": [],
   "source": [
    "similarity_df = DataFrame(similarity, index=data['name'], columns=data['name'])"
   ]
  },
  {
   "cell_type": "code",
   "execution_count": 59,
   "metadata": {},
   "outputs": [
    {
     "data": {
      "text/html": [
       "<div>\n",
       "<style scoped>\n",
       "    .dataframe tbody tr th:only-of-type {\n",
       "        vertical-align: middle;\n",
       "    }\n",
       "\n",
       "    .dataframe tbody tr th {\n",
       "        vertical-align: top;\n",
       "    }\n",
       "\n",
       "    .dataframe thead th {\n",
       "        text-align: right;\n",
       "    }\n",
       "</style>\n",
       "<table border=\"1\" class=\"dataframe\">\n",
       "  <thead>\n",
       "    <tr style=\"text-align: right;\">\n",
       "      <th></th>\n",
       "      <th>name</th>\n",
       "      <th>genre</th>\n",
       "    </tr>\n",
       "  </thead>\n",
       "  <tbody>\n",
       "    <tr>\n",
       "      <th>0</th>\n",
       "      <td>Guilty Crown: Lost Christmas</td>\n",
       "      <td>Action, Drama, Sci-Fi, Super Power</td>\n",
       "    </tr>\n",
       "    <tr>\n",
       "      <th>1</th>\n",
       "      <td>s.CRY.ed</td>\n",
       "      <td>Action, Adventure, Drama, Sci-Fi, Super Power</td>\n",
       "    </tr>\n",
       "    <tr>\n",
       "      <th>2</th>\n",
       "      <td>Persona: Trinity Soul</td>\n",
       "      <td>Action, Sci-Fi, Super Power</td>\n",
       "    </tr>\n",
       "    <tr>\n",
       "      <th>3</th>\n",
       "      <td>Kiddy GiRL-AND Pilot</td>\n",
       "      <td>Action, Sci-Fi, Super Power</td>\n",
       "    </tr>\n",
       "    <tr>\n",
       "      <th>4</th>\n",
       "      <td>Toaru Kagaku no Railgun</td>\n",
       "      <td>Action, Sci-Fi, Super Power</td>\n",
       "    </tr>\n",
       "    <tr>\n",
       "      <th>5</th>\n",
       "      <td>Ai City</td>\n",
       "      <td>Action, Sci-Fi, Super Power</td>\n",
       "    </tr>\n",
       "    <tr>\n",
       "      <th>6</th>\n",
       "      <td>Ougon Bat</td>\n",
       "      <td>Action, Sci-Fi, Super Power</td>\n",
       "    </tr>\n",
       "    <tr>\n",
       "      <th>7</th>\n",
       "      <td>Solty Rei</td>\n",
       "      <td>Action, Sci-Fi, Super Power</td>\n",
       "    </tr>\n",
       "    <tr>\n",
       "      <th>8</th>\n",
       "      <td>Toaru Kagaku no Railgun S</td>\n",
       "      <td>Action, Sci-Fi, Super Power</td>\n",
       "    </tr>\n",
       "    <tr>\n",
       "      <th>9</th>\n",
       "      <td>Choujin Locke: Mirror Ring</td>\n",
       "      <td>Action, Sci-Fi, Super Power</td>\n",
       "    </tr>\n",
       "  </tbody>\n",
       "</table>\n",
       "</div>"
      ],
      "text/plain": [
       "                           name                                          genre\n",
       "0  Guilty Crown: Lost Christmas             Action, Drama, Sci-Fi, Super Power\n",
       "1                      s.CRY.ed  Action, Adventure, Drama, Sci-Fi, Super Power\n",
       "2         Persona: Trinity Soul                    Action, Sci-Fi, Super Power\n",
       "3          Kiddy GiRL-AND Pilot                    Action, Sci-Fi, Super Power\n",
       "4       Toaru Kagaku no Railgun                    Action, Sci-Fi, Super Power\n",
       "5                       Ai City                    Action, Sci-Fi, Super Power\n",
       "6                     Ougon Bat                    Action, Sci-Fi, Super Power\n",
       "7                     Solty Rei                    Action, Sci-Fi, Super Power\n",
       "8     Toaru Kagaku no Railgun S                    Action, Sci-Fi, Super Power\n",
       "9    Choujin Locke: Mirror Ring                    Action, Sci-Fi, Super Power"
      ]
     },
     "execution_count": 59,
     "metadata": {},
     "output_type": "execute_result"
    }
   ],
   "source": [
    "def anime_recommendations(name, similarity_data=similarity_df, items=anime_df[['name', 'genre']], k=10):\n",
    "    try:\n",
    "        \"\"\"\n",
    "        Provides anime recommendations based on cosine similarity.\n",
    "\n",
    "        Args:\n",
    "            name (str): The name of the anime to find recommendations for.\n",
    "            similarity_data (pd.DataFrame): The similarity matrix DataFrame.\n",
    "            items (pd.DataFrame): The DataFrame containing anime names and genres.\n",
    "            k (int): The number of recommendations to return.\n",
    "\n",
    "        Returns:\n",
    "            pd.DataFrame: A DataFrame containing the top k recommendations.\n",
    "        \"\"\"\n",
    "        # Get the similarity scores for the given anime\n",
    "        similarity_scores = similarity_data.loc[:, name]\n",
    "\n",
    "        # Check if similarity_scores is a DataFrame and convert it to a Series if necessary\n",
    "        if isinstance(similarity_scores, DataFrame):\n",
    "            similarity_scores = similarity_scores.iloc[:, 0]\n",
    "\n",
    "        # Sort the scores in descending order and get the top k indices\n",
    "        # We add 1 to k to exclude the anime itself from the recommendations\n",
    "        top_k_indices = similarity_scores.sort_values(ascending=False).index[1:k + 1]\n",
    "\n",
    "        # Get the names of the recommended anime\n",
    "        closest = top_k_indices\n",
    "\n",
    "        # Return the recommendations as a DataFrame\n",
    "        recommendation = DataFrame(closest).merge(items)\n",
    "\n",
    "        return recommendation\n",
    "    \n",
    "    except KeyError as e:\n",
    "        print(\"Tidak ada anime dengan judul serupa di dataset.\")\n",
    "        print(\"Input judul anime lain atau pastikan judul sudah benar\")\n",
    "\n",
    "anime_recommendations('Guilty Crown')"
   ]
  },
  {
   "cell_type": "markdown",
   "metadata": {},
   "source": [
    "## 4.2. Collaborative Filtering"
   ]
  },
  {
   "cell_type": "code",
   "execution_count": null,
   "metadata": {},
   "outputs": [],
   "source": []
  },
  {
   "cell_type": "markdown",
   "metadata": {},
   "source": [
    "# 5. Evaluation"
   ]
  },
  {
   "cell_type": "code",
   "execution_count": null,
   "metadata": {},
   "outputs": [],
   "source": []
  }
 ],
 "metadata": {
  "kernelspec": {
   "display_name": "tf2.16",
   "language": "python",
   "name": "python3"
  },
  "language_info": {
   "codemirror_mode": {
    "name": "ipython",
    "version": 3
   },
   "file_extension": ".py",
   "mimetype": "text/x-python",
   "name": "python",
   "nbconvert_exporter": "python",
   "pygments_lexer": "ipython3",
   "version": "3.10.15"
  }
 },
 "nbformat": 4,
 "nbformat_minor": 2
}
